{
 "cells": [
  {
   "cell_type": "code",
   "execution_count": 2,
   "metadata": {},
   "outputs": [
    {
     "name": "stdout",
     "output_type": "stream",
     "text": [
      "A.spam\n"
     ]
    }
   ],
   "source": [
    "class A:\n",
    "    def spam(self):\n",
    "        print('A.spam')\n",
    "        super().spam()\n",
    "\n",
    "class B:\n",
    "    def spam(self):\n",
    "        print('B.spam')\n",
    "        \n",
    "class C(A,B):\n",
    "    pass\n",
    "\n",
    "\n",
    "c = C()\n",
    "c.spam()"
   ]
  },
  {
   "cell_type": "code",
   "execution_count": 3,
   "metadata": {},
   "outputs": [
    {
     "name": "stdout",
     "output_type": "stream",
     "text": [
      "A.spam\n",
      "B.spams\n"
     ]
    }
   ],
   "source": [
    "class A:\n",
    "    def spam(self):\n",
    "        print('A.spam')\n",
    "        super().spams()\n",
    "\n",
    "class B:\n",
    "    def spams(self):\n",
    "        print('B.spams')\n",
    "    \n",
    "    def spam(self):\n",
    "        print('B.spam') \n",
    "        \n",
    "class C(A,B):\n",
    "    pass\n",
    "\n",
    "\n",
    "c = C()\n",
    "c.spam()"
   ]
  },
  {
   "cell_type": "code",
   "execution_count": 27,
   "metadata": {},
   "outputs": [
    {
     "name": "stdout",
     "output_type": "stream",
     "text": [
      "在全局作用域放置可执行的代码\n",
      "在类作用域放置可执行的代码，正在定义SomeClass类\n",
      "在类命名空间放置可执行的代码，正在定义SomeEmbeddedClass类\n"
     ]
    }
   ],
   "source": [
    "\n",
    "        \n",
    "        \n",
    "        "
   ]
  },
  {
   "cell_type": "code",
   "execution_count": 15,
   "metadata": {},
   "outputs": [],
   "source": [
    "item = Item()\n"
   ]
  },
  {
   "cell_type": "code",
   "execution_count": 16,
   "metadata": {},
   "outputs": [
    {
     "data": {
      "text/plain": [
       "1"
      ]
     },
     "execution_count": 16,
     "metadata": {},
     "output_type": "execute_result"
    }
   ],
   "source": [
    "item.a\n"
   ]
  },
  {
   "cell_type": "code",
   "execution_count": 36,
   "metadata": {},
   "outputs": [
    {
     "name": "stdout",
     "output_type": "stream",
     "text": [
      "执行lambda表达式，p参数:  abcdefg\n",
      "执行lambda表达式，p参数:  <__main__.SomeClass object at 0x7f70c2496d90>\n",
      "<__main__.SomeClass object at 0x7f70c2496d90>\n"
     ]
    }
   ],
   "source": [
    "# 在全局作用域声明的函数，可以无形参，有则必须传入实参\n",
    "global_fn = lambda p: print('执行lambda表达式，p参数: ', p)\n",
    "class SomeClass:\n",
    "    # 在类作用域声明的函数，为实例方法，至少有一个形参，自动绑定实例对象\n",
    "    instance_fn = lambda p: print('执行lambda表达式，p参数: ', p)\n",
    "    \n",
    "    def instance_ffn(self):\n",
    "        print(self)\n",
    "    \n",
    "global_fn('abcdefg')\n",
    "c = SomeClass()\n",
    "c.instance_fn()  \n",
    "c.instance_ffn()\n"
   ]
  },
  {
   "cell_type": "code",
   "execution_count": 9,
   "metadata": {},
   "outputs": [],
   "source": [
    "class X:\n",
    "    a = 1\n",
    "    b = 2\n"
   ]
  },
  {
   "cell_type": "code",
   "execution_count": 10,
   "metadata": {},
   "outputs": [],
   "source": [
    "X.c = 3\n"
   ]
  },
  {
   "cell_type": "code",
   "execution_count": 12,
   "metadata": {},
   "outputs": [],
   "source": [
    "del X.a\n"
   ]
  },
  {
   "cell_type": "code",
   "execution_count": 13,
   "metadata": {},
   "outputs": [
    {
     "ename": "AttributeError",
     "evalue": "type object 'X' has no attribute 'a'",
     "output_type": "error",
     "traceback": [
      "\u001b[0;31m---------------------------------------------------------------------------\u001b[0m",
      "\u001b[0;31mAttributeError\u001b[0m                            Traceback (most recent call last)",
      "\u001b[0;32m<ipython-input-13-c7e7e80b62fe>\u001b[0m in \u001b[0;36m<module>\u001b[0;34m\u001b[0m\n\u001b[0;32m----> 1\u001b[0;31m \u001b[0mX\u001b[0m\u001b[0;34m.\u001b[0m\u001b[0ma\u001b[0m\u001b[0;34m\u001b[0m\u001b[0;34m\u001b[0m\u001b[0m\n\u001b[0m",
      "\u001b[0;31mAttributeError\u001b[0m: type object 'X' has no attribute 'a'"
     ]
    }
   ],
   "source": [
    "X.a\n"
   ]
  },
  {
   "cell_type": "code",
   "execution_count": 37,
   "metadata": {},
   "outputs": [
    {
     "data": {
      "text/plain": [
       "{'__name__': '__main__',\n",
       " '__doc__': 'Automatically created module for IPython interactive environment',\n",
       " '__package__': None,\n",
       " '__loader__': None,\n",
       " '__spec__': None,\n",
       " '__builtin__': <module 'builtins' (built-in)>,\n",
       " '__builtins__': <module 'builtins' (built-in)>,\n",
       " '_ih': ['',\n",
       "  \"class A:\\n    def spam(self):\\n        print('A.spam')\\n        super().spam()\\n\\nclass B:\\n    def spam(self):\\n        print('B.spam')\\n        \\nclass C(A,B):\\n    pass\\n\\nc = C()\\nc.spam()\",\n",
       "  \"class A:\\n    def spam(self):\\n        print('A.spam')\\n        super().spam()\\n\\nclass B:\\n    def spam(self):\\n        pass\\n        \\nclass C(A,B):\\n    pass\\n\\n\\nc = C()\\nc.spam()\",\n",
       "  \"class A:\\n    def spam(self):\\n        print('A.spam')\\n        super().spams()\\n\\nclass B:\\n    def spams(self):\\n        print('B.spams')\\n    \\n    def spam(self):\\n        print('B.spam') \\n        \\nclass C(A,B):\\n    pass\\n\\n\\nc = C()\\nc.spam()\",\n",
       "  \"class Item:\\n    # 直接在类空间中放置执行性质代码\\n    print('正在定义Item类')\\n    for i in range(10):\\n        if i % 2 == 0 :\\n            print('偶数:', i)\\n        else:\\n            print('奇数:', i)\\n            \\n        \",\n",
       "  \"class Item:\\n    # 直接在类空间中放置执行性质代码\\n    print('正在定义Item类')\\n    for i in range(10):\\n        if i % 2 == 0 :\\n            print('偶数:', i)\\n        else:\\n            print('奇数:', i)\",\n",
       "  'item = Item()',\n",
       "  'item',\n",
       "  \"global_fn = lambda p: print('执行lambda表达式，p参数: ', p)\\nclass Category:\\n    cate_fn = lambda p: print('执行lambda表达式，p参数: ', p)\\n# 调用全局范围内的global_fn，为参数p传入参数值\\nglobal_fn('fkit')  # ①\\nc = Category()\\n# 调用类命名空间内的cate_fn，Python自动绑定第一个参数\\nc.cate_fn()  # ②\",\n",
       "  'class X:\\n    a = 1\\n    b = 2',\n",
       "  'X.c = 3',\n",
       "  'X.c',\n",
       "  'del X.a',\n",
       "  'X.a',\n",
       "  \"class Item:\\n    # 直接在类空间中放置执行性质代码\\n    print('正在定义Item类')\\n    for i in range(10):\\n        if i % 2 == 0 :\\n            print('偶数:', i)\\n        else:\\n            print('奇数:', i)\\n    a = 1\\n    def f():\\n        print('f()')\\n        \",\n",
       "  'item = Item()',\n",
       "  'item.a',\n",
       "  \"global_fn = lambda p: print('执行lambda表达式，p参数: ', p)\\nclass Category:\\n    cate_fn = lambda p: print('执行lambda表达式，p参数: ', p)\\n# 调用全局范围内的global_fn，为参数p传入参数值\\nglobal_fn('fkit')  # ①\\nc = Category()\\n# 调用类命名空间内的cate_fn，Python自动绑定第一个参数\\nc.cate_fn()  # ②\",\n",
       "  \"global_fn = lambda p: print('执行lambda表达式，p参数: ', p)\\nclass Category:\\n    cate_fn = lambda p: print('执行lambda表达式，p参数: ', p, type(p))\\n# 调用全局范围内的global_fn，为参数p传入参数值\\nglobal_fn('fkit')  # ①\\nc = Category()\\n# 调用类命名空间内的cate_fn，Python自动绑定第一个参数\\nc.cate_fn()  # ②\",\n",
       "  \"global_fn = lambda p: print('执行lambda表达式，p参数: ', p)\\nclass Category:\\n    cate_fn = lambda p: print('执行lambda表达式，p参数: ', p, p is type(p))\\n# 调用全局范围内的global_fn，为参数p传入参数值\\nglobal_fn('fkit')  # ①\\nc = Category()\\n# 调用类命名空间内的cate_fn，Python自动绑定第一个参数\\nc.cate_fn()  # ②\",\n",
       "  \"global_fn = lambda p: print('执行lambda表达式，p参数: ', p)\\nclass Category:\\n    cate_fn = lambda p: print('执行lambda表达式，p参数: ', p)\\n# 调用全局范围内的global_fn，为参数p传入参数值\\nglobal_fn('fkit')  # ①\\nc = Category()\\n# 调用类命名空间内的cate_fn，Python自动绑定第一个参数\\nc.cate_fn()  # ②\",\n",
       "  \"global_fn = lambda p: print('执行lambda表达式，p参数: ', p)\\nclass Category:\\n    cate_fn = lambda p: print('执行lambda表达式，p参数: ', p, Category())\\n# 调用全局范围内的global_fn，为参数p传入参数值\\nglobal_fn('fkit')  # ①\\nc = Category()\\n# 调用类命名空间内的cate_fn，Python自动绑定第一个参数\\nc.cate_fn()  # ②\",\n",
       "  \"class Item:\\n    # 直接在类空间中放置执行性质代码\\n    print('正在定义Item类')\\n    for i in range(10):\\n        if i % 2 == 0 :\\n            print('偶数:', i)\\n        else:\\n            print('奇数:', i)\\n    a = 1\\n    def f():\\n        print('f()')\\n    \\n    class Embedded:\\n        print('正在定义Embedded类')\\n        for i in range(10):\\n        if i % 2 == 0 :\\n            print('偶数:', i)\\n        else:\\n            print('奇数:', i)\\n        a = 1\\n        \\n        \\n        \",\n",
       "  \"class Item:\\n    # 直接在类空间中放置执行性质代码\\n    print('正在定义Item类')\\n    for i in range(10):\\n        if i % 2 == 0 :\\n            print('偶数:', i)\\n        else:\\n            print('奇数:', i)\\n    a = 1\\n    def f():\\n        print('f()')\\n    \\n    class Embedded:\\n        print('正在定义Embedded类')\\n        for i in range(10):\\n            if i % 2 == 0 :\\n                print('偶数:', i)\\n            else:\\n                print('奇数:', i)\\n            a = 1\\n        \\n        \\n        \",\n",
       "  \"class SomeClass:\\n    # 直接在类空间中放置执行性质代码\\n    print(super().name)\\n    for i in range(10):\\n        if i % 2 == 0 :\\n            print('偶数:', i)\\n        else:\\n            print('奇数:', i)\\n    a = 1\\n    def f():\\n        print('f()')\\n    \\n    class Embedded:\\n        print('正在定义Embedded类')\\n        for i in range(10):\\n            if i % 2 == 0 :\\n                print('偶数:', i)\\n            else:\\n                print('奇数:', i)\\n            a = 1\\n        \\n        \\n        \",\n",
       "  \"class SomeClass:\\n    # 直接在类空间中放置执行性质代码\\n    print(super())\\n    for i in range(10):\\n        if i % 2 == 0 :\\n            print('偶数:', i)\\n        else:\\n            print('奇数:', i)\\n    a = 1\\n    def f():\\n        print('f()')\\n    \\n    class Embedded:\\n        print('正在定义Embedded类')\\n        for i in range(10):\\n            if i % 2 == 0 :\\n                print('偶数:', i)\\n            else:\\n                print('奇数:', i)\\n            a = 1\\n        \\n        \\n        \",\n",
       "  \"class SomeClass:\\n    # 直接在类空间中放置执行性质代码\\n    print(super(SomeClass, self))\\n    for i in range(10):\\n        if i % 2 == 0 :\\n            print('偶数:', i)\\n        else:\\n            print('奇数:', i)\\n    a = 1\\n    def f():\\n        print('f()')\\n    \\n    class Embedded:\\n        print('正在定义Embedded类')\\n        for i in range(10):\\n            if i % 2 == 0 :\\n                print('偶数:', i)\\n            else:\\n                print('奇数:', i)\\n            a = 1\\n        \\n        \\n        \",\n",
       "  \"print('在全局作用域放置可执行的代码')\\nclass SomeClass:\\n    # 直接在类空间中放置执行性质代码\\n    print('在类作用域放置可执行的代码，正在定义SomeClass类')\\n    class SomeEmbeddedClass:\\n        print('在类命名空间放置可执行的代码，正在定义SomeEmbeddedClass类')\\n        \\n        \\n        \",\n",
       "  \"global_fn = lambda p: print('执行lambda表达式，p参数: ', p)\\nclass SomeClass:\\n    instance_fn = lambda p: print('执行lambda表达式，p参数: ', p)\\n    \\n# 调用全局范围内的global_fn，为参数p传入参数值\\nglobal_fn('fkit')  # ①\\nc = SomeClass()\\n# 调用类命名空间内的cate_fn，Python自动绑定第一个参数\\nc.instance_fn()  # ②\",\n",
       "  \"global_fn = lambda p: print('执行lambda表达式，p参数: ', p)\\nclass SomeClass:\\n    instance_fn = lambda : print('执行lambda表达式，p参数: ', p)\\n    \\n# 在全局作用域声明的函数，为参数p传入参数值\\nglobal_fn('fkit')  # ①\\nc = SomeClass()\\n# 在类作用域声明的函数，Python自动绑定第一个参数\\nc.instance_fn()  # ②\",\n",
       "  \"# 在全局作用域声明的函数，可以无形参，有则必须传入实参\\nglobal_fn = lambda p: print('执行lambda表达式，p参数: ', p)\\nclass SomeClass:\\n    # 在类作用域声明的函数，为实例方法，至少有一个形参，自动绑定实例对象\\n    instance_f = lambda p: print('执行lambda表达式，p参数: ', p)\\n    instance_ff = ff\\n    \\n    def ff(self):\\n        print(self)\\n    def fff(self):\\n        print(self)\\n    \\n        \\n    \\n\\nglobal_fn('abcdefg')\\nc = SomeClass()\\nc.instance_fn()  \",\n",
       "  \"# 在全局作用域声明的函数，可以无形参，有则必须传入实参\\nglobal_fn = lambda p: print('执行lambda表达式，p参数: ', p)\\nclass SomeClass:\\n    # 在类作用域声明的函数，为实例方法，至少有一个形参，自动绑定实例对象\\n    instance_f = lambda p: print('执行lambda表达式，p参数: ', p)\\n    instance_ff = self.ff\\n    \\n    def ff(self):\\n        print(self)\\n    def fff(self):\\n        print(self)\\n    \\n        \\n    \\n\\nglobal_fn('abcdefg')\\nc = SomeClass()\\nc.instance_fn()  \",\n",
       "  \"# 在全局作用域声明的函数，可以无形参，有则必须传入实参\\nglobal_fn = lambda p: print('执行lambda表达式，p参数: ', p)\\nclass SomeClass:\\n    # 在类作用域声明的函数，为实例方法，至少有一个形参，自动绑定实例对象\\n    instance_f = lambda p: print('执行lambda表达式，p参数: ', p)\\n    \\n    def instance_ff(self):\\n        print(self)\\n    \\n    ff = SomeClass.instance_ff\\n    \\n        \\n    \\n\\nglobal_fn('abcdefg')\\nc = SomeClass()\\nc.instance_fn()  \",\n",
       "  \"# 在全局作用域声明的函数，可以无形参，有则必须传入实参\\nglobal_fn = lambda p: print('执行lambda表达式，p参数: ', p)\\nclass SomeClass:\\n    # 在类作用域声明的函数，为实例方法，至少有一个形参，自动绑定实例对象\\n    instance_f = lambda p: print('执行lambda表达式，p参数: ', p)\\n    \\n    def instance_ff(self):\\n        print(self)\\n    \\n    \\n        \\n    \\n\\nglobal_fn('abcdefg')\\nc = SomeClass()\\nc.instance_fn()  \",\n",
       "  \"# 在全局作用域声明的函数，可以无形参，有则必须传入实参\\nglobal_fn = lambda p: print('执行lambda表达式，p参数: ', p)\\nclass SomeClass:\\n    # 在类作用域声明的函数，为实例方法，至少有一个形参，自动绑定实例对象\\n    instance_fn = lambda p: print('执行lambda表达式，p参数: ', p)\\n    \\n    def instance_fn(self):\\n        print(self)\\n    \\n    \\n        \\n    \\n\\nglobal_fn('abcdefg')\\nc = SomeClass()\\nc.instance_fn()  \",\n",
       "  \"# 在全局作用域声明的函数，可以无形参，有则必须传入实参\\nglobal_fn = lambda p: print('执行lambda表达式，p参数: ', p)\\nclass SomeClass:\\n    # 在类作用域声明的函数，为实例方法，至少有一个形参，自动绑定实例对象\\n    instance_fn = lambda p: print('执行lambda表达式，p参数: ', p)\\n    \\n    def instance_ffn(self):\\n        print(self)\\n    \\n    \\n        \\n    \\n\\nglobal_fn('abcdefg')\\nc = SomeClass()\\nc.instance_fn()  \",\n",
       "  \"# 在全局作用域声明的函数，可以无形参，有则必须传入实参\\nglobal_fn = lambda p: print('执行lambda表达式，p参数: ', p)\\nclass SomeClass:\\n    # 在类作用域声明的函数，为实例方法，至少有一个形参，自动绑定实例对象\\n    instance_fn = lambda p: print('执行lambda表达式，p参数: ', p)\\n    \\n    def instance_ffn(self):\\n        print(self)\\n    \\n    \\n        \\n    \\n\\nglobal_fn('abcdefg')\\nc = SomeClass()\\nc.instance_fn()  \\nc.instance_ffn()\",\n",
       "  'globals()'],\n",
       " '_oh': {7: <__main__.Item at 0x7f70d00a4650>, 11: 3, 16: 1},\n",
       " '_dh': ['/root/practice'],\n",
       " 'In': ['',\n",
       "  \"class A:\\n    def spam(self):\\n        print('A.spam')\\n        super().spam()\\n\\nclass B:\\n    def spam(self):\\n        print('B.spam')\\n        \\nclass C(A,B):\\n    pass\\n\\nc = C()\\nc.spam()\",\n",
       "  \"class A:\\n    def spam(self):\\n        print('A.spam')\\n        super().spam()\\n\\nclass B:\\n    def spam(self):\\n        pass\\n        \\nclass C(A,B):\\n    pass\\n\\n\\nc = C()\\nc.spam()\",\n",
       "  \"class A:\\n    def spam(self):\\n        print('A.spam')\\n        super().spams()\\n\\nclass B:\\n    def spams(self):\\n        print('B.spams')\\n    \\n    def spam(self):\\n        print('B.spam') \\n        \\nclass C(A,B):\\n    pass\\n\\n\\nc = C()\\nc.spam()\",\n",
       "  \"class Item:\\n    # 直接在类空间中放置执行性质代码\\n    print('正在定义Item类')\\n    for i in range(10):\\n        if i % 2 == 0 :\\n            print('偶数:', i)\\n        else:\\n            print('奇数:', i)\\n            \\n        \",\n",
       "  \"class Item:\\n    # 直接在类空间中放置执行性质代码\\n    print('正在定义Item类')\\n    for i in range(10):\\n        if i % 2 == 0 :\\n            print('偶数:', i)\\n        else:\\n            print('奇数:', i)\",\n",
       "  'item = Item()',\n",
       "  'item',\n",
       "  \"global_fn = lambda p: print('执行lambda表达式，p参数: ', p)\\nclass Category:\\n    cate_fn = lambda p: print('执行lambda表达式，p参数: ', p)\\n# 调用全局范围内的global_fn，为参数p传入参数值\\nglobal_fn('fkit')  # ①\\nc = Category()\\n# 调用类命名空间内的cate_fn，Python自动绑定第一个参数\\nc.cate_fn()  # ②\",\n",
       "  'class X:\\n    a = 1\\n    b = 2',\n",
       "  'X.c = 3',\n",
       "  'X.c',\n",
       "  'del X.a',\n",
       "  'X.a',\n",
       "  \"class Item:\\n    # 直接在类空间中放置执行性质代码\\n    print('正在定义Item类')\\n    for i in range(10):\\n        if i % 2 == 0 :\\n            print('偶数:', i)\\n        else:\\n            print('奇数:', i)\\n    a = 1\\n    def f():\\n        print('f()')\\n        \",\n",
       "  'item = Item()',\n",
       "  'item.a',\n",
       "  \"global_fn = lambda p: print('执行lambda表达式，p参数: ', p)\\nclass Category:\\n    cate_fn = lambda p: print('执行lambda表达式，p参数: ', p)\\n# 调用全局范围内的global_fn，为参数p传入参数值\\nglobal_fn('fkit')  # ①\\nc = Category()\\n# 调用类命名空间内的cate_fn，Python自动绑定第一个参数\\nc.cate_fn()  # ②\",\n",
       "  \"global_fn = lambda p: print('执行lambda表达式，p参数: ', p)\\nclass Category:\\n    cate_fn = lambda p: print('执行lambda表达式，p参数: ', p, type(p))\\n# 调用全局范围内的global_fn，为参数p传入参数值\\nglobal_fn('fkit')  # ①\\nc = Category()\\n# 调用类命名空间内的cate_fn，Python自动绑定第一个参数\\nc.cate_fn()  # ②\",\n",
       "  \"global_fn = lambda p: print('执行lambda表达式，p参数: ', p)\\nclass Category:\\n    cate_fn = lambda p: print('执行lambda表达式，p参数: ', p, p is type(p))\\n# 调用全局范围内的global_fn，为参数p传入参数值\\nglobal_fn('fkit')  # ①\\nc = Category()\\n# 调用类命名空间内的cate_fn，Python自动绑定第一个参数\\nc.cate_fn()  # ②\",\n",
       "  \"global_fn = lambda p: print('执行lambda表达式，p参数: ', p)\\nclass Category:\\n    cate_fn = lambda p: print('执行lambda表达式，p参数: ', p)\\n# 调用全局范围内的global_fn，为参数p传入参数值\\nglobal_fn('fkit')  # ①\\nc = Category()\\n# 调用类命名空间内的cate_fn，Python自动绑定第一个参数\\nc.cate_fn()  # ②\",\n",
       "  \"global_fn = lambda p: print('执行lambda表达式，p参数: ', p)\\nclass Category:\\n    cate_fn = lambda p: print('执行lambda表达式，p参数: ', p, Category())\\n# 调用全局范围内的global_fn，为参数p传入参数值\\nglobal_fn('fkit')  # ①\\nc = Category()\\n# 调用类命名空间内的cate_fn，Python自动绑定第一个参数\\nc.cate_fn()  # ②\",\n",
       "  \"class Item:\\n    # 直接在类空间中放置执行性质代码\\n    print('正在定义Item类')\\n    for i in range(10):\\n        if i % 2 == 0 :\\n            print('偶数:', i)\\n        else:\\n            print('奇数:', i)\\n    a = 1\\n    def f():\\n        print('f()')\\n    \\n    class Embedded:\\n        print('正在定义Embedded类')\\n        for i in range(10):\\n        if i % 2 == 0 :\\n            print('偶数:', i)\\n        else:\\n            print('奇数:', i)\\n        a = 1\\n        \\n        \\n        \",\n",
       "  \"class Item:\\n    # 直接在类空间中放置执行性质代码\\n    print('正在定义Item类')\\n    for i in range(10):\\n        if i % 2 == 0 :\\n            print('偶数:', i)\\n        else:\\n            print('奇数:', i)\\n    a = 1\\n    def f():\\n        print('f()')\\n    \\n    class Embedded:\\n        print('正在定义Embedded类')\\n        for i in range(10):\\n            if i % 2 == 0 :\\n                print('偶数:', i)\\n            else:\\n                print('奇数:', i)\\n            a = 1\\n        \\n        \\n        \",\n",
       "  \"class SomeClass:\\n    # 直接在类空间中放置执行性质代码\\n    print(super().name)\\n    for i in range(10):\\n        if i % 2 == 0 :\\n            print('偶数:', i)\\n        else:\\n            print('奇数:', i)\\n    a = 1\\n    def f():\\n        print('f()')\\n    \\n    class Embedded:\\n        print('正在定义Embedded类')\\n        for i in range(10):\\n            if i % 2 == 0 :\\n                print('偶数:', i)\\n            else:\\n                print('奇数:', i)\\n            a = 1\\n        \\n        \\n        \",\n",
       "  \"class SomeClass:\\n    # 直接在类空间中放置执行性质代码\\n    print(super())\\n    for i in range(10):\\n        if i % 2 == 0 :\\n            print('偶数:', i)\\n        else:\\n            print('奇数:', i)\\n    a = 1\\n    def f():\\n        print('f()')\\n    \\n    class Embedded:\\n        print('正在定义Embedded类')\\n        for i in range(10):\\n            if i % 2 == 0 :\\n                print('偶数:', i)\\n            else:\\n                print('奇数:', i)\\n            a = 1\\n        \\n        \\n        \",\n",
       "  \"class SomeClass:\\n    # 直接在类空间中放置执行性质代码\\n    print(super(SomeClass, self))\\n    for i in range(10):\\n        if i % 2 == 0 :\\n            print('偶数:', i)\\n        else:\\n            print('奇数:', i)\\n    a = 1\\n    def f():\\n        print('f()')\\n    \\n    class Embedded:\\n        print('正在定义Embedded类')\\n        for i in range(10):\\n            if i % 2 == 0 :\\n                print('偶数:', i)\\n            else:\\n                print('奇数:', i)\\n            a = 1\\n        \\n        \\n        \",\n",
       "  \"print('在全局作用域放置可执行的代码')\\nclass SomeClass:\\n    # 直接在类空间中放置执行性质代码\\n    print('在类作用域放置可执行的代码，正在定义SomeClass类')\\n    class SomeEmbeddedClass:\\n        print('在类命名空间放置可执行的代码，正在定义SomeEmbeddedClass类')\\n        \\n        \\n        \",\n",
       "  \"global_fn = lambda p: print('执行lambda表达式，p参数: ', p)\\nclass SomeClass:\\n    instance_fn = lambda p: print('执行lambda表达式，p参数: ', p)\\n    \\n# 调用全局范围内的global_fn，为参数p传入参数值\\nglobal_fn('fkit')  # ①\\nc = SomeClass()\\n# 调用类命名空间内的cate_fn，Python自动绑定第一个参数\\nc.instance_fn()  # ②\",\n",
       "  \"global_fn = lambda p: print('执行lambda表达式，p参数: ', p)\\nclass SomeClass:\\n    instance_fn = lambda : print('执行lambda表达式，p参数: ', p)\\n    \\n# 在全局作用域声明的函数，为参数p传入参数值\\nglobal_fn('fkit')  # ①\\nc = SomeClass()\\n# 在类作用域声明的函数，Python自动绑定第一个参数\\nc.instance_fn()  # ②\",\n",
       "  \"# 在全局作用域声明的函数，可以无形参，有则必须传入实参\\nglobal_fn = lambda p: print('执行lambda表达式，p参数: ', p)\\nclass SomeClass:\\n    # 在类作用域声明的函数，为实例方法，至少有一个形参，自动绑定实例对象\\n    instance_f = lambda p: print('执行lambda表达式，p参数: ', p)\\n    instance_ff = ff\\n    \\n    def ff(self):\\n        print(self)\\n    def fff(self):\\n        print(self)\\n    \\n        \\n    \\n\\nglobal_fn('abcdefg')\\nc = SomeClass()\\nc.instance_fn()  \",\n",
       "  \"# 在全局作用域声明的函数，可以无形参，有则必须传入实参\\nglobal_fn = lambda p: print('执行lambda表达式，p参数: ', p)\\nclass SomeClass:\\n    # 在类作用域声明的函数，为实例方法，至少有一个形参，自动绑定实例对象\\n    instance_f = lambda p: print('执行lambda表达式，p参数: ', p)\\n    instance_ff = self.ff\\n    \\n    def ff(self):\\n        print(self)\\n    def fff(self):\\n        print(self)\\n    \\n        \\n    \\n\\nglobal_fn('abcdefg')\\nc = SomeClass()\\nc.instance_fn()  \",\n",
       "  \"# 在全局作用域声明的函数，可以无形参，有则必须传入实参\\nglobal_fn = lambda p: print('执行lambda表达式，p参数: ', p)\\nclass SomeClass:\\n    # 在类作用域声明的函数，为实例方法，至少有一个形参，自动绑定实例对象\\n    instance_f = lambda p: print('执行lambda表达式，p参数: ', p)\\n    \\n    def instance_ff(self):\\n        print(self)\\n    \\n    ff = SomeClass.instance_ff\\n    \\n        \\n    \\n\\nglobal_fn('abcdefg')\\nc = SomeClass()\\nc.instance_fn()  \",\n",
       "  \"# 在全局作用域声明的函数，可以无形参，有则必须传入实参\\nglobal_fn = lambda p: print('执行lambda表达式，p参数: ', p)\\nclass SomeClass:\\n    # 在类作用域声明的函数，为实例方法，至少有一个形参，自动绑定实例对象\\n    instance_f = lambda p: print('执行lambda表达式，p参数: ', p)\\n    \\n    def instance_ff(self):\\n        print(self)\\n    \\n    \\n        \\n    \\n\\nglobal_fn('abcdefg')\\nc = SomeClass()\\nc.instance_fn()  \",\n",
       "  \"# 在全局作用域声明的函数，可以无形参，有则必须传入实参\\nglobal_fn = lambda p: print('执行lambda表达式，p参数: ', p)\\nclass SomeClass:\\n    # 在类作用域声明的函数，为实例方法，至少有一个形参，自动绑定实例对象\\n    instance_fn = lambda p: print('执行lambda表达式，p参数: ', p)\\n    \\n    def instance_fn(self):\\n        print(self)\\n    \\n    \\n        \\n    \\n\\nglobal_fn('abcdefg')\\nc = SomeClass()\\nc.instance_fn()  \",\n",
       "  \"# 在全局作用域声明的函数，可以无形参，有则必须传入实参\\nglobal_fn = lambda p: print('执行lambda表达式，p参数: ', p)\\nclass SomeClass:\\n    # 在类作用域声明的函数，为实例方法，至少有一个形参，自动绑定实例对象\\n    instance_fn = lambda p: print('执行lambda表达式，p参数: ', p)\\n    \\n    def instance_ffn(self):\\n        print(self)\\n    \\n    \\n        \\n    \\n\\nglobal_fn('abcdefg')\\nc = SomeClass()\\nc.instance_fn()  \",\n",
       "  \"# 在全局作用域声明的函数，可以无形参，有则必须传入实参\\nglobal_fn = lambda p: print('执行lambda表达式，p参数: ', p)\\nclass SomeClass:\\n    # 在类作用域声明的函数，为实例方法，至少有一个形参，自动绑定实例对象\\n    instance_fn = lambda p: print('执行lambda表达式，p参数: ', p)\\n    \\n    def instance_ffn(self):\\n        print(self)\\n    \\n    \\n        \\n    \\n\\nglobal_fn('abcdefg')\\nc = SomeClass()\\nc.instance_fn()  \\nc.instance_ffn()\",\n",
       "  'globals()'],\n",
       " 'Out': {7: <__main__.Item at 0x7f70d00a4650>, 11: 3, 16: 1},\n",
       " 'get_ipython': <function IPython.core.getipython.get_ipython()>,\n",
       " 'exit': <IPython.core.autocall.ZMQExitAutocall at 0x7f70e8fde2d0>,\n",
       " 'quit': <IPython.core.autocall.ZMQExitAutocall at 0x7f70e8fde2d0>,\n",
       " '_': 1,\n",
       " '__': 3,\n",
       " '___': <__main__.Item at 0x7f70d00a4650>,\n",
       " 'json': <module 'json' from '/root/anaconda3/lib/python3.7/json/__init__.py'>,\n",
       " 'yapf_reformat': <function __main__.yapf_reformat(cell_text)>,\n",
       " 'autopep8': <module 'autopep8' from '/root/anaconda3/lib/python3.7/site-packages/autopep8.py'>,\n",
       " 'getsizeof': <function sys.getsizeof>,\n",
       " 'NamespaceMagics': IPython.core.magics.namespace.NamespaceMagics,\n",
       " '_nms': <IPython.core.magics.namespace.NamespaceMagics at 0x7f70c25e8ed0>,\n",
       " '_Jupyter': <ipykernel.zmqshell.ZMQInteractiveShell at 0x7f70ec057d90>,\n",
       " 'np': <module 'numpy' from '/root/anaconda3/lib/python3.7/site-packages/numpy/__init__.py'>,\n",
       " '_getsizeof': <function __main__._getsizeof(x)>,\n",
       " '_getshapeof': <function __main__._getshapeof(x)>,\n",
       " 'var_dic_list': <function __main__.var_dic_list()>,\n",
       " '_i': \"# 在全局作用域声明的函数，可以无形参，有则必须传入实参\\nglobal_fn = lambda p: print('执行lambda表达式，p参数: ', p)\\nclass SomeClass:\\n    # 在类作用域声明的函数，为实例方法，至少有一个形参，自动绑定实例对象\\n    instance_fn = lambda p: print('执行lambda表达式，p参数: ', p)\\n    \\n    def instance_ffn(self):\\n        print(self)\\n    \\n    \\n        \\n    \\n\\nglobal_fn('abcdefg')\\nc = SomeClass()\\nc.instance_fn()  \\nc.instance_ffn()\",\n",
       " '_ii': \"# 在全局作用域声明的函数，可以无形参，有则必须传入实参\\nglobal_fn = lambda p: print('执行lambda表达式，p参数: ', p)\\nclass SomeClass:\\n    # 在类作用域声明的函数，为实例方法，至少有一个形参，自动绑定实例对象\\n    instance_fn = lambda p: print('执行lambda表达式，p参数: ', p)\\n    \\n    def instance_ffn(self):\\n        print(self)\\n    \\n    \\n        \\n    \\n\\nglobal_fn('abcdefg')\\nc = SomeClass()\\nc.instance_fn()  \",\n",
       " '_iii': \"# 在全局作用域声明的函数，可以无形参，有则必须传入实参\\nglobal_fn = lambda p: print('执行lambda表达式，p参数: ', p)\\nclass SomeClass:\\n    # 在类作用域声明的函数，为实例方法，至少有一个形参，自动绑定实例对象\\n    instance_fn = lambda p: print('执行lambda表达式，p参数: ', p)\\n    \\n    def instance_fn(self):\\n        print(self)\\n    \\n    \\n        \\n    \\n\\nglobal_fn('abcdefg')\\nc = SomeClass()\\nc.instance_fn()  \",\n",
       " '_i1': \"class A:\\n    def spam(self):\\n        print('A.spam')\\n        super().spam()\\n\\nclass B:\\n    def spam(self):\\n        print('B.spam')\\n        \\nclass C(A,B):\\n    pass\\n\\nc = C()\\nc.spam()\",\n",
       " 'A': __main__.A,\n",
       " 'B': __main__.B,\n",
       " 'C': __main__.C,\n",
       " 'c': <__main__.SomeClass at 0x7f70c2496d90>,\n",
       " '_i2': \"class A:\\n    def spam(self):\\n        print('A.spam')\\n        super().spam()\\n\\nclass B:\\n    def spam(self):\\n        pass\\n        \\nclass C(A,B):\\n    pass\\n\\n\\nc = C()\\nc.spam()\",\n",
       " '_i3': \"class A:\\n    def spam(self):\\n        print('A.spam')\\n        super().spams()\\n\\nclass B:\\n    def spams(self):\\n        print('B.spams')\\n    \\n    def spam(self):\\n        print('B.spam') \\n        \\nclass C(A,B):\\n    pass\\n\\n\\nc = C()\\nc.spam()\",\n",
       " '_i4': \"class Item:\\n    # 直接在类空间中放置执行性质代码\\n    print('正在定义Item类')\\n    for i in range(10):\\n        if i % 2 == 0 :\\n            print('偶数:', i)\\n        else:\\n            print('奇数:', i)\\n            \\n        \",\n",
       " 'Item': __main__.Item,\n",
       " '_i5': \"class Item:\\n    # 直接在类空间中放置执行性质代码\\n    print('正在定义Item类')\\n    for i in range(10):\\n        if i % 2 == 0 :\\n            print('偶数:', i)\\n        else:\\n            print('奇数:', i)\",\n",
       " '_i6': 'item = Item()',\n",
       " 'item': <__main__.Item at 0x7f70c1bd24d0>,\n",
       " '_i7': 'item',\n",
       " '_7': <__main__.Item at 0x7f70d00a4650>,\n",
       " '_i8': \"global_fn = lambda p: print('执行lambda表达式，p参数: ', p)\\nclass Category:\\n    cate_fn = lambda p: print('执行lambda表达式，p参数: ', p)\\n# 调用全局范围内的global_fn，为参数p传入参数值\\nglobal_fn('fkit')  # ①\\nc = Category()\\n# 调用类命名空间内的cate_fn，Python自动绑定第一个参数\\nc.cate_fn()  # ②\",\n",
       " 'global_fn': <function __main__.<lambda>(p)>,\n",
       " 'Category': __main__.Category,\n",
       " '_i9': 'class X:\\n    a = 1\\n    b = 2',\n",
       " 'X': __main__.X,\n",
       " '_i10': 'X.c = 3',\n",
       " '_i11': 'X.c',\n",
       " '_11': 3,\n",
       " '_i12': 'del X.a',\n",
       " '_i13': 'X.a',\n",
       " '_i14': \"class Item:\\n    # 直接在类空间中放置执行性质代码\\n    print('正在定义Item类')\\n    for i in range(10):\\n        if i % 2 == 0 :\\n            print('偶数:', i)\\n        else:\\n            print('奇数:', i)\\n    a = 1\\n    def f():\\n        print('f()')\\n        \",\n",
       " '_i15': 'item = Item()',\n",
       " '_i16': 'item.a',\n",
       " '_16': 1,\n",
       " '_i17': \"global_fn = lambda p: print('执行lambda表达式，p参数: ', p)\\nclass Category:\\n    cate_fn = lambda p: print('执行lambda表达式，p参数: ', p)\\n# 调用全局范围内的global_fn，为参数p传入参数值\\nglobal_fn('fkit')  # ①\\nc = Category()\\n# 调用类命名空间内的cate_fn，Python自动绑定第一个参数\\nc.cate_fn()  # ②\",\n",
       " '_i18': \"global_fn = lambda p: print('执行lambda表达式，p参数: ', p)\\nclass Category:\\n    cate_fn = lambda p: print('执行lambda表达式，p参数: ', p, type(p))\\n# 调用全局范围内的global_fn，为参数p传入参数值\\nglobal_fn('fkit')  # ①\\nc = Category()\\n# 调用类命名空间内的cate_fn，Python自动绑定第一个参数\\nc.cate_fn()  # ②\",\n",
       " '_i19': \"global_fn = lambda p: print('执行lambda表达式，p参数: ', p)\\nclass Category:\\n    cate_fn = lambda p: print('执行lambda表达式，p参数: ', p, p is type(p))\\n# 调用全局范围内的global_fn，为参数p传入参数值\\nglobal_fn('fkit')  # ①\\nc = Category()\\n# 调用类命名空间内的cate_fn，Python自动绑定第一个参数\\nc.cate_fn()  # ②\",\n",
       " '_i20': \"global_fn = lambda p: print('执行lambda表达式，p参数: ', p)\\nclass Category:\\n    cate_fn = lambda p: print('执行lambda表达式，p参数: ', p)\\n# 调用全局范围内的global_fn，为参数p传入参数值\\nglobal_fn('fkit')  # ①\\nc = Category()\\n# 调用类命名空间内的cate_fn，Python自动绑定第一个参数\\nc.cate_fn()  # ②\",\n",
       " '_i21': \"global_fn = lambda p: print('执行lambda表达式，p参数: ', p)\\nclass Category:\\n    cate_fn = lambda p: print('执行lambda表达式，p参数: ', p, Category())\\n# 调用全局范围内的global_fn，为参数p传入参数值\\nglobal_fn('fkit')  # ①\\nc = Category()\\n# 调用类命名空间内的cate_fn，Python自动绑定第一个参数\\nc.cate_fn()  # ②\",\n",
       " '_i22': \"class Item:\\n    # 直接在类空间中放置执行性质代码\\n    print('正在定义Item类')\\n    for i in range(10):\\n        if i % 2 == 0 :\\n            print('偶数:', i)\\n        else:\\n            print('奇数:', i)\\n    a = 1\\n    def f():\\n        print('f()')\\n    \\n    class Embedded:\\n        print('正在定义Embedded类')\\n        for i in range(10):\\n        if i % 2 == 0 :\\n            print('偶数:', i)\\n        else:\\n            print('奇数:', i)\\n        a = 1\\n        \\n        \\n        \",\n",
       " '_i23': \"class Item:\\n    # 直接在类空间中放置执行性质代码\\n    print('正在定义Item类')\\n    for i in range(10):\\n        if i % 2 == 0 :\\n            print('偶数:', i)\\n        else:\\n            print('奇数:', i)\\n    a = 1\\n    def f():\\n        print('f()')\\n    \\n    class Embedded:\\n        print('正在定义Embedded类')\\n        for i in range(10):\\n            if i % 2 == 0 :\\n                print('偶数:', i)\\n            else:\\n                print('奇数:', i)\\n            a = 1\\n        \\n        \\n        \",\n",
       " '_i24': \"class SomeClass:\\n    # 直接在类空间中放置执行性质代码\\n    print(super().name)\\n    for i in range(10):\\n        if i % 2 == 0 :\\n            print('偶数:', i)\\n        else:\\n            print('奇数:', i)\\n    a = 1\\n    def f():\\n        print('f()')\\n    \\n    class Embedded:\\n        print('正在定义Embedded类')\\n        for i in range(10):\\n            if i % 2 == 0 :\\n                print('偶数:', i)\\n            else:\\n                print('奇数:', i)\\n            a = 1\\n        \\n        \\n        \",\n",
       " '_i25': \"class SomeClass:\\n    # 直接在类空间中放置执行性质代码\\n    print(super())\\n    for i in range(10):\\n        if i % 2 == 0 :\\n            print('偶数:', i)\\n        else:\\n            print('奇数:', i)\\n    a = 1\\n    def f():\\n        print('f()')\\n    \\n    class Embedded:\\n        print('正在定义Embedded类')\\n        for i in range(10):\\n            if i % 2 == 0 :\\n                print('偶数:', i)\\n            else:\\n                print('奇数:', i)\\n            a = 1\\n        \\n        \\n        \",\n",
       " '_i26': \"class SomeClass:\\n    # 直接在类空间中放置执行性质代码\\n    print(super(SomeClass, self))\\n    for i in range(10):\\n        if i % 2 == 0 :\\n            print('偶数:', i)\\n        else:\\n            print('奇数:', i)\\n    a = 1\\n    def f():\\n        print('f()')\\n    \\n    class Embedded:\\n        print('正在定义Embedded类')\\n        for i in range(10):\\n            if i % 2 == 0 :\\n                print('偶数:', i)\\n            else:\\n                print('奇数:', i)\\n            a = 1\\n        \\n        \\n        \",\n",
       " '_i27': \"print('在全局作用域放置可执行的代码')\\nclass SomeClass:\\n    # 直接在类空间中放置执行性质代码\\n    print('在类作用域放置可执行的代码，正在定义SomeClass类')\\n    class SomeEmbeddedClass:\\n        print('在类命名空间放置可执行的代码，正在定义SomeEmbeddedClass类')\\n        \\n        \\n        \",\n",
       " 'SomeClass': __main__.SomeClass,\n",
       " '_i28': \"global_fn = lambda p: print('执行lambda表达式，p参数: ', p)\\nclass SomeClass:\\n    instance_fn = lambda p: print('执行lambda表达式，p参数: ', p)\\n    \\n# 调用全局范围内的global_fn，为参数p传入参数值\\nglobal_fn('fkit')  # ①\\nc = SomeClass()\\n# 调用类命名空间内的cate_fn，Python自动绑定第一个参数\\nc.instance_fn()  # ②\",\n",
       " '_i29': \"global_fn = lambda p: print('执行lambda表达式，p参数: ', p)\\nclass SomeClass:\\n    instance_fn = lambda : print('执行lambda表达式，p参数: ', p)\\n    \\n# 在全局作用域声明的函数，为参数p传入参数值\\nglobal_fn('fkit')  # ①\\nc = SomeClass()\\n# 在类作用域声明的函数，Python自动绑定第一个参数\\nc.instance_fn()  # ②\",\n",
       " '_i30': \"# 在全局作用域声明的函数，可以无形参，有则必须传入实参\\nglobal_fn = lambda p: print('执行lambda表达式，p参数: ', p)\\nclass SomeClass:\\n    # 在类作用域声明的函数，为实例方法，至少有一个形参，自动绑定实例对象\\n    instance_f = lambda p: print('执行lambda表达式，p参数: ', p)\\n    instance_ff = ff\\n    \\n    def ff(self):\\n        print(self)\\n    def fff(self):\\n        print(self)\\n    \\n        \\n    \\n\\nglobal_fn('abcdefg')\\nc = SomeClass()\\nc.instance_fn()  \",\n",
       " '_i31': \"# 在全局作用域声明的函数，可以无形参，有则必须传入实参\\nglobal_fn = lambda p: print('执行lambda表达式，p参数: ', p)\\nclass SomeClass:\\n    # 在类作用域声明的函数，为实例方法，至少有一个形参，自动绑定实例对象\\n    instance_f = lambda p: print('执行lambda表达式，p参数: ', p)\\n    instance_ff = self.ff\\n    \\n    def ff(self):\\n        print(self)\\n    def fff(self):\\n        print(self)\\n    \\n        \\n    \\n\\nglobal_fn('abcdefg')\\nc = SomeClass()\\nc.instance_fn()  \",\n",
       " '_i32': \"# 在全局作用域声明的函数，可以无形参，有则必须传入实参\\nglobal_fn = lambda p: print('执行lambda表达式，p参数: ', p)\\nclass SomeClass:\\n    # 在类作用域声明的函数，为实例方法，至少有一个形参，自动绑定实例对象\\n    instance_f = lambda p: print('执行lambda表达式，p参数: ', p)\\n    \\n    def instance_ff(self):\\n        print(self)\\n    \\n    ff = SomeClass.instance_ff\\n    \\n        \\n    \\n\\nglobal_fn('abcdefg')\\nc = SomeClass()\\nc.instance_fn()  \",\n",
       " '_i33': \"# 在全局作用域声明的函数，可以无形参，有则必须传入实参\\nglobal_fn = lambda p: print('执行lambda表达式，p参数: ', p)\\nclass SomeClass:\\n    # 在类作用域声明的函数，为实例方法，至少有一个形参，自动绑定实例对象\\n    instance_f = lambda p: print('执行lambda表达式，p参数: ', p)\\n    \\n    def instance_ff(self):\\n        print(self)\\n    \\n    \\n        \\n    \\n\\nglobal_fn('abcdefg')\\nc = SomeClass()\\nc.instance_fn()  \",\n",
       " '_i34': \"# 在全局作用域声明的函数，可以无形参，有则必须传入实参\\nglobal_fn = lambda p: print('执行lambda表达式，p参数: ', p)\\nclass SomeClass:\\n    # 在类作用域声明的函数，为实例方法，至少有一个形参，自动绑定实例对象\\n    instance_fn = lambda p: print('执行lambda表达式，p参数: ', p)\\n    \\n    def instance_fn(self):\\n        print(self)\\n    \\n    \\n        \\n    \\n\\nglobal_fn('abcdefg')\\nc = SomeClass()\\nc.instance_fn()  \",\n",
       " '_i35': \"# 在全局作用域声明的函数，可以无形参，有则必须传入实参\\nglobal_fn = lambda p: print('执行lambda表达式，p参数: ', p)\\nclass SomeClass:\\n    # 在类作用域声明的函数，为实例方法，至少有一个形参，自动绑定实例对象\\n    instance_fn = lambda p: print('执行lambda表达式，p参数: ', p)\\n    \\n    def instance_ffn(self):\\n        print(self)\\n    \\n    \\n        \\n    \\n\\nglobal_fn('abcdefg')\\nc = SomeClass()\\nc.instance_fn()  \",\n",
       " '_i36': \"# 在全局作用域声明的函数，可以无形参，有则必须传入实参\\nglobal_fn = lambda p: print('执行lambda表达式，p参数: ', p)\\nclass SomeClass:\\n    # 在类作用域声明的函数，为实例方法，至少有一个形参，自动绑定实例对象\\n    instance_fn = lambda p: print('执行lambda表达式，p参数: ', p)\\n    \\n    def instance_ffn(self):\\n        print(self)\\n    \\n    \\n        \\n    \\n\\nglobal_fn('abcdefg')\\nc = SomeClass()\\nc.instance_fn()  \\nc.instance_ffn()\",\n",
       " '_i37': 'globals()'}"
      ]
     },
     "execution_count": 37,
     "metadata": {},
     "output_type": "execute_result"
    }
   ],
   "source": [
    "globals()\n"
   ]
  },
  {
   "cell_type": "code",
   "execution_count": 84,
   "metadata": {},
   "outputs": [
    {
     "name": "stdout",
     "output_type": "stream",
     "text": [
      "True\n",
      "args:  (1,)\n",
      "type of args:  <class 'tuple'>\n",
      "kwargs:  {'z': 2}\n",
      "type of kwargs <class 'dict'>\n",
      "args:  ()\n",
      "type of args:  <class 'tuple'>\n",
      "kwargs:  {'z': 2}\n",
      "type of kwargs <class 'dict'>\n",
      "**********\n",
      "{}\n",
      "(2,)\n",
      "{'x': 2}\n",
      "<code object f at 0x7f70c248b1e0, file \"<ipython-input-84-c55be891fcd3>\", line 1>\n",
      "('a', 'b', 'c', 'x', 'y', 'args', 'kwargs')\n",
      "3\n"
     ]
    }
   ],
   "source": [
    "def f(a, b, c=2, *args, x=2, y, **kwargs):\n",
    "    print('args: ', args)\n",
    "    print('type of args: ', type(args))\n",
    "    print('kwargs: ', kwargs)\n",
    "    print('type of kwargs', type(kwargs))\n",
    "\n",
    "print(isinstance(f, type(f)))\n",
    "\n",
    "f(1,1,11,1,y=2, z=2)\n",
    "f(y=2, a=0, b=0, c=0, z=2)\n",
    "# f(1,1,1,1) \n",
    "\n",
    "print(\n",
    "    '*'*10,\n",
    "    f.__dict__,\n",
    "    f.__defaults__,  # tuple，只有*之前参数的默认值，positional参数指的就是*之前的参数，某一positional参数声明默认值后，其后的positional参数也必须声明默认值\n",
    "    f.__kwdefaults__,\n",
    "    f.__code__,\n",
    "    f.__code__.co_varnames,  # arguments 和 local variables\n",
    "    f.__code__.co_argcount,  # *之前参数的个数\n",
    "    sep='\\n'\n",
    ")\n",
    "\n",
    "# positional传参，按参数的位置依次传入值指的的是参数的位置和顺序\n",
    "# keyword-only传参\n",
    "# 首次出现keyword方式传参后，传递参数方式keyword-only\n",
    "# keyword方式设定默认值后，其后参数不一定需要声明默认值，但传参方式keyword-only\n",
    "# 未声明默认值的参数必须进行传参，即使传入None，在声明默认值时也可以声明为None\n",
    "# None is a valid—and popular—default value.\n",
    "# 当默认值为引用值时\n",
    "\n",
    "# 标准库from inspect import signature\n",
    "# *args和**kwargs的一大重要价值在于能完整地传递任意参数，如在装饰其中wrapper(*args, **kwargs) wrapped(*args, **kwargs)\n",
    "\n"
   ]
  },
  {
   "cell_type": "code",
   "execution_count": 85,
   "metadata": {},
   "outputs": [],
   "source": [
    "from inspect import signature"
   ]
  },
  {
   "cell_type": "code",
   "execution_count": 86,
   "metadata": {},
   "outputs": [
    {
     "data": {
      "text/plain": [
       "<Signature (a, b, c=2, *args, x=2, y, **kwargs)>"
      ]
     },
     "execution_count": 86,
     "metadata": {},
     "output_type": "execute_result"
    }
   ],
   "source": [
    "sig = signature(f)\n",
    "sig"
   ]
  },
  {
   "cell_type": "code",
   "execution_count": 87,
   "metadata": {},
   "outputs": [
    {
     "data": {
      "text/plain": [
       "'(a, b, c=2, *args, x=2, y, **kwargs)'"
      ]
     },
     "execution_count": 87,
     "metadata": {},
     "output_type": "execute_result"
    }
   ],
   "source": [
    "str(sig)\n"
   ]
  },
  {
   "cell_type": "code",
   "execution_count": 94,
   "metadata": {},
   "outputs": [
    {
     "name": "stdout",
     "output_type": "stream",
     "text": [
      "POSITIONAL_OR_KEYWORD : a = <class 'inspect._empty'>  with  <class 'inspect._empty'>\n",
      "POSITIONAL_OR_KEYWORD : b = <class 'inspect._empty'>  with  <class 'inspect._empty'>\n",
      "POSITIONAL_OR_KEYWORD : c = 2  with  <class 'inspect._empty'>\n",
      "VAR_POSITIONAL : args = <class 'inspect._empty'>  with  <class 'inspect._empty'>\n",
      "KEYWORD_ONLY : x = 2  with  <class 'inspect._empty'>\n",
      "KEYWORD_ONLY : y = <class 'inspect._empty'>  with  <class 'inspect._empty'>\n",
      "VAR_KEYWORD : kwargs = <class 'inspect._empty'>  with  <class 'inspect._empty'>\n"
     ]
    }
   ],
   "source": [
    "for name, param in sig.parameters.items():\n",
    "    print(param.kind, ':', name, '=', param.default, ' with ',param.annotation)\n",
    "    \n",
    "# POSITIONAL_ONLY currently unsupported"
   ]
  },
  {
   "cell_type": "code",
   "execution_count": 69,
   "metadata": {},
   "outputs": [],
   "source": [
    "def f(a, b=[]):\n",
    "    b.append(a)\n",
    "    print(b)"
   ]
  },
  {
   "cell_type": "code",
   "execution_count": 70,
   "metadata": {},
   "outputs": [
    {
     "name": "stdout",
     "output_type": "stream",
     "text": [
      "[1]\n",
      "[1, 2]\n",
      "[1, 2, 3]\n",
      "{'a': 1}\n"
     ]
    }
   ],
   "source": [
    "f(1), f(2), f(3)\n",
    "f.a = 1\n",
    "print(f.__dict__)"
   ]
  },
  {
   "cell_type": "code",
   "execution_count": 62,
   "metadata": {},
   "outputs": [],
   "source": [
    "def tag(name, *content, cls=None, **attrs): \n",
    "    \"\"\"Generate one or more HTML tags\"\"\" \n",
    "    if cls is not None:\n",
    "    attrs['class'] = cls \n",
    "    if attrs:\n",
    "        attr_str = ''.join(' %s=\"%s\"' % (attr, value) for attr, value\n",
    "    in sorted(attrs.items()))\n",
    "    else:\n",
    "    attr_str = ''\n",
    "    if content:\n",
    "    return '\\n'.join('<%s%s>%s</%s>' %\n",
    "    (name, attr_str, c, name) for c in content) return '<%s%s />' % (name, attr_str)"
   ]
  },
  {
   "cell_type": "code",
   "execution_count": null,
   "metadata": {},
   "outputs": [],
   "source": []
  }
 ],
 "metadata": {
  "kernelspec": {
   "display_name": "Python 3",
   "language": "python",
   "name": "python3"
  },
  "language_info": {
   "codemirror_mode": {
    "name": "ipython",
    "version": 3
   },
   "file_extension": ".py",
   "mimetype": "text/x-python",
   "name": "python",
   "nbconvert_exporter": "python",
   "pygments_lexer": "ipython3",
   "version": "3.7.7"
  },
  "latex_envs": {
   "LaTeX_envs_menu_present": true,
   "autoclose": false,
   "autocomplete": true,
   "bibliofile": "biblio.bib",
   "cite_by": "apalike",
   "current_citInitial": 1,
   "eqLabelWithNumbers": true,
   "eqNumInitial": 1,
   "hotkeys": {
    "equation": "Ctrl-E",
    "itemize": "Ctrl-I"
   },
   "labels_anchors": false,
   "latex_user_defs": false,
   "report_style_numbering": false,
   "user_envs_cfg": false
  },
  "toc": {
   "base_numbering": 1,
   "nav_menu": {},
   "number_sections": true,
   "sideBar": true,
   "skip_h1_title": false,
   "title_cell": "Table of Contents",
   "title_sidebar": "Contents",
   "toc_cell": false,
   "toc_position": {},
   "toc_section_display": true,
   "toc_window_display": false
  },
  "varInspector": {
   "cols": {
    "lenName": 16,
    "lenType": 16,
    "lenVar": 40
   },
   "kernels_config": {
    "python": {
     "delete_cmd_postfix": "",
     "delete_cmd_prefix": "del ",
     "library": "var_list.py",
     "varRefreshCmd": "print(var_dic_list())"
    },
    "r": {
     "delete_cmd_postfix": ") ",
     "delete_cmd_prefix": "rm(",
     "library": "var_list.r",
     "varRefreshCmd": "cat(var_dic_list()) "
    }
   },
   "types_to_exclude": [
    "module",
    "function",
    "builtin_function_or_method",
    "instance",
    "_Feature"
   ],
   "window_display": false
  }
 },
 "nbformat": 4,
 "nbformat_minor": 2
}
