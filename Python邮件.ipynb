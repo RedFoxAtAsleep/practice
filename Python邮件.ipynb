{
 "cells": [
  {
   "cell_type": "code",
   "execution_count": null,
   "metadata": {},
   "outputs": [],
   "source": [
    "import smtplib\n",
    "from email.mime.text import MIMEText\n",
    "from email.utils import formataddr\n",
    "import logging\n",
    "\n",
    "logger = logging.getLogger('emailer')\n",
    "logger.setLevel(logging.DEBUG)\n",
    "\n",
    "# MAIL_SERVER = 'smtp.163.com'\n",
    "# MAIL_SENDER = 'im22ic@163.com'\n",
    "# MAIL_SENDER_PASSWORD = 'wy123456'\n",
    "\n",
    "MAIL_SERVER = 'smtp.qq.com'\n",
    "MAIL_SENDER = 'bbxxone@qq.com'\n",
    "MAIL_SENDER_PASSWORD = 'crykrvctngpfhafh'\n",
    "\n",
    "receivers = ['zhaojinhui@nsfocus.com', 'im22ic@163.com', 'redfoxatasleep@gmail.com']\n",
    "html_template = '''\n",
    "html = \"\"\"\n",
    "<html>  \n",
    "  <body>  \n",
    "    <p> \n",
    "       Here is the <a href=\"{link}\">link</a> you wanted.\n",
    "    </p> \n",
    "  </body>  \n",
    "</html>  \n",
    "\"\"\"    \n",
    "'''\n",
    "\n",
    "f = open('/Users/zhaojinhui/github/demz/someapp/templates/mail_template_simple_00.html', 'r')\n",
    "html_template = f.read()\n",
    "html = html_template.format(**{\n",
    "    'button_link': 'https://www.runoob.com/python3/python3-smtp.html',\n",
    "    'button_text': 'download',\n",
    "    'p1': 'Hi, guy!',\n",
    "    'p2': 'Thanks for downloading VT samples. Click the button below to download you samples.',\n",
    "    'p3': '',\n",
    "    'p4': '',\n",
    "})\n",
    "\n",
    "# message = MIMEText('Python 邮件发送测试...', 'plain', 'utf-8')\n",
    "message = MIMEText(html, 'html', 'utf-8')\n",
    "message['From'] = formataddr((\"RedFoxAtAsleep\".upper(), \"MAIL@RedFoxAtAsleep.COM\".upper()))     # 发送者\n",
    "message['To'] = formataddr((\"SOMEone\".upper(), \"MAIL@Someone.COM\".upper()))          # 接收者\n",
    "message['Subject'] = \"Python3 SMTP 邮件测试\"\n",
    "smtpObj = smtplib.SMTP()\n",
    "\n",
    "try:\n",
    "    # with smtplib.SMTP() as smtpObj: pass\n",
    "    smtpObj.connect(MAIL_SERVER)\n",
    "    smtpObj.login(MAIL_SENDER, MAIL_SENDER_PASSWORD)\n",
    "    smtpObj.sendmail(MAIL_SENDER, receivers, message.as_string())\n",
    "    smtpObj.quit()\n",
    "    logger.info(\"邮件发送成功\")\n",
    "except smtplib.SMTPException as e:\n",
    "    logger.info(\"Error: 无法发送邮件\")\n",
    "\n"
   ]
  },
  {
   "cell_type": "code",
   "execution_count": null,
   "metadata": {},
   "outputs": [],
   "source": []
  }
 ],
 "metadata": {
  "kernelspec": {
   "display_name": "Python 3",
   "language": "python",
   "name": "python3"
  },
  "language_info": {
   "codemirror_mode": {
    "name": "ipython",
    "version": 3
   },
   "file_extension": ".py",
   "mimetype": "text/x-python",
   "name": "python",
   "nbconvert_exporter": "python",
   "pygments_lexer": "ipython3",
   "version": "3.7.7"
  },
  "latex_envs": {
   "LaTeX_envs_menu_present": true,
   "autoclose": false,
   "autocomplete": true,
   "bibliofile": "biblio.bib",
   "cite_by": "apalike",
   "current_citInitial": 1,
   "eqLabelWithNumbers": true,
   "eqNumInitial": 1,
   "hotkeys": {
    "equation": "Ctrl-E",
    "itemize": "Ctrl-I"
   },
   "labels_anchors": false,
   "latex_user_defs": false,
   "report_style_numbering": false,
   "user_envs_cfg": false
  },
  "toc": {
   "base_numbering": 1,
   "nav_menu": {},
   "number_sections": true,
   "sideBar": true,
   "skip_h1_title": false,
   "title_cell": "Table of Contents",
   "title_sidebar": "Contents",
   "toc_cell": false,
   "toc_position": {},
   "toc_section_display": true,
   "toc_window_display": false
  },
  "varInspector": {
   "cols": {
    "lenName": 16,
    "lenType": 16,
    "lenVar": 40
   },
   "kernels_config": {
    "python": {
     "delete_cmd_postfix": "",
     "delete_cmd_prefix": "del ",
     "library": "var_list.py",
     "varRefreshCmd": "print(var_dic_list())"
    },
    "r": {
     "delete_cmd_postfix": ") ",
     "delete_cmd_prefix": "rm(",
     "library": "var_list.r",
     "varRefreshCmd": "cat(var_dic_list()) "
    }
   },
   "types_to_exclude": [
    "module",
    "function",
    "builtin_function_or_method",
    "instance",
    "_Feature"
   ],
   "window_display": false
  }
 },
 "nbformat": 4,
 "nbformat_minor": 2
}
