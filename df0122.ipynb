{
 "cells": [
  {
   "cell_type": "code",
   "execution_count": 10,
   "metadata": {},
   "outputs": [],
   "source": [
    "import logging\n",
    "import time\n",
    "import akshare as ak\n",
    "import sqlalchemy as db  # Version Check\n",
    "import pandas as pd\n",
    "import logging\n",
    "import sqlalchemy as db \n",
    "from sqlalchemy import create_engine\n",
    "from sqlalchemy import MetaData\n",
    "from sqlalchemy.ext.declarative import declarative_base\n",
    "from sqlalchemy.orm import sessionmaker\n",
    "from sqlalchemy import MetaData, Table, Sequence, Column, Float, Integer, String\n",
    "from sqlalchemy.sql import select\n"
   ]
  },
  {
   "cell_type": "code",
   "execution_count": 11,
   "metadata": {},
   "outputs": [],
   "source": [
    "def str2str(s, strp, strf):\n",
    "    return time.strftime(\n",
    "        strf, \n",
    "        time.strptime(\n",
    "            s, \n",
    "            strp)\n",
    "    )"
   ]
  },
  {
   "cell_type": "code",
   "execution_count": 12,
   "metadata": {},
   "outputs": [],
   "source": [
    "connection_uri = \"mysql+pymysql://{user}:{password}@{host}:{port}/{dbname}\".format(**{\n",
    "    \"user\": \"root\",\n",
    "    \"password\": \"mysql123456\",\n",
    "    \"host\": \"localhost\",\n",
    "    \"port\": \"3306\",\n",
    "    \"dbname\": \"xinguan\"\n",
    "})\n",
    "engine = db.create_engine(connection_uri)\n"
   ]
  },
  {
   "cell_type": "code",
   "execution_count": 13,
   "metadata": {},
   "outputs": [],
   "source": [
    "metadata = MetaData()\n",
    "\n",
    "t_daily = Table(\n",
    "    'csse_daily',\n",
    "    metadata,\n",
    "    Column('us_only_county_code_fips', Integer),\n",
    "    Column('us_only_county_name', String(64)),\n",
    "    Column('higher', String(64)),\n",
    "    Column('lower', String(64)),\n",
    "    Column('last_update', String(64)),\n",
    "    Column('last_update_unify', String(64)),\n",
    "    Column('report_day', String(64)),\n",
    "    Column('latitude', Float),\n",
    "    Column('longitude', Float),\n",
    "    Column('confirmed', Integer),\n",
    "    Column('dead', Integer),\n",
    "    Column('recovered', Integer),\n",
    "    Column('active', Integer),\n",
    "    Column('district', String(64)),\n",
    ")\n",
    "\n",
    "t_daily.drop(engine, checkfirst=True)\n",
    "t_daily.create(engine)\n"
   ]
  },
  {
   "cell_type": "code",
   "execution_count": 15,
   "metadata": {},
   "outputs": [
    {
     "name": "stdout",
     "output_type": "stream",
     "text": [
      "重试WEB：2020-01-22\n",
      "重试WEB：2020-01-22\n",
      "成功WEB：2020-01-22\n"
     ]
    }
   ],
   "source": [
    "retry = 100\n",
    "report_day = \"2020-01-22\"\n",
    "for j in range(retry):\n",
    "    try:\n",
    "        df0122 = ak.covid_19_csse_daily(date=report_day)\n",
    "        logging.info(\"成功WEB：{0}\".format(report_day))\n",
    "        print(\"成功WEB：{0}\".format(report_day))\n",
    "        time.sleep(0.1)\n",
    "        break\n",
    "    except Exception as e:\n",
    "        if j == retry - 1:\n",
    "            logging.info(e)\n",
    "            logging.info(\"失败WEB：{0}\".format(report_day))\n",
    "            print(\"失败WEB：{0}\".format(report_day))\n",
    "        logging.info(e)\n",
    "        logging.info(\"重试WEB：{0}\".format(report_day))\n",
    "        print(\"重试WEB：{0}\".format(report_day))"
   ]
  },
  {
   "cell_type": "code",
   "execution_count": 16,
   "metadata": {},
   "outputs": [],
   "source": [
    "df0122.rename(columns={\n",
    "    'Province/State':'higher',\n",
    "    'Country/Region':'lower',\n",
    "    'Last Update':'last_update',\n",
    "    'Confirmed':'confirmed',\n",
    "    'Deaths':'dead',\n",
    "    'Recovered':'recovered'\n",
    "}, inplace=True)\n"
   ]
  },
  {
   "cell_type": "code",
   "execution_count": 17,
   "metadata": {},
   "outputs": [],
   "source": [
    "'%Y-%m-%d'\n",
    "'%m/%d/%y %H:%M'\n",
    "'%Y-%m-%dT%H:%M:%S'\n",
    "\n",
    "df0122['last_update_unify'] = df0122['last_update'].map(lambda x:str2str(x, '%m/%d/%Y %H:%M', '%Y-%m-%dT%H:%M:%S'))     \n",
    "# df0122['report_day'] = df0122['last_update'].map(lambda x:str2str(x, '%m/%d/%Y %H:%M', '%Y-%m-%d')) \n",
    "df0122['report_day'] = report_day\n"
   ]
  },
  {
   "cell_type": "code",
   "execution_count": 18,
   "metadata": {},
   "outputs": [
    {
     "data": {
      "text/html": [
       "<div>\n",
       "<style scoped>\n",
       "    .dataframe tbody tr th:only-of-type {\n",
       "        vertical-align: middle;\n",
       "    }\n",
       "\n",
       "    .dataframe tbody tr th {\n",
       "        vertical-align: top;\n",
       "    }\n",
       "\n",
       "    .dataframe thead th {\n",
       "        text-align: right;\n",
       "    }\n",
       "</style>\n",
       "<table border=\"1\" class=\"dataframe\">\n",
       "  <thead>\n",
       "    <tr style=\"text-align: right;\">\n",
       "      <th></th>\n",
       "      <th>higher</th>\n",
       "      <th>lower</th>\n",
       "      <th>last_update</th>\n",
       "      <th>confirmed</th>\n",
       "      <th>dead</th>\n",
       "      <th>recovered</th>\n",
       "      <th>last_update_unify</th>\n",
       "      <th>report_day</th>\n",
       "    </tr>\n",
       "  </thead>\n",
       "  <tbody>\n",
       "    <tr>\n",
       "      <th>0</th>\n",
       "      <td>Anhui</td>\n",
       "      <td>Mainland China</td>\n",
       "      <td>1/22/2020 17:00</td>\n",
       "      <td>1.0</td>\n",
       "      <td>0.0</td>\n",
       "      <td>0.0</td>\n",
       "      <td>2020-01-22T17:00:00</td>\n",
       "      <td>2020-01-22</td>\n",
       "    </tr>\n",
       "    <tr>\n",
       "      <th>1</th>\n",
       "      <td>Beijing</td>\n",
       "      <td>Mainland China</td>\n",
       "      <td>1/22/2020 17:00</td>\n",
       "      <td>14.0</td>\n",
       "      <td>0.0</td>\n",
       "      <td>0.0</td>\n",
       "      <td>2020-01-22T17:00:00</td>\n",
       "      <td>2020-01-22</td>\n",
       "    </tr>\n",
       "    <tr>\n",
       "      <th>2</th>\n",
       "      <td>Chongqing</td>\n",
       "      <td>Mainland China</td>\n",
       "      <td>1/22/2020 17:00</td>\n",
       "      <td>6.0</td>\n",
       "      <td>0.0</td>\n",
       "      <td>0.0</td>\n",
       "      <td>2020-01-22T17:00:00</td>\n",
       "      <td>2020-01-22</td>\n",
       "    </tr>\n",
       "    <tr>\n",
       "      <th>3</th>\n",
       "      <td>Fujian</td>\n",
       "      <td>Mainland China</td>\n",
       "      <td>1/22/2020 17:00</td>\n",
       "      <td>1.0</td>\n",
       "      <td>0.0</td>\n",
       "      <td>0.0</td>\n",
       "      <td>2020-01-22T17:00:00</td>\n",
       "      <td>2020-01-22</td>\n",
       "    </tr>\n",
       "    <tr>\n",
       "      <th>4</th>\n",
       "      <td>Gansu</td>\n",
       "      <td>Mainland China</td>\n",
       "      <td>1/22/2020 17:00</td>\n",
       "      <td>0.0</td>\n",
       "      <td>0.0</td>\n",
       "      <td>0.0</td>\n",
       "      <td>2020-01-22T17:00:00</td>\n",
       "      <td>2020-01-22</td>\n",
       "    </tr>\n",
       "    <tr>\n",
       "      <th>...</th>\n",
       "      <td>...</td>\n",
       "      <td>...</td>\n",
       "      <td>...</td>\n",
       "      <td>...</td>\n",
       "      <td>...</td>\n",
       "      <td>...</td>\n",
       "      <td>...</td>\n",
       "      <td>...</td>\n",
       "    </tr>\n",
       "    <tr>\n",
       "      <th>33</th>\n",
       "      <td>Yunnan</td>\n",
       "      <td>Mainland China</td>\n",
       "      <td>1/22/2020 17:00</td>\n",
       "      <td>1.0</td>\n",
       "      <td>0.0</td>\n",
       "      <td>0.0</td>\n",
       "      <td>2020-01-22T17:00:00</td>\n",
       "      <td>2020-01-22</td>\n",
       "    </tr>\n",
       "    <tr>\n",
       "      <th>34</th>\n",
       "      <td>Zhejiang</td>\n",
       "      <td>Mainland China</td>\n",
       "      <td>1/22/2020 17:00</td>\n",
       "      <td>10.0</td>\n",
       "      <td>0.0</td>\n",
       "      <td>0.0</td>\n",
       "      <td>2020-01-22T17:00:00</td>\n",
       "      <td>2020-01-22</td>\n",
       "    </tr>\n",
       "    <tr>\n",
       "      <th>35</th>\n",
       "      <td>null</td>\n",
       "      <td>Japan</td>\n",
       "      <td>1/22/2020 17:00</td>\n",
       "      <td>2.0</td>\n",
       "      <td>0.0</td>\n",
       "      <td>0.0</td>\n",
       "      <td>2020-01-22T17:00:00</td>\n",
       "      <td>2020-01-22</td>\n",
       "    </tr>\n",
       "    <tr>\n",
       "      <th>36</th>\n",
       "      <td>null</td>\n",
       "      <td>Thailand</td>\n",
       "      <td>1/22/2020 17:00</td>\n",
       "      <td>2.0</td>\n",
       "      <td>0.0</td>\n",
       "      <td>0.0</td>\n",
       "      <td>2020-01-22T17:00:00</td>\n",
       "      <td>2020-01-22</td>\n",
       "    </tr>\n",
       "    <tr>\n",
       "      <th>37</th>\n",
       "      <td>null</td>\n",
       "      <td>South Korea</td>\n",
       "      <td>1/22/2020 17:00</td>\n",
       "      <td>1.0</td>\n",
       "      <td>0.0</td>\n",
       "      <td>0.0</td>\n",
       "      <td>2020-01-22T17:00:00</td>\n",
       "      <td>2020-01-22</td>\n",
       "    </tr>\n",
       "  </tbody>\n",
       "</table>\n",
       "<p>38 rows × 8 columns</p>\n",
       "</div>"
      ],
      "text/plain": [
       "       higher           lower      last_update  confirmed  dead  recovered  \\\n",
       "0       Anhui  Mainland China  1/22/2020 17:00        1.0   0.0        0.0   \n",
       "1     Beijing  Mainland China  1/22/2020 17:00       14.0   0.0        0.0   \n",
       "2   Chongqing  Mainland China  1/22/2020 17:00        6.0   0.0        0.0   \n",
       "3      Fujian  Mainland China  1/22/2020 17:00        1.0   0.0        0.0   \n",
       "4       Gansu  Mainland China  1/22/2020 17:00        0.0   0.0        0.0   \n",
       "..        ...             ...              ...        ...   ...        ...   \n",
       "33     Yunnan  Mainland China  1/22/2020 17:00        1.0   0.0        0.0   \n",
       "34   Zhejiang  Mainland China  1/22/2020 17:00       10.0   0.0        0.0   \n",
       "35       null           Japan  1/22/2020 17:00        2.0   0.0        0.0   \n",
       "36       null        Thailand  1/22/2020 17:00        2.0   0.0        0.0   \n",
       "37       null     South Korea  1/22/2020 17:00        1.0   0.0        0.0   \n",
       "\n",
       "      last_update_unify  report_day  \n",
       "0   2020-01-22T17:00:00  2020-01-22  \n",
       "1   2020-01-22T17:00:00  2020-01-22  \n",
       "2   2020-01-22T17:00:00  2020-01-22  \n",
       "3   2020-01-22T17:00:00  2020-01-22  \n",
       "4   2020-01-22T17:00:00  2020-01-22  \n",
       "..                  ...         ...  \n",
       "33  2020-01-22T17:00:00  2020-01-22  \n",
       "34  2020-01-22T17:00:00  2020-01-22  \n",
       "35  2020-01-22T17:00:00  2020-01-22  \n",
       "36  2020-01-22T17:00:00  2020-01-22  \n",
       "37  2020-01-22T17:00:00  2020-01-22  \n",
       "\n",
       "[38 rows x 8 columns]"
      ]
     },
     "execution_count": 18,
     "metadata": {},
     "output_type": "execute_result"
    }
   ],
   "source": [
    "df0122.fillna(value={\n",
    "    'higher':'null',\n",
    "    'lower':'null',\n",
    "    'confirmed':0,\n",
    "    'dead':0,\n",
    "    'recovered':0,\n",
    "}, inplace=True)\n",
    "df0122"
   ]
  },
  {
   "cell_type": "code",
   "execution_count": 19,
   "metadata": {},
   "outputs": [
    {
     "name": "stdout",
     "output_type": "stream",
     "text": [
      "成功DB：2020-01-22\n"
     ]
    }
   ],
   "source": [
    "for j in range(retry):\n",
    "    try:\n",
    "        df0122.to_sql(\n",
    "            t_daily.name,\n",
    "            con=engine,\n",
    "            if_exists='append',\n",
    "            index=False)\n",
    "        logging.info(\"成功DB：{0}\".format(report_day))\n",
    "        print(\"成功DB：{0}\".format(report_day))\n",
    "        time.sleep(0.1)\n",
    "        break\n",
    "    except Exception as e:\n",
    "        if j == retry - 1:\n",
    "            logging.info(\"失败DB：{0}\".format(report_day))\n",
    "            print(\"失败DB：{0}\".format(report_day))\n",
    "        logging.info(\"重试DB：{0}\".format(report_day))\n",
    "        print(\"重试DB：{0}\".format(report_day))\n",
    "        logging.info(e)"
   ]
  },
  {
   "cell_type": "markdown",
   "metadata": {},
   "source": [
    "* `>= 01-22-2020.csv`\n",
    "* `>= 03-01-2020.csv`\n",
    "* `>= 03-22-2020.csv`\n",
    "\n",
    "***\n",
    "\n",
    "\n",
    "* FIPS: US only. FederalInformationProcessingStandards. Code that uniquely identifies counties within the USA.\n",
    "* Admin2: US only. County name. \n",
    "* Province_State: Province, state or dependency name. \n",
    "    * Province/State: \n",
    "        * China - province name; \n",
    "        * US/Canada/Australia/ - city name, state/province name; \n",
    "        * Others - name of the event (e.g., \"Diamond Princess\" cruise ship); \n",
    "        * other countries - blank.\n",
    "* Country_Region: \n",
    "    * Country, region or sovereignty name. The names of locations included on the Website correspond with the official designations used by the U.S. Department of State.\n",
    "* Last Update: MM/DD/YYYY HH:mm:ss (24 hour format, in UTC).\n",
    "* Lat and Long_: Dot locations on the dashboard. All points (except for Australia) shown on the map are based on geographic centroids, and are not representative of a specific address, building or any location at a spatial scale finer than a province/state. Australian dots are located at the centroid of the largest city in each state.\n",
    "* Confirmed: Confirmed cases include `presumptive positive` cases and `probable` cases, in accordance with CDC guidelines as of April 14.\n",
    "* Deaths: Death totals in the US include confirmed and probable, in accordance with CDC guidelines as of April 14.\n",
    "* Recovered: Recovered cases outside China are estimates based on local media reports, and state and local reporting when available, and therefore may be substantially lower than the true number. US state-level recovered cases are from COVID Tracking Project.\n",
    "* Active: Active cases = total confirmed - total recovered - total deaths.\n",
    "* Incidence_Rate: Admin2 + Province_State + Country_Region.\n",
    "* Case-Fatality Ratio (%): = confirmed cases per 100,000 persons.\n",
    "* US Testing Rate: = total test results per 100,000 persons. The \"total test results\" is equal to \"Total test results (Positive + Negative)\" from COVID Tracking Project.\n",
    "* US Hospitalization Rate (%): = Total number hospitalized / Number confirmed cases. The \"Total number hospitalized\" is the \"Hospitalized – Cumulative\" count from COVID Tracking Project. The \"hospitalization rate\" and \"hospitalized - Cumulative\" data is only presented for those states which provide cumulative hospital data.\n",
    "\n",
    "***\n",
    "\n",
    "Update frequency:\n",
    "* Files on and after April 23, once per day between 03:30 and 04:00 UTC.\n",
    "* Files from February 2 to April 22: once per day around 23:59 UTC.\n",
    "* Files on and before February 1: the last updated files before 23:59 UTC. Sources: archived_data and dashboard."
   ]
  },
  {
   "cell_type": "code",
   "execution_count": 1,
   "metadata": {},
   "outputs": [
    {
     "name": "stdout",
     "output_type": "stream",
     "text": [
      "test\n"
     ]
    }
   ],
   "source": []
  },
  {
   "cell_type": "code",
   "execution_count": 1,
   "metadata": {},
   "outputs": [
    {
     "name": "stdout",
     "output_type": "stream",
     "text": [
      "tupleest\n"
     ]
    }
   ],
   "source": []
  },
  {
   "cell_type": "code",
   "execution_count": null,
   "metadata": {},
   "outputs": [],
   "source": []
  }
 ],
 "metadata": {
  "kernelspec": {
   "display_name": "Python 3",
   "language": "python",
   "name": "python3"
  },
  "language_info": {
   "codemirror_mode": {
    "name": "ipython",
    "version": 3
   },
   "file_extension": ".py",
   "mimetype": "text/x-python",
   "name": "python",
   "nbconvert_exporter": "python",
   "pygments_lexer": "ipython3",
   "version": "3.7.7"
  },
  "latex_envs": {
   "LaTeX_envs_menu_present": true,
   "autoclose": false,
   "autocomplete": true,
   "bibliofile": "biblio.bib",
   "cite_by": "apalike",
   "current_citInitial": 1,
   "eqLabelWithNumbers": true,
   "eqNumInitial": 1,
   "hotkeys": {
    "equation": "Ctrl-E",
    "itemize": "Ctrl-I"
   },
   "labels_anchors": false,
   "latex_user_defs": false,
   "report_style_numbering": false,
   "user_envs_cfg": false
  },
  "toc": {
   "base_numbering": 1,
   "nav_menu": {},
   "number_sections": true,
   "sideBar": true,
   "skip_h1_title": false,
   "title_cell": "Table of Contents",
   "title_sidebar": "Contents",
   "toc_cell": false,
   "toc_position": {},
   "toc_section_display": true,
   "toc_window_display": false
  },
  "varInspector": {
   "cols": {
    "lenName": 16,
    "lenType": 16,
    "lenVar": 40
   },
   "kernels_config": {
    "python": {
     "delete_cmd_postfix": "",
     "delete_cmd_prefix": "del ",
     "library": "var_list.py",
     "varRefreshCmd": "print(var_dic_list())"
    },
    "r": {
     "delete_cmd_postfix": ") ",
     "delete_cmd_prefix": "rm(",
     "library": "var_list.r",
     "varRefreshCmd": "cat(var_dic_list()) "
    }
   },
   "types_to_exclude": [
    "module",
    "function",
    "builtin_function_or_method",
    "instance",
    "_Feature"
   ],
   "window_display": false
  }
 },
 "nbformat": 4,
 "nbformat_minor": 2
}
