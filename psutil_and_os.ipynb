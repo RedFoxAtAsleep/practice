{
 "cells": [
  {
   "cell_type": "markdown",
   "metadata": {},
   "source": [
    "* psutil是硬件层面\n",
    "* os是软件层面"
   ]
  },
  {
   "cell_type": "code",
   "execution_count": 4,
   "metadata": {},
   "outputs": [],
   "source": [
    "import psutil"
   ]
  },
  {
   "cell_type": "code",
   "execution_count": 22,
   "metadata": {},
   "outputs": [
    {
     "data": {
      "text/plain": [
       "1"
      ]
     },
     "execution_count": 22,
     "metadata": {},
     "output_type": "execute_result"
    }
   ],
   "source": [
    "psutil.cpu_count(logical=False)"
   ]
  },
  {
   "cell_type": "code",
   "execution_count": 28,
   "metadata": {},
   "outputs": [
    {
     "data": {
      "text/plain": [
       "([scputimes(user=4085.11, nice=3.87, system=3044.06, idle=764128.9, iowait=296.65, irq=0.0, softirq=12.46, steal=0.0, guest=0.0, guest_nice=0.0)],\n",
       " 4085.11)"
      ]
     },
     "execution_count": 28,
     "metadata": {},
     "output_type": "execute_result"
    }
   ],
   "source": [
    "psutil.cpu_times(percpu=True), psutil.cpu_times().user\n"
   ]
  },
  {
   "cell_type": "code",
   "execution_count": 10,
   "metadata": {},
   "outputs": [
    {
     "data": {
      "text/plain": [
       "[scpufreq(current=2494.222, min=None, max=None)]"
      ]
     },
     "execution_count": 10,
     "metadata": {},
     "output_type": "execute_result"
    }
   ],
   "source": [
    "psutil.cpu_freq(percpu=True)"
   ]
  },
  {
   "cell_type": "code",
   "execution_count": 16,
   "metadata": {},
   "outputs": [
    {
     "data": {
      "text/plain": [
       "[2.3]"
      ]
     },
     "execution_count": 16,
     "metadata": {},
     "output_type": "execute_result"
    }
   ],
   "source": [
    "psutil.cpu_percent(percpu=True)"
   ]
  },
  {
   "cell_type": "code",
   "execution_count": 19,
   "metadata": {},
   "outputs": [
    {
     "data": {
      "text/plain": [
       "[scputimes(user=1.5, nice=0.0, system=0.5, idle=97.9, iowait=0.2, irq=0.0, softirq=0.0, steal=0.0, guest=0.0, guest_nice=0.0)]"
      ]
     },
     "execution_count": 19,
     "metadata": {},
     "output_type": "execute_result"
    }
   ],
   "source": [
    "psutil.cpu_times_percent(percpu=True)"
   ]
  },
  {
   "cell_type": "code",
   "execution_count": 21,
   "metadata": {},
   "outputs": [
    {
     "data": {
      "text/plain": [
       "scpustats(ctx_switches=401393912, interrupts=176373486, soft_interrupts=50219014, syscalls=0)"
      ]
     },
     "execution_count": 21,
     "metadata": {},
     "output_type": "execute_result"
    }
   ],
   "source": [
    "psutil.cpu_stats()"
   ]
  },
  {
   "cell_type": "code",
   "execution_count": 29,
   "metadata": {},
   "outputs": [],
   "source": [
    "mem = psutil.virtual_memory()"
   ]
  },
  {
   "cell_type": "code",
   "execution_count": 31,
   "metadata": {},
   "outputs": [
    {
     "data": {
      "text/plain": [
       "(1927196672, 562774016, 66752512)"
      ]
     },
     "execution_count": 31,
     "metadata": {},
     "output_type": "execute_result"
    }
   ],
   "source": [
    "mem.total, mem.used, mem.free"
   ]
  },
  {
   "cell_type": "code",
   "execution_count": 47,
   "metadata": {},
   "outputs": [
    {
     "name": "stdout",
     "output_type": "stream",
     "text": [
      "Help on built-in function count:\n",
      "\n",
      "count(value, /) method of psutil._pslinux.svmem instance\n",
      "    Return number of occurrences of value.\n",
      "\n",
      "Help on built-in function index:\n",
      "\n",
      "index(value, start=0, stop=9223372036854775807, /) method of psutil._pslinux.svmem instance\n",
      "    Return first index of value.\n",
      "    \n",
      "    Raises ValueError if the value is not present.\n",
      "\n"
     ]
    },
    {
     "data": {
      "text/plain": [
       "(None, None)"
      ]
     },
     "execution_count": 47,
     "metadata": {},
     "output_type": "execute_result"
    }
   ],
   "source": [
    "help(mem.count), help(mem.index)"
   ]
  },
  {
   "cell_type": "code",
   "execution_count": 46,
   "metadata": {},
   "outputs": [
    {
     "data": {
      "text/plain": [
       "(1071017984,\n",
       " 1171570688,\n",
       " 262209536,\n",
       " 1035460608,\n",
       " 525578240,\n",
       " 39.2,\n",
       " 876544,\n",
       " <function svmem.index(value, start=0, stop=9223372036854775807, /)>)"
      ]
     },
     "execution_count": 46,
     "metadata": {},
     "output_type": "execute_result"
    }
   ],
   "source": [
    "mem.active, mem.available, mem.buffers, mem.cached, mem.inactive, mem.percent, mem.shared"
   ]
  },
  {
   "cell_type": "code",
   "execution_count": 34,
   "metadata": {},
   "outputs": [
    {
     "data": {
      "text/plain": [
       "sswap(total=0, used=0, free=0, percent=0, sin=0, sout=0)"
      ]
     },
     "execution_count": 34,
     "metadata": {},
     "output_type": "execute_result"
    }
   ],
   "source": [
    "psutil.swap_memory()"
   ]
  },
  {
   "cell_type": "code",
   "execution_count": 35,
   "metadata": {},
   "outputs": [
    {
     "data": {
      "text/plain": [
       "sdiskio(read_count=131696, write_count=357000, read_bytes=2091627520, write_bytes=3918700544, read_time=716842, write_time=1438282, read_merged_count=1466, write_merged_count=233047, busy_time=294491)"
      ]
     },
     "execution_count": 35,
     "metadata": {},
     "output_type": "execute_result"
    }
   ],
   "source": [
    "psutil.disk_io_counters()"
   ]
  },
  {
   "cell_type": "code",
   "execution_count": 64,
   "metadata": {},
   "outputs": [
    {
     "data": {
      "text/plain": [
       "[sdiskpart(device='/dev/vda1', mountpoint='/', fstype='ext4', opts='rw,relatime,data=ordered')]"
      ]
     },
     "execution_count": 64,
     "metadata": {},
     "output_type": "execute_result"
    }
   ],
   "source": [
    "psutil.disk_partitions(all=False)"
   ]
  },
  {
   "cell_type": "code",
   "execution_count": 67,
   "metadata": {},
   "outputs": [
    {
     "data": {
      "text/plain": [
       "sdiskusage(total=42139451392, used=38084009984, free=1891287040, percent=95.3)"
      ]
     },
     "execution_count": 67,
     "metadata": {},
     "output_type": "execute_result"
    }
   ],
   "source": [
    "psutil.disk_usage('/')"
   ]
  },
  {
   "cell_type": "code",
   "execution_count": 54,
   "metadata": {},
   "outputs": [
    {
     "data": {
      "text/plain": [
       "{'vda': sdiskio(read_count=131699, write_count=357565, read_bytes=2091639808, write_bytes=3923292160, read_time=716904, write_time=1439065, read_merged_count=1466, write_merged_count=233542, busy_time=294719),\n",
       " 'vda1': sdiskio(read_count=131614, write_count=355625, read_bytes=2089395200, write_bytes=3923292160, read_time=716765, write_time=1439003, read_merged_count=1466, write_merged_count=233542, busy_time=298253)}"
      ]
     },
     "execution_count": 54,
     "metadata": {},
     "output_type": "execute_result"
    }
   ],
   "source": [
    "psutil.disk_io_counters(perdisk=True)"
   ]
  },
  {
   "cell_type": "code",
   "execution_count": 57,
   "metadata": {},
   "outputs": [
    {
     "data": {
      "text/plain": [
       "snetio(bytes_sent=624837959, bytes_recv=1182438413, packets_sent=1128630, packets_recv=1570086, errin=0, errout=0, dropin=0, dropout=0)"
      ]
     },
     "execution_count": 57,
     "metadata": {},
     "output_type": "execute_result"
    }
   ],
   "source": [
    "psutil.net_io_counters()  "
   ]
  },
  {
   "cell_type": "code",
   "execution_count": 58,
   "metadata": {},
   "outputs": [
    {
     "data": {
      "text/plain": [
       "{'eth0': snetio(bytes_sent=607486758, bytes_recv=1165069506, packets_sent=1114468, packets_recv=1555946, errin=0, errout=0, dropin=0, dropout=0),\n",
       " 'lo': snetio(bytes_sent=17454723, bytes_recv=17454723, packets_sent=14347, packets_recv=14347, errin=0, errout=0, dropin=0, dropout=0),\n",
       " 'virbr0-nic': snetio(bytes_sent=0, bytes_recv=0, packets_sent=0, packets_recv=0, errin=0, errout=0, dropin=0, dropout=0),\n",
       " 'virbr0': snetio(bytes_sent=0, bytes_recv=0, packets_sent=0, packets_recv=0, errin=0, errout=0, dropin=0, dropout=0)}"
      ]
     },
     "execution_count": 58,
     "metadata": {},
     "output_type": "execute_result"
    }
   ],
   "source": [
    "psutil.net_io_counters(pernic=True)     #pernic=True"
   ]
  },
  {
   "cell_type": "code",
   "execution_count": 69,
   "metadata": {},
   "outputs": [
    {
     "data": {
      "text/plain": [
       "{'lo': [snicaddr(family=<AddressFamily.AF_INET: 2>, address='127.0.0.1', netmask='255.0.0.0', broadcast=None, ptp=None),\n",
       "  snicaddr(family=<AddressFamily.AF_PACKET: 17>, address='00:00:00:00:00:00', netmask=None, broadcast=None, ptp=None)],\n",
       " 'eth0': [snicaddr(family=<AddressFamily.AF_INET: 2>, address='172.18.242.32', netmask='255.255.240.0', broadcast='172.18.255.255', ptp=None),\n",
       "  snicaddr(family=<AddressFamily.AF_PACKET: 17>, address='00:16:3e:12:30:1e', netmask=None, broadcast='ff:ff:ff:ff:ff:ff', ptp=None)],\n",
       " 'virbr0': [snicaddr(family=<AddressFamily.AF_INET: 2>, address='192.168.122.1', netmask='255.255.255.0', broadcast='192.168.122.255', ptp=None),\n",
       "  snicaddr(family=<AddressFamily.AF_PACKET: 17>, address='52:54:00:3a:61:69', netmask=None, broadcast='ff:ff:ff:ff:ff:ff', ptp=None)],\n",
       " 'virbr0-nic': [snicaddr(family=<AddressFamily.AF_PACKET: 17>, address='52:54:00:3a:61:69', netmask=None, broadcast='ff:ff:ff:ff:ff:ff', ptp=None)]}"
      ]
     },
     "execution_count": 69,
     "metadata": {},
     "output_type": "execute_result"
    }
   ],
   "source": [
    "psutil.net_if_addrs()"
   ]
  },
  {
   "cell_type": "code",
   "execution_count": 59,
   "metadata": {},
   "outputs": [
    {
     "data": {
      "text/plain": [
       "([], 1604651538.0)"
      ]
     },
     "execution_count": 59,
     "metadata": {},
     "output_type": "execute_result"
    }
   ],
   "source": [
    "psutil.users(), psutil.boot_time()\n"
   ]
  },
  {
   "cell_type": "code",
   "execution_count": 60,
   "metadata": {},
   "outputs": [
    {
     "data": {
      "text/plain": [
       "[1,\n",
       " 2,\n",
       " 4,\n",
       " 6,\n",
       " 7,\n",
       " 8,\n",
       " 9,\n",
       " 10,\n",
       " 11,\n",
       " 13,\n",
       " 14,\n",
       " 15,\n",
       " 16,\n",
       " 17,\n",
       " 18,\n",
       " 19,\n",
       " 20,\n",
       " 21,\n",
       " 22,\n",
       " 23,\n",
       " 24,\n",
       " 30,\n",
       " 31,\n",
       " 32,\n",
       " 33,\n",
       " 41,\n",
       " 43,\n",
       " 44,\n",
       " 45,\n",
       " 46,\n",
       " 59,\n",
       " 101,\n",
       " 226,\n",
       " 235,\n",
       " 236,\n",
       " 237,\n",
       " 238,\n",
       " 241,\n",
       " 247,\n",
       " 256,\n",
       " 257,\n",
       " 340,\n",
       " 351,\n",
       " 372,\n",
       " 470,\n",
       " 471,\n",
       " 473,\n",
       " 475,\n",
       " 477,\n",
       " 495,\n",
       " 496,\n",
       " 497,\n",
       " 499,\n",
       " 500,\n",
       " 501,\n",
       " 502,\n",
       " 505,\n",
       " 508,\n",
       " 510,\n",
       " 520,\n",
       " 521,\n",
       " 523,\n",
       " 524,\n",
       " 563,\n",
       " 566,\n",
       " 568,\n",
       " 808,\n",
       " 877,\n",
       " 878,\n",
       " 879,\n",
       " 889,\n",
       " 919,\n",
       " 934,\n",
       " 994,\n",
       " 1000,\n",
       " 1262,\n",
       " 1385,\n",
       " 1569,\n",
       " 1570,\n",
       " 1774,\n",
       " 1775,\n",
       " 3156,\n",
       " 5756,\n",
       " 6017,\n",
       " 6377,\n",
       " 6800,\n",
       " 6816,\n",
       " 17010,\n",
       " 17048,\n",
       " 27982,\n",
       " 28511,\n",
       " 29460,\n",
       " 29597,\n",
       " 29695,\n",
       " 30067,\n",
       " 30694,\n",
       " 30695,\n",
       " 30696]"
      ]
     },
     "execution_count": 60,
     "metadata": {},
     "output_type": "execute_result"
    }
   ],
   "source": [
    "psutil.pids()"
   ]
  },
  {
   "cell_type": "code",
   "execution_count": 68,
   "metadata": {},
   "outputs": [
    {
     "data": {
      "text/plain": [
       "(b'hello\\n', None)"
      ]
     },
     "execution_count": 68,
     "metadata": {},
     "output_type": "execute_result"
    }
   ],
   "source": [
    "p = psutil.Process(1) \n",
    "p.name()   #进程名\n",
    "p.exe()    #进程的bin路径\n",
    "p.cwd()    #进程的工作目录绝对路径\n",
    "p.status()   #进程状态\n",
    "p.create_time()  #进程创建时间\n",
    "p.uids()    #进程uid信息\n",
    "p.gids()    #进程的gid信息\n",
    "p.cpu_times()   #进程的cpu时间信息,包括user,system两个cpu信息\n",
    "p.cpu_affinity()  #get进程cpu亲和度,如果要设置cpu亲和度,将cpu号作为参考就好\n",
    "p.memory_percent()  #进程内存利用率\n",
    "p.memory_info()    #进程内存rss,vms信息\n",
    "p.io_counters()    #进程的IO信息,包括读写IO数字及参数\n",
    "p.connections()   #返回进程列表\n",
    "p.num_threads()  #进程开启的线程数\n",
    "from subprocess import PIPE\n",
    "p = psutil.Popen([\"/usr/bin/python\", \"-c\", \"print('hello')\"], stdout=PIPE)\n",
    "p.name()\n",
    "p.username()\n",
    "p.communicate()"
   ]
  },
  {
   "cell_type": "code",
   "execution_count": 80,
   "metadata": {},
   "outputs": [
    {
     "data": {
      "text/plain": [
       "psutil.Popen(pid=6448, status='terminated')"
      ]
     },
     "execution_count": 80,
     "metadata": {},
     "output_type": "execute_result"
    }
   ],
   "source": [
    "p"
   ]
  },
  {
   "cell_type": "code",
   "execution_count": null,
   "metadata": {},
   "outputs": [],
   "source": [
    "# https://www.cnblogs.com/-wenli/p/10703017.html\n",
    "# https://www.cnblogs.com/zhangxinqi/p/9106265.html"
   ]
  },
  {
   "cell_type": "code",
   "execution_count": 70,
   "metadata": {},
   "outputs": [],
   "source": [
    "import os\n"
   ]
  },
  {
   "cell_type": "code",
   "execution_count": 77,
   "metadata": {},
   "outputs": [
    {
     "data": {
      "text/plain": [
       "(1605428020.2464676, 1605428123.8353488, 1605428123.8353488, 4096)"
      ]
     },
     "execution_count": 77,
     "metadata": {},
     "output_type": "execute_result"
    }
   ],
   "source": [
    "import os\n",
    "\n",
    "path = '/root'\n",
    "\n",
    "os.path.getatime(path), os.path.getmtime(path), os.path.getctime(path), os.path.getsize(path)"
   ]
  },
  {
   "cell_type": "code",
   "execution_count": 81,
   "metadata": {},
   "outputs": [
    {
     "data": {
      "text/plain": [
       "os.stat_result(st_mode=16744, st_ino=131073, st_dev=64769, st_nlink=22, st_uid=0, st_gid=0, st_size=4096, st_atime=1605428267, st_mtime=1605428243, st_ctime=1605428243)"
      ]
     },
     "execution_count": 81,
     "metadata": {},
     "output_type": "execute_result"
    }
   ],
   "source": [
    "os.stat(path)\n",
    "\n",
    "# st_mode: inode 保护模式\n",
    "# st_ino: inode 节点号。\n",
    "# st_dev: inode 驻留的设备。\n",
    "# st_nlink: inode 的链接数。\n",
    "    \n",
    "# st_uid: 所有者的用户ID。\n",
    "# st_gid: 所有者的组ID。\n",
    "    \n",
    "# st_size: 普通文件以字节为单位的大小；包含等待某些特殊文件的数据。\n",
    "    \n",
    "# st_atime: 上次访问的时间。\n",
    "# st_mtime: 最后一次修改的时间。\n",
    "# st_ctime: 在某些系统上（如Unix）是最新的元数据更改的时间，在其它系统上（如Windows）是创建时间（详细信息参见平台的文档）。"
   ]
  },
  {
   "cell_type": "code",
   "execution_count": 82,
   "metadata": {},
   "outputs": [
    {
     "data": {
      "text/plain": [
       "os.statvfs_result(f_bsize=4096, f_frsize=4096, f_blocks=10287952, f_bfree=989879, f_bavail=461521, f_files=2621440, f_ffree=2095616, f_favail=2095616, f_flag=4096, f_namemax=255)"
      ]
     },
     "execution_count": 82,
     "metadata": {},
     "output_type": "execute_result"
    }
   ],
   "source": [
    "os.statvfs(path)\n",
    "\n",
    "# f_bsize: 文件系统块大小\n",
    "# f_frsize: 分栈大小  \n",
    "# f_blocks: 文件系统数据块总数\n",
    "# f_bfree: 可用块数\n",
    "# f_bavail:非超级用户可获取的块数\n",
    "    \n",
    "# f_files: 文件结点总数\n",
    "# f_ffree: 可用文件结点数\n",
    "# f_favail: 非超级用户的可用文件结点数\n",
    "    \n",
    "# f_fsid: 文件系统标识 ID\n",
    "# f_flag: 挂载标记\n",
    "# f_namemax: 最大文件长度"
   ]
  },
  {
   "cell_type": "code",
   "execution_count": 86,
   "metadata": {},
   "outputs": [
    {
     "data": {
      "text/plain": [
       "0.09621584548605981"
      ]
     },
     "execution_count": 86,
     "metadata": {},
     "output_type": "execute_result"
    }
   ],
   "source": [
    "os.statvfs(path).f_bavail/os.statvfs(path).f_blocks\n",
    "os.statvfs(path).f_bfree/os.statvfs(path).f_blocks"
   ]
  },
  {
   "cell_type": "code",
   "execution_count": 87,
   "metadata": {},
   "outputs": [],
   "source": [
    "import subprocess\n"
   ]
  },
  {
   "cell_type": "code",
   "execution_count": 102,
   "metadata": {},
   "outputs": [
    {
     "name": "stdout",
     "output_type": "stream",
     "text": [
      "['anaconda3', 'dataway-python-sdk-nodep', 'df0122.ipynb', 'df0301.ipynb', 'df0322.ipynb', 'elastic', 'elasticsearch-7.9.3-linux-x86_64.tar.gz', 'environment.yaml', 'imgurls', 'jupyter.log', 'nohup.out', 'pip_requirements.txt', 'practice', 'psutil_and_os.ipynb', 'Python类之上下文管理协议.ipynb', 'SQLAlchemy', 'Object', 'Relational', 'Tutorial.ipynb', 'supervisor', 'test.py', 'tmp', 'xinguan', 'ystemctl', 'list-unit-files']\n"
     ]
    }
   ],
   "source": [
    "x = subprocess.run(['ls'], stdout=subprocess.PIPE,stderr=subprocess.STDOUT)\n",
    "\n",
    "\n",
    "print(x.stdout.decode().split())\n",
    "# args：表示要执行的命令。必须是一个字符串，字符串参数列表。\n",
    "\n",
    "# stdin、stdout和stderr：子进程的标准输入、输出和错误。其值可以是subprocess.PIPE、subprocess.DEVNULL、一个已经存在的文件描述符、已经打开的文件对象或者None。subprocess.PIPE表示为子进程创建新的管道。subprocess.DEVNULL表示使用os.devnull。默认使用的是None，表示什么都不做。另外，stderr可以合并到stdout里一起输出。\n",
    "\n",
    "# timeout：设置命令超时时间。如果命令执行时间超时，子进程将被杀死，并弹出TimeoutExpired异常。\n",
    "\n",
    "# check：如果该参数设置为True，并且进程退出状态码不是0，则弹出CalledProcessError异常。\n",
    "\n",
    "# encoding:如果指定了该参数，则stdin、stdout和stderr可以接收字符串数据，并以该编码方式编码。否则只接收bytes类型的数据。\n",
    "\n",
    "# shell：如果该参数为True，将通过操作系统的shell执行指定的命令。\n",
    "\n",
    "\n",
    "# https://www.liujiangblog.com/course/python/55"
   ]
  },
  {
   "cell_type": "code",
   "execution_count": 105,
   "metadata": {},
   "outputs": [],
   "source": [
    "x = subprocess.run(['ld'])\n",
    "\n",
    "# args 启动进程的参数，通常是个列表或字符串。\n",
    "\n",
    "# returncode 进程结束状态返回码。0表示成功状态。\n",
    "\n",
    "# stdout 获取子进程的stdout。通常为bytes类型序列，None表示没有捕获值。如果你在调用run()方法时，设置了参数stderr=subprocess.STDOUT，则错误信息会和stdout一起输出，此时stderr的值是None。\n",
    "\n",
    "# stderr 获取子进程的错误信息。通常为bytes类型序列，None表示没有捕获值。\n",
    "\n",
    "# check_returncode() 用于检查返回码。如果返回状态码不为零，弹出CalledProcessError异常。\n",
    "\n",
    "# subprocess.DEVNULL\n",
    "# 一个特殊值，用于传递给stdout、stdin和stderr参数。表示使用os.devnull作为参数值。\n",
    "\n",
    "# subprocess.PIPE\n",
    "# 管道，可传递给stdout、stdin和stderr参数。\n",
    "\n",
    "# subprocess.STDOUT\n",
    "# 特殊值，可传递给stderr参数，表示stdout和stderr合并输出。"
   ]
  },
  {
   "cell_type": "code",
   "execution_count": 107,
   "metadata": {},
   "outputs": [],
   "source": []
  },
  {
   "cell_type": "code",
   "execution_count": null,
   "metadata": {},
   "outputs": [],
   "source": []
  }
 ],
 "metadata": {
  "kernelspec": {
   "display_name": "Python 3",
   "language": "python",
   "name": "python3"
  },
  "language_info": {
   "codemirror_mode": {
    "name": "ipython",
    "version": 3
   },
   "file_extension": ".py",
   "mimetype": "text/x-python",
   "name": "python",
   "nbconvert_exporter": "python",
   "pygments_lexer": "ipython3",
   "version": "3.7.7"
  },
  "latex_envs": {
   "LaTeX_envs_menu_present": true,
   "autoclose": false,
   "autocomplete": true,
   "bibliofile": "biblio.bib",
   "cite_by": "apalike",
   "current_citInitial": 1,
   "eqLabelWithNumbers": true,
   "eqNumInitial": 1,
   "hotkeys": {
    "equation": "Ctrl-E",
    "itemize": "Ctrl-I"
   },
   "labels_anchors": false,
   "latex_user_defs": false,
   "report_style_numbering": false,
   "user_envs_cfg": false
  },
  "toc": {
   "base_numbering": 1,
   "nav_menu": {},
   "number_sections": true,
   "sideBar": true,
   "skip_h1_title": false,
   "title_cell": "Table of Contents",
   "title_sidebar": "Contents",
   "toc_cell": false,
   "toc_position": {},
   "toc_section_display": true,
   "toc_window_display": false
  },
  "varInspector": {
   "cols": {
    "lenName": 16,
    "lenType": 16,
    "lenVar": 40
   },
   "kernels_config": {
    "python": {
     "delete_cmd_postfix": "",
     "delete_cmd_prefix": "del ",
     "library": "var_list.py",
     "varRefreshCmd": "print(var_dic_list())"
    },
    "r": {
     "delete_cmd_postfix": ") ",
     "delete_cmd_prefix": "rm(",
     "library": "var_list.r",
     "varRefreshCmd": "cat(var_dic_list()) "
    }
   },
   "types_to_exclude": [
    "module",
    "function",
    "builtin_function_or_method",
    "instance",
    "_Feature"
   ],
   "window_display": false
  }
 },
 "nbformat": 4,
 "nbformat_minor": 2
}
