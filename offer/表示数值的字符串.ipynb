{
 "cells": [
  {
   "cell_type": "markdown",
   "metadata": {},
   "source": []
  },
  {
   "cell_type": "markdown",
   "metadata": {},
   "source": []
  },
  {
   "cell_type": "code",
   "execution_count": 72,
   "metadata": {},
   "outputs": [
    {
     "data": {
      "text/plain": [
       "10.0"
      ]
     },
     "execution_count": 72,
     "metadata": {},
     "output_type": "execute_result"
    }
   ],
   "source": [
    "# 0\n",
    "float('|-123.342e+10'.replace('|', ''))  # sign 2 完整的首为sign\n",
    "float('|123.342e+10'.replace('|', ''))  # digit 3 完整的首为digit\n",
    "float('|.342e+10'.replace('|', ''))  # dot 4 完整的首为dot\n",
    "float('|342e+10'.replace('|', ''))  # digit 3 完整的首为digit\n",
    "# float('|e+10'.replace('|', ''))  # e 完整的首为e\n",
    "float('|+10'.replace('|', ''))  # sign 2 完整的首为sign\n",
    "float('|10'.replace('|', ''))  # digit 3 完整的首为digit\n",
    "# float('|'.replace('|', ''))  # dump 0"
   ]
  },
  {
   "cell_type": "code",
   "execution_count": 73,
   "metadata": {},
   "outputs": [
    {
     "data": {
      "text/plain": [
       "0.1"
      ]
     },
     "execution_count": 73,
     "metadata": {},
     "output_type": "execute_result"
    }
   ],
   "source": [
    "# 2\n",
    "float('-|123.342e+10'.replace('|', ''))  # sign digit 5 完整的首为sigin\n",
    "float('-|.342e+10'.replace('|', ''))  # sign dot 6\n",
    "float('-|342e+10'.replace('|', ''))  # sign digit 5\n",
    "# float('-|e+10'.replace('|', ''))  # sign e\n",
    "# float('-|+10'.replace('|', ''))  # sign sign\n",
    "float('-|10'.replace('|', ''))  # sign digit 5\n",
    "# float('-|'.replace('|', ''))  # sign dump 0 \n",
    "\n",
    "# 3\n",
    "float('123|.342e+10'.replace('|', ''))  # digit dot 7 完整的首为digit\n",
    "float('123|342e+10'.replace('|', ''))  # digit dight 3\n",
    "float('123|e+10'.replace('|', ''))  # digit e 8\n",
    "# float('123|+10'.replace('|', ''))  # dight sign\n",
    "float('123|10'.replace('|', ''))  # digit digit 3\n",
    "float('123|'.replace('|', ''))  # digit dump 1可行的决策为以上未被注释的\n",
    "\n",
    "# 4\n",
    "float('.|342e+10'.replace('|', ''))  # dot digit 9 完整的首为dot\n",
    "# float('.|e+10'.replace('|', ''))  # dot e\n",
    "# float('.|+10'.replace('|', ''))  # dot sign \n",
    "float('.|10'.replace('|', ''))  # dot digit 9\n",
    "# float('.|'.replace('|', ''))  # dot dump 0"
   ]
  },
  {
   "cell_type": "code",
   "execution_count": 74,
   "metadata": {},
   "outputs": [
    {
     "data": {
      "text/plain": [
       "0.342"
      ]
     },
     "execution_count": 74,
     "metadata": {},
     "output_type": "execute_result"
    }
   ],
   "source": [
    "# 5\n",
    "float('-123|.342e+10'.replace('|', ''))  # sign digit dot 10 完整的首为sigin digit\n",
    "float('-123|342e+10'.replace('|', ''))  # sign digit digit 5\n",
    "float('-123|e+10'.replace('|', ''))  # sign digit e 11\n",
    "# float('-123|+10'.replace('|', ''))  # sign digit sign\n",
    "float('-123|10'.replace('|', ''))  # sign digit digit 5\n",
    "float('-123|'.replace('|', ''))  # sign digit dump 1\n",
    "\n",
    "# 7\n",
    "float('123.|342e+10'.replace('|', ''))  # digit dot digit 12 完整的首为digit dot\n",
    "float('123.|e+10'.replace('|', ''))  # digit dot e 13\n",
    "# float('123.|+10'.replace('|', ''))  # digit dot sign \n",
    "float('123.|10'.replace('|', ''))  # digit dot digit 12\n",
    "float('123.|'.replace('|', ''))  # digit dot dump 1\n",
    "\n",
    "# 9\n",
    "float('.342|e+10'.replace('|', ''))  # dot digit e 14 完整的首为dot digit\n",
    "# float('.342|+10'.replace('|', ''))  # dot digit sign \n",
    "float('.342|10'.replace('|', ''))  # dot digit digit 9\n",
    "float('.342|'.replace('|', ''))  # dot digit dump 1\n",
    "\n"
   ]
  },
  {
   "cell_type": "code",
   "execution_count": 75,
   "metadata": {},
   "outputs": [
    {
     "data": {
      "text/plain": [
       "3420000000.0"
      ]
     },
     "execution_count": 75,
     "metadata": {},
     "output_type": "execute_result"
    }
   ],
   "source": [
    "# 10\n",
    "float('-123.|342e+10'.replace('|', ''))  # sign digit dot digit 15 完整的首为sigin digit dot\n",
    "float('-123.|e+10'.replace('|', ''))  # sign digit dot e 16\n",
    "# float('-123.|+10'.replace('|', ''))  # sign digit dot sign\n",
    "float('-123.|10'.replace('|', ''))  # sign digit dot digit 15\n",
    "float('-123.|'.replace('|', ''))  # sign digit dot 1 \n",
    "\n",
    "# 12\n",
    "float('123.342|e+10'.replace('|', ''))  # digit dot digit e 17 完整的首为digit dot digit\n",
    "# float('123.342|+10'.replace('|', ''))  # digit dot digit sign\n",
    "float('123.342|10'.replace('|', ''))  # digit dot digit digit 12\n",
    "float('123.342|'.replace('|', ''))  # digit dot digit dump 1\n",
    "\n",
    "# 15\n",
    "float('.342e|+10'.replace('|', ''))  # dot digit e sign 19 完整的首为dot digit e\n",
    "float('.342e|10'.replace('|', ''))  # dot digit e digit 20\n",
    "# float('.342e|'.replace('|', ''))  # dot digit e dump 0\n",
    "\n"
   ]
  },
  {
   "cell_type": "code",
   "execution_count": 76,
   "metadata": {},
   "outputs": [
    {
     "data": {
      "text/plain": [
       "3420000000.0"
      ]
     },
     "execution_count": 76,
     "metadata": {},
     "output_type": "execute_result"
    }
   ],
   "source": [
    "# 16\n",
    "float('-123.342|e+10'.replace('|', ''))  # sign digit dot digit e 21 完整的首为sigin digit dot digit\n",
    "# float('-123.342|+10'.replace('|', ''))  # sign digit dot digit sign \n",
    "float('-123.342|10'.replace('|', ''))  # sign digit dot digit digit 22\n",
    "float('-123.342|'.replace('|', ''))  # sign digit dot digit dump 1\n",
    "\n",
    "# 18\n",
    "float('123.342e|+10'.replace('|', ''))  # digit dot digit e sign 23 完整的首为digit dot digit e\n",
    "float('-123.342|10'.replace('|', ''))  # sign digit dot digit digit 16\n",
    "float('-123.342|'.replace('|', ''))  # sign digit dot digit dump 1\n",
    "\n",
    "# 19\n",
    "float('.342e+|10'.replace('|', ''))  # dot digit e sign digit 24 完整的首为dot digit e\n",
    "# float('.342e+|'.replace('|', ''))  # dot digit e sign dump"
   ]
  },
  {
   "cell_type": "code",
   "execution_count": 77,
   "metadata": {},
   "outputs": [
    {
     "data": {
      "text/plain": [
       "3420000000.0"
      ]
     },
     "execution_count": 77,
     "metadata": {},
     "output_type": "execute_result"
    }
   ],
   "source": [
    "# 21\n",
    "float('-123.342e|+10'.replace('|', ''))  # sign digit dot digit e sign 25 完整的首为sigin digit dot digit e\n",
    "float('-123.342e|10'.replace('|', ''))  # sign digit dot digit e digit 26\n",
    "float('-123.342e|10'.replace('|', ''))  # sign digit dot digit e dump 1\n",
    "\n",
    "# 23\n",
    "float('123.342e+|10'.replace('|', ''))  # digit dot digit e sign digit 27 完整的首为digit dot digit e sign\n",
    "# float('123.342e+|'.replace('|', ''))  # digit dot digit e sign dump 0\n",
    "\n",
    "# 24\n",
    "float('.342e+10|'.replace('|', ''))  # dot digit e sign digit dump 1"
   ]
  },
  {
   "cell_type": "code",
   "execution_count": 78,
   "metadata": {},
   "outputs": [
    {
     "data": {
      "text/plain": [
       "1233420000000.0"
      ]
     },
     "execution_count": 78,
     "metadata": {},
     "output_type": "execute_result"
    }
   ],
   "source": [
    "# 25\n",
    "float('-123.342e+|10'.replace('|', ''))  # sign digit dot digit e sign digit 28 完整的首为sign digit dot digit e sign\n",
    "# float('-123.342e+|'.replace('|', ''))  # sign digit dot digit e sign dump 0\n",
    "\n",
    "# 27\n",
    "float('123.342e+10|'.replace('|', ''))  # digit dot digit e sign digit dump 1"
   ]
  },
  {
   "cell_type": "code",
   "execution_count": 79,
   "metadata": {},
   "outputs": [
    {
     "data": {
      "text/plain": [
       "-1233420000000.0"
      ]
     },
     "execution_count": 79,
     "metadata": {},
     "output_type": "execute_result"
    }
   ],
   "source": [
    "# 28\n",
    "float('-123.342e+10|'.replace('|', ''))  \n",
    "# sign digit dot digit e sign digit dump 1 \n",
    "# 完整的首为sign digit dot digit e sign digit \n"
   ]
  },
  {
   "cell_type": "code",
   "execution_count": 81,
   "metadata": {},
   "outputs": [
    {
     "data": {
      "text/plain": [
       "0.34234"
      ]
     },
     "execution_count": 81,
     "metadata": {},
     "output_type": "execute_result"
    }
   ],
   "source": [
    "# 为了精简可以合并等价的状态\n",
    "# sign digit和digit可以合并成整数状态\n",
    "# .digit和digit.可以合并成小数状态\n",
    "# sign 小数和小数可以合并成小数状态\n",
    "\n",
    "# 开始的状态位不妨为-1\n",
    "# 结束的状态位不妨为0"
   ]
  },
  {
   "cell_type": "markdown",
   "metadata": {},
   "source": [
    "![](./static/trans_graph.png)\n"
   ]
  },
  {
   "cell_type": "markdown",
   "metadata": {},
   "source": [
    "![](./static/trans_graph_intro.png)\n"
   ]
  },
  {
   "cell_type": "markdown",
   "metadata": {},
   "source": [
    "![](./static/trans_table.png)"
   ]
  },
  {
   "cell_type": "code",
   "execution_count": 156,
   "metadata": {},
   "outputs": [
    {
     "name": "stdout",
     "output_type": "stream",
     "text": [
      "-39.0e+2583\n",
      "['+', '8', '.', '27595', 'e', '+', '25']\n"
     ]
    }
   ],
   "source": [
    "import random\n",
    "random.choice([1,2,3])\n",
    "\n",
    "def generate_example(pattern):\n",
    "    example = []\n",
    "    for part_pattern in pattern:\n",
    "        tmp = strategy[part_pattern]\n",
    "        if isinstance(tmp, list):\n",
    "            example.append(random.choice(tmp))\n",
    "        else:\n",
    "            example.append(\n",
    "                generate_example(\n",
    "                    random.choice([ candidate.split(',') for candidate in tmp.split(';')])\n",
    "                )\n",
    "            )\n",
    "    return ''.join(example)\n",
    "\n",
    "complete_pattern = ['sign', 'number', 'dot', 'number', 'e', 'sign', 'number']\n",
    "strategy = {\n",
    "    'sign': ['+', '-'], \n",
    "    'digit': [str(i) for i in range(10)], \n",
    "    'number':'digit+',\n",
    "    'digit+':'digit,digit+;digit',\n",
    "    'dot': ['.'], \n",
    "    'e': ['e']\n",
    "}\n",
    "\n",
    "complete_example = generate_example(complete_pattern)   \n",
    "complete_pattern_example = [generate_example([part]) for part in complete_pattern]\n",
    "print(complete_example)\n",
    "print(complete_pattern_example)\n",
    "\n"
   ]
  },
  {
   "cell_type": "code",
   "execution_count": 187,
   "metadata": {},
   "outputs": [
    {
     "name": "stdout",
     "output_type": "stream",
     "text": [
      "0 1\n",
      "2\n",
      "2 1\n",
      "2\n",
      "2 2\n",
      "5\n",
      "5 3\n",
      "4\n",
      "4 1\n",
      "7\n"
     ]
    },
    {
     "data": {
      "text/plain": [
       "True"
      ]
     },
     "execution_count": 187,
     "metadata": {},
     "output_type": "execute_result"
    }
   ],
   "source": [
    "sign = ['-', '+']\n",
    "digit = [str(i) for i in range(10)]\n",
    "dot = '.'\n",
    "e = 'e'\n",
    "chars = [sign, digit, dot, e]\n",
    "\n",
    "\n",
    "s = generate_example(complete_pattern) \n",
    "\n",
    "\n",
    "class Solution:\n",
    "    def isNumber(self, s: str) -> bool:\n",
    "        if not s:return False\n",
    "        \n",
    "        trans_table = [\n",
    "            [1,2,3,-1],\n",
    "            [-1,2,3,-1],\n",
    "            [-1,2,5,4],\n",
    "            [-1,5,-1,-1],\n",
    "            [6,7,-1,-1],\n",
    "            [-1,5,-1,4],\n",
    "            [-1,7,-1,-1],\n",
    "            [-1,7,-1,-1],\n",
    "        ]\n",
    "        ends = set([2, 5, 7])\n",
    "        \n",
    "        def char_index(char):\n",
    "            if char == '+' or char == '-':\n",
    "                return 0\n",
    "            if char == '.':\n",
    "                return 2\n",
    "            if char == 'e':\n",
    "                return 3\n",
    "            if char in ['0', '1', '2', '3', '4', '5', '6', '7', '8', '9']:\n",
    "                return 1\n",
    "            return -1\n",
    "        \n",
    "        status = 0\n",
    "        s = s.strip()\n",
    "        for char in list(s):\n",
    "            ichar = char_index(char)\n",
    "            print(status, ichar)\n",
    "            if ichar == -1:\n",
    "                return False\n",
    "            status = trans_table[status][ichar]\n",
    "            print(status)\n",
    "            if status == -1:\n",
    "                return False\n",
    "        if status in ends:\n",
    "            return True\n",
    "        return False\n",
    "\n",
    "s = Solution()\n",
    "# s.isNumber('e 9')\n",
    "# s.isNumber(' 1 ')\n",
    "# s.isNumber('.1')\n",
    "# s.isNumber('.e1')\n",
    "s.isNumber('46.e3')\n"
   ]
  },
  {
   "cell_type": "code",
   "execution_count": 161,
   "metadata": {},
   "outputs": [
    {
     "data": {
      "text/plain": [
       "['0', '1', '2', '3', '4', '5', '6', '7', '8', '9']"
      ]
     },
     "execution_count": 161,
     "metadata": {},
     "output_type": "execute_result"
    }
   ],
   "source": [
    "[str(i) for i in range(10)]\n"
   ]
  },
  {
   "cell_type": "code",
   "execution_count": null,
   "metadata": {},
   "outputs": [],
   "source": []
  }
 ],
 "metadata": {
  "kernelspec": {
   "display_name": "Python 3",
   "language": "python",
   "name": "python3"
  },
  "language_info": {
   "codemirror_mode": {
    "name": "ipython",
    "version": 3
   },
   "file_extension": ".py",
   "mimetype": "text/x-python",
   "name": "python",
   "nbconvert_exporter": "python",
   "pygments_lexer": "ipython3",
   "version": "3.7.1"
  },
  "latex_envs": {
   "LaTeX_envs_menu_present": true,
   "autoclose": false,
   "autocomplete": true,
   "bibliofile": "biblio.bib",
   "cite_by": "apalike",
   "current_citInitial": 1,
   "eqLabelWithNumbers": true,
   "eqNumInitial": 1,
   "hotkeys": {
    "equation": "Ctrl-E",
    "itemize": "Ctrl-I"
   },
   "labels_anchors": false,
   "latex_user_defs": false,
   "report_style_numbering": false,
   "user_envs_cfg": false
  },
  "toc": {
   "base_numbering": 1,
   "nav_menu": {},
   "number_sections": true,
   "sideBar": true,
   "skip_h1_title": false,
   "title_cell": "Table of Contents",
   "title_sidebar": "Contents",
   "toc_cell": false,
   "toc_position": {},
   "toc_section_display": true,
   "toc_window_display": false
  },
  "varInspector": {
   "cols": {
    "lenName": 16,
    "lenType": 16,
    "lenVar": 40
   },
   "kernels_config": {
    "python": {
     "delete_cmd_postfix": "",
     "delete_cmd_prefix": "del ",
     "library": "var_list.py",
     "varRefreshCmd": "print(var_dic_list())"
    },
    "r": {
     "delete_cmd_postfix": ") ",
     "delete_cmd_prefix": "rm(",
     "library": "var_list.r",
     "varRefreshCmd": "cat(var_dic_list()) "
    }
   },
   "types_to_exclude": [
    "module",
    "function",
    "builtin_function_or_method",
    "instance",
    "_Feature"
   ],
   "window_display": false
  }
 },
 "nbformat": 4,
 "nbformat_minor": 2
}
