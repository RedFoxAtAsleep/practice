{
 "cells": [
  {
   "cell_type": "code",
   "execution_count": 2,
   "metadata": {
    "ExecuteTime": {
     "end_time": "2020-06-09T07:23:28.633329Z",
     "start_time": "2020-06-09T07:23:28.613805Z"
    }
   },
   "outputs": [
    {
     "data": {
      "text/plain": [
       "'g'"
      ]
     },
     "execution_count": 2,
     "metadata": {},
     "output_type": "execute_result"
    }
   ],
   "source": [
    "# 无序哈希表，遍历两次字符串（字符串顺序）\n",
    "# 有序哈希表，遍历一次字符串\n",
    "# 3.6后字典默认有序\n",
    "from collections import OrderedDict\n",
    "class Solution:\n",
    "    def firstUniqChar(self, s: str) -> str:\n",
    "        d = OrderedDict()\n",
    "        for char in s:\n",
    "            if char not in d:\n",
    "                d[char] = True\n",
    "            else:\n",
    "                d[char] = False\n",
    "        for k,v in d.items():\n",
    "            if v:\n",
    "                return k\n",
    "        \n",
    "s = Solution()\n",
    "s.firstUniqChar(\"ssfgdafd\"), s.firstUniqChar(\"\"), s.firstUniqChar(\"cc\") "
   ]
  },
  {
   "cell_type": "code",
   "execution_count": 5,
   "metadata": {
    "ExecuteTime": {
     "end_time": "2020-06-09T07:29:34.664610Z",
     "start_time": "2020-06-09T07:29:34.641124Z"
    }
   },
   "outputs": [
    {
     "data": {
      "text/plain": [
       "('g', ' ', ' ')"
      ]
     },
     "execution_count": 5,
     "metadata": {},
     "output_type": "execute_result"
    }
   ],
   "source": [
    "class Solution:\n",
    "    def firstUniqChar(self, s: str) -> str:\n",
    "        d = {}\n",
    "        for char in s:\n",
    "            if char not in d:\n",
    "                d[char] = True\n",
    "            else:\n",
    "                d[char] = False\n",
    "        for char in s:\n",
    "            if d[char]:\n",
    "                return char\n",
    "        return \" \"\n",
    "s = Solution()\n",
    "s.firstUniqChar(\"ssfgdafd\"), s.firstUniqChar(\"\"), s.firstUniqChar(\"cc\")      "
   ]
  },
  {
   "cell_type": "code",
   "execution_count": null,
   "metadata": {},
   "outputs": [],
   "source": []
  }
 ],
 "metadata": {
  "kernelspec": {
   "display_name": "conda_env_ai",
   "language": "python",
   "name": "conda_env_ai"
  },
  "language_info": {
   "codemirror_mode": {
    "name": "ipython",
    "version": 3
   },
   "file_extension": ".py",
   "mimetype": "text/x-python",
   "name": "python",
   "nbconvert_exporter": "python",
   "pygments_lexer": "ipython3",
   "version": "3.6.8"
  }
 },
 "nbformat": 4,
 "nbformat_minor": 2
}
