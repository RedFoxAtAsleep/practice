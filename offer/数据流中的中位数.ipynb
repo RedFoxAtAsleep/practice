{
 "cells": [
  {
   "cell_type": "code",
   "execution_count": 1,
   "metadata": {
    "ExecuteTime": {
     "end_time": "2020-06-08T07:45:00.013033Z",
     "start_time": "2020-06-08T07:44:59.990350Z"
    }
   },
   "outputs": [],
   "source": [
    "# 堆\n",
    "\n",
    "import heapq\n",
    "class MedianFinder:\n",
    "\n",
    "    def __init__(self):\n",
    "        \"\"\"\n",
    "        initialize your data structure here.\n",
    "        \"\"\"\n",
    "        self.V = []  # 大的数保存在小根堆中\n",
    "        self.A = []  # 小的数保存在大根堆中\n",
    "\n",
    "\n",
    "    def addNum(self, num: int) -> None:\n",
    "        # 令小根堆大小为m，大根堆大小为n\n",
    "        # m = n+1 or m = n\n",
    "        if len(self.V) == len(self.A):\n",
    "            # 挑出新加入的数和大根堆中的数最大的数放入小跟堆中\n",
    "            heapq.heappush(self.V, -heapq.heappushpop(self.A, -num))\n",
    "        else:\n",
    "            # 挑出新加入的数和大根堆中的数最大的数放入小跟堆中\n",
    "            heapq.heappush(self.A, -heapq.heappushpop(self.V, num))\n",
    "\n",
    "            \n",
    "    def findMedian(self) -> float:\n",
    "        return (-self.A[0] + self.V[0])/2 if len(self.A) == len(self.V) else self.V[0]\n",
    "    \n",
    "\n"
   ]
  },
  {
   "cell_type": "code",
   "execution_count": 5,
   "metadata": {},
   "outputs": [],
   "source": [
    "from bisect import insort\n",
    "\n",
    "class MedianFinder:\n",
    "\n",
    "    def __init__(self):\n",
    "        \"\"\"\n",
    "        initialize your data structure here.\n",
    "        \"\"\"\n",
    "        self.nums = []\n",
    "\n",
    "    # 排序总是在addNum时进行，若在findMedian时执行，会排序操作冗余\n",
    "    def addNum(self, num: int) -> None:\n",
    "        insort(self.nums, num)\n",
    "        \n",
    "            \n",
    "    def findMedian(self) -> float:\n",
    "        n = len(self.nums)\n",
    "        right = n // 2\n",
    "        left = right - ((n+1)%2)\n",
    "        return (self.nums[right]+self.nums[left])*0.5\n",
    "    "
   ]
  },
  {
   "cell_type": "code",
   "execution_count": 1,
   "metadata": {},
   "outputs": [],
   "source": []
  },
  {
   "cell_type": "code",
   "execution_count": 2,
   "metadata": {},
   "outputs": [],
   "source": []
  },
  {
   "cell_type": "code",
   "execution_count": null,
   "metadata": {},
   "outputs": [],
   "source": []
  },
  {
   "cell_type": "code",
   "execution_count": null,
   "metadata": {},
   "outputs": [],
   "source": []
  }
 ],
 "metadata": {
  "kernelspec": {
   "display_name": "Python 3",
   "language": "python",
   "name": "python3"
  },
  "language_info": {
   "codemirror_mode": {
    "name": "ipython",
    "version": 3
   },
   "file_extension": ".py",
   "mimetype": "text/x-python",
   "name": "python",
   "nbconvert_exporter": "python",
   "pygments_lexer": "ipython3",
   "version": "3.7.7"
  },
  "latex_envs": {
   "LaTeX_envs_menu_present": true,
   "autoclose": false,
   "autocomplete": true,
   "bibliofile": "biblio.bib",
   "cite_by": "apalike",
   "current_citInitial": 1,
   "eqLabelWithNumbers": true,
   "eqNumInitial": 1,
   "hotkeys": {
    "equation": "Ctrl-E",
    "itemize": "Ctrl-I"
   },
   "labels_anchors": false,
   "latex_user_defs": false,
   "report_style_numbering": false,
   "user_envs_cfg": false
  },
  "toc": {
   "base_numbering": 1,
   "nav_menu": {},
   "number_sections": true,
   "sideBar": true,
   "skip_h1_title": false,
   "title_cell": "Table of Contents",
   "title_sidebar": "Contents",
   "toc_cell": false,
   "toc_position": {},
   "toc_section_display": true,
   "toc_window_display": false
  },
  "varInspector": {
   "cols": {
    "lenName": 16,
    "lenType": 16,
    "lenVar": 40
   },
   "kernels_config": {
    "python": {
     "delete_cmd_postfix": "",
     "delete_cmd_prefix": "del ",
     "library": "var_list.py",
     "varRefreshCmd": "print(var_dic_list())"
    },
    "r": {
     "delete_cmd_postfix": ") ",
     "delete_cmd_prefix": "rm(",
     "library": "var_list.r",
     "varRefreshCmd": "cat(var_dic_list()) "
    }
   },
   "types_to_exclude": [
    "module",
    "function",
    "builtin_function_or_method",
    "instance",
    "_Feature"
   ],
   "window_display": false
  }
 },
 "nbformat": 4,
 "nbformat_minor": 2
}
