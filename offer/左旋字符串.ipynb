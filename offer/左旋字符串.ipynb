{
 "cells": [
  {
   "cell_type": "code",
   "execution_count": 28,
   "metadata": {
    "ExecuteTime": {
     "end_time": "2020-06-13T16:52:44.771097Z",
     "start_time": "2020-06-13T16:52:44.757333Z"
    }
   },
   "outputs": [
    {
     "data": {
      "text/plain": [
       "'umghlrlose'"
      ]
     },
     "execution_count": 28,
     "metadata": {},
     "output_type": "execute_result"
    }
   ],
   "source": [
    "class Solution:\n",
    "    def reverseLeftWords(self, s: str, n: int) -> str:\n",
    "        for i in range(n):\n",
    "            s = s[1:] + s[:1]\n",
    "        return s\n",
    "\n",
    "s = Solution()\n",
    "s.reverseLeftWords(\"lrloseumgh\", 6)\n"
   ]
  },
  {
   "cell_type": "code",
   "execution_count": 29,
   "metadata": {
    "ExecuteTime": {
     "end_time": "2020-06-13T16:53:06.802104Z",
     "start_time": "2020-06-13T16:53:06.796535Z"
    }
   },
   "outputs": [],
   "source": [
    "class Solution:\n",
    "    def reverseLeftWords(self, s: str, n: int) -> str:\n",
    "        n = n % len(m)\n",
    "        return s[n:]+s[:n]"
   ]
  },
  {
   "cell_type": "code",
   "execution_count": 25,
   "metadata": {
    "ExecuteTime": {
     "end_time": "2020-06-13T16:50:00.065503Z",
     "start_time": "2020-06-13T16:50:00.057302Z"
    }
   },
   "outputs": [
    {
     "name": "stdout",
     "output_type": "stream",
     "text": [
      "umghlrlose umghlrlose umghlrlose\n"
     ]
    }
   ],
   "source": [
    "class Solution:\n",
    "    def reverseLeftWords(self, s: str, n: int) -> str:\n",
    "        s = list(s)\n",
    "        m = len(s)\n",
    "        tmp = []\n",
    "        i = 0\n",
    "        while i < n:\n",
    "            tmp.append(s.pop(0))\n",
    "            if  i % m == m-1:\n",
    "                s = tmp\n",
    "                tmp = []\n",
    "            i += 1\n",
    "        return \"\".join(s+tmp)\n",
    "x = \"lrloseumgh\"\n",
    "s = Solution()\n",
    "print(\n",
    "    s.reverseLeftWords(x, 6),\n",
    "    s.reverseLeftWords(x, len(x)+6),\n",
    "    s.reverseLeftWords(x, len(x)*100+6),\n",
    ")\n"
   ]
  },
  {
   "cell_type": "code",
   "execution_count": 27,
   "metadata": {
    "ExecuteTime": {
     "end_time": "2020-06-13T16:51:09.671370Z",
     "start_time": "2020-06-13T16:51:09.662590Z"
    }
   },
   "outputs": [
    {
     "name": "stdout",
     "output_type": "stream",
     "text": [
      "umghlrlose umghlrlose umghlrlose\n"
     ]
    }
   ],
   "source": [
    "class Solution:\n",
    "    def reverseLeftWords(self, s: str, n: int) -> str:\n",
    "        s = list(s)\n",
    "        m = len(s)\n",
    "        n = n % m\n",
    "        tmp = []\n",
    "        i = 0\n",
    "        for i in range(n):\n",
    "            tmp.append(s.pop(0))\n",
    "        return \"\".join(s+tmp)\n",
    "x = \"lrloseumgh\"\n",
    "s = Solution()\n",
    "print(\n",
    "    s.reverseLeftWords(x, 6),\n",
    "    s.reverseLeftWords(x, len(x)+6),\n",
    "    s.reverseLeftWords(x, len(x)*100+6),\n",
    ")\n",
    "\n"
   ]
  },
  {
   "cell_type": "code",
   "execution_count": null,
   "metadata": {},
   "outputs": [],
   "source": []
  }
 ],
 "metadata": {
  "kernelspec": {
   "display_name": "Python [conda env:ai] *",
   "language": "python",
   "name": "conda-env-ai-py"
  },
  "language_info": {
   "codemirror_mode": {
    "name": "ipython",
    "version": 3
   },
   "file_extension": ".py",
   "mimetype": "text/x-python",
   "name": "python",
   "nbconvert_exporter": "python",
   "pygments_lexer": "ipython3",
   "version": "3.6.8"
  }
 },
 "nbformat": 4,
 "nbformat_minor": 4
}
