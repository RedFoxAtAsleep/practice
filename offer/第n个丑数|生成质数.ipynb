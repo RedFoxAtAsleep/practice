{
 "cells": [
  {
   "cell_type": "markdown",
   "metadata": {},
   "source": []
  },
  {
   "cell_type": "code",
   "execution_count": 3,
   "metadata": {
    "ExecuteTime": {
     "end_time": "2020-06-09T06:23:05.895082Z",
     "start_time": "2020-06-09T06:23:05.883470Z"
    }
   },
   "outputs": [
    {
     "name": "stdout",
     "output_type": "stream",
     "text": [
      "12\n"
     ]
    }
   ],
   "source": [
    "# 2**i * 3**j * 5**k\n",
    "class Solution:\n",
    "    def nthUglyNumber(self, n: int) -> int:\n",
    "        uglies = [1]\n",
    "        # 策略：乘数\n",
    "        components = [2,3,5]\n",
    "        index_of_component = [i for i in range(len(components))]\n",
    "        # 状态：指向丑数的索引，最后一个因数是2/3/5的状态\n",
    "        product_state = [0,0,0]  \n",
    "        # 最优化：下一个最小的状态\n",
    "        for nth in range(n-1):\n",
    "            candidate_products = [\n",
    "                components[ioc]*uglies[ps]\n",
    "                for ioc,ps\n",
    "                in zip(index_of_component, product_state) \n",
    "            ] \n",
    "            next_min_product = min(candidate_products)\n",
    "            uglies.append(next_min_product)\n",
    "            for i, cp in enumerate(candidate_products):\n",
    "                if cp == next_min_product:\n",
    "                    product_state[i] += 1\n",
    "        return uglies[n-1]\n",
    "\n",
    "s = Solution()\n",
    "\n",
    "print(s.nthUglyNumber(10))"
   ]
  },
  {
   "cell_type": "code",
   "execution_count": 4,
   "metadata": {
    "ExecuteTime": {
     "end_time": "2020-06-09T06:25:32.920123Z",
     "start_time": "2020-06-09T06:25:31.786182Z"
    }
   },
   "outputs": [
    {
     "name": "stdout",
     "output_type": "stream",
     "text": [
      "1\n",
      "2\n",
      "3\n",
      "4\n",
      "5\n",
      "6\n",
      "8\n",
      "9\n",
      "10\n",
      "12\n",
      "15\n",
      "16\n",
      "18\n",
      "20\n",
      "24\n",
      "25\n",
      "27\n",
      "30\n",
      "32\n",
      "36\n",
      "40\n",
      "45\n",
      "48\n",
      "50\n",
      "54\n",
      "60\n",
      "64\n",
      "72\n",
      "75\n",
      "80\n",
      "81\n",
      "90\n"
     ]
    }
   ],
   "source": [
    "class Solution:\n",
    "    def nthUglyNumber(self, n: int) -> int:\n",
    "        uglies = [1]\n",
    "        # 策略：乘数\n",
    "        components = [2,3,5]\n",
    "        index_of_component = [i for i in range(len(components))]\n",
    "        # 状态：指向丑数的索引，最后一个因数是2/3/5的状态\n",
    "        product_state = [0,0,0]  \n",
    "        # 最优化：下一个最小的状态\n",
    "        for nth in range(n-1):\n",
    "            candidate_products = [\n",
    "                components[ioc]*uglies[ps]\n",
    "                for ioc,ps\n",
    "                in zip(index_of_component, product_state) \n",
    "            ] \n",
    "            next_min_product = min(candidate_products)\n",
    "            uglies.append(next_min_product)\n",
    "            for i, cp in enumerate(candidate_products):\n",
    "                if cp == next_min_product:\n",
    "                    product_state[i] += 1\n",
    "        return uglies[n-1]\n",
    "\n",
    "s = Solution()\n",
    "\n",
    "for i in range(1,33):\n",
    "    print(s.nthUglyNumber(i))"
   ]
  },
  {
   "cell_type": "code",
   "execution_count": 10,
   "metadata": {},
   "outputs": [
    {
     "name": "stdout",
     "output_type": "stream",
     "text": [
      "1 1\n",
      "2 2\n",
      "3 3\n",
      "4 4\n",
      "5 5\n",
      "6 6\n",
      "7 8\n",
      "8 9\n",
      "9 10\n",
      "10 12\n",
      "11 15\n",
      "12 16\n",
      "13 18\n",
      "14 20\n",
      "15 24\n",
      "16 25\n",
      "17 27\n",
      "18 30\n",
      "19 32\n",
      "20 36\n",
      "21 40\n",
      "22 45\n",
      "23 48\n",
      "24 50\n",
      "25 54\n",
      "26 60\n",
      "27 64\n",
      "28 72\n",
      "29 75\n",
      "30 80\n",
      "31 81\n",
      "32 90\n"
     ]
    }
   ],
   "source": [
    "class Solution:\n",
    "    def nthUglyNumber(self, n: int) -> int:\n",
    "        uglies = [1]\n",
    "        prime_factors = [2, 3, 5]\n",
    "        index_of_base_uglies = [0, 0, 0]\n",
    "        while len(uglies) < n:\n",
    "            candidates = [\n",
    "                uglies[index_of_base_ugly]*factor \n",
    "                for factor, index_of_base_ugly in zip(prime_factors, index_of_base_uglies)\n",
    "            ]\n",
    "            next_ugly = min(candidates)\n",
    "            uglies.append(next_ugly)\n",
    "            for i,candidate in enumerate(candidates):\n",
    "                if candidate == next_ugly:\n",
    "                    index_of_base_uglies[i] += 1\n",
    "        return uglies[-1]\n",
    "    \n",
    "s = Solution()\n",
    "for i in range(1,33):\n",
    "    print(i, s.nthUglyNumber(i))\n"
   ]
  },
  {
   "cell_type": "code",
   "execution_count": null,
   "metadata": {},
   "outputs": [],
   "source": []
  }
 ],
 "metadata": {
  "kernelspec": {
   "display_name": "Python 3",
   "language": "python",
   "name": "python3"
  },
  "language_info": {
   "codemirror_mode": {
    "name": "ipython",
    "version": 3
   },
   "file_extension": ".py",
   "mimetype": "text/x-python",
   "name": "python",
   "nbconvert_exporter": "python",
   "pygments_lexer": "ipython3",
   "version": "3.7.7"
  },
  "latex_envs": {
   "LaTeX_envs_menu_present": true,
   "autoclose": false,
   "autocomplete": true,
   "bibliofile": "biblio.bib",
   "cite_by": "apalike",
   "current_citInitial": 1,
   "eqLabelWithNumbers": true,
   "eqNumInitial": 1,
   "hotkeys": {
    "equation": "Ctrl-E",
    "itemize": "Ctrl-I"
   },
   "labels_anchors": false,
   "latex_user_defs": false,
   "report_style_numbering": false,
   "user_envs_cfg": false
  },
  "toc": {
   "base_numbering": 1,
   "nav_menu": {},
   "number_sections": true,
   "sideBar": true,
   "skip_h1_title": false,
   "title_cell": "Table of Contents",
   "title_sidebar": "Contents",
   "toc_cell": false,
   "toc_position": {},
   "toc_section_display": true,
   "toc_window_display": false
  },
  "varInspector": {
   "cols": {
    "lenName": 16,
    "lenType": 16,
    "lenVar": 40
   },
   "kernels_config": {
    "python": {
     "delete_cmd_postfix": "",
     "delete_cmd_prefix": "del ",
     "library": "var_list.py",
     "varRefreshCmd": "print(var_dic_list())"
    },
    "r": {
     "delete_cmd_postfix": ") ",
     "delete_cmd_prefix": "rm(",
     "library": "var_list.r",
     "varRefreshCmd": "cat(var_dic_list()) "
    }
   },
   "types_to_exclude": [
    "module",
    "function",
    "builtin_function_or_method",
    "instance",
    "_Feature"
   ],
   "window_display": false
  }
 },
 "nbformat": 4,
 "nbformat_minor": 2
}
