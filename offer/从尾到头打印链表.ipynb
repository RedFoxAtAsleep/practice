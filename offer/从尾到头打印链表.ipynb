{
 "cells": [
  {
   "cell_type": "code",
   "execution_count": 2,
   "metadata": {},
   "outputs": [],
   "source": [
    "# 递归\n",
    "from typing import List\n",
    "# Definition for singly-linked list.\n",
    "class ListNode:\n",
    "    def __init__(self, x):\n",
    "        self.val = x\n",
    "        self.next = None\n",
    "\n",
    "class Solution:\n",
    "    def reversePrint(self, head: ListNode) -> List[int]:\n",
    "        if not head:\n",
    "            return []\n",
    "        return self.reversePrint(head.next) + [head.val]"
   ]
  },
  {
   "cell_type": "code",
   "execution_count": 3,
   "metadata": {},
   "outputs": [],
   "source": [
    "# 链表转列表\n",
    "class Solution:\n",
    "    def reversePrint(self, head: ListNode) -> List[int]:\n",
    "        stack = []\n",
    "        while head:\n",
    "            stack.append(head.val)\n",
    "            head = head.next\n",
    "        return stack[::-1]"
   ]
  },
  {
   "cell_type": "code",
   "execution_count": 17,
   "metadata": {},
   "outputs": [
    {
     "name": "stdout",
     "output_type": "stream",
     "text": [
      "[1, 3, 2]\n",
      "<__main__.ListNode object at 0x7f849b246c50>\n",
      "<__main__.ListNode object at 0x7f849b246cd0>\n",
      "<__main__.ListNode object at 0x7f849b246910>\n"
     ]
    },
    {
     "data": {
      "text/plain": [
       "[2, 3, 1]"
      ]
     },
     "execution_count": 17,
     "metadata": {},
     "output_type": "execute_result"
    }
   ],
   "source": [
    "# 反转列表\n",
    "class Solution:\n",
    "    def reversePrint(self, head: ListNode) -> List[int]:\n",
    "        \n",
    "        new_head= None\n",
    "        while head:\n",
    "            tmp = head.next\n",
    "            head.next = new_head\n",
    "            new_head = head\n",
    "            head = tmp\n",
    "            \n",
    "        stack = []\n",
    "        while new_head:\n",
    "            stack.append(new_head.val)\n",
    "            new_head = new_head.next\n",
    "        return stack\n",
    "s = Solution()\n",
    "\n",
    "nodes = []\n",
    "for i,val in enumerate([1,3,2]):\n",
    "    nodes.append(ListNode(val))\n",
    "    nodes[i-1].next = nodes[i] if i > 0 else None\n",
    "print([node.val for node in nodes])\n",
    "\n",
    "head = nodes[0]\n",
    "while head:\n",
    "    print(head)\n",
    "    head = head.next\n",
    "    \n",
    "s.reversePrint(nodes[0])"
   ]
  },
  {
   "cell_type": "code",
   "execution_count": null,
   "metadata": {},
   "outputs": [],
   "source": []
  }
 ],
 "metadata": {
  "kernelspec": {
   "display_name": "Python 3",
   "language": "python",
   "name": "python3"
  },
  "language_info": {
   "codemirror_mode": {
    "name": "ipython",
    "version": 3
   },
   "file_extension": ".py",
   "mimetype": "text/x-python",
   "name": "python",
   "nbconvert_exporter": "python",
   "pygments_lexer": "ipython3",
   "version": "3.7.7"
  },
  "latex_envs": {
   "LaTeX_envs_menu_present": true,
   "autoclose": false,
   "autocomplete": true,
   "bibliofile": "biblio.bib",
   "cite_by": "apalike",
   "current_citInitial": 1,
   "eqLabelWithNumbers": true,
   "eqNumInitial": 1,
   "hotkeys": {
    "equation": "Ctrl-E",
    "itemize": "Ctrl-I"
   },
   "labels_anchors": false,
   "latex_user_defs": false,
   "report_style_numbering": false,
   "user_envs_cfg": false
  },
  "toc": {
   "base_numbering": 1,
   "nav_menu": {},
   "number_sections": true,
   "sideBar": true,
   "skip_h1_title": false,
   "title_cell": "Table of Contents",
   "title_sidebar": "Contents",
   "toc_cell": false,
   "toc_position": {},
   "toc_section_display": true,
   "toc_window_display": false
  },
  "varInspector": {
   "cols": {
    "lenName": 16,
    "lenType": 16,
    "lenVar": 40
   },
   "kernels_config": {
    "python": {
     "delete_cmd_postfix": "",
     "delete_cmd_prefix": "del ",
     "library": "var_list.py",
     "varRefreshCmd": "print(var_dic_list())"
    },
    "r": {
     "delete_cmd_postfix": ") ",
     "delete_cmd_prefix": "rm(",
     "library": "var_list.r",
     "varRefreshCmd": "cat(var_dic_list()) "
    }
   },
   "types_to_exclude": [
    "module",
    "function",
    "builtin_function_or_method",
    "instance",
    "_Feature"
   ],
   "window_display": false
  }
 },
 "nbformat": 4,
 "nbformat_minor": 2
}
