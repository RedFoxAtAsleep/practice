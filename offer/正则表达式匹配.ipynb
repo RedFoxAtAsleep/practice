{
 "cells": [
  {
   "cell_type": "code",
   "execution_count": 151,
   "metadata": {},
   "outputs": [
    {
     "ename": "SyntaxError",
     "evalue": "no binding for nonlocal 'var' found (<ipython-input-151-1349ddd24db8>, line 4)",
     "output_type": "error",
     "traceback": [
      "\u001b[0;36m  File \u001b[0;32m\"<ipython-input-151-1349ddd24db8>\"\u001b[0;36m, line \u001b[0;32m4\u001b[0m\n\u001b[0;31m    nonlocal var\u001b[0m\n\u001b[0m    ^\u001b[0m\n\u001b[0;31mSyntaxError\u001b[0m\u001b[0;31m:\u001b[0m no binding for nonlocal 'var' found\n"
     ]
    }
   ],
   "source": [
    "from functools import lru_cache\n",
    "\n",
    "def tab(func):\n",
    "    var = {\n",
    "        'level':-1,\n",
    "        'count':0\n",
    "    }\n",
    "    \n",
    "    def wrapper(*args, **kw):\n",
    "        var['level'] += 1\n",
    "        print('-' * var['level'], '空' if args[1] == '' else args[1], '空' if args[2] == '' else args[2])\n",
    "        r = func(*args, **kw)\n",
    "        var['count'] += 1\n",
    "        var['level'] -= 1\n",
    "        return r\n",
    "    \n",
    "    \n",
    "    return wrapper\n",
    "\n",
    "\n",
    "\n",
    "class Solution:\n",
    "    \n",
    "    @lru_cache()\n",
    "    @tab\n",
    "    def isMatch(self, s: str, p: str) -> bool:\n",
    "        \n",
    "        if p == \"\" and s != \"\":\n",
    "            return False\n",
    "        if p == \"\" and s == \"\":\n",
    "            return True\n",
    "        \n",
    "        # p != \"\"\n",
    "        if p[-1] == \"*\":\n",
    "            if len(p) == 1:\n",
    "                return False\n",
    "            # 重复0次\n",
    "            # 重复1次及以上\n",
    "            return self.isMatch(s, p[:-2]) or self.isMatch(s, p+p[-2])\n",
    "        # p != \"\" and p[-1] != \"*\"\n",
    "        \n",
    "        if p[-1] == \".\":\n",
    "            if s == \"\":\n",
    "                return False\n",
    "            return self.isMatch(s[:-1], p[:-1])  # s变短，p变短\n",
    "        \n",
    "        # p != \"\" and p[-1] != \"*\" and p != \".\" \n",
    "        if s != \"\" and p[-1] == s[-1]:\n",
    "            return self.isMatch(s[:-1], p[:-1])  # s变短，p变短\n",
    "        else:\n",
    "            # s == \"\"\n",
    "            # 但已排除p != \".*\"的可能\n",
    "            # s != \"\"\n",
    "            # p[-1] != s[-1]\n",
    "            return False\n"
   ]
  },
  {
   "cell_type": "code",
   "execution_count": 152,
   "metadata": {
    "scrolled": false
   },
   "outputs": [
    {
     "name": "stdout",
     "output_type": "stream",
     "text": [
      " mississippi mis*is*p*.\n",
      "- mississipp mis*is*p*\n",
      "-- mississipp mis*is*\n",
      "--- mississipp mis*i\n",
      "--- mississipp mis*is*s\n",
      "-- mississipp mis*is*p*p\n",
      "--- mississip mis*is*p*\n",
      "---- mississip mis*is*\n",
      "----- mississip mis*i\n",
      "----- mississip mis*is*s\n",
      "---- mississip mis*is*p*p\n",
      "----- mississi mis*is*p*\n",
      "------ mississi mis*is*\n",
      "------- mississi mis*i\n",
      "-------- mississ mis*\n",
      "--------- mississ mi\n",
      "--------- mississ mis*s\n",
      "---------- missis mis*\n",
      "----------- missis mi\n",
      "----------- missis mis*s\n",
      "------------ missi mis*\n",
      "------------- missi mi\n",
      "-------------- miss m\n",
      "------------- missi mis*s\n",
      "------- mississi mis*is*s\n",
      "------ mississi mis*is*p*p\n",
      "True\n",
      " aa a\n",
      "- a 空\n",
      "False\n",
      " ab .*\n",
      "- ab 空\n",
      "- ab .*.\n",
      "-- a .*\n",
      "--- a .*.\n",
      "---- 空 .*\n",
      "----- 空 空\n",
      "True\n",
      " aab c*a*b\n",
      "- aa c*a*\n",
      "-- aa c*\n",
      "--- aa 空\n",
      "--- aa c*c\n",
      "-- aa c*a*a\n",
      "--- a c*a*\n",
      "---- a c*\n",
      "----- a c*c\n",
      "---- a c*a*a\n",
      "----- 空 c*a*\n",
      "------ 空 c*\n",
      "True\n",
      "False\n",
      " a .*..a*\n",
      "- a .*..\n",
      "-- 空 .*.\n",
      "- a .*..a*a\n",
      "-- 空 .*..a*\n",
      "--- 空 .*..\n",
      "--- 空 .*..a*a\n",
      "False\n"
     ]
    }
   ],
   "source": [
    "solu = Solution()\n",
    "\n",
    "s = \"mississippi\"\n",
    "p = \"mis*is*p*.\"\n",
    "print(solu.isMatch(s, p) == False)\n",
    "\n",
    "s = \"aa\"\n",
    "p = \"a\"\n",
    "print(solu.isMatch(s, p))\n",
    "\n",
    "s = \"ab\"\n",
    "p = \".*\"\n",
    "print(solu.isMatch(s, p))\n",
    "\n",
    "s = \"aab\"\n",
    "p = \"c*a*b\"\n",
    "print(solu.isMatch(s, p))\n",
    "\n",
    "s = \"mississippi\"\n",
    "p = \"mis*is*p*.\"\n",
    "print(solu.isMatch(s, p))\n",
    "\n",
    "s = \"a\"\n",
    "p = \".*..a*\"\n",
    "print(solu.isMatch(s, p))"
   ]
  },
  {
   "cell_type": "code",
   "execution_count": 155,
   "metadata": {},
   "outputs": [
    {
     "data": {
      "text/plain": [
       "{'__module__': '__main__',\n",
       " '__name__': 'wrapper',\n",
       " '__qualname__': 'tab.<locals>.wrapper',\n",
       " '__doc__': None,\n",
       " '__annotations__': {},\n",
       " '__wrapped__': <function __main__.tab.<locals>.wrapper(*args, **kw)>}"
      ]
     },
     "execution_count": 155,
     "metadata": {},
     "output_type": "execute_result"
    }
   ],
   "source": [
    "Solution.isMatch.__dict__\n"
   ]
  },
  {
   "cell_type": "code",
   "execution_count": 4,
   "metadata": {},
   "outputs": [
    {
     "name": "stdout",
     "output_type": "stream",
     "text": [
      "{1: {'b': 2}, 2: {'b': 2, '$': 3}, 3: {'.': 4}, 4: {'b': 4, '$': 5}, 5: {'b': 5, '$': 6}, 6: {'a': 6, '$': 7}, 7: {'a': 8}, 8: {'b': 9}, 9: {'a': 9, '$': 10}, 10: {'c': 11}}\n",
      "False\n",
      "{1: {'a': 1, '$': 2}}\n",
      "True\n",
      "{1: {'a': 1, '$': 2}, 2: {'.': 2, '$': 3}, 3: {'b': 4}, 4: {'.': 5}, 5: {'a': 6}, 6: {'.': 6, '$': 7}, 7: {'c': 7, '$': 8}, 8: {'b': 8, '$': 9}, 9: {'a': 9, '$': 10}, 10: {'c': 10, '$': 11}}\n",
      "True\n",
      "{1: {'a': 2}, 2: {'b': 2, '$': 3}, 3: {'a': 3, '$': 4}, 4: {'c': 4, '$': 5}, 5: {'a': 6}}\n",
      "False\n",
      "{1: {'a': 1, '$': 2}, 2: {'a': 3}}\n",
      "True\n",
      "{1: {'a': 2}, 2: {'b': 3}, 3: {'.': 3, '$': 4}, 4: {'d': 5}, 5: {'e': 6}}\n",
      "True\n"
     ]
    }
   ],
   "source": [
    "class Solution(object):\n",
    "    def isMatch(self, s, p):\n",
    "        \"\"\"\n",
    "        :type s: str\n",
    "        :type p: str\n",
    "        :rtype: bool\n",
    "        \"\"\"\n",
    "\n",
    "        \n",
    "        '''\n",
    "        状态转移表的构建 ↓\n",
    "        '''\n",
    "        dic = {}\n",
    "        state = 1\n",
    "        for idx, i in enumerate(p):\n",
    "            if 'a' <= i <= \"z\" or i == '.':\n",
    "                dic.setdefault(state, {}).update({i: state + 1})\n",
    "                state += 1\n",
    "            elif i == '*':\n",
    "                dic[state - 1][p[idx - 1]] = state - 1\n",
    "                dic[state - 1]['$'] = state\n",
    "        print(dic)\n",
    "\n",
    "        '''\n",
    "        dfs部分\n",
    "        '''\n",
    "        def helper(sta, px):\n",
    "            if px:\n",
    "                try:\n",
    "                    tmp1 = dic[sta].get(px[0], False)\n",
    "                    tmp2 = dic[sta].get('.', False)\n",
    "                    tmp3 = dic[sta].get('$', False)\n",
    "                except:\n",
    "                    return False\n",
    "                if tmp1:\n",
    "                    if helper(tmp1, px[1:]):\n",
    "                        return True\n",
    "                if tmp2:\n",
    "                    if helper(tmp2, px[1:]):\n",
    "                        return True\n",
    "                if tmp3:\n",
    "                    if helper(tmp3,px):\n",
    "                        return True\n",
    "                return False\n",
    "            else:\n",
    "                try:\n",
    "                    tmp = dic[sta].get('$', False)\n",
    "                    return helper(tmp,px)\n",
    "                except:\n",
    "                    pass\n",
    "                if sta == state:\n",
    "                    return True\n",
    "                return False\n",
    "        return helper(1, s)\n",
    "\n",
    "\n",
    "s = Solution()\n",
    "tests = [\n",
    "    (\"babbcaacbccbbbbbabb\",\"bb*.b*b*a*aba*c\"),\n",
    "    (\"aa\",\"a*\"),\n",
    "    (\"abbabaaaaaaacaa\", \"a*.*b.a.*c*b*a*c*\"),\n",
    "    (\"aaba\", \"ab*a*c*a\"),\n",
    "    (\"aaa\", \"a*a\"),\n",
    "    (\"abcdede\", \"ab.*de\"),\n",
    "]\n",
    "for item in tests:\n",
    "    res = s.isMatch(*item)\n",
    "    print(res)\n"
   ]
  },
  {
   "cell_type": "code",
   "execution_count": 57,
   "metadata": {},
   "outputs": [
    {
     "data": {
      "text/plain": [
       "False"
      ]
     },
     "execution_count": 57,
     "metadata": {},
     "output_type": "execute_result"
    }
   ],
   "source": [
    "bool(\"delattr\")^bool(\"dd\")"
   ]
  },
  {
   "cell_type": "code",
   "execution_count": 65,
   "metadata": {},
   "outputs": [
    {
     "data": {
      "text/plain": [
       "[]"
      ]
     },
     "execution_count": 65,
     "metadata": {},
     "output_type": "execute_result"
    }
   ],
   "source": [
    "[4][:-2]"
   ]
  },
  {
   "cell_type": "code",
   "execution_count": null,
   "metadata": {},
   "outputs": [],
   "source": []
  }
 ],
 "metadata": {
  "kernelspec": {
   "display_name": "Python 3",
   "language": "python",
   "name": "python3"
  },
  "language_info": {
   "codemirror_mode": {
    "name": "ipython",
    "version": 3
   },
   "file_extension": ".py",
   "mimetype": "text/x-python",
   "name": "python",
   "nbconvert_exporter": "python",
   "pygments_lexer": "ipython3",
   "version": "3.7.1"
  },
  "latex_envs": {
   "LaTeX_envs_menu_present": true,
   "autoclose": false,
   "autocomplete": true,
   "bibliofile": "biblio.bib",
   "cite_by": "apalike",
   "current_citInitial": 1,
   "eqLabelWithNumbers": true,
   "eqNumInitial": 1,
   "hotkeys": {
    "equation": "Ctrl-E",
    "itemize": "Ctrl-I"
   },
   "labels_anchors": false,
   "latex_user_defs": false,
   "report_style_numbering": false,
   "user_envs_cfg": false
  },
  "toc": {
   "base_numbering": 1,
   "nav_menu": {},
   "number_sections": true,
   "sideBar": true,
   "skip_h1_title": false,
   "title_cell": "Table of Contents",
   "title_sidebar": "Contents",
   "toc_cell": false,
   "toc_position": {},
   "toc_section_display": true,
   "toc_window_display": false
  },
  "varInspector": {
   "cols": {
    "lenName": 16,
    "lenType": 16,
    "lenVar": 40
   },
   "kernels_config": {
    "python": {
     "delete_cmd_postfix": "",
     "delete_cmd_prefix": "del ",
     "library": "var_list.py",
     "varRefreshCmd": "print(var_dic_list())"
    },
    "r": {
     "delete_cmd_postfix": ") ",
     "delete_cmd_prefix": "rm(",
     "library": "var_list.r",
     "varRefreshCmd": "cat(var_dic_list()) "
    }
   },
   "types_to_exclude": [
    "module",
    "function",
    "builtin_function_or_method",
    "instance",
    "_Feature"
   ],
   "window_display": false
  }
 },
 "nbformat": 4,
 "nbformat_minor": 2
}
