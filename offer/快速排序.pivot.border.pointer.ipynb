{
 "cells": [
  {
   "cell_type": "code",
   "execution_count": 56,
   "metadata": {
    "ExecuteTime": {
     "end_time": "2020-06-07T18:08:13.945920Z",
     "start_time": "2020-06-07T18:08:13.909754Z"
    },
    "code_folding": []
   },
   "outputs": [
    {
     "data": {
      "text/plain": [
       "[1, 3, 5, 7, 9]"
      ]
     },
     "execution_count": 56,
     "metadata": {},
     "output_type": "execute_result"
    }
   ],
   "source": [
    "def quick_sort(nums):\n",
    "    if not nums:\n",
    "        return []\n",
    "    n = len(nums)\n",
    "    if n == 1:\n",
    "        return nums\n",
    "    \n",
    "    m = n // 2\n",
    "    l = []\n",
    "    r = []\n",
    "    for i in range(m+1, n):\n",
    "        if nums[i] < nums[m]:\n",
    "            l.append(nums[i])\n",
    "        else:\n",
    "            r.append(nums[i])\n",
    "    for i in range(0, m):\n",
    "        if nums[i] > nums[m]:\n",
    "            r.append(nums[i])\n",
    "        else:\n",
    "            l.append(nums[i])\n",
    "\n",
    "    return quick_sort(l) + [nums[m]] + quick_sort(r)\n",
    "\n",
    "nums = [5,3,7,9,1]\n",
    "quick_sort(nums)"
   ]
  },
  {
   "cell_type": "code",
   "execution_count": 2,
   "metadata": {
    "ExecuteTime": {
     "end_time": "2020-06-11T05:22:24.037853Z",
     "start_time": "2020-06-11T05:22:24.010678Z"
    }
   },
   "outputs": [
    {
     "data": {
      "text/plain": [
       "[1, 3, 5, 7, 9]"
      ]
     },
     "execution_count": 2,
     "metadata": {},
     "output_type": "execute_result"
    }
   ],
   "source": [
    "def quick_sort(nums):\n",
    "    if not nums:\n",
    "        return []\n",
    "    n = len(nums)\n",
    "    if n == 1:\n",
    "        return nums\n",
    "    \n",
    "    l = []\n",
    "    r = []\n",
    "    for i in range(1, n):\n",
    "        if nums[i] < nums[0]:\n",
    "            l.append(nums[i])\n",
    "        else:\n",
    "            r.append(nums[i])\n",
    "\n",
    "    return quick_sort(l) + nums[:1] + quick_sort(r)\n",
    "\n",
    "nums = [5,3,7,9,1]\n",
    "quick_sort(nums)"
   ]
  },
  {
   "cell_type": "code",
   "execution_count": 84,
   "metadata": {
    "ExecuteTime": {
     "end_time": "2020-06-08T06:26:39.000022Z",
     "start_time": "2020-06-08T06:26:38.974567Z"
    }
   },
   "outputs": [
    {
     "name": "stdout",
     "output_type": "stream",
     "text": [
      "[5, 3, 7, 5, 9, 1]\n",
      "[3, 1]\n",
      "[1]\n",
      "[3]\n",
      "[7, 5, 9, 5]\n",
      "[5]\n",
      "[7, 9, 5]\n",
      "[5]\n",
      "[9, 7]\n",
      "[7]\n",
      "[9]\n"
     ]
    },
    {
     "data": {
      "text/plain": [
       "[1, 3, 5, 5, 7, 9]"
      ]
     },
     "execution_count": 84,
     "metadata": {},
     "output_type": "execute_result"
    }
   ],
   "source": [
    "# https://wiki.jikexueyuan.com/project/easy-learn-algorithm/fast-sort.html\n",
    "def quick_sort(nums):\n",
    "    # 如果传入left和right是为了实现inplace，避免原列表切片产生新的数组，直接传入数组则比较方便\n",
    "    # 以端点为pivot简洁明了\n",
    "    # 目标是划分成两部分，<pivot的和>=pivot的\n",
    "    print(nums)\n",
    "    if len(nums) <= 1:\n",
    "        return nums\n",
    "    border = pivot = left = 0\n",
    "    right = len(nums) - 1\n",
    "    pointer = border + 1\n",
    "    while pointer <= right:\n",
    "        if nums[pointer] < nums[pivot]:\n",
    "            nums[border], nums[pointer] = nums[pointer], nums[border]\n",
    "            border += 1\n",
    "        pointer += 1\n",
    "    return quick_sort(nums[0:border]) + quick_sort(nums[border:right+1])\n",
    "\n",
    "nums = [5,3,7,5,9,1]\n",
    "quick_sort(nums)"
   ]
  },
  {
   "cell_type": "code",
   "execution_count": 86,
   "metadata": {
    "ExecuteTime": {
     "end_time": "2020-06-08T06:27:07.189050Z",
     "start_time": "2020-06-08T06:27:07.154846Z"
    }
   },
   "outputs": [
    {
     "name": "stdout",
     "output_type": "stream",
     "text": [
      "[5, 3, 7, 5, 9, 1]\n",
      "[3, 1]\n",
      "[1]\n",
      "[3]\n",
      "[7, 5, 9, 5]\n",
      "[5]\n",
      "[7, 9, 5]\n",
      "[5]\n",
      "[9, 7]\n",
      "[7]\n",
      "[9]\n"
     ]
    },
    {
     "data": {
      "text/plain": [
       "[1, 3, 5, 5, 7, 9]"
      ]
     },
     "execution_count": 86,
     "metadata": {},
     "output_type": "execute_result"
    }
   ],
   "source": [
    "# https://wiki.jikexueyuan.com/project/easy-learn-algorithm/fast-sort.html\n",
    "# https://www.runoob.com/w3cnote/quick-sort-2.html\n",
    "def quick_sort(nums):\n",
    "    # 如果传入left和right是为了实现inplace，避免原列表切片产生新的数组，直接传入数组则比较方便\n",
    "    # 以端点为pivot简洁明了\n",
    "    print(nums)\n",
    "    if len(nums) <= 1:\n",
    "        return nums\n",
    "    nums, border = partition(nums)\n",
    "    return quick_sort(nums[0:border]) + quick_sort(nums[border:len(nums)])\n",
    "\n",
    "def partition(nums):\n",
    "    if len(nums) <= 1:\n",
    "        print(\"Cannot be parted!\")\n",
    "    border = pivot = left = 0\n",
    "    right = len(nums) - 1\n",
    "    pointer = border + 1\n",
    "    while pointer <= right:\n",
    "        if nums[pointer] < nums[pivot]:\n",
    "            nums[border], nums[pointer] = nums[pointer], nums[border]\n",
    "            border += 1\n",
    "        pointer += 1\n",
    "    return nums, border\n",
    "    \n",
    "nums = [5,3,7,5,9,1]\n",
    "quick_sort(nums)"
   ]
  },
  {
   "cell_type": "code",
   "execution_count": null,
   "metadata": {},
   "outputs": [],
   "source": []
  }
 ],
 "metadata": {
  "kernelspec": {
   "display_name": "Python 3",
   "language": "python",
   "name": "python3"
  },
  "language_info": {
   "codemirror_mode": {
    "name": "ipython",
    "version": 3
   },
   "file_extension": ".py",
   "mimetype": "text/x-python",
   "name": "python",
   "nbconvert_exporter": "python",
   "pygments_lexer": "ipython3",
   "version": "3.7.7"
  },
  "latex_envs": {
   "LaTeX_envs_menu_present": true,
   "autoclose": false,
   "autocomplete": true,
   "bibliofile": "biblio.bib",
   "cite_by": "apalike",
   "current_citInitial": 1,
   "eqLabelWithNumbers": true,
   "eqNumInitial": 1,
   "hotkeys": {
    "equation": "Ctrl-E",
    "itemize": "Ctrl-I"
   },
   "labels_anchors": false,
   "latex_user_defs": false,
   "report_style_numbering": false,
   "user_envs_cfg": false
  },
  "toc": {
   "base_numbering": 1,
   "nav_menu": {},
   "number_sections": true,
   "sideBar": true,
   "skip_h1_title": false,
   "title_cell": "Table of Contents",
   "title_sidebar": "Contents",
   "toc_cell": false,
   "toc_position": {},
   "toc_section_display": true,
   "toc_window_display": false
  },
  "varInspector": {
   "cols": {
    "lenName": 16,
    "lenType": 16,
    "lenVar": 40
   },
   "kernels_config": {
    "python": {
     "delete_cmd_postfix": "",
     "delete_cmd_prefix": "del ",
     "library": "var_list.py",
     "varRefreshCmd": "print(var_dic_list())"
    },
    "r": {
     "delete_cmd_postfix": ") ",
     "delete_cmd_prefix": "rm(",
     "library": "var_list.r",
     "varRefreshCmd": "cat(var_dic_list()) "
    }
   },
   "types_to_exclude": [
    "module",
    "function",
    "builtin_function_or_method",
    "instance",
    "_Feature"
   ],
   "window_display": false
  }
 },
 "nbformat": 4,
 "nbformat_minor": 2
}
