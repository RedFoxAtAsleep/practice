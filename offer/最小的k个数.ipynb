{
 "cells": [
  {
   "cell_type": "code",
   "execution_count": 21,
   "metadata": {
    "ExecuteTime": {
     "end_time": "2020-06-08T07:07:38.915546Z",
     "start_time": "2020-06-08T07:07:38.860715Z"
    }
   },
   "outputs": [
    {
     "name": "stdout",
     "output_type": "stream",
     "text": [
      "[1, 3, 5, 5, 7, 9]\n",
      "[1, 3, 5]\n"
     ]
    }
   ],
   "source": [
    "# 堆排序所用空间只和k有关\n",
    "# 不完全快排速度更快\n",
    "\n",
    "\n",
    "import heapq \n",
    "class Solution:\n",
    "    def partition(self, arr):\n",
    "        if len(arr) <= 1:\n",
    "            print(\"Cannot be parted!\")\n",
    "            return arr\n",
    "        border = pivot = left = 0\n",
    "        right = len(arr) - 1\n",
    "        pointer = border + 1\n",
    "        while pointer <= right:\n",
    "            if arr[pointer] < arr[pivot]:\n",
    "                arr[border], arr[pointer] = arr[pointer], arr[border]\n",
    "                border += 1\n",
    "            pointer += 1\n",
    "        return arr, border\n",
    "    \n",
    "    def quick_sort(self, arr):\n",
    "        # 如果传入left和right是为了实现inplace，避免原列表切片产生新的数组，直接传入数组则比较方便\n",
    "        # 以端点为pivot简洁明了\n",
    "        if len(arr) <= 1:\n",
    "            return arr\n",
    "        arr, border = self.partition(arr)\n",
    "        return self.quick_sort(arr[0:border]) + self.quick_sort(arr[border:])\n",
    "        \n",
    "    def bottomK(self, arr, k):\n",
    "        tmp = arr.copy()\n",
    "        bottom = []\n",
    "        while len(bottom) < k:\n",
    "            tmp, border = self.partition(tmp)\n",
    "            bottom += tmp[:border]\n",
    "            tmp = tmp[border:]\n",
    "        return bottom[:k]\n",
    "    \n",
    "    def bottomK(self, arr, k):\n",
    "        return heapq.nsmallest(k, arr)\n",
    "\n",
    "arr = [5,3,7,5,9,1]\n",
    "s = Solution()\n",
    "print(\n",
    "    s.quick_sort(arr.copy()),\n",
    "    s.bottomK(arr.copy(), 3),\n",
    "    sep='\\n'\n",
    ")\n"
   ]
  },
  {
   "cell_type": "markdown",
   "metadata": {},
   "source": [
    "The latter two functions perform best for smaller values of n. \n",
    "* heapq.nlargest(n, iterable[, key])\n",
    "* heapq.nsmallest(n, iterable[, key])\n",
    "\n",
    "For larger values, it is more efficient to use the sorted() function. \n",
    "Also, when n==1, it is more efficient to use the built-in min() and max() functions. \n",
    "If repeated usage of these functions is required, consider turning the iterable into an actual heap."
   ]
  },
  {
   "cell_type": "code",
   "execution_count": 28,
   "metadata": {},
   "outputs": [],
   "source": [
    "def partition_lt_gte(nums):\n",
    "    # [:border] < nums[border]\n",
    "    # [border:] >= nums[border]\n",
    "    n = len(nums)\n",
    "    pivot = nums[0]\n",
    "    border = 0\n",
    "    for i in range(1, n):\n",
    "        if nums[i] < pivot:\n",
    "            nums[border+1], nums[i] = nums[i], nums[border+1]  # 先把小于pivot的值换到border后面\n",
    "            nums[border],nums[border+1] = nums[border+1],nums[border]  # 交换border和border后小于pivot的\n",
    "            border += 1\n",
    "    return nums, border\n",
    "\n",
    "def partition_border_lte_gt(nums):\n",
    "    # [:border+1] <= nums[border]\n",
    "    # [border+1:] > nums[border]\n",
    "    n = len(nums)\n",
    "    border = 0\n",
    "    for i in range(1, n):\n",
    "        if nums[i] <= nums[border]:\n",
    "            nums[border+1], nums[i] = nums[i], nums[border+1]  # 先把小于pivot的值换到border后面\n",
    "            nums[border],nums[border+1] = nums[border+1],nums[border]  # 交换border和border后小于pivot的\n",
    "            border += 1\n",
    "    return nums, border\n",
    "\n",
    "# 以上也是二分的边界在出现相同值时，在左还是在右的实现方法\n",
    "\n",
    "def bottomk(nums, k):\n",
    "    if k == 0:\n",
    "        return []\n",
    "    nums, border = partition_border_lte_gt(nums)\n",
    "    if k == border + 1:\n",
    "        return nums[:border+1]\n",
    "    if k > border+1:\n",
    "        # 如果\n",
    "        # [:border] < nums[border]\n",
    "        # [border:] >= nums[border]\n",
    "        # bottomk(nums[border:], k-border) \n",
    "        # nums[border:] >= nums[border:][0] partition后更小的部分为空\n",
    "        return nums[:border+1] + bottomk(nums[border+1:], k-border-1)\n",
    "    if k < border + 1:\n",
    "        return bottomk(nums[:border], k)\n",
    "    \n",
    "    "
   ]
  },
  {
   "cell_type": "code",
   "execution_count": 25,
   "metadata": {},
   "outputs": [
    {
     "data": {
      "text/plain": [
       "[0, 2, 2, 2]"
      ]
     },
     "execution_count": 25,
     "metadata": {},
     "output_type": "execute_result"
    }
   ],
   "source": [
    "bottomk([5,8,2,3,7,0,2,6,3,7,2], 4)"
   ]
  },
  {
   "cell_type": "code",
   "execution_count": 26,
   "metadata": {},
   "outputs": [],
   "source": [
    "# 计数排序"
   ]
  },
  {
   "cell_type": "code",
   "execution_count": 32,
   "metadata": {},
   "outputs": [
    {
     "data": {
      "text/plain": [
       "[0, 0, 0, 1, 3, 4, 5, 6, 7]"
      ]
     },
     "execution_count": 32,
     "metadata": {},
     "output_type": "execute_result"
    }
   ],
   "source": [
    "from typing import List\n",
    "class Solution:\n",
    "    def getLeastNumbers(self, arr: List[int], k: int) -> List[int]:\n",
    "        def partition_border_lte_gt(nums):\n",
    "            n = len(nums)\n",
    "            border = 0\n",
    "            for i in range(1, n):\n",
    "                if nums[i] <= nums[border]:\n",
    "                    nums[border+1], nums[i] = nums[i], nums[border+1]  # 先把小于pivot的值换到border后面\n",
    "                    nums[border],nums[border+1] = nums[border+1],nums[border]  # 交换border和border后小于pivot的\n",
    "                    border += 1\n",
    "            return nums, border\n",
    "\n",
    "        def bottomk(nums, k):\n",
    "            if k == 0:\n",
    "                return []\n",
    "            nums, border = partition_border_lte_gt(nums)\n",
    "            if k == border + 1:\n",
    "                return nums[:border+1]\n",
    "            if k > border+1:\n",
    "                return nums[:border+1] + bottomk(nums[border+1:], k-border-1)\n",
    "            if k < border + 1:\n",
    "                return bottomk(nums[:border], k)\n",
    "        return bottomk(arr, k)\n",
    "    \n",
    "s = Solution()\n",
    "s.getLeastNumbers([0,0,0,2,0,5], 0)\n",
    "s.getLeastNumbers([0,0,1,3,4,5,0,7,6,7],9)\n",
    "\n"
   ]
  },
  {
   "cell_type": "code",
   "execution_count": null,
   "metadata": {},
   "outputs": [],
   "source": []
  }
 ],
 "metadata": {
  "kernelspec": {
   "display_name": "Python 3",
   "language": "python",
   "name": "python3"
  },
  "language_info": {
   "codemirror_mode": {
    "name": "ipython",
    "version": 3
   },
   "file_extension": ".py",
   "mimetype": "text/x-python",
   "name": "python",
   "nbconvert_exporter": "python",
   "pygments_lexer": "ipython3",
   "version": "3.7.7"
  },
  "latex_envs": {
   "LaTeX_envs_menu_present": true,
   "autoclose": false,
   "autocomplete": true,
   "bibliofile": "biblio.bib",
   "cite_by": "apalike",
   "current_citInitial": 1,
   "eqLabelWithNumbers": true,
   "eqNumInitial": 1,
   "hotkeys": {
    "equation": "Ctrl-E",
    "itemize": "Ctrl-I"
   },
   "labels_anchors": false,
   "latex_user_defs": false,
   "report_style_numbering": false,
   "user_envs_cfg": false
  },
  "toc": {
   "base_numbering": 1,
   "nav_menu": {},
   "number_sections": true,
   "sideBar": true,
   "skip_h1_title": false,
   "title_cell": "Table of Contents",
   "title_sidebar": "Contents",
   "toc_cell": false,
   "toc_position": {},
   "toc_section_display": true,
   "toc_window_display": false
  },
  "varInspector": {
   "cols": {
    "lenName": 16,
    "lenType": 16,
    "lenVar": 40
   },
   "kernels_config": {
    "python": {
     "delete_cmd_postfix": "",
     "delete_cmd_prefix": "del ",
     "library": "var_list.py",
     "varRefreshCmd": "print(var_dic_list())"
    },
    "r": {
     "delete_cmd_postfix": ") ",
     "delete_cmd_prefix": "rm(",
     "library": "var_list.r",
     "varRefreshCmd": "cat(var_dic_list()) "
    }
   },
   "types_to_exclude": [
    "module",
    "function",
    "builtin_function_or_method",
    "instance",
    "_Feature"
   ],
   "window_display": false
  }
 },
 "nbformat": 4,
 "nbformat_minor": 2
}
