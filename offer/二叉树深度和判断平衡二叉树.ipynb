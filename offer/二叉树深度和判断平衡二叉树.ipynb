{
 "cells": [
  {
   "cell_type": "code",
   "execution_count": 15,
   "metadata": {
    "ExecuteTime": {
     "end_time": "2020-06-11T08:25:31.219052Z",
     "start_time": "2020-06-11T08:25:31.002173Z"
    }
   },
   "outputs": [
    {
     "name": "stdout",
     "output_type": "stream",
     "text": [
      "3\n",
      "20\n",
      "7\n",
      "None\n",
      "15\n",
      "9\n",
      "2\n",
      "2\n",
      "3\n",
      "3\n",
      "4\n",
      "4\n"
     ]
    },
    {
     "data": {
      "text/plain": [
       "False"
      ]
     },
     "execution_count": 15,
     "metadata": {},
     "output_type": "execute_result"
    }
   ],
   "source": [
    "# Definition for a binary tree node.\n",
    "from functools import lru_cache\n",
    "\n",
    "class TreeNode:\n",
    "    def __init__(self, x):\n",
    "        self.val = x\n",
    "        self.left = None\n",
    "        self.right = None\n",
    "    def __repr__(self):\n",
    "        return str(self.val)\n",
    "\n",
    "class Solution:\n",
    "    \n",
    "    @lru_cache()\n",
    "    def maxDepth(self, root: TreeNode) -> int:\n",
    "        print(root)\n",
    "        if not root:\n",
    "            return 0\n",
    "        return 1 + max(self.maxDepth(root.right), self.maxDepth(root.left))\n",
    "\n",
    "    def isBalanced(self, root: TreeNode) -> bool:\n",
    "        if not root:\n",
    "            return True\n",
    "        d = self.maxDepth(root.right) - self.maxDepth(root.left)\n",
    "        if d > 1 or d < -1:\n",
    "            return False\n",
    "        return self.isBalanced(root.right) and self.isBalanced(root.left)\n",
    "          \n",
    "    def serialize(self, root):\n",
    "        if not root:\n",
    "            return []\n",
    "        container = [root]\n",
    "        r = []\n",
    "        while container:\n",
    "            node = container.pop()\n",
    "            if node:\n",
    "                container = [ node.right , node.left] + container\n",
    "            r.append(node if node is None else node.val)\n",
    "        return r\n",
    "            \n",
    "    def deserialize(self, data):\n",
    "        if not data:\n",
    "            return None\n",
    "        nodes = [ None if val is None else TreeNode(val) for val in data]\n",
    "        s = 0\n",
    "        e = 1\n",
    "        while True:\n",
    "            layer = [ node for node in nodes[s:e] if node is not None ]\n",
    "            if not layer:\n",
    "                break\n",
    "            for i in range(len(layer)):\n",
    "                node = layer[i]\n",
    "                if e+2*i < len(nodes):\n",
    "                    node.left = nodes[e+2*i]\n",
    "                if e+2*i+1 < len(nodes):\n",
    "                    node.right = nodes[e+2*i+1]\n",
    "            s = e\n",
    "            e = e + 2*len(layer)\n",
    "        return nodes[0]\n",
    "    \n",
    "s = Solution()\n",
    "serialized = [3,9,20,None,None,15,7]\n",
    "serialized = [3,9,20,None,None,15,7]\n",
    "root = s.deserialize(serialized)\n",
    "s.maxDepth(root)\n",
    "s.isBalanced(root)\n",
    "s.isBalanced(s.deserialize([1,2,2,3,3,None,None,4,4]))\n"
   ]
  },
  {
   "cell_type": "code",
   "execution_count": null,
   "metadata": {},
   "outputs": [],
   "source": []
  }
 ],
 "metadata": {
  "kernelspec": {
   "display_name": "conda_env_ai",
   "language": "python",
   "name": "conda_env_ai"
  },
  "language_info": {
   "codemirror_mode": {
    "name": "ipython",
    "version": 3
   },
   "file_extension": ".py",
   "mimetype": "text/x-python",
   "name": "python",
   "nbconvert_exporter": "python",
   "pygments_lexer": "ipython3",
   "version": "3.6.8"
  }
 },
 "nbformat": 4,
 "nbformat_minor": 2
}
