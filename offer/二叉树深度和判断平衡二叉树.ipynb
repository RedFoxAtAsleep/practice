{
 "cells": [
  {
   "cell_type": "code",
   "execution_count": 15,
   "metadata": {
    "ExecuteTime": {
     "end_time": "2020-06-11T08:25:31.219052Z",
     "start_time": "2020-06-11T08:25:31.002173Z"
    }
   },
   "outputs": [
    {
     "name": "stdout",
     "output_type": "stream",
     "text": [
      "3\n",
      "20\n",
      "7\n",
      "None\n",
      "15\n",
      "9\n",
      "2\n",
      "2\n",
      "3\n",
      "3\n",
      "4\n",
      "4\n"
     ]
    },
    {
     "data": {
      "text/plain": [
       "False"
      ]
     },
     "execution_count": 15,
     "metadata": {},
     "output_type": "execute_result"
    }
   ],
   "source": [
    "# Definition for a binary tree node.\n",
    "from functools import lru_cache\n",
    "\n",
    "class TreeNode:\n",
    "    def __init__(self, x):\n",
    "        self.val = x\n",
    "        self.left = None\n",
    "        self.right = None\n",
    "    def __repr__(self):\n",
    "        return str(self.val)\n",
    "\n",
    "class Solution:\n",
    "    \n",
    "    @lru_cache()\n",
    "    def maxDepth(self, root: TreeNode) -> int:\n",
    "        print(root)\n",
    "        if not root:\n",
    "            return 0\n",
    "        return 1 + max(self.maxDepth(root.right), self.maxDepth(root.left))\n",
    "\n",
    "    def isBalanced(self, root: TreeNode) -> bool:\n",
    "        if not root:\n",
    "            return True\n",
    "        d = self.maxDepth(root.right) - self.maxDepth(root.left)\n",
    "        if d > 1 or d < -1:\n",
    "            return False\n",
    "        return self.isBalanced(root.right) and self.isBalanced(root.left)\n",
    "          \n",
    "    def serialize(self, root):\n",
    "        if not root:\n",
    "            return []\n",
    "        container = [root]\n",
    "        r = []\n",
    "        while container:\n",
    "            node = container.pop()\n",
    "            if node:\n",
    "                container = [ node.right , node.left] + container\n",
    "            r.append(node if node is None else node.val)\n",
    "        return r\n",
    "            \n",
    "    def deserialize(self, data):\n",
    "        if not data:\n",
    "            return None\n",
    "        nodes = [ None if val is None else TreeNode(val) for val in data]\n",
    "        s = 0\n",
    "        e = 1\n",
    "        while True:\n",
    "            layer = [ node for node in nodes[s:e] if node is not None ]\n",
    "            if not layer:\n",
    "                break\n",
    "            for i in range(len(layer)):\n",
    "                node = layer[i]\n",
    "                if e+2*i < len(nodes):\n",
    "                    node.left = nodes[e+2*i]\n",
    "                if e+2*i+1 < len(nodes):\n",
    "                    node.right = nodes[e+2*i+1]\n",
    "            s = e\n",
    "            e = e + 2*len(layer)\n",
    "        return nodes[0]\n",
    "    \n",
    "s = Solution()\n",
    "serialized = [3,9,20,None,None,15,7]\n",
    "serialized = [3,9,20,None,None,15,7]\n",
    "root = s.deserialize(serialized)\n",
    "s.maxDepth(root)\n",
    "s.isBalanced(root)\n",
    "s.isBalanced(s.deserialize([1,2,2,3,3,None,None,4,4]))\n"
   ]
  },
  {
   "cell_type": "code",
   "execution_count": 3,
   "metadata": {},
   "outputs": [],
   "source": [
    "# 中序遍历 \n",
    "class TreeNode:\n",
    "    def __init__(self, x):\n",
    "        self.val = x\n",
    "        self.left = None\n",
    "        self.right = None\n",
    "    def __repr__(self):\n",
    "        return str(self.val)\n",
    "\n",
    "class Solution:\n",
    "    def isBalanced(self, root: TreeNode) -> bool:\n",
    "        if not root: return True\n",
    "        return abs(self.depth(root.left) - self.depth(root.right)) <= 1 and \\\n",
    "            self.isBalanced(root.left) and self.isBalanced(root.right)\n",
    "\n",
    "    def depth(self, root):\n",
    "        if not root: return 0\n",
    "        return max(self.depth(root.left), self.depth(root.right)) + 1\n"
   ]
  },
  {
   "cell_type": "code",
   "execution_count": 7,
   "metadata": {},
   "outputs": [
    {
     "name": "stdout",
     "output_type": "stream",
     "text": [
      "3 1 2 3\n"
     ]
    }
   ],
   "source": [
    "# 后序遍历，如何设计递归函数\n",
    "from piece.utree import deserialize, print_tree\n",
    "\n",
    "class TreeNode:\n",
    "    def __init__(self, x):\n",
    "        self.val = x\n",
    "        self.left = None\n",
    "        self.right = None\n",
    "    def __repr__(self):\n",
    "        return str(self.val)\n",
    "\n",
    "class Solution:\n",
    "    def isBalanced(self, root: TreeNode) -> bool:\n",
    "        if not root: return 0\n",
    "        l = self.isBalanced(root.left)\n",
    "        r = self.isBalanced(root.right)\n",
    "        if l == -1 or r == -1:\n",
    "            return -1\n",
    "        if -1 <= l-r <= 1:\n",
    "            return self.depth(root)\n",
    "        \n",
    "\n",
    "    def depth(self, root):\n",
    "        if not root: return 0\n",
    "        return max(self.depth(root.left), self.depth(root.right)) + 1\n",
    "\n",
    "\n",
    "serialized = [3,9,20,None,None,15,7]\n",
    "serialized = [3,9,20,None,None,15,7]\n",
    "root = deserialize(serialized)\n",
    "\n",
    "s = Solution()\n",
    "s.isBalanced(root)\n",
    "\n",
    "print_tree(root)\n",
    "\n",
    "print(\n",
    "    s.depth(root),\n",
    "    s.depth(root.left),s.depth(root.right),\n",
    "    s.isBalanced(root)\n",
    ")\n",
    "\n"
   ]
  },
  {
   "cell_type": "code",
   "execution_count": null,
   "metadata": {},
   "outputs": [],
   "source": []
  }
 ],
 "metadata": {
  "kernelspec": {
   "display_name": "Python 3",
   "language": "python",
   "name": "python3"
  },
  "language_info": {
   "codemirror_mode": {
    "name": "ipython",
    "version": 3
   },
   "file_extension": ".py",
   "mimetype": "text/x-python",
   "name": "python",
   "nbconvert_exporter": "python",
   "pygments_lexer": "ipython3",
   "version": "3.7.7"
  },
  "latex_envs": {
   "LaTeX_envs_menu_present": true,
   "autoclose": false,
   "autocomplete": true,
   "bibliofile": "biblio.bib",
   "cite_by": "apalike",
   "current_citInitial": 1,
   "eqLabelWithNumbers": true,
   "eqNumInitial": 1,
   "hotkeys": {
    "equation": "Ctrl-E",
    "itemize": "Ctrl-I"
   },
   "labels_anchors": false,
   "latex_user_defs": false,
   "report_style_numbering": false,
   "user_envs_cfg": false
  },
  "toc": {
   "base_numbering": 1,
   "nav_menu": {},
   "number_sections": true,
   "sideBar": true,
   "skip_h1_title": false,
   "title_cell": "Table of Contents",
   "title_sidebar": "Contents",
   "toc_cell": false,
   "toc_position": {},
   "toc_section_display": true,
   "toc_window_display": false
  },
  "varInspector": {
   "cols": {
    "lenName": 16,
    "lenType": 16,
    "lenVar": 40
   },
   "kernels_config": {
    "python": {
     "delete_cmd_postfix": "",
     "delete_cmd_prefix": "del ",
     "library": "var_list.py",
     "varRefreshCmd": "print(var_dic_list())"
    },
    "r": {
     "delete_cmd_postfix": ") ",
     "delete_cmd_prefix": "rm(",
     "library": "var_list.r",
     "varRefreshCmd": "cat(var_dic_list()) "
    }
   },
   "types_to_exclude": [
    "module",
    "function",
    "builtin_function_or_method",
    "instance",
    "_Feature"
   ],
   "window_display": false
  }
 },
 "nbformat": 4,
 "nbformat_minor": 2
}
