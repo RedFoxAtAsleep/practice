{
 "cells": [
  {
   "cell_type": "code",
   "execution_count": 7,
   "metadata": {
    "ExecuteTime": {
     "end_time": "2020-06-14T07:31:58.046425Z",
     "start_time": "2020-06-14T07:31:58.039799Z"
    }
   },
   "outputs": [],
   "source": [
    "from typing import List\n",
    "from collections import defaultdict\n",
    "class Solution:\n",
    "    def isStraight(self, nums: List[int]) -> bool:\n",
    "        nums.sort()\n",
    "        num_min = 14\n",
    "        num_max = 1\n",
    "        visited = defaultdict(lambda:False)\n",
    "        \n",
    "        for num in nums:\n",
    "            if num != 0:\n",
    "                if visited[num]:\n",
    "                    return False\n",
    "                num_max = num if num > num_max else num_max\n",
    "                num_min = num if num < num_max else num_min\n",
    "                visited[num] = True\n",
    "        if num_max - num_min < 5:\n",
    "            return True\n",
    "                \n",
    "        \n",
    "        "
   ]
  },
  {
   "cell_type": "code",
   "execution_count": 6,
   "metadata": {
    "ExecuteTime": {
     "end_time": "2020-06-14T07:20:28.115143Z",
     "start_time": "2020-06-14T07:20:28.099680Z"
    }
   },
   "outputs": [
    {
     "data": {
      "text/plain": [
       "[1, 1, 2, 3, 3, 4, 4]"
      ]
     },
     "execution_count": 6,
     "metadata": {},
     "output_type": "execute_result"
    }
   ],
   "source": []
  },
  {
   "cell_type": "code",
   "execution_count": null,
   "metadata": {},
   "outputs": [],
   "source": []
  }
 ],
 "metadata": {
  "kernelspec": {
   "display_name": "Python 3",
   "language": "python",
   "name": "python3"
  },
  "language_info": {
   "codemirror_mode": {
    "name": "ipython",
    "version": 3
   },
   "file_extension": ".py",
   "mimetype": "text/x-python",
   "name": "python",
   "nbconvert_exporter": "python",
   "pygments_lexer": "ipython3",
   "version": "3.6.8"
  }
 },
 "nbformat": 4,
 "nbformat_minor": 4
}
