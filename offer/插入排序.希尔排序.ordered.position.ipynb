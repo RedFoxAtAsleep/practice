{
 "cells": [
  {
   "cell_type": "markdown",
   "metadata": {},
   "source": [
    "[插入排序](https://www.runoob.com/w3cnote/insertion-sort.html)\n",
    "\n",
    "[希尔排序 | 维基百科](https://zh.wikipedia.org/wiki/希尔排序)\n",
    "\n",
    "希尔排序（Shellsort），也称递减增量排序算法，是插入排序的一种更高效的改进版本。希尔排序是非稳定排序算法。\n",
    "\n",
    "希尔排序是基于插入排序的以下两点性质而提出改进方法的：\n",
    "插入排序在对几乎已经排好序的数据操作时，效率高，即可以达到线性排序的效率\n",
    "但插入排序一般来说是低效的，因为插入排序每次只能将数据移动一位\n",
    "\n",
    "步长的选择是希尔排序的重要部分。只要最终步长为1任何步长序列都可以工作。表现优异的步长......\n",
    "\n"
   ]
  },
  {
   "cell_type": "code",
   "execution_count": 124,
   "metadata": {
    "ExecuteTime": {
     "end_time": "2020-06-29T09:57:50.388859Z",
     "start_time": "2020-06-29T09:57:50.373590Z"
    }
   },
   "outputs": [],
   "source": [
    "def shell_sort(nums, ncols_iter):\n",
    "    n = len(nums)\n",
    "    ncols = next(ncols_iter)\n",
    "    while ncols >= 1:\n",
    "        nrows = n//ncols+1\n",
    "        print(\"*\"*10)\n",
    "        for j in range(ncols):\n",
    "            a_col = [ i*ncols + j for i in range(nrows) if i*ncols + j < n ]\n",
    "            for i,index in enumerate(a_col):\n",
    "                tmp = nums[index]\n",
    "                ordered = i-1\n",
    "                while ordered >= 0 and nums[a_col[ordered]] > tmp:\n",
    "                    nums[a_col[ordered + 1]] = nums[a_col[ordered]]\n",
    "                    ordered -= 1\n",
    "                nums[a_col[ordered + 1]] = tmp\n",
    "            print([nums[index] for index in a_col])\n",
    "        if ncols == 1:\n",
    "            return nums\n",
    "        ncols = next(ncols_iter)\n",
    "        \n",
    "def shell_sort(nums, ncols_iter):\n",
    "    n = len(nums)\n",
    "    ncols = next(ncols_iter)\n",
    "    while ncols >= 1:\n",
    "        print(ncols)\n",
    "        for position in range(ncols, n):\n",
    "            value = nums[position]\n",
    "            pointer = position\n",
    "            while pointer >= 0 and pointer-ncols >= 0 and nums[pointer-ncols] > value:\n",
    "                nums[pointer] = nums[pointer-ncols]\n",
    "                pointer -= ncols\n",
    "            nums[pointer] = value\n",
    "            \n",
    "        if ncols == 1:\n",
    "            return nums\n",
    "        ncols = next(ncols_iter)\n",
    "                 \n",
    "def reduce_by_half(n):\n",
    "    while n >= 1:\n",
    "        yield n\n",
    "        n = n // 2\n",
    "        \n",
    "def odd(n):\n",
    "    while n > 0:\n",
    "        yield n\n",
    "        n -= 2\n",
    "        "
   ]
  },
  {
   "cell_type": "code",
   "execution_count": 125,
   "metadata": {
    "ExecuteTime": {
     "end_time": "2020-06-29T09:57:50.698975Z",
     "start_time": "2020-06-29T09:57:50.688426Z"
    }
   },
   "outputs": [
    {
     "name": "stdout",
     "output_type": "stream",
     "text": [
      "5\n",
      "2\n",
      "1\n"
     ]
    },
    {
     "data": {
      "text/plain": [
       "[10, 13, 14, 23, 25, 25, 27, 33, 39, 45, 59, 65, 73, 82, 94, 94]"
      ]
     },
     "execution_count": 125,
     "metadata": {},
     "output_type": "execute_result"
    }
   ],
   "source": [
    "nums = [13,14,94,33,82,25,59,94,65,23,45,27,73,25,39,10]\n",
    "shell_sort(\n",
    "    nums, \n",
    "    reduce_by_half(5)\n",
    ")"
   ]
  },
  {
   "cell_type": "code",
   "execution_count": 126,
   "metadata": {
    "ExecuteTime": {
     "end_time": "2020-06-29T09:57:51.123907Z",
     "start_time": "2020-06-29T09:57:51.115034Z"
    }
   },
   "outputs": [
    {
     "name": "stdout",
     "output_type": "stream",
     "text": [
      "5\n",
      "3\n",
      "1\n"
     ]
    },
    {
     "data": {
      "text/plain": [
       "[10, 13, 14, 23, 25, 25, 27, 33, 39, 45, 59, 65, 73, 82, 94, 94]"
      ]
     },
     "execution_count": 126,
     "metadata": {},
     "output_type": "execute_result"
    }
   ],
   "source": [
    "nums = [13,14,94,33,82,25,59,94,65,23,45,27,73,25,39,10]\n",
    "shell_sort(\n",
    "    nums, \n",
    "    odd(5)\n",
    ")"
   ]
  },
  {
   "cell_type": "code",
   "execution_count": 127,
   "metadata": {
    "ExecuteTime": {
     "end_time": "2020-06-29T09:57:53.065889Z",
     "start_time": "2020-06-29T09:57:53.049950Z"
    }
   },
   "outputs": [
    {
     "data": {
      "text/plain": [
       "[10, 13, 14, 23, 25, 25, 27, 33, 39, 45, 59, 65, 73, 82, 94, 94]"
      ]
     },
     "execution_count": 127,
     "metadata": {},
     "output_type": "execute_result"
    }
   ],
   "source": [
    "def insertion_sort(nums):\n",
    "    for i,num in enumerate(nums):\n",
    "        ordered = i-1\n",
    "        while ordered >= 0 and nums[ordered] > num:\n",
    "            nums[ordered + 1] = nums[ordered]\n",
    "            ordered -= 1\n",
    "        nums[ordered+1] = num\n",
    "    return nums\n",
    "\n",
    "insertion_sort([13,14,94,33,82,25,59,94,65,23,45,27,73,25,39,10])"
   ]
  },
  {
   "cell_type": "code",
   "execution_count": 128,
   "metadata": {
    "ExecuteTime": {
     "end_time": "2020-06-29T09:57:59.883327Z",
     "start_time": "2020-06-29T09:57:59.872641Z"
    }
   },
   "outputs": [
    {
     "data": {
      "text/plain": [
       "'13,14,94,33,82,25,59,94,65,23,45,27,73,25,39,10'"
      ]
     },
     "execution_count": 128,
     "metadata": {},
     "output_type": "execute_result"
    }
   ],
   "source": [
    "\"13 14 94 33 82 25 59 94 65 23 45 27 73 25 39 10\".replace(\" \", \",\")"
   ]
  },
  {
   "cell_type": "code",
   "execution_count": 132,
   "metadata": {
    "ExecuteTime": {
     "end_time": "2020-06-29T16:02:29.948862Z",
     "start_time": "2020-06-29T16:02:29.940796Z"
    }
   },
   "outputs": [
    {
     "data": {
      "text/plain": [
       "(True, False, False)"
      ]
     },
     "execution_count": 132,
     "metadata": {},
     "output_type": "execute_result"
    }
   ],
   "source": [
    "[1,2,3] == [1,2,3], [1,2,3] == [\"1\",2,3], [1,2,3] is [1,2,3]"
   ]
  },
  {
   "cell_type": "code",
   "execution_count": 140,
   "metadata": {
    "ExecuteTime": {
     "end_time": "2020-06-29T17:16:52.172555Z",
     "start_time": "2020-06-29T17:16:52.152196Z"
    }
   },
   "outputs": [
    {
     "data": {
      "text/plain": [
       "(False, True)"
      ]
     },
     "execution_count": 140,
     "metadata": {},
     "output_type": "execute_result"
    }
   ],
   "source": [
    "\n",
    "\n"
   ]
  },
  {
   "cell_type": "code",
   "execution_count": 143,
   "metadata": {
    "ExecuteTime": {
     "end_time": "2020-06-29T17:18:05.721043Z",
     "start_time": "2020-06-29T17:18:05.687684Z"
    }
   },
   "outputs": [
    {
     "data": {
      "text/plain": [
       "(False, True)"
      ]
     },
     "execution_count": 143,
     "metadata": {},
     "output_type": "execute_result"
    }
   ],
   "source": [
    "class node:\n",
    "    def __init__(self,a,b):\n",
    "        self.a = a\n",
    "        self.b = b\n",
    "n0 = node(1,2)\n",
    "n1 = node(1,2)\n",
    "n0 == n1, n0.__dict__ == n1.__dict__"
   ]
  },
  {
   "cell_type": "code",
   "execution_count": 139,
   "metadata": {
    "ExecuteTime": {
     "end_time": "2020-06-29T17:15:00.191980Z",
     "start_time": "2020-06-29T17:15:00.158903Z"
    },
    "scrolled": true
   },
   "outputs": [
    {
     "ename": "AttributeError",
     "evalue": "'Point' object has no attribute '__dict__'",
     "output_type": "error",
     "traceback": [
      "\u001b[0;31m---------------------------------------------------------------------------\u001b[0m",
      "\u001b[0;31mAttributeError\u001b[0m                            Traceback (most recent call last)",
      "\u001b[0;32m<ipython-input-139-bf47cef65e02>\u001b[0m in \u001b[0;36m<module>\u001b[0;34m\u001b[0m\n\u001b[1;32m      4\u001b[0m \u001b[0mp1\u001b[0m \u001b[0;34m=\u001b[0m \u001b[0mPoint\u001b[0m\u001b[0;34m(\u001b[0m\u001b[0;36m0\u001b[0m\u001b[0;34m,\u001b[0m\u001b[0;36m1\u001b[0m\u001b[0;34m)\u001b[0m\u001b[0;34m\u001b[0m\u001b[0;34m\u001b[0m\u001b[0m\n\u001b[1;32m      5\u001b[0m \u001b[0;34m\u001b[0m\u001b[0m\n\u001b[0;32m----> 6\u001b[0;31m \u001b[0mp0\u001b[0m \u001b[0;34m==\u001b[0m \u001b[0mp1\u001b[0m\u001b[0;34m,\u001b[0m \u001b[0mp0\u001b[0m\u001b[0;34m.\u001b[0m\u001b[0m__dict__\u001b[0m \u001b[0;34m==\u001b[0m \u001b[0mp1\u001b[0m\u001b[0;34m.\u001b[0m\u001b[0m__dict__\u001b[0m\u001b[0;34m\u001b[0m\u001b[0;34m\u001b[0m\u001b[0m\n\u001b[0m",
      "\u001b[0;31mAttributeError\u001b[0m: 'Point' object has no attribute '__dict__'"
     ]
    }
   ],
   "source": [
    "from collections import namedtuple\n",
    "Point = namedtuple(\"Point\", [\"x\", \"y\"])\n",
    "p0 = Point(0,1)\n",
    "p1 = Point(0,1)\n",
    "\n",
    "p0 == p1, p0.__dict__ == p1.__dict__\n"
   ]
  },
  {
   "cell_type": "code",
   "execution_count": 145,
   "metadata": {
    "ExecuteTime": {
     "end_time": "2020-06-29T17:19:39.066013Z",
     "start_time": "2020-06-29T17:19:39.045113Z"
    }
   },
   "outputs": [],
   "source": []
  },
  {
   "cell_type": "code",
   "execution_count": null,
   "metadata": {},
   "outputs": [],
   "source": []
  }
 ],
 "metadata": {
  "kernelspec": {
   "display_name": "tool",
   "language": "python",
   "name": "tool"
  },
  "language_info": {
   "codemirror_mode": {
    "name": "ipython",
    "version": 3
   },
   "file_extension": ".py",
   "mimetype": "text/x-python",
   "name": "python",
   "nbconvert_exporter": "python",
   "pygments_lexer": "ipython3",
   "version": "3.7.6"
  }
 },
 "nbformat": 4,
 "nbformat_minor": 4
}
