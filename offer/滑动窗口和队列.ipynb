{
 "cells": [
  {
   "cell_type": "code",
   "execution_count": 32,
   "metadata": {
    "ExecuteTime": {
     "end_time": "2020-06-13T17:56:12.535288Z",
     "start_time": "2020-06-13T17:56:12.514571Z"
    }
   },
   "outputs": [
    {
     "data": {
      "text/plain": [
       "[3, 3, 5, 5, 6, 7]"
      ]
     },
     "execution_count": 32,
     "metadata": {},
     "output_type": "execute_result"
    }
   ],
   "source": [
    "from typing import List\n",
    "\n",
    "class Solution:\n",
    "    def maxSlidingWindow(self, nums: List[int], k: int) -> List[int]:\n",
    "        \n",
    "        def recursion(i, w):\n",
    "            if w == 1:\n",
    "                return nums[i]\n",
    "            return max(recursion(i, w-1), nums[i+w-1])\n",
    "        return [ recursion(i,k) for i in range(len(nums)-k+1) ]\n",
    "    \n",
    "s = Solution()\n",
    "s.maxSlidingWindow([1,3,-1,-3,5,3,6,7], 3)"
   ]
  },
  {
   "cell_type": "code",
   "execution_count": 34,
   "metadata": {
    "ExecuteTime": {
     "end_time": "2020-06-13T18:00:47.857964Z",
     "start_time": "2020-06-13T18:00:47.839221Z"
    }
   },
   "outputs": [
    {
     "name": "stdout",
     "output_type": "stream",
     "text": [
      "0 3\n",
      "0 2\n",
      "0 1\n",
      "1 1\n",
      "1 2\n",
      "2 1\n",
      "1 3\n",
      "2 2\n",
      "3 1\n",
      "2 3\n",
      "3 2\n",
      "4 1\n",
      "3 3\n",
      "4 2\n",
      "5 1\n",
      "4 3\n",
      "5 2\n",
      "6 1\n",
      "5 3\n",
      "6 2\n",
      "7 1\n"
     ]
    },
    {
     "data": {
      "text/plain": [
       "[3, 3, 5, 5, 6, 7]"
      ]
     },
     "execution_count": 34,
     "metadata": {},
     "output_type": "execute_result"
    }
   ],
   "source": [
    "from typing import List\n",
    "from functools import lru_cache\n",
    "\n",
    "class Solution:\n",
    "        \n",
    "    def maxSlidingWindow(self, nums: List[int], k: int) -> List[int]:\n",
    "        \n",
    "    \n",
    "        @lru_cache()\n",
    "        def recursion(i, w):\n",
    "            print(i, w)\n",
    "            if w == 1:\n",
    "                return nums[i]\n",
    "            return max(\n",
    "                recursion(i, w-1), \n",
    "                recursion(i+1, w-1)\n",
    "            )\n",
    "        if len(nums) == 0:\n",
    "            return 0\n",
    "        return [ recursion(i,k) for i in range(len(nums)-k+1) ]\n",
    "\n",
    "a = [1,3,-1,-3,5,3,6,7]\n",
    "w = 3\n",
    "s = Solution()\n",
    "s.maxSlidingWindow(a, 3)"
   ]
  },
  {
   "cell_type": "code",
   "execution_count": 43,
   "metadata": {
    "ExecuteTime": {
     "end_time": "2020-06-14T04:06:33.049921Z",
     "start_time": "2020-06-14T04:06:33.032108Z"
    }
   },
   "outputs": [
    {
     "name": "stdout",
     "output_type": "stream",
     "text": [
      "res 3 [3, 3]\n",
      "res 4 [3, 3, 5]\n",
      "res 5 [3, 3, 5, 5]\n",
      "res 6 [3, 3, 5, 5, 6]\n",
      "res 7 [3, 3, 5, 5, 6, 7]\n"
     ]
    },
    {
     "data": {
      "text/plain": [
       "[3, 3, 5, 5, 6, 7]"
      ]
     },
     "execution_count": 43,
     "metadata": {},
     "output_type": "execute_result"
    }
   ],
   "source": [
    "# 单调栈，单调队列\n",
    "from typing import List\n",
    "from collections import deque\n",
    "\n",
    "class Solution:\n",
    "    def maxSlidingWindow(self, nums: List[int], k: int) -> List[int]:\n",
    "        if not nums or k == 0:\n",
    "            return []\n",
    "        self.d = deque()\n",
    "        for i in range(k):\n",
    "            while self.d and self.d[-1] < nums[i]:\n",
    "                self.d.pop()\n",
    "            self.d.append(nums[i])\n",
    "        self.res = [self.d[0]]\n",
    "        \n",
    "        for i in range(k, len(nums)):\n",
    "            # i加入窗口\n",
    "            # i - k离开窗口\n",
    "            if nums[i-k] == self.d[0]:\n",
    "                self.d.popleft()\n",
    "            # 维持单调队列，非增\n",
    "            # 即便值相同，代表的是不同位置的值\n",
    "            while self.d and self.d[-1] < nums[i]:\n",
    "                self.d.pop()\n",
    "            self.d.append(nums[i])\n",
    "            self.res.append(self.d[0])\n",
    "        return self.res\n",
    "            \n",
    "a = [1,3,-1,-3,5,3,6,7]\n",
    "w = 3\n",
    "s = Solution()\n",
    "s.maxSlidingWindow(a, 3)"
   ]
  },
  {
   "cell_type": "code",
   "execution_count": 46,
   "metadata": {
    "ExecuteTime": {
     "end_time": "2020-06-14T04:24:21.175925Z",
     "start_time": "2020-06-14T04:24:21.168323Z"
    }
   },
   "outputs": [],
   "source": [
    "class MaxQueue:\n",
    "\n",
    "    def __init__(self):\n",
    "        self.d = []\n",
    "        self.linear = []\n",
    "\n",
    "    def max_value(self) -> int:\n",
    "        r = None\n",
    "        if self.linear:\n",
    "            r = self.linear[0]\n",
    "        return r\n",
    "\n",
    "    def push_back(self, value: int) -> None:\n",
    "        self.d.append(value)\n",
    "        while self.linear:\n",
    "            if self.linear[-1] < value:\n",
    "                self.linear.pop()\n",
    "        self.linear.append(value)\n",
    "\n",
    "    def pop_front(self) -> int:\n",
    "        if self.d:\n",
    "            poped = self.d.pop(0)\n",
    "            if self.linear and self.linear[0] == poped:\n",
    "                self.linear = self.linear[1:]\n",
    "            return poped\n",
    "        \n",
    "        \n",
    "        \n",
    "        \n",
    "        "
   ]
  },
  {
   "cell_type": "code",
   "execution_count": null,
   "metadata": {},
   "outputs": [],
   "source": []
  }
 ],
 "metadata": {
  "kernelspec": {
   "display_name": "Python 3",
   "language": "python",
   "name": "python3"
  },
  "language_info": {
   "codemirror_mode": {
    "name": "ipython",
    "version": 3
   },
   "file_extension": ".py",
   "mimetype": "text/x-python",
   "name": "python",
   "nbconvert_exporter": "python",
   "pygments_lexer": "ipython3",
   "version": "3.6.8"
  }
 },
 "nbformat": 4,
 "nbformat_minor": 4
}
