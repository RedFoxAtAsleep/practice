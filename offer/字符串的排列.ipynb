{
 "cells": [
  {
   "cell_type": "code",
   "execution_count": 22,
   "metadata": {
    "ExecuteTime": {
     "end_time": "2020-06-07T13:33:12.367382Z",
     "start_time": "2020-06-07T13:33:12.277098Z"
    }
   },
   "outputs": [
    {
     "name": "stdout",
     "output_type": "stream",
     "text": [
      "['aab', 'aba', 'baa']\n",
      "['aab']\n"
     ]
    }
   ],
   "source": [
    "# dfs\n",
    "# 递归函数的签名可以先一步确定，如输入字符串返回字符串列表\n",
    "\n",
    "from itertools import permutations\n",
    "from collections import defaultdict\n",
    "\n",
    "class Solution:\n",
    "    \n",
    "    # 'aab'\n",
    "    # ['aab', 'aba', 'aab', 'aba', 'baa', 'baa']\n",
    "    def permutation(self, s):\n",
    "        return [ \"\".join(chars) for chars in permutations(s, len(s))]\n",
    "    \n",
    "    # 'aab'\n",
    "    # ['aab', 'aba', 'aab', 'aba', 'baa', 'baa']\n",
    "    def permutation(self, s):\n",
    "        def dfs(s):\n",
    "            if len(s) == 1:\n",
    "                return [s]\n",
    "            r = []\n",
    "            for char in s:\n",
    "                i = s.index(char)\n",
    "                remained = s[:i]+s[i+1:]\n",
    "                r.extend(\n",
    "                    [ char+sub for sub in dfs(remained)]\n",
    "                )\n",
    "            # return ['a'+ sub for sub in dfs()] + , ['b'+ sub for sub in dfs()] + ['c'+ sub for sub in dfs()]\n",
    "            return r\n",
    "        return dfs(s)\n",
    "    # 'aab'\n",
    "    # ['aab', 'aba', 'baa']\n",
    "    def permutation(self, s):\n",
    "        def dfs(s):\n",
    "            if len(s) == 1:\n",
    "                return [s]\n",
    "            r = []\n",
    "            avoid = defaultdict(str)\n",
    "            for char in s:\n",
    "                i = s.index(char)\n",
    "                remained = s[:i]+s[i+1:]\n",
    "                if avoid[char] == remained:\n",
    "                    continue\n",
    "                avoid[char] = remained\n",
    "                r.extend(\n",
    "                    [ char+sub for sub in dfs(remained)]\n",
    "                )\n",
    "            # return ['a'+ sub for sub in dfs()] + , ['b'+ sub for sub in dfs()] + ['c'+ sub for sub in dfs()]\n",
    "            return r\n",
    "        return dfs(s)\n",
    "    \n",
    "    def combination(self, s):\n",
    "        def dfs(s):\n",
    "            if len(s) == 1:\n",
    "                return [s]\n",
    "            return [s[0] + sub for sub in dfs(s[1:])]\n",
    "            return r\n",
    "        return dfs(s)\n",
    "\n",
    "s = Solution()\n",
    "r = s.permutation(\"aab\")\n",
    "print(r)\n",
    "r = s.combination(\"aab\")\n",
    "print(r)"
   ]
  },
  {
   "cell_type": "code",
   "execution_count": 19,
   "metadata": {
    "ExecuteTime": {
     "end_time": "2020-06-07T13:28:34.732744Z",
     "start_time": "2020-06-07T13:28:34.723655Z"
    }
   },
   "outputs": [
    {
     "data": {
      "text/plain": [
       "['aab', 'aba', 'aab', 'aba', 'baa', 'baa']"
      ]
     },
     "execution_count": 19,
     "metadata": {},
     "output_type": "execute_result"
    }
   ],
   "source": [
    "r"
   ]
  },
  {
   "cell_type": "code",
   "execution_count": null,
   "metadata": {},
   "outputs": [],
   "source": []
  }
 ],
 "metadata": {
  "kernelspec": {
   "display_name": "Python 3",
   "language": "python",
   "name": "python3"
  },
  "language_info": {
   "codemirror_mode": {
    "name": "ipython",
    "version": 3
   },
   "file_extension": ".py",
   "mimetype": "text/x-python",
   "name": "python",
   "nbconvert_exporter": "python",
   "pygments_lexer": "ipython3",
   "version": "3.6.8"
  }
 },
 "nbformat": 4,
 "nbformat_minor": 2
}
