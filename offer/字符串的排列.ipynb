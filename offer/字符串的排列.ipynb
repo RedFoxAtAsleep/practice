{
 "cells": [
  {
   "cell_type": "code",
   "execution_count": 17,
   "metadata": {
    "ExecuteTime": {
     "end_time": "2020-06-07T13:33:12.367382Z",
     "start_time": "2020-06-07T13:33:12.277098Z"
    }
   },
   "outputs": [
    {
     "name": "stdout",
     "output_type": "stream",
     "text": [
      "['aab', 'aba', 'baa']\n",
      "['a', 'b']\n"
     ]
    }
   ],
   "source": [
    "# dfs\n",
    "# 递归函数的签名可以先一步确定，如输入字符串返回字符串列表\n",
    "\n",
    "from itertools import permutations\n",
    "from collections import defaultdict\n",
    "\n",
    "class Solution:\n",
    "    \n",
    "    # 'aab'\n",
    "    # ['aab', 'aba', 'aab', 'aba', 'baa', 'baa']\n",
    "    def permutation(self, s):\n",
    "        return [ \"\".join(chars) for chars in permutations(s, len(s))]\n",
    "    \n",
    "    # 'aab'\n",
    "    # ['aab', 'aba', 'aab', 'aba', 'baa', 'baa']\n",
    "    def permutation(self, s):\n",
    "        def dfs(s):\n",
    "            if len(s) == 1:\n",
    "                return [s]\n",
    "            r = []\n",
    "            for char in s:\n",
    "                i = s.index(char)\n",
    "                remained = s[:i]+s[i+1:]\n",
    "                r.extend(\n",
    "                    [ char+sub for sub in dfs(remained)]\n",
    "                )\n",
    "            # return ['a'+ sub for sub in dfs()] + , ['b'+ sub for sub in dfs()] + ['c'+ sub for sub in dfs()]\n",
    "            return r\n",
    "        return dfs(s)\n",
    "    # 'aab'\n",
    "    # ['aab', 'aba', 'baa']\n",
    "    def permutation(self, s):\n",
    "        def dfs(s):\n",
    "            if len(s) == 1:\n",
    "                return [s]\n",
    "            r = []\n",
    "            repeat = defaultdict(lambda:0)\n",
    "            for char in s:\n",
    "                i = s.index(char)\n",
    "                remained = s[:i]+s[i+1:]\n",
    "                if repeat[char] > 0:\n",
    "                    continue\n",
    "                repeat[char] += 1\n",
    "                r.extend(\n",
    "                    [ char+sub for sub in dfs(remained)]\n",
    "                )\n",
    "            # return ['a'+ sub for sub in dfs()] + , ['b'+ sub for sub in dfs()] + ['c'+ sub for sub in dfs()]\n",
    "            return r\n",
    "        return dfs(s)\n",
    "    \n",
    "    # 'aaab'\n",
    "    # ['aa', 'aa', 'aa', 'ab', 'aa', 'aa', 'ab', 'aa', 'ab']\n",
    "    def combination(self, s, n=1):\n",
    "        def dfs(s, n):\n",
    "            if n == 0:\n",
    "                return []\n",
    "            if n == 1:\n",
    "                return list(s)\n",
    "            if n > len(s):\n",
    "                return []\n",
    "            r = []\n",
    "            m = len(s)\n",
    "            while m >= n:\n",
    "                r.extend([s[-m] + sub for sub in dfs(s[-m:], n-1)])\n",
    "                m -= 1\n",
    "            return r\n",
    "        return dfs(s, n)\n",
    "    \n",
    "    # 'aaab'\n",
    "    # ['aa', 'ab']\n",
    "    def combination(self, s, n=1):\n",
    "        def dfs(s, n):\n",
    "            if n == 0:\n",
    "                return []\n",
    "            if n == 1:\n",
    "                return list(s)\n",
    "            if n > len(s):\n",
    "                return []\n",
    "            r = []\n",
    "            m = len(s)\n",
    "            while m >= n:\n",
    "                r.extend([s[-m] + sub for sub in dfs(s[-m:], n-1)])\n",
    "                m -= 1\n",
    "            return r\n",
    "        s = ''.join(set(list(s)))\n",
    "        return dfs(s, n)\n",
    "\n",
    "s = Solution()\n",
    "r = s.permutation(\"aab\")\n",
    "print(r)\n",
    "r = s.combination(\"aaab\", 1)\n",
    "print(r)"
   ]
  },
  {
   "cell_type": "code",
   "execution_count": 19,
   "metadata": {
    "ExecuteTime": {
     "end_time": "2020-06-07T13:28:34.732744Z",
     "start_time": "2020-06-07T13:28:34.723655Z"
    }
   },
   "outputs": [
    {
     "data": {
      "text/plain": [
       "['aab', 'aba', 'aab', 'aba', 'baa', 'baa']"
      ]
     },
     "execution_count": 19,
     "metadata": {},
     "output_type": "execute_result"
    }
   ],
   "source": [
    "from itertools import permutations\n",
    "\n",
    "class Solution:\n",
    "    def permutation(self, s):\n",
    "        return [ \"\".join(chars) for chars in permutations(s, len(s))]"
   ]
  },
  {
   "cell_type": "code",
   "execution_count": null,
   "metadata": {},
   "outputs": [],
   "source": []
  }
 ],
 "metadata": {
  "kernelspec": {
   "display_name": "Python 3",
   "language": "python",
   "name": "python3"
  },
  "language_info": {
   "codemirror_mode": {
    "name": "ipython",
    "version": 3
   },
   "file_extension": ".py",
   "mimetype": "text/x-python",
   "name": "python",
   "nbconvert_exporter": "python",
   "pygments_lexer": "ipython3",
   "version": "3.7.7"
  },
  "latex_envs": {
   "LaTeX_envs_menu_present": true,
   "autoclose": false,
   "autocomplete": true,
   "bibliofile": "biblio.bib",
   "cite_by": "apalike",
   "current_citInitial": 1,
   "eqLabelWithNumbers": true,
   "eqNumInitial": 1,
   "hotkeys": {
    "equation": "Ctrl-E",
    "itemize": "Ctrl-I"
   },
   "labels_anchors": false,
   "latex_user_defs": false,
   "report_style_numbering": false,
   "user_envs_cfg": false
  },
  "toc": {
   "base_numbering": 1,
   "nav_menu": {},
   "number_sections": true,
   "sideBar": true,
   "skip_h1_title": false,
   "title_cell": "Table of Contents",
   "title_sidebar": "Contents",
   "toc_cell": false,
   "toc_position": {},
   "toc_section_display": true,
   "toc_window_display": false
  },
  "varInspector": {
   "cols": {
    "lenName": 16,
    "lenType": 16,
    "lenVar": 40
   },
   "kernels_config": {
    "python": {
     "delete_cmd_postfix": "",
     "delete_cmd_prefix": "del ",
     "library": "var_list.py",
     "varRefreshCmd": "print(var_dic_list())"
    },
    "r": {
     "delete_cmd_postfix": ") ",
     "delete_cmd_prefix": "rm(",
     "library": "var_list.r",
     "varRefreshCmd": "cat(var_dic_list()) "
    }
   },
   "types_to_exclude": [
    "module",
    "function",
    "builtin_function_or_method",
    "instance",
    "_Feature"
   ],
   "window_display": false
  }
 },
 "nbformat": 4,
 "nbformat_minor": 2
}
