{
 "cells": [
  {
   "cell_type": "markdown",
   "metadata": {},
   "source": [
    "计数排序、桶排序、基数排序这三种排序算法都利用了桶的概念，但对桶的使用方法上有明显差异：\n",
    "* 计数排序：每个桶只存储单一键值；\n",
    "* 桶排序：每个桶存储一定范围的数值；\n",
    "* 基数排序：非比较排序，数位填充和分割\n",
    "\n"
   ]
  },
  {
   "cell_type": "markdown",
   "metadata": {},
   "source": [
    "[用python实现“桶排序”](https://cloud.tencent.com/developer/article/1477342)\n",
    "\n",
    "* 找出序列中的最大和最小值，目的是为了确定所需桶的数量；\n",
    "* 将数据放入相应的桶；\n",
    "* 桶内数据进行排序，可以按照快排等算法进行排序，如果采用插入排序，在入桶的时候就可以完成；\n",
    "* 桶内数据有序取出并合并成完整的有序序列。\n",
    "\n",
    "复杂度分析：\n",
    "* 空间复杂：O(n)\n",
    "* 时间复杂度\n",
    "    * 最优时间复杂度：O(n)\n",
    "    * 最坏时间复杂度：O(nlogn)\n",
    "    * 平均时间复杂度：O(n)\n",
    "\n",
    "是否属于原地排序算法：不是一种原地排序算法\n",
    "\n",
    "稳定性：稳定\n",
    "\n",
    "适应范围：适应外部排序，即数据量比较大，但是数据范围比较小的排序，每个桶内排序的负担越小越好，数据范围小数据量大一个值一个桶。"
   ]
  },
  {
   "cell_type": "markdown",
   "metadata": {},
   "source": [
    "基数排序：非比较排序\n",
    "\n",
    "基数排序的方式可以采用LSD（Least significant digital）或MSD（Most significant digital），LSD的排序方式由键值的最右边开始，而MSD则相反，由键值的最左边开始。\n",
    "\n",
    "[基数排序 | 菜鸟教程](https://www.runoob.com/w3cnote/radix-sort.html)"
   ]
  },
  {
   "cell_type": "code",
   "execution_count": 48,
   "metadata": {
    "ExecuteTime": {
     "end_time": "2020-06-29T10:00:01.371715Z",
     "start_time": "2020-06-29T10:00:01.343271Z"
    }
   },
   "outputs": [
    {
     "data": {
      "text/plain": [
       "[0, 1, 2, 2, 4, 5, 5, 7, 7, 8]"
      ]
     },
     "execution_count": 48,
     "metadata": {},
     "output_type": "execute_result"
    }
   ],
   "source": [
    "def count_sort(nums, func):\n",
    "    \n",
    "    gte, lte = min(nums), max(nums)\n",
    "    bucket = [0]*(lte-gte+1)\n",
    "    for num in nums:\n",
    "        bucket[num-gte] += 1\n",
    "    r = []\n",
    "    for i, count in enumerate(bucket):\n",
    "        r.extend([i]*count)\n",
    "    return r\n",
    "\n",
    "nums = [1,8,6,3,6,8,9,2,3,5]\n",
    "count_sort(nums, lambda x:x)"
   ]
  },
  {
   "cell_type": "code",
   "execution_count": 49,
   "metadata": {
    "ExecuteTime": {
     "end_time": "2020-06-29T10:00:02.009156Z",
     "start_time": "2020-06-29T10:00:01.967905Z"
    }
   },
   "outputs": [
    {
     "name": "stdout",
     "output_type": "stream",
     "text": [
      "[Element(index=0, value=1), Element(index=1, value=8), Element(index=2, value=6), Element(index=3, value=3), Element(index=4, value=6), Element(index=5, value=8), Element(index=6, value=9), Element(index=7, value=2), Element(index=8, value=3), Element(index=9, value=5)]\n",
      "[1]\n",
      "[8]\n",
      "[6]\n",
      "[1, 3]\n",
      "[6, 6]\n",
      "[8, 8]\n",
      "[8, 8, 9]\n",
      "[1, 2, 3]\n",
      "[1, 2, 3, 3]\n",
      "[5, 6, 6]\n"
     ]
    },
    {
     "data": {
      "text/plain": [
       "[Element(index=0, value=1),\n",
       " Element(index=7, value=2),\n",
       " Element(index=3, value=3),\n",
       " Element(index=8, value=3),\n",
       " Element(index=9, value=5),\n",
       " Element(index=2, value=6),\n",
       " Element(index=4, value=6),\n",
       " Element(index=1, value=8),\n",
       " Element(index=5, value=8),\n",
       " Element(index=6, value=9)]"
      ]
     },
     "execution_count": 49,
     "metadata": {},
     "output_type": "execute_result"
    }
   ],
   "source": [
    "from collections import namedtuple\n",
    "from bisect import bisect, insort\n",
    "from functools import reduce\n",
    "\n",
    "Element = namedtuple(\"Element\", [\"index\",\"value\"])\n",
    "# class Element:\n",
    "#     def __init__(self, index, num):\n",
    "#         self.index = index\n",
    "#         self.num = num\n",
    "\n",
    "nums = [1,8,6,3,6,8,9,2,3,5]\n",
    "elements = [Element(i,num) for i,num in enumerate(nums)]\n",
    "\n",
    "print(elements)\n",
    "\n",
    "def bucket_sort(elements, func, bucket_size):\n",
    "    \n",
    "    gte, lt = func(min(elements, key=func)), func(max(elements, key=func))+1\n",
    "    bucket_amount = (lt-gte) // bucket_size + 1\n",
    "    buckets = [[] for i in range(bucket_amount)]\n",
    "    \n",
    "    for element in elements:\n",
    "        # 对每个桶各自进行排序，如果采用插入排序，在入桶的时候就可以完成\n",
    "        bucket_index = (func(element)-gte) // bucket_size \n",
    "        binary_insert(buckets[bucket_index], element, func)\n",
    "    \n",
    "    return reduce(lambda x,y:x+y, buckets)\n",
    "\n",
    "    \n",
    "def binary_insert(elements, element,func):\n",
    "    index = bisect(\n",
    "        [ func(e) for e in elements],\n",
    "        func(element)\n",
    "    )\n",
    "    elements.insert(index, element)\n",
    "    print([ func(e) for e in elements])\n",
    "\n",
    "bucket_sort(elements, lambda x:x.value, 3)\n"
   ]
  },
  {
   "cell_type": "code",
   "execution_count": null,
   "metadata": {
    "ExecuteTime": {
     "end_time": "2020-06-29T09:03:03.005766Z",
     "start_time": "2020-06-29T09:03:02.983783Z"
    }
   },
   "outputs": [],
   "source": [
    "def radix_sort(nums, radix)"
   ]
  },
  {
   "cell_type": "code",
   "execution_count": 127,
   "metadata": {
    "ExecuteTime": {
     "end_time": "2020-06-29T16:53:07.500227Z",
     "start_time": "2020-06-29T16:53:07.469975Z"
    },
    "scrolled": true
   },
   "outputs": [
    {
     "name": "stdout",
     "output_type": "stream",
     "text": [
      "True True [4, 3, 2, 1, 0, 0] [0, 0, 1, 2, 3, 4] [0, 0, 0, 0, 1, 0] [0, 1, 0, 0, 0, 0] True True True True\n",
      "[[10], [], [82, 22], [13, 33, 23, 73], [14, 94, 94], [25, 65, 45, 25], [], [], [], [59, 39]]\n",
      "[[], [10, 13, 14], [22, 23, 25, 25], [33, 39], [45], [59], [65], [73], [82], [94, 94]]\n"
     ]
    },
    {
     "data": {
      "text/plain": [
       "[10, 13, 14, 22, 23, 25, 25, 33, 39, 45, 59, 65, 73, 82, 94, 94]"
      ]
     },
     "execution_count": 127,
     "metadata": {},
     "output_type": "execute_result"
    }
   ],
   "source": [
    "import math\n",
    "from functools import reduce\n",
    "\n",
    "\n",
    "def find_num_of_digits(num, radix):\n",
    "    # 1023 = 2**10-1\n",
    "    return math.ceil(math.log(num+1,radix))\n",
    "\n",
    "\n",
    "def num2digits(num, radix, num_of_digits, order):\n",
    "    # 以radix为基数，数n需要多少位表示\n",
    "    # 2**4-1 == 15 == 1111 10000 == 16\n",
    "    necessary_num_of_digits = math.ceil(math.log(num+1,radix))\n",
    "    if num_of_digits < necessary_num_of_digits:\n",
    "        raise Exception('指定位数不足！')\n",
    "    digits = []\n",
    "    if order == \"big-endian\":\n",
    "        for i in range(num_of_digits,0,-1):\n",
    "            digit = num // radix**(i-1) % radix\n",
    "            digits.append(digit)\n",
    "    if order == \"small-endian\":\n",
    "        for i in range(1, num_of_digits+1):\n",
    "            digit = num % radix**(i) // radix**(i-1)\n",
    "            digits.append(digit)\n",
    "    return digits\n",
    "\n",
    "def digits2num(digits, radix, order):\n",
    "    if order == \"big-endian\":\n",
    "        digits.reverse()\n",
    "    '''\n",
    "    num = 0\n",
    "    for i, digit in enumerate(digits):\n",
    "        num += digit*radix**i\n",
    "    '''\n",
    "    num = 0\n",
    "    power = 1\n",
    "    for i, digit in enumerate(digits):\n",
    "        num += digit * power\n",
    "        power *= radix\n",
    "    return num\n",
    " \n",
    "    \n",
    "print(\n",
    "    find_digits_num(16, 2) == 5, # 10000\n",
    "    find_digits_num(15, 2) == 4, # 10000 - 1 = 1111\n",
    "    num2digits(1234, 10, 6, \"small-endian\"),\n",
    "    num2digits(1234, 10, 6, \"big-endian\"),\n",
    "    num2digits(16, 2, 6, \"small-endian\"),\n",
    "    num2digits(16, 2, 6, \"big-endian\"),\n",
    "    digits2num([4, 3, 2, 1, 0, 0], 10, \"small-endian\") == 1234,\n",
    "    digits2num([1, 2, 3, 4], 10, \"big-endian\") == 1234,\n",
    "    digits2num([0, 0, 0, 0, 1, 0], 2, \"small-endian\") == 16,\n",
    "    digits2num([0, 1, 0, 0, 0, 0], 2, \"big-endian\") == 16,\n",
    ")\n",
    "\n",
    "\n",
    "def radix_sort(nums, radix):\n",
    "    # Least significant digital\n",
    "    nummax = max(nums)\n",
    "    num_of_digits = find_num_of_digits(nummax, radix)\n",
    "    digitss = { num: num2digits(num, radix, num_of_digits, order=\"small-endian\") for num in nums}\n",
    "\n",
    "    for epoch in range(num_of_digits):\n",
    "        buckets = [[]for i in range(radix)]\n",
    "        # 入桶\n",
    "        for i,num in enumerate(nums):\n",
    "            digits = digitss[num]\n",
    "            bucket_index = digits[epoch]\n",
    "            buckets[bucket_index].append(num)\n",
    "        print(buckets)\n",
    "        # 出桶\n",
    "        nums = []\n",
    "        for bucket in buckets:\n",
    "            nums += bucket\n",
    "        # 入桶出桶，其实就是按某一位排序，不过要注意，位相同时的排序顺序（入桶出桶入栈出栈）\n",
    "    return nums\n",
    "radix_sort([13,14,94,33,82,25,59,94,65,23,45,22,73,25,39,10], 10)\n",
    "        \n"
   ]
  },
  {
   "cell_type": "code",
   "execution_count": 110,
   "metadata": {
    "ExecuteTime": {
     "end_time": "2020-06-29T16:29:13.566717Z",
     "start_time": "2020-06-29T16:29:13.558808Z"
    }
   },
   "outputs": [
    {
     "data": {
      "text/plain": [
       "2"
      ]
     },
     "execution_count": 110,
     "metadata": {},
     "output_type": "execute_result"
    }
   ],
   "source": [
    "find_num_of_digits(12, 10)"
   ]
  },
  {
   "cell_type": "code",
   "execution_count": null,
   "metadata": {},
   "outputs": [],
   "source": []
  }
 ],
 "metadata": {
  "kernelspec": {
   "display_name": "tool",
   "language": "python",
   "name": "tool"
  },
  "language_info": {
   "codemirror_mode": {
    "name": "ipython",
    "version": 3
   },
   "file_extension": ".py",
   "mimetype": "text/x-python",
   "name": "python",
   "nbconvert_exporter": "python",
   "pygments_lexer": "ipython3",
   "version": "3.7.6"
  }
 },
 "nbformat": 4,
 "nbformat_minor": 4
}
