{
 "cells": [
  {
   "cell_type": "code",
   "execution_count": 3,
   "metadata": {
    "ExecuteTime": {
     "end_time": "2020-06-13T07:28:00.215573Z",
     "start_time": "2020-06-13T07:28:00.197590Z"
    }
   },
   "outputs": [
    {
     "data": {
      "text/plain": [
       "[10, 30]"
      ]
     },
     "execution_count": 3,
     "metadata": {},
     "output_type": "execute_result"
    }
   ],
   "source": [
    "# 输入一个递增排序的数组和一个数字s，在数组中查找两个数，使得它们的和正好是s。如果有多对数字的和等于s，则输出任意一对即可。\n",
    "from typing import List\n",
    "class Solution:\n",
    "    def twoSum(self, nums: List[int], target: int) -> List[int]:\n",
    "        i = 0\n",
    "        j = len(nums)-1\n",
    "        while i < j:\n",
    "            if nums[i] + nums[j] == target:\n",
    "                return [nums[i], nums[j]]\n",
    "            if nums[i] + nums[j] > target:\n",
    "                j -= 1\n",
    "            if nums[i] + nums[j] < target:\n",
    "                i += 1\n",
    "        return None\n",
    "    \n",
    "s = Solution()\n",
    "s.twoSum([10,26,30,31,47,60], 40)"
   ]
  },
  {
   "cell_type": "code",
   "execution_count": 11,
   "metadata": {},
   "outputs": [
    {
     "data": {
      "text/plain": [
       "[10, 30]"
      ]
     },
     "execution_count": 11,
     "metadata": {},
     "output_type": "execute_result"
    }
   ],
   "source": [
    "# 数列中两个数字的和，通用\n",
    "from typing import List\n",
    "class Solution:\n",
    "    def twoSum(self, nums: List[int], target: int) -> List[int]:\n",
    "        visited = set()\n",
    "        for num in nums:\n",
    "            if target - num in visited:\n",
    "                return [target-num, num]\n",
    "            visited.add(num)\n",
    "        return None\n",
    "    \n",
    "s = Solution()\n",
    "s.twoSum([10,26,30,31,47,60], 40)"
   ]
  },
  {
   "cell_type": "code",
   "execution_count": 18,
   "metadata": {
    "ExecuteTime": {
     "end_time": "2020-06-13T08:16:32.788153Z",
     "start_time": "2020-06-13T08:16:32.775479Z"
    }
   },
   "outputs": [
    {
     "data": {
      "text/plain": [
       "[[2, 3, 4], [4, 5]]"
      ]
     },
     "execution_count": 18,
     "metadata": {},
     "output_type": "execute_result"
    }
   ],
   "source": [
    "# 和为s的连续正数序列，二分优化遍历\n",
    "class Solution:\n",
    "    def findContinuousSequence(self, target: int) -> List[List[int]]:\n",
    "        \n",
    "        r = []\n",
    "        n = 2  # 几个连续的正数，因为head <= target // n，所以target // n > 1\n",
    "        while target // n > 1:\n",
    "            left = 1\n",
    "            right = target // n\n",
    "            while left <= right:\n",
    "                # 因为逻辑上是构造闭区间，所以是left<=right，left等于right时还有值可取\n",
    "                m = (left+right) // 2\n",
    "                tmp = (m + m +n-1)*n / 2\n",
    "                if tmp > target:\n",
    "                    right = m-1\n",
    "                if tmp < target:\n",
    "                    left = m+1\n",
    "                if tmp == target:\n",
    "                    r.insert(0, [ m+i for i in range(n)]) \n",
    "                    break\n",
    "            n += 1\n",
    "        return r\n",
    "\n",
    "s = Solution()\n",
    "s.findContinuousSequence(9)\n",
    "                 \n",
    "                "
   ]
  },
  {
   "cell_type": "code",
   "execution_count": 21,
   "metadata": {
    "ExecuteTime": {
     "end_time": "2020-06-13T08:26:45.580598Z",
     "start_time": "2020-06-13T08:26:45.566504Z"
    }
   },
   "outputs": [
    {
     "name": "stdout",
     "output_type": "stream",
     "text": [
      "0 1\n",
      "0 2\n",
      "0 3\n",
      "1 3\n",
      "1 4\n",
      "2 4\n",
      "3 4\n",
      "3 5\n",
      "4 5\n"
     ]
    },
    {
     "data": {
      "text/plain": [
       "[[2, 3, 4], [4, 5]]"
      ]
     },
     "execution_count": 21,
     "metadata": {},
     "output_type": "execute_result"
    }
   ],
   "source": [
    "# 滑动窗口\n",
    "class Solution:\n",
    "    def findContinuousSequence(self, target: int) -> List[List[int]]:\n",
    "        nums = [n for n in range(1, target)]\n",
    "        i = 0\n",
    "        j = i+1\n",
    "        cmbs = []\n",
    "        while i < j and j < len(nums):\n",
    "            print(i,j)\n",
    "            tmp = (nums[i] + nums[j]) * (j - i + 1) / 2\n",
    "            if tmp < target:\n",
    "                j += 1\n",
    "            elif tmp > target:\n",
    "                i += 1\n",
    "            else:\n",
    "                cmbs.append(nums[i:j+1])\n",
    "                j += 1\n",
    "        return cmbs\n",
    "            \n",
    "s = Solution()\n",
    "s.findContinuousSequence(9)"
   ]
  },
  {
   "cell_type": "code",
   "execution_count": null,
   "metadata": {
    "ExecuteTime": {
     "end_time": "2020-07-01T18:29:30.265619Z",
     "start_time": "2020-07-01T18:29:30.247824Z"
    }
   },
   "outputs": [],
   "source": []
  },
  {
   "cell_type": "code",
   "execution_count": 4,
   "metadata": {
    "ExecuteTime": {
     "end_time": "2020-06-29T17:35:16.992195Z",
     "start_time": "2020-06-29T17:35:16.977564Z"
    }
   },
   "outputs": [
    {
     "data": {
      "text/plain": [
       "[False, False, True, True]"
      ]
     },
     "execution_count": 4,
     "metadata": {},
     "output_type": "execute_result"
    }
   ],
   "source": []
  },
  {
   "cell_type": "code",
   "execution_count": 5,
   "metadata": {
    "ExecuteTime": {
     "end_time": "2020-06-29T17:35:58.023297Z",
     "start_time": "2020-06-29T17:35:58.013151Z"
    }
   },
   "outputs": [
    {
     "data": {
      "text/plain": [
       "10"
      ]
     },
     "execution_count": 5,
     "metadata": {},
     "output_type": "execute_result"
    }
   ],
   "source": []
  },
  {
   "cell_type": "code",
   "execution_count": null,
   "metadata": {},
   "outputs": [],
   "source": []
  }
 ],
 "metadata": {
  "kernelspec": {
   "display_name": "Python 3",
   "language": "python",
   "name": "python3"
  },
  "latex_envs": {
   "LaTeX_envs_menu_present": true,
   "autoclose": false,
   "autocomplete": true,
   "bibliofile": "biblio.bib",
   "cite_by": "apalike",
   "current_citInitial": 1,
   "eqLabelWithNumbers": true,
   "eqNumInitial": 1,
   "hotkeys": {
    "equation": "Ctrl-E",
    "itemize": "Ctrl-I"
   },
   "labels_anchors": false,
   "latex_user_defs": false,
   "report_style_numbering": false,
   "user_envs_cfg": false
  },
  "toc": {
   "base_numbering": 1,
   "nav_menu": {},
   "number_sections": true,
   "sideBar": true,
   "skip_h1_title": false,
   "title_cell": "Table of Contents",
   "title_sidebar": "Contents",
   "toc_cell": false,
   "toc_position": {},
   "toc_section_display": true,
   "toc_window_display": false
  },
  "varInspector": {
   "cols": {
    "lenName": 16,
    "lenType": 16,
    "lenVar": 40
   },
   "kernels_config": {
    "python": {
     "delete_cmd_postfix": "",
     "delete_cmd_prefix": "del ",
     "library": "var_list.py",
     "varRefreshCmd": "print(var_dic_list())"
    },
    "r": {
     "delete_cmd_postfix": ") ",
     "delete_cmd_prefix": "rm(",
     "library": "var_list.r",
     "varRefreshCmd": "cat(var_dic_list()) "
    }
   },
   "types_to_exclude": [
    "module",
    "function",
    "builtin_function_or_method",
    "instance",
    "_Feature"
   ],
   "window_display": false
  }
 },
 "nbformat": 4,
 "nbformat_minor": 4
}
