{
 "cells": [
  {
   "cell_type": "code",
   "execution_count": 10,
   "metadata": {},
   "outputs": [
    {
     "name": "stdout",
     "output_type": "stream",
     "text": [
      "1 0 2\n"
     ]
    }
   ],
   "source": [
    "from typing import List\n",
    "\n",
    "# 0~n-1，n-1个数\n",
    "class Solution:\n",
    "    def missingNumber(self, nums: List[int]) -> int:\n",
    "        if not isinstance(nums, List) or len(nums) == 0:\n",
    "            return None\n",
    "        l = 0\n",
    "        r = len(nums)-1\n",
    "        def compare_index_value(left, right):\n",
    "            if left < nums[left] and right < nums[right]:\n",
    "                return left\n",
    "            if left == nums[left] and right == nums[right]:\n",
    "                return right+1\n",
    "            middle = (left+right) // 2  # middle == left\n",
    "            \n",
    "            if middle == left:\n",
    "                return right\n",
    "            \n",
    "            if middle == nums[middle]:\n",
    "                return compare_index_value(middle, right)\n",
    "            if middle < nums[middle]:\n",
    "                return compare_index_value(left, middle)\n",
    "        return compare_index_value(l, r)\n",
    "\n",
    "s = Solution()\n",
    "print(\n",
    "    s.missingNumber([0]),\n",
    "    s.missingNumber([1]),\n",
    "    s.missingNumber([0,1]),\n",
    ")"
   ]
  },
  {
   "cell_type": "code",
   "execution_count": 11,
   "metadata": {},
   "outputs": [],
   "source": [
    "from bisect import bisect, bisect_left, bisect_right, insort_left, insort_right"
   ]
  },
  {
   "cell_type": "code",
   "execution_count": 14,
   "metadata": {},
   "outputs": [
    {
     "name": "stdout",
     "output_type": "stream",
     "text": [
      "True True True\n"
     ]
    }
   ],
   "source": [
    "a = [1,2,3,3,3,3,4,5]\n",
    "print(\n",
    "    bisect(a, 3) == 6,\n",
    "    bisect_right(a, 3) == 6,\n",
    "    bisect_left(a, 3) == 2,\n",
    ")"
   ]
  },
  {
   "cell_type": "code",
   "execution_count": null,
   "metadata": {
    "scrolled": true
   },
   "outputs": [],
   "source": []
  },
  {
   "cell_type": "code",
   "execution_count": 40,
   "metadata": {
    "scrolled": true
   },
   "outputs": [
    {
     "name": "stdout",
     "output_type": "stream",
     "text": [
      "**********\n",
      "[1, 2, 3, 4, 5, 6, 7, 8, 9]\n",
      "r >>> m 0 8 4\n",
      "r >>> m 0 4 2\n",
      "r >>> m 0 2 1\n",
      "**********\n",
      "[0, 2, 3, 4, 5, 6, 7, 8, 9]\n",
      "r >>> m 0 8 4\n",
      "r >>> m 0 4 2\n",
      "r >>> m 0 2 1\n",
      "**********\n",
      "[0, 1, 3, 4, 5, 6, 7, 8, 9]\n",
      "r >>> m 0 8 4\n",
      "r >>> m 0 4 2\n",
      "l >>> m 0 2 1\n",
      "**********\n",
      "[0, 1, 2, 4, 5, 6, 7, 8, 9]\n",
      "r >>> m 0 8 4\n",
      "l >>> m 0 4 2\n",
      "r >>> m 2 4 3\n",
      "**********\n",
      "[0, 1, 2, 3, 5, 6, 7, 8, 9]\n",
      "r >>> m 0 8 4\n",
      "l >>> m 0 4 2\n",
      "l >>> m 2 4 3\n",
      "**********\n",
      "[0, 1, 2, 3, 4, 6, 7, 8, 9]\n",
      "l >>> m 0 8 4\n",
      "r >>> m 4 8 6\n",
      "r >>> m 4 6 5\n",
      "**********\n",
      "[0, 1, 2, 3, 4, 5, 7, 8, 9]\n",
      "l >>> m 0 8 4\n",
      "r >>> m 4 8 6\n",
      "l >>> m 4 6 5\n",
      "**********\n",
      "[0, 1, 2, 3, 4, 5, 6, 8, 9]\n",
      "l >>> m 0 8 4\n",
      "l >>> m 4 8 6\n",
      "r >>> m 6 8 7\n",
      "**********\n",
      "[0, 1, 2, 3, 4, 5, 6, 7, 9]\n",
      "l >>> m 0 8 4\n",
      "l >>> m 4 8 6\n",
      "l >>> m 6 8 7\n",
      "**********\n",
      "[0, 1, 2, 3, 4, 5, 6, 7, 8]\n",
      "l >>> m 0 8 4\n",
      "l >>> m 4 8 6\n",
      "l >>> m 6 8 7\n"
     ]
    }
   ],
   "source": [
    "from bisect import bisect, bisect_left, bisect_right, insort_left, insort_right\n",
    "\n",
    "n = 10\n",
    "for i in range(n):\n",
    "    print('*'*10)\n",
    "    nums = [i for i in range(0,i)] + [i for i in range(i+1,n)]\n",
    "    print(nums)\n",
    "    l = 0\n",
    "    r = len(nums) - 1\n",
    "    m = (l+r)//2\n",
    "    while l < m:\n",
    "        if m != nums[m]:\n",
    "            print('r >>> m',l,r,m)\n",
    "            r = m \n",
    "        if m == nums[m]:\n",
    "            print('l >>> m',l,r,m)\n",
    "            l = m \n",
    "        m = (l+r)//2\n",
    "            \n",
    "         \n",
    "    \n",
    "    "
   ]
  },
  {
   "cell_type": "code",
   "execution_count": 24,
   "metadata": {},
   "outputs": [
    {
     "data": {
      "text/plain": [
       "4"
      ]
     },
     "execution_count": 24,
     "metadata": {},
     "output_type": "execute_result"
    }
   ],
   "source": []
  },
  {
   "cell_type": "code",
   "execution_count": null,
   "metadata": {},
   "outputs": [],
   "source": []
  }
 ],
 "metadata": {
  "kernelspec": {
   "display_name": "Python 3",
   "language": "python",
   "name": "python3"
  },
  "language_info": {
   "codemirror_mode": {
    "name": "ipython",
    "version": 3
   },
   "file_extension": ".py",
   "mimetype": "text/x-python",
   "name": "python",
   "nbconvert_exporter": "python",
   "pygments_lexer": "ipython3",
   "version": "3.7.1"
  },
  "latex_envs": {
   "LaTeX_envs_menu_present": true,
   "autoclose": false,
   "autocomplete": true,
   "bibliofile": "biblio.bib",
   "cite_by": "apalike",
   "current_citInitial": 1,
   "eqLabelWithNumbers": true,
   "eqNumInitial": 1,
   "hotkeys": {
    "equation": "Ctrl-E",
    "itemize": "Ctrl-I"
   },
   "labels_anchors": false,
   "latex_user_defs": false,
   "report_style_numbering": false,
   "user_envs_cfg": false
  },
  "toc": {
   "base_numbering": 1,
   "nav_menu": {},
   "number_sections": true,
   "sideBar": true,
   "skip_h1_title": false,
   "title_cell": "Table of Contents",
   "title_sidebar": "Contents",
   "toc_cell": false,
   "toc_position": {},
   "toc_section_display": true,
   "toc_window_display": false
  },
  "varInspector": {
   "cols": {
    "lenName": 16,
    "lenType": 16,
    "lenVar": 40
   },
   "kernels_config": {
    "python": {
     "delete_cmd_postfix": "",
     "delete_cmd_prefix": "del ",
     "library": "var_list.py",
     "varRefreshCmd": "print(var_dic_list())"
    },
    "r": {
     "delete_cmd_postfix": ") ",
     "delete_cmd_prefix": "rm(",
     "library": "var_list.r",
     "varRefreshCmd": "cat(var_dic_list()) "
    }
   },
   "types_to_exclude": [
    "module",
    "function",
    "builtin_function_or_method",
    "instance",
    "_Feature"
   ],
   "window_display": false
  }
 },
 "nbformat": 4,
 "nbformat_minor": 2
}
