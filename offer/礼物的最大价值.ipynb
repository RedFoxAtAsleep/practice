{
 "cells": [
  {
   "cell_type": "code",
   "execution_count": 5,
   "metadata": {
    "ExecuteTime": {
     "end_time": "2020-06-09T02:47:57.497634Z",
     "start_time": "2020-06-09T02:47:57.479323Z"
    }
   },
   "outputs": [
    {
     "data": {
      "text/plain": [
       "12"
      ]
     },
     "execution_count": 5,
     "metadata": {},
     "output_type": "execute_result"
    }
   ],
   "source": [
    "from functools import lru_cache\n",
    "class Solution:\n",
    "    def maxValue(self, grid):\n",
    "        \n",
    "        @lru_cache()\n",
    "        def collectValue(i, j, horizontal, vertical):\n",
    "            if horizontal == 0 and vertical == 0:\n",
    "                return grid[i][j]\n",
    "            candidates = []\n",
    "            if horizontal > 0:\n",
    "                candidate = grid[i][j] + collectValue(i+1, j, horizontal-1, vertical)\n",
    "                candidates.append(candidate)\n",
    "            if vertical > 0:\n",
    "                candidate = grid[i][j] + collectValue(i, j+1, horizontal, vertical-1)\n",
    "                candidates.append(candidate)\n",
    "            return max(candidates)\n",
    "        i = 0\n",
    "        j = 0\n",
    "        horizontal = len(grid) - 1\n",
    "        vertical = len(grid[0]) - 1\n",
    "        \n",
    "        if horizontal < 0 or vertical < 0:\n",
    "            return 0\n",
    "        \n",
    "        return collectValue(i, j, horizontal, vertical)\n",
    "    \n",
    "grid = [[1,3,1],[1,5,1],[4,2,1]]\n",
    "s = Solution()\n",
    "s.maxValue(grid)"
   ]
  },
  {
   "cell_type": "code",
   "execution_count": 7,
   "metadata": {},
   "outputs": [
    {
     "data": {
      "text/plain": [
       "12"
      ]
     },
     "execution_count": 7,
     "metadata": {},
     "output_type": "execute_result"
    }
   ],
   "source": [
    "from functools import lru_cache\n",
    "from copy import deepcopy, copy\n",
    "class Solution:\n",
    "    def maxValue(self, grid):\n",
    "        @lru_cache()\n",
    "        def dfs(i, j):\n",
    "            if i == 0  and j == 0:\n",
    "                return grid[i][j]\n",
    "            hval = vval = 0\n",
    "            if i>0:\n",
    "                hval = dfs(i-1, j)\n",
    "            if j>0:\n",
    "                vval = dfs(i, j-1)\n",
    "            return grid[i][j] + max(hval, vval)\n",
    "        r = len(grid)\n",
    "        if r == 0:\n",
    "            return 0\n",
    "        c = len(grid[0])\n",
    "        if c == 0:\n",
    "            return 0\n",
    "        return dfs(r-1, c-1)\n",
    "    \n",
    "grid = [[1,3,1],[1,5,1],[4,2,1]]\n",
    "s = Solution()\n",
    "s.maxValue(grid)"
   ]
  },
  {
   "cell_type": "code",
   "execution_count": 9,
   "metadata": {},
   "outputs": [
    {
     "data": {
      "text/plain": [
       "12"
      ]
     },
     "execution_count": 9,
     "metadata": {},
     "output_type": "execute_result"
    }
   ],
   "source": [
    "\n",
    "class Solution:\n",
    "    def maxValue(self, grid):\n",
    "        row = len(grid)\n",
    "        if row == 0:\n",
    "            return 0\n",
    "        col = len(grid[0])\n",
    "        if col == 0:\n",
    "            return 0\n",
    "        for j in range(1, col):\n",
    "            grid[0][j] += grid[0][j-1]\n",
    "        for i in range(1, row):\n",
    "            grid[i][0] += grid[i-1][0]\n",
    "        for i in range(1, row):\n",
    "            for j in range(1, col):\n",
    "                grid[i][j] += max(grid[i-1][j], grid[i][j-1])\n",
    "        return grid[-1][-1]\n",
    "    \n",
    "grid = [[1,3,1],[1,5,1],[4,2,1]]\n",
    "s = Solution()\n",
    "s.maxValue(grid)"
   ]
  },
  {
   "cell_type": "code",
   "execution_count": null,
   "metadata": {},
   "outputs": [],
   "source": []
  }
 ],
 "metadata": {
  "kernelspec": {
   "display_name": "Python 3",
   "language": "python",
   "name": "python3"
  },
  "language_info": {
   "codemirror_mode": {
    "name": "ipython",
    "version": 3
   },
   "file_extension": ".py",
   "mimetype": "text/x-python",
   "name": "python",
   "nbconvert_exporter": "python",
   "pygments_lexer": "ipython3",
   "version": "3.7.7"
  },
  "latex_envs": {
   "LaTeX_envs_menu_present": true,
   "autoclose": false,
   "autocomplete": true,
   "bibliofile": "biblio.bib",
   "cite_by": "apalike",
   "current_citInitial": 1,
   "eqLabelWithNumbers": true,
   "eqNumInitial": 1,
   "hotkeys": {
    "equation": "Ctrl-E",
    "itemize": "Ctrl-I"
   },
   "labels_anchors": false,
   "latex_user_defs": false,
   "report_style_numbering": false,
   "user_envs_cfg": false
  },
  "toc": {
   "base_numbering": 1,
   "nav_menu": {},
   "number_sections": true,
   "sideBar": true,
   "skip_h1_title": false,
   "title_cell": "Table of Contents",
   "title_sidebar": "Contents",
   "toc_cell": false,
   "toc_position": {},
   "toc_section_display": true,
   "toc_window_display": false
  },
  "varInspector": {
   "cols": {
    "lenName": 16,
    "lenType": 16,
    "lenVar": 40
   },
   "kernels_config": {
    "python": {
     "delete_cmd_postfix": "",
     "delete_cmd_prefix": "del ",
     "library": "var_list.py",
     "varRefreshCmd": "print(var_dic_list())"
    },
    "r": {
     "delete_cmd_postfix": ") ",
     "delete_cmd_prefix": "rm(",
     "library": "var_list.r",
     "varRefreshCmd": "cat(var_dic_list()) "
    }
   },
   "types_to_exclude": [
    "module",
    "function",
    "builtin_function_or_method",
    "instance",
    "_Feature"
   ],
   "window_display": false
  }
 },
 "nbformat": 4,
 "nbformat_minor": 2
}
