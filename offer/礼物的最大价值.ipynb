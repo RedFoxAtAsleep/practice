{
 "cells": [
  {
   "cell_type": "code",
   "execution_count": 8,
   "metadata": {
    "ExecuteTime": {
     "end_time": "2020-06-09T02:47:57.497634Z",
     "start_time": "2020-06-09T02:47:57.479323Z"
    }
   },
   "outputs": [
    {
     "data": {
      "text/plain": [
       "12"
      ]
     },
     "execution_count": 8,
     "metadata": {},
     "output_type": "execute_result"
    }
   ],
   "source": [
    "from functools import lru_cache\n",
    "class Solution:\n",
    "    def maxValue(self, grid):\n",
    "        \n",
    "        @lru_cache()\n",
    "        def collectValue(i, j, horizontal, vertical):\n",
    "            if horizontal == 0 and vertical == 0:\n",
    "                return grid[i][j]\n",
    "            candidates = []\n",
    "            if horizontal > 0:\n",
    "                candidate = grid[i][j] + collectValue(i+1, j, horizontal-1, vertical)\n",
    "                candidates.append(candidate)\n",
    "            if vertical > 0:\n",
    "                candidate = grid[i][j] + collectValue(i, j+1, horizontal, vertical-1)\n",
    "                candidates.append(candidate)\n",
    "            return max(candidates)\n",
    "        i = 0\n",
    "        j = 0\n",
    "        horizontal = len(grid) - 1\n",
    "        vertical = len(grid[0]) - 1\n",
    "        \n",
    "        if horizontal < 0 or vertical < 0:\n",
    "            return 0\n",
    "        \n",
    "        return collectValue(i, j, horizontal, vertical)\n",
    "    \n",
    "grid = [[1,3,1],[1,5,1],[4,2,1]]\n",
    "s = Solution()\n",
    "s.maxValue(grid)"
   ]
  },
  {
   "cell_type": "code",
   "execution_count": null,
   "metadata": {},
   "outputs": [],
   "source": [
    "from functools import lru_cache\n",
    "class Solution:\n",
    "    def maxValue(self, grid):\n",
    "        \n",
    "        @lru_cache()\n",
    "        def collectValue(i, j, horizontal, vertical):\n",
    "            if horizontal == 0 and vertical == 0:\n",
    "                return grid[i][j]\n",
    "            candidates = []\n",
    "            if horizontal > 0:\n",
    "                candidate = grid[i][j] + collectValue(i+1, j, horizontal-1, vertical)\n",
    "                candidates.append(candidate)\n",
    "            if vertical > 0:\n",
    "                candidate = grid[i][j] + collectValue(i, j+1, horizontal, vertical-1)\n",
    "                candidates.append(candidate)\n",
    "            return max(candidates)\n",
    "        i = 0\n",
    "        j = 0\n",
    "        horizontal = len(grid) - 1\n",
    "        vertical = len(grid[0]) - 1\n",
    "        \n",
    "        if horizontal < 0 or vertical < 0:\n",
    "            return 0\n",
    "        \n",
    "        return collectValue(i, j, horizontal, vertical)\n",
    "    \n",
    "grid = [[1,3,1],[1,5,1],[4,2,1]]\n",
    "s = Solution()\n",
    "s.maxValue(grid)"
   ]
  },
  {
   "cell_type": "code",
   "execution_count": null,
   "metadata": {},
   "outputs": [],
   "source": []
  },
  {
   "cell_type": "code",
   "execution_count": null,
   "metadata": {},
   "outputs": [],
   "source": []
  }
 ],
 "metadata": {
  "kernelspec": {
   "display_name": "conda_env_ai",
   "language": "python",
   "name": "conda_env_ai"
  },
  "language_info": {
   "codemirror_mode": {
    "name": "ipython",
    "version": 3
   },
   "file_extension": ".py",
   "mimetype": "text/x-python",
   "name": "python",
   "nbconvert_exporter": "python",
   "pygments_lexer": "ipython3",
   "version": "3.6.8"
  }
 },
 "nbformat": 4,
 "nbformat_minor": 2
}
