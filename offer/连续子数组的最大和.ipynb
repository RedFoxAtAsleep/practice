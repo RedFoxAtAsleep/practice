{
 "cells": [
  {
   "cell_type": "code",
   "execution_count": 13,
   "metadata": {
    "ExecuteTime": {
     "end_time": "2020-06-08T08:07:30.097964Z",
     "start_time": "2020-06-08T08:07:30.078744Z"
    }
   },
   "outputs": [
    {
     "name": "stdout",
     "output_type": "stream",
     "text": [
      "0\n"
     ]
    }
   ],
   "source": [
    "# 结尾索引是i的子数组和\n",
    "# 迭代和动态规划\n",
    "from collections import defaultdict\n",
    "class Solution:\n",
    "    def maxSubArray(self, nums):\n",
    "        sums = defaultdict(lambda:0)\n",
    "        r = nums[0]\n",
    "        for i,num in enumerate(nums):\n",
    "            sums[i] = max(sums[i-1]+nums[i], nums[i])\n",
    "            r = max(sums[i], r)\n",
    "        return r\n",
    "        \n",
    "nums = [-1, -2, -3]\n",
    "# nums = [3, -9, 3]\n",
    "s = Solution()\n",
    "print(s.maxSubArray(nums))"
   ]
  },
  {
   "cell_type": "code",
   "execution_count": 4,
   "metadata": {
    "ExecuteTime": {
     "end_time": "2020-06-08T07:55:16.268051Z",
     "start_time": "2020-06-08T07:55:16.251650Z"
    }
   },
   "outputs": [
    {
     "data": {
      "text/plain": [
       "0"
      ]
     },
     "execution_count": 4,
     "metadata": {},
     "output_type": "execute_result"
    }
   ],
   "source": []
  },
  {
   "cell_type": "code",
   "execution_count": null,
   "metadata": {},
   "outputs": [],
   "source": []
  }
 ],
 "metadata": {
  "kernelspec": {
   "display_name": "Python 3",
   "language": "python",
   "name": "python3"
  },
  "language_info": {
   "codemirror_mode": {
    "name": "ipython",
    "version": 3
   },
   "file_extension": ".py",
   "mimetype": "text/x-python",
   "name": "python",
   "nbconvert_exporter": "python",
   "pygments_lexer": "ipython3",
   "version": "3.6.8"
  }
 },
 "nbformat": 4,
 "nbformat_minor": 2
}
