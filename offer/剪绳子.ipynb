{
 "cells": [
  {
   "cell_type": "code",
   "execution_count": 1,
   "metadata": {
    "inputHidden": false,
    "outputHidden": false
   },
   "outputs": [
    {
     "data": {
      "text/plain": [
       "36"
      ]
     },
     "execution_count": 1,
     "metadata": {},
     "output_type": "execute_result"
    }
   ],
   "source": [
    "from functools import lru_cache\n",
    "class Solution:\n",
    "    \n",
    "    @lru_cache()\n",
    "    def cuttingRope(self, n):\n",
    "        if n == 2:\n",
    "            return 1\n",
    "        \n",
    "        return max(\n",
    "            [i*self.cuttingRope(n-i) for i in range(1, n//2+1)] + \n",
    "            [i*(n-i) for i in range(1, n//2+1)]\n",
    "        )\n",
    "s = Solution()\n",
    "s.cuttingRope(2)\n",
    "    "
   ]
  },
  {
   "cell_type": "code",
   "execution_count": 5,
   "metadata": {
    "scrolled": true
   },
   "outputs": [
    {
     "name": "stdout",
     "output_type": "stream",
     "text": [
      "2 1 0.3333333333333333\n",
      "3 2 0.6666666666666666\n",
      "4 4 1.3333333333333333\n",
      "5 6 2.0\n",
      "6 9 3.0\n",
      "7 12 4.0\n",
      "8 18 6.0\n",
      "9 27 9.0\n",
      "10 36 12.0\n",
      "11 54 18.0\n",
      "12 81 27.0\n",
      "13 108 36.0\n",
      "14 162 54.0\n",
      "15 243 81.0\n",
      "16 324 108.0\n",
      "17 486 162.0\n",
      "18 729 243.0\n",
      "19 972 324.0\n",
      "20 1458 486.0\n",
      "21 2187 729.0\n",
      "22 2916 972.0\n",
      "23 4374 1458.0\n",
      "24 6561 2187.0\n",
      "25 8748 2916.0\n",
      "26 13122 4374.0\n",
      "27 19683 6561.0\n",
      "28 26244 8748.0\n",
      "29 39366 13122.0\n",
      "30 59049 19683.0\n"
     ]
    },
    {
     "data": {
      "text/plain": [
       "59049"
      ]
     },
     "execution_count": 5,
     "metadata": {},
     "output_type": "execute_result"
    }
   ],
   "source": [
    "class Solution:\n",
    "    \n",
    "    @lru_cache()\n",
    "    def cuttingRope(self, n):\n",
    "        r = 1\n",
    "        if n == 2:\n",
    "            r = 1\n",
    "        else:\n",
    "            r = max(\n",
    "                [i*self.cuttingRope(n-i) for i in range(1, n//2+1)] + \n",
    "                [i*(n-i) for i in range(1, n//2+1)]\n",
    "            )\n",
    "        print(n, r)\n",
    "        return r\n",
    "s = Solution()\n",
    "s.cuttingRope(30)"
   ]
  },
  {
   "cell_type": "code",
   "execution_count": null,
   "metadata": {},
   "outputs": [],
   "source": []
  },
  {
   "cell_type": "code",
   "execution_count": 12,
   "metadata": {
    "inputHidden": false,
    "outputHidden": false
   },
   "outputs": [
    {
     "data": {
      "text/plain": [
       "36"
      ]
     },
     "execution_count": 12,
     "metadata": {},
     "output_type": "execute_result"
    }
   ],
   "source": [
    "# 大数越界\n",
    "# 贪心\n",
    "\n",
    "from functools import lru_cache\n",
    "class Solution:\n",
    "    \n",
    "    @lru_cache()\n",
    "    def cuttingRope(self, n):\n",
    "        if n < 4:\n",
    "            return n-1\n",
    "        result = 1\n",
    "        while n > 4:\n",
    "            n = n-3\n",
    "            result = (result*3) % 1000000007\n",
    "        return (result*n)% 1000000007\n",
    "\n",
    "s = Solution()\n",
    "s.cuttingRope(10)"
   ]
  },
  {
   "cell_type": "code",
   "execution_count": null,
   "metadata": {
    "inputHidden": false,
    "outputHidden": false
   },
   "outputs": [],
   "source": [
    "class Solution:\n",
    "    def cuttingRope(self, n: int) -> int:\n",
    "\n",
    "        if n <= 3:\n",
    "            return n - 1\n",
    "\n",
    "        visited = [0] * (n+1)\n",
    "        visited[2] = 2\n",
    "        visited[3] = 3\n",
    "        for i in range(4, n+1):\n",
    "            ii = i - 1\n",
    "            j = 1\n",
    "            temp = 0\n",
    "            while ii >= j:\n",
    "                if visited[ii] * j > temp:\n",
    "                    temp = visited[ii] * j\n",
    "                ii -= 1\n",
    "                j += 1\n",
    "                \n",
    "            visited[i] = temp\n",
    "\n",
    "        return visited[n]"
   ]
  }
 ],
 "metadata": {
  "kernel_info": {
   "name": "python3"
  },
  "kernelspec": {
   "display_name": "Python 3",
   "language": "python",
   "name": "python3"
  },
  "language_info": {
   "codemirror_mode": {
    "name": "ipython",
    "version": 3
   },
   "file_extension": ".py",
   "mimetype": "text/x-python",
   "name": "python",
   "nbconvert_exporter": "python",
   "pygments_lexer": "ipython3",
   "version": "3.7.1"
  },
  "latex_envs": {
   "LaTeX_envs_menu_present": true,
   "autoclose": false,
   "autocomplete": true,
   "bibliofile": "biblio.bib",
   "cite_by": "apalike",
   "current_citInitial": 1,
   "eqLabelWithNumbers": true,
   "eqNumInitial": 1,
   "hotkeys": {
    "equation": "Ctrl-E",
    "itemize": "Ctrl-I"
   },
   "labels_anchors": false,
   "latex_user_defs": false,
   "report_style_numbering": false,
   "user_envs_cfg": false
  },
  "nteract": {
   "version": "0.15.0"
  },
  "toc": {
   "base_numbering": 1,
   "nav_menu": {},
   "number_sections": true,
   "sideBar": true,
   "skip_h1_title": false,
   "title_cell": "Table of Contents",
   "title_sidebar": "Contents",
   "toc_cell": false,
   "toc_position": {},
   "toc_section_display": true,
   "toc_window_display": false
  },
  "varInspector": {
   "cols": {
    "lenName": 16,
    "lenType": 16,
    "lenVar": 40
   },
   "kernels_config": {
    "python": {
     "delete_cmd_postfix": "",
     "delete_cmd_prefix": "del ",
     "library": "var_list.py",
     "varRefreshCmd": "print(var_dic_list())"
    },
    "r": {
     "delete_cmd_postfix": ") ",
     "delete_cmd_prefix": "rm(",
     "library": "var_list.r",
     "varRefreshCmd": "cat(var_dic_list()) "
    }
   },
   "types_to_exclude": [
    "module",
    "function",
    "builtin_function_or_method",
    "instance",
    "_Feature"
   ],
   "window_display": false
  }
 },
 "nbformat": 4,
 "nbformat_minor": 1
}
