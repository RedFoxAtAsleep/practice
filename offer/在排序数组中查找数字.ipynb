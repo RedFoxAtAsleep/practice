{
 "cells": [
  {
   "cell_type": "code",
   "execution_count": 51,
   "metadata": {
    "ExecuteTime": {
     "end_time": "2020-06-10T15:22:39.421954Z",
     "start_time": "2020-06-10T15:22:39.414527Z"
    }
   },
   "outputs": [],
   "source": [
    "# 有序和二分\n",
    "from typing import List\n",
    "from bisect import bisect, bisect_left, bisect_right  "
   ]
  },
  {
   "cell_type": "code",
   "execution_count": 52,
   "metadata": {
    "ExecuteTime": {
     "end_time": "2020-06-10T15:22:42.737528Z",
     "start_time": "2020-06-10T15:22:42.625337Z"
    },
    "code_folding": []
   },
   "outputs": [
    {
     "name": "stdout",
     "output_type": "stream",
     "text": [
      "[1, 2, 2, 2, 4]\n",
      "[1, 2, 2, 2, 4]\n",
      "[1, 2, 2, 2, 4]\n",
      "[1, 2, 2, 2, 4]\n",
      "[1, 2, 2, 2, 4]\n",
      "[1, 2, 2, 2, 4]\n",
      "[1, 2, 2, 2, 4]\n",
      "0 2 4 1 3 1 0 None None\n"
     ]
    }
   ],
   "source": [
    "# 在排序数组中查找数字1：统计一个数字在排序数组中出现的次数。\n",
    "# 就常识而言移动的越少越好，向右移动[greater_than_target:]，bisect，bisect_right \n",
    "# bisect_left，尽可能多的移动，向右移动[greater_equal_than_target:]\n",
    "\n",
    "class Solution:\n",
    "    def binary_search(self, nums, target):\n",
    "        if not nums:\n",
    "            return None\n",
    "        l = 0\n",
    "        r = len(nums)-1\n",
    "        while l <= r:\n",
    "            m = (l+r)//2\n",
    "            if nums[m] < target:\n",
    "                l = m + 1\n",
    "            elif nums[m] > target:\n",
    "                r = m - 1\n",
    "            else:\n",
    "                return m\n",
    "        return None\n",
    "    \n",
    "    def binary_search_recursion(self, nums, target, l, r):\n",
    "        print(nums)\n",
    "        if not nums:\n",
    "            return None\n",
    "        if l > r:\n",
    "            return None\n",
    "        m = (l+r)//2\n",
    "        if nums[m] < target:\n",
    "            return self.binary_search_recursion(nums, target, m+1, r)\n",
    "        elif nums[m] > target:\n",
    "            return self.binary_search_recursion(nums, target, l, m-1)\n",
    "        else:\n",
    "            return m\n",
    "        \n",
    "        \n",
    "    def search(self, nums: List[int], target: int) -> int:\n",
    "        e = self.binary_search(nums, target)\n",
    "        if e is None:\n",
    "            return 0\n",
    "        l = e\n",
    "        r = e\n",
    "        while r + 1 < len(nums):\n",
    "            if nums[r+1] == nums[r]:\n",
    "                r += 1\n",
    "            else:\n",
    "                break\n",
    "        while l - 1 > -1:\n",
    "            if nums[l-1] == nums[l]:\n",
    "                l -= 1\n",
    "            else:\n",
    "                break\n",
    "        return r-l+1\n",
    "    \n",
    "    def quick_search(self, nums: List[int], target: int) -> int:\n",
    "        # count(>=x) - count(>x) =  count(=x)\n",
    "        return bisect(nums,target) - bisect_left(nums, target) \n",
    "    \n",
    "s = Solution()\n",
    "print(\n",
    "    s.binary_search([1,2,2,2,4], 1),\n",
    "    s.binary_search([1,2,2,2,4], 2),\n",
    "    s.binary_search([1,2,2,2,4], 4),\n",
    "    s.search([1,2,2,2,4], 1),\n",
    "    s.search([1,2,2,2,4], 2),\n",
    "    s.search([1,2,2,2,4], 4),\n",
    "    s.binary_search_recursion([1,2,2,2,4], 1, 0, 4),\n",
    "    s.binary_search_recursion([1,2,2,2,4], 2, 0, 0),\n",
    "    s.binary_search_recursion([1,2,2,2,4], 4, 0, 2),\n",
    "   \n",
    ")"
   ]
  },
  {
   "cell_type": "code",
   "execution_count": 53,
   "metadata": {
    "ExecuteTime": {
     "end_time": "2020-06-10T15:22:45.114688Z",
     "start_time": "2020-06-10T15:22:45.103417Z"
    }
   },
   "outputs": [
    {
     "data": {
      "text/plain": [
       "True"
      ]
     },
     "execution_count": 53,
     "metadata": {},
     "output_type": "execute_result"
    }
   ],
   "source": [
    "bisect_left([1,2,2,2,3], 2)  \n",
    "bisect_right([1,2,2,2,3], 2) == bisect([1,2,2,2,3], 2)"
   ]
  },
  {
   "cell_type": "code",
   "execution_count": 67,
   "metadata": {
    "ExecuteTime": {
     "end_time": "2020-06-10T15:39:29.878089Z",
     "start_time": "2020-06-10T15:39:29.786947Z"
    },
    "scrolled": true
   },
   "outputs": [
    {
     "name": "stdout",
     "output_type": "stream",
     "text": [
      "0 2 4\n",
      "2 3 4\n"
     ]
    },
    {
     "data": {
      "text/plain": [
       "3"
      ]
     },
     "execution_count": 67,
     "metadata": {},
     "output_type": "execute_result"
    }
   ],
   "source": [
    "# 在排序数组中查找数字2： 0～n-1中缺失的数字\n",
    "# 在对应位置补上缺失的数，index == value\n",
    "# 缺失数的左边是左子数组，右边是右子数组\n",
    "# i左子数组的结尾，j右子数组的开头\n",
    "# 设i的初值为数组的最左端，设j的初值为数组的最右端\n",
    "# num[m] = m，i = m + 1，试探新i是否是左子数组的结尾\n",
    "# num[m] != m, j = m - 1, 试探j是否是右子数组的开头\n",
    "# return i\n",
    "\n",
    "class Solution:\n",
    "    def missingNumber(self, nums: List[int]) -> int:\n",
    "        i, j = 0, len(nums) - 1\n",
    "        while i <= j:\n",
    "            m = (i + j) // 2\n",
    "            if nums[m] == m: i = m + 1\n",
    "            else: j = m - 1\n",
    "        return i \n",
    "    \n",
    "    \n",
    "\n",
    "s = Solution()\n",
    "s.missingNumber([0,1,2,4,5])"
   ]
  },
  {
   "cell_type": "code",
   "execution_count": null,
   "metadata": {},
   "outputs": [],
   "source": []
  }
 ],
 "metadata": {
  "kernelspec": {
   "display_name": "Python 3",
   "language": "python",
   "name": "python3"
  },
  "language_info": {
   "codemirror_mode": {
    "name": "ipython",
    "version": 3
   },
   "file_extension": ".py",
   "mimetype": "text/x-python",
   "name": "python",
   "nbconvert_exporter": "python",
   "pygments_lexer": "ipython3",
   "version": "3.6.8"
  }
 },
 "nbformat": 4,
 "nbformat_minor": 2
}
