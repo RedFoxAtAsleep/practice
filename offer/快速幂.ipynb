{
  "cells": [
    {
      "cell_type": "code",
      "source": [
        "# 二分 递归\n",
        "from functools import lru_cache\n",
        "\n",
        "class Solution:\n",
        "\n",
        "    @lru_cache()\n",
        "    def myPow(self, x: float, n: int) -> float:\n",
        "        print(n)\n",
        "        if n == 0:\n",
        "            return 1\n",
        "        if n < 0:\n",
        "            return 1/self.myPow(x, -n)\n",
        "        if n == 1:\n",
        "            return x\n",
        "        m = n % 2\n",
        "        n = n // 2\n",
        "        return self.myPow(x, n) * self.myPow(x, n) * self.myPow(x, m)\n",
        "    \n",
        "s = Solution()\n",
        "s.myPow(2, 10)"
      ],
      "outputs": [
        {
          "output_type": "stream",
          "name": "stdout",
          "text": [
            "10\n",
            "5\n",
            "2\n",
            "1\n",
            "0\n"
          ]
        },
        {
          "output_type": "execute_result",
          "execution_count": 8,
          "data": {
            "text/plain": [
              "1024"
            ]
          },
          "metadata": {}
        }
      ],
      "execution_count": 8,
      "metadata": {
        "collapsed": false,
        "outputHidden": false,
        "inputHidden": false
      }
    },
    {
      "cell_type": "code",
      "source": [
        "# 幂转为二进制表示，9 = 2**3 + 2**0，x**9 = x**8 * x\n",
        "from functools import lru_cache\n",
        "\n",
        "class Solution:\n",
        "\n",
        "    @lru_cache()\n",
        "    def myPow(self, x: float, n: int) -> float:\n",
        "        if x == 0:\n",
        "            return 0\n",
        "        if n == 0:\n",
        "            return 1\n",
        "        if n < 0:\n",
        "            x = 1/x\n",
        "            n = -n\n",
        "        res = 1\n",
        "        while n:\n",
        "            if n & 1:\n",
        "                res *= x\n",
        "            n = n >> 1  # n = n // 2\n",
        "            # x**(2**0 + 2**1 + 2**2 + 2**3)\n",
        "            # x**(2**0) * x**(2**1) * x**(2**2) * x**(2**3)\n",
        "            x *= x  \n",
        "        return res\n"
      ],
      "outputs": [
        {
          "output_type": "stream",
          "name": "stdout",
          "text": [
            "3\n",
            "81\n"
          ]
        },
        {
          "output_type": "execute_result",
          "execution_count": 21,
          "data": {
            "text/plain": [
              "243"
            ]
          },
          "metadata": {}
        }
      ],
      "execution_count": 21,
      "metadata": {
        "collapsed": false,
        "outputHidden": false,
        "inputHidden": false
      }
    },
    {
      "cell_type": "code",
      "source": [
        "# 幂转为二进制表示，9 = 2**3 + 2**0，x**9 = x**8 * x\n",
        "from functools import lru_cache\n",
        "\n",
        "class Solution:\n",
        "\n",
        "    @lru_cache()\n",
        "    def myPow(self, x: float, n: int) -> float:\n",
        "        if x == 0:\n",
        "            return 0\n",
        "        if n == 0:\n",
        "            return 1\n",
        "        if n < 0:\n",
        "            x = 1/x\n",
        "            n = -n\n",
        "        res = 1\n",
        "        while n:\n",
        "            if n & 1:  # 1转化为任何进制都是...000001\n",
        "                res *= x\n",
        "            n = n >> 1  \n",
        "            # 数位分离取整、取余\n",
        "            # // radix**len(digits) \n",
        "            # % redix**(len(digits)-1)\n",
        "            # x**(2**0 + 2**1 + 2**2 + 2**3)\n",
        "            # x**(2**0) * x**(2**1) * x**(2**2) * x**(2**3)\n",
        "            x *= x  \n",
        "        return res"
      ],
      "outputs": [],
      "execution_count": 10,
      "metadata": {
        "collapsed": false,
        "outputHidden": false,
        "inputHidden": false
      }
    },
    {
      "cell_type": "code",
      "source": [
        "v >> 1"
      ],
      "outputs": [
        {
          "output_type": "execute_result",
          "execution_count": 11,
          "data": {
            "text/plain": [
              "4"
            ]
          },
          "metadata": {}
        }
      ],
      "execution_count": 11,
      "metadata": {
        "collapsed": false,
        "outputHidden": false,
        "inputHidden": false
      }
    },
    {
      "cell_type": "code",
      "source": [
        "v"
      ],
      "outputs": [
        {
          "output_type": "execute_result",
          "execution_count": 12,
          "data": {
            "text/plain": [
              "8"
            ]
          },
          "metadata": {}
        }
      ],
      "execution_count": 12,
      "metadata": {
        "collapsed": false,
        "outputHidden": false,
        "inputHidden": false
      }
    },
    {
      "cell_type": "code",
      "source": [],
      "outputs": [],
      "execution_count": null,
      "metadata": {
        "collapsed": false,
        "outputHidden": false,
        "inputHidden": false
      }
    }
  ],
  "metadata": {
    "kernel_info": {
      "name": "python3"
    },
    "language_info": {
      "name": "python",
      "version": "3.6.8",
      "mimetype": "text/x-python",
      "codemirror_mode": {
        "name": "ipython",
        "version": 3
      },
      "pygments_lexer": "ipython3",
      "nbconvert_exporter": "python",
      "file_extension": ".py"
    },
    "kernelspec": {
      "name": "python3",
      "language": "python",
      "display_name": "Python 3"
    },
    "nteract": {
      "version": "0.23.3"
    }
  },
  "nbformat": 4,
  "nbformat_minor": 0
}