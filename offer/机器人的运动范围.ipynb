{
 "cells": [
  {
   "cell_type": "code",
   "execution_count": 41,
   "metadata": {
    "inputHidden": false,
    "outputHidden": false
   },
   "outputs": [
    {
     "name": "stdout",
     "output_type": "stream",
     "text": [
      "15\n"
     ]
    }
   ],
   "source": [
    "# 可达解、不可达解、非解\n",
    "class Solution:\n",
    "    def movingCount(self, m: int, n: int, k: int) -> int:\n",
    "\n",
    "        def sumDigits(x):\n",
    "            s = 0\n",
    "            while x:\n",
    "                s += x % 10\n",
    "                x = x // 10\n",
    "            return s\n",
    "\n",
    "        def dfs(i,j):\n",
    "            if i >= m or j >= n or visited[i][j]:\n",
    "                return 0\n",
    "            visited[i][j] = 1\n",
    "            \n",
    "            if sumDigits(i) + sumDigits(j) <= k:\n",
    "                return 1 + dfs(i+1, j) + dfs(i, j+1)\n",
    "            else:\n",
    "                return 0\n",
    "        visited = [[0 for j in range(n)] for i in range(m)]\n",
    "        return dfs(0, 0)\n",
    "\n",
    "s = Solution()\n",
    "r = s.movingCount(16,8,4)\n",
    "print(r)"
   ]
  },
  {
   "cell_type": "code",
   "execution_count": 50,
   "metadata": {
    "inputHidden": false,
    "outputHidden": false
   },
   "outputs": [
    {
     "name": "stdout",
     "output_type": "stream",
     "text": [
      "15\n"
     ]
    }
   ],
   "source": [
    "# 可达解、不可达解、非解\n",
    "class Solution:\n",
    "    def movingCount(self, m: int, n: int, k: int) -> int:\n",
    "\n",
    "        def sumDigits(x):\n",
    "            s = 0\n",
    "            while x:\n",
    "                s += x % 10\n",
    "                x = x // 10\n",
    "            return s\n",
    "\n",
    "        def search(visited,container,var):\n",
    "            count = 0\n",
    "            while container:\n",
    "                i,j = container.pop()\n",
    "                if i >= m or j >= n or visited[i][j] == 1:\n",
    "                    continue\n",
    "                visited[i][j] = 1\n",
    "                if sumDigits(i) + sumDigits(j) <= k:\n",
    "                    count += 1\n",
    "                    if var == 'bfs':\n",
    "                        container = [(i+1, j), (i, j+1)] + container\n",
    "                    if var == 'dfs':\n",
    "                        container = container + [(i+1, j), (i, j+1)]\n",
    "            return count\n",
    "        \n",
    "        visited = [[0 for j in range(n)] for i in range(m)]\n",
    "        return search(visited, [(0,0)], 'bfs')\n",
    "\n",
    "s = Solution()\n",
    "r = s.movingCount(16,8,4)\n",
    "print(r)"
   ]
  },
  {
   "cell_type": "code",
   "execution_count": null,
   "metadata": {
    "inputHidden": false,
    "outputHidden": false
   },
   "outputs": [],
   "source": []
  }
 ],
 "metadata": {
  "kernel_info": {
   "name": "python3"
  },
  "kernelspec": {
   "display_name": "Python 3",
   "language": "python",
   "name": "python3"
  },
  "language_info": {
   "codemirror_mode": {
    "name": "ipython",
    "version": 3
   },
   "file_extension": ".py",
   "mimetype": "text/x-python",
   "name": "python",
   "nbconvert_exporter": "python",
   "pygments_lexer": "ipython3",
   "version": "3.7.1"
  },
  "latex_envs": {
   "LaTeX_envs_menu_present": true,
   "autoclose": false,
   "autocomplete": true,
   "bibliofile": "biblio.bib",
   "cite_by": "apalike",
   "current_citInitial": 1,
   "eqLabelWithNumbers": true,
   "eqNumInitial": 1,
   "hotkeys": {
    "equation": "Ctrl-E",
    "itemize": "Ctrl-I"
   },
   "labels_anchors": false,
   "latex_user_defs": false,
   "report_style_numbering": false,
   "user_envs_cfg": false
  },
  "nteract": {
   "version": "0.15.0"
  },
  "toc": {
   "base_numbering": 1,
   "nav_menu": {},
   "number_sections": true,
   "sideBar": true,
   "skip_h1_title": false,
   "title_cell": "Table of Contents",
   "title_sidebar": "Contents",
   "toc_cell": false,
   "toc_position": {},
   "toc_section_display": true,
   "toc_window_display": false
  },
  "varInspector": {
   "cols": {
    "lenName": 16,
    "lenType": 16,
    "lenVar": 40
   },
   "kernels_config": {
    "python": {
     "delete_cmd_postfix": "",
     "delete_cmd_prefix": "del ",
     "library": "var_list.py",
     "varRefreshCmd": "print(var_dic_list())"
    },
    "r": {
     "delete_cmd_postfix": ") ",
     "delete_cmd_prefix": "rm(",
     "library": "var_list.r",
     "varRefreshCmd": "cat(var_dic_list()) "
    }
   },
   "types_to_exclude": [
    "module",
    "function",
    "builtin_function_or_method",
    "instance",
    "_Feature"
   ],
   "window_display": false
  }
 },
 "nbformat": 4,
 "nbformat_minor": 1
}
