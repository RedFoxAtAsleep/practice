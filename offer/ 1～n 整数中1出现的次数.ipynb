{
 "cells": [
  {
   "cell_type": "code",
   "execution_count": 35,
   "metadata": {
    "ExecuteTime": {
     "end_time": "2020-06-08T12:33:12.843279Z",
     "start_time": "2020-06-08T12:33:12.826875Z"
    }
   },
   "outputs": [
    {
     "name": "stdout",
     "output_type": "stream",
     "text": [
      "5\n",
      "0\n"
     ]
    }
   ],
   "source": [
    "\n",
    "class Solution:\n",
    "    def countDigitOne(self, n: int) -> int:\n",
    "        ups = self.toList(n)\n",
    "        count = 0\n",
    "        for i,up in enumerate(ups):\n",
    "            high = ups[i+1:]\n",
    "            if high:\n",
    "                high = self.toNum(*high)\n",
    "                if up == 0:\n",
    "                    high = high - 1\n",
    "                high = self.toList(high)\n",
    "                \n",
    "            low = ups[:i]\n",
    "            if low:\n",
    "                if up != 1:\n",
    "                    low = [9]*len(low)\n",
    "                    \n",
    "            count = count + self.toNum(*low, *high) + 1  # 1000, 0001, 0100\n",
    "        return count\n",
    "\n",
    "    def toNum(self, *nums):\n",
    "        r = 0\n",
    "        i = 0\n",
    "        for num in nums:\n",
    "            r += num*10**i\n",
    "            i += len(str(num))\n",
    "        return r\n",
    "    \n",
    "    def toList(self, num):\n",
    "        ups = []\n",
    "        while num:\n",
    "            ups.append(num%10)\n",
    "            num = num // 10\n",
    "        return ups\n",
    "            \n",
    "                        \n",
    "            \n",
    "\n",
    "s = Solution()\n",
    "print(\n",
    "    s.countDigitOne(12),\n",
    "    s.toNum(*[]),\n",
    "    sep='\\n'\n",
    ")"
   ]
  },
  {
   "cell_type": "code",
   "execution_count": null,
   "metadata": {
    "ExecuteTime": {
     "end_time": "2020-06-08T08:47:14.987931Z",
     "start_time": "2020-06-08T08:47:14.973734Z"
    }
   },
   "outputs": [],
   "source": []
  },
  {
   "cell_type": "code",
   "execution_count": null,
   "metadata": {},
   "outputs": [],
   "source": []
  }
 ],
 "metadata": {
  "kernelspec": {
   "display_name": "conda_env_ai",
   "language": "python",
   "name": "conda_env_ai"
  },
  "language_info": {
   "codemirror_mode": {
    "name": "ipython",
    "version": 3
   },
   "file_extension": ".py",
   "mimetype": "text/x-python",
   "name": "python",
   "nbconvert_exporter": "python",
   "pygments_lexer": "ipython3",
   "version": "3.6.8"
  }
 },
 "nbformat": 4,
 "nbformat_minor": 2
}
