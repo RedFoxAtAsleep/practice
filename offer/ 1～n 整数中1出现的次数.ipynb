{
 "cells": [
  {
   "cell_type": "code",
   "execution_count": 35,
   "metadata": {
    "ExecuteTime": {
     "end_time": "2020-06-08T12:33:12.843279Z",
     "start_time": "2020-06-08T12:33:12.826875Z"
    }
   },
   "outputs": [
    {
     "name": "stdout",
     "output_type": "stream",
     "text": [
      "5\n",
      "0\n"
     ]
    }
   ],
   "source": [
    "\n",
    "class Solution:\n",
    "    def countDigitOne(self, n: int) -> int:\n",
    "        ups = self.toList(n)\n",
    "        count = 0\n",
    "        for i,up in enumerate(ups):\n",
    "            high = ups[i+1:]\n",
    "            if high:\n",
    "                high = self.toNum(*high)\n",
    "                if up == 0:\n",
    "                    high = high - 1\n",
    "                high = self.toList(high)\n",
    "                \n",
    "            low = ups[:i]\n",
    "            if low:\n",
    "                if up != 1:\n",
    "                    low = [9]*len(low)\n",
    "                    \n",
    "            count = count + self.toNum(*low, *high) + 1  # 1000, 0001, 0100\n",
    "        return count\n",
    "\n",
    "    def toNum(self, *nums):\n",
    "        r = 0\n",
    "        i = 0\n",
    "        for num in nums:\n",
    "            r += num*10**i\n",
    "            i += len(str(num))\n",
    "        return r\n",
    "    \n",
    "    def toList(self, num):\n",
    "        ups = []\n",
    "        while num:\n",
    "            ups.append(num%10)\n",
    "            num = num // 10\n",
    "        return ups\n",
    "            \n",
    "                        \n",
    "            \n",
    "\n",
    "s = Solution()\n",
    "print(\n",
    "    s.countDigitOne(12),\n",
    "    s.toNum(*[]),\n",
    "    sep='\\n'\n",
    ")"
   ]
  },
  {
   "cell_type": "code",
   "execution_count": 1,
   "metadata": {
    "ExecuteTime": {
     "end_time": "2020-06-08T08:47:14.987931Z",
     "start_time": "2020-06-08T08:47:14.973734Z"
    }
   },
   "outputs": [],
   "source": [
    "class Solution:\n",
    "    def countDigitOne(self, n: int) -> int:\n",
    "        digit, res = 1, 0\n",
    "        high, cur, low = n // 10, n % 10, 0\n",
    "        while high != 0 or cur != 0:\n",
    "            if cur == 0: res += high * digit\n",
    "            elif cur == 1: res += high * digit + low + 1\n",
    "            else: res += (high + 1) * digit\n",
    "            low += cur * digit\n",
    "            cur = high % 10\n",
    "            high //= 10\n",
    "            digit *= 10\n",
    "        return res"
   ]
  },
  {
   "cell_type": "code",
   "execution_count": null,
   "metadata": {},
   "outputs": [],
   "source": []
  }
 ],
 "metadata": {
  "kernelspec": {
   "display_name": "Python 3",
   "language": "python",
   "name": "python3"
  },
  "language_info": {
   "codemirror_mode": {
    "name": "ipython",
    "version": 3
   },
   "file_extension": ".py",
   "mimetype": "text/x-python",
   "name": "python",
   "nbconvert_exporter": "python",
   "pygments_lexer": "ipython3",
   "version": "3.7.7"
  },
  "latex_envs": {
   "LaTeX_envs_menu_present": true,
   "autoclose": false,
   "autocomplete": true,
   "bibliofile": "biblio.bib",
   "cite_by": "apalike",
   "current_citInitial": 1,
   "eqLabelWithNumbers": true,
   "eqNumInitial": 1,
   "hotkeys": {
    "equation": "Ctrl-E",
    "itemize": "Ctrl-I"
   },
   "labels_anchors": false,
   "latex_user_defs": false,
   "report_style_numbering": false,
   "user_envs_cfg": false
  },
  "toc": {
   "base_numbering": 1,
   "nav_menu": {},
   "number_sections": true,
   "sideBar": true,
   "skip_h1_title": false,
   "title_cell": "Table of Contents",
   "title_sidebar": "Contents",
   "toc_cell": false,
   "toc_position": {},
   "toc_section_display": true,
   "toc_window_display": false
  },
  "varInspector": {
   "cols": {
    "lenName": 16,
    "lenType": 16,
    "lenVar": 40
   },
   "kernels_config": {
    "python": {
     "delete_cmd_postfix": "",
     "delete_cmd_prefix": "del ",
     "library": "var_list.py",
     "varRefreshCmd": "print(var_dic_list())"
    },
    "r": {
     "delete_cmd_postfix": ") ",
     "delete_cmd_prefix": "rm(",
     "library": "var_list.r",
     "varRefreshCmd": "cat(var_dic_list()) "
    }
   },
   "types_to_exclude": [
    "module",
    "function",
    "builtin_function_or_method",
    "instance",
    "_Feature"
   ],
   "window_display": false
  }
 },
 "nbformat": 4,
 "nbformat_minor": 2
}
