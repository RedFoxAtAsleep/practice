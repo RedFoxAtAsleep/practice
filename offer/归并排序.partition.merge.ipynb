{
 "cells": [
  {
   "cell_type": "code",
   "execution_count": 8,
   "metadata": {
    "ExecuteTime": {
     "end_time": "2020-06-10T02:19:36.767631Z",
     "start_time": "2020-06-10T02:19:36.749705Z"
    }
   },
   "outputs": [
    {
     "name": "stdout",
     "output_type": "stream",
     "text": [
      "[1, 9, 2, 8, 3, 7, 4, 5]\n",
      "[1, 9, 2, 8]\n",
      "[1, 9]\n",
      "[1]\n",
      "[9]\n",
      "[2, 8]\n",
      "[2]\n",
      "[8]\n",
      "[3, 7, 4, 5]\n",
      "[3, 7]\n",
      "[3]\n",
      "[7]\n",
      "[4, 5]\n",
      "[4]\n",
      "[5]\n"
     ]
    },
    {
     "data": {
      "text/plain": [
       "[1, 2, 3, 4, 5, 7, 8, 9]"
      ]
     },
     "execution_count": 8,
     "metadata": {},
     "output_type": "execute_result"
    }
   ],
   "source": [
    "class Solution:\n",
    "        \n",
    "    def merge_sort(self, nums):\n",
    "        print(nums)\n",
    "        if not nums:\n",
    "            return []\n",
    "        if len(nums) == 1:\n",
    "            return nums\n",
    "        equinoxes = len(nums) // 2  \n",
    "        # arr = [1,2], length//2:arr[:1]arr[1:], length//2+1:arr[:2]arr[2:]\n",
    "        # equinoxes向下取整\n",
    "        return self.merge(self.merge_sort(nums[:equinoxes]), self.merge_sort(nums[equinoxes:]))\n",
    "    \n",
    "    def merge(self, left, right):\n",
    "        result = []\n",
    "        while len(left) and len(right):\n",
    "            if left[0] > right[0]:\n",
    "                result.append(right.pop(0))\n",
    "            else:\n",
    "                result.append(left.pop(0))\n",
    "        if len(left):\n",
    "            result += left\n",
    "        if len(right):\n",
    "            result += right\n",
    "        return result\n",
    "    \n",
    "s = Solution()\n",
    "s.merge_sort([1,9,2,8,3,7,4,5])\n",
    "            \n",
    "            \n",
    "        "
   ]
  },
  {
   "cell_type": "code",
   "execution_count": null,
   "metadata": {},
   "outputs": [],
   "source": []
  }
 ],
 "metadata": {
  "kernelspec": {
   "display_name": "conda_env_ai",
   "language": "python",
   "name": "conda_env_ai"
  },
  "language_info": {
   "codemirror_mode": {
    "name": "ipython",
    "version": 3
   },
   "file_extension": ".py",
   "mimetype": "text/x-python",
   "name": "python",
   "nbconvert_exporter": "python",
   "pygments_lexer": "ipython3",
   "version": "3.6.8"
  }
 },
 "nbformat": 4,
 "nbformat_minor": 2
}
