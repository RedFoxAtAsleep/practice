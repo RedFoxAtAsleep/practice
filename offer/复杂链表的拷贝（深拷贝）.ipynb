{
 "cells": [
  {
   "cell_type": "code",
   "execution_count": 4,
   "metadata": {
    "ExecuteTime": {
     "end_time": "2020-06-05T17:31:33.058236Z",
     "start_time": "2020-06-05T17:31:33.051486Z"
    }
   },
   "outputs": [],
   "source": [
    "from copy import deepcopy, copy\n",
    "from collections import defaultdict"
   ]
  },
  {
   "cell_type": "code",
   "execution_count": 5,
   "metadata": {
    "ExecuteTime": {
     "end_time": "2020-06-05T17:32:00.619627Z",
     "start_time": "2020-06-05T17:32:00.584141Z"
    }
   },
   "outputs": [],
   "source": [
    "# Definition for a Node.\n",
    "class Node:\n",
    "    def __init__(self, x: int, next: 'Node' = None, random: 'Node' = None):\n",
    "        self.val = int(x)\n",
    "        self.next = next\n",
    "        self.random = random\n",
    "\n",
    "class Solution:\n",
    "    def copyRandomList(self, head: 'Node') -> 'Node':\n",
    "        headPointer = Node(0)\n",
    "        headPointer.next = head\n",
    "        copied = defaultdict(lambda x:None)\n",
    "        \n",
    "        def dfs(node):\n",
    "            if not node:\n",
    "                return None\n",
    "            copy = copied.get(node)\n",
    "            if copy:\n",
    "                return copy\n",
    "            if not copy:\n",
    "                copy = Node(node.val)\n",
    "                copied[node] = copy\n",
    "            copy.next = dfs(node.next)\n",
    "            copy.random = dfs(node.random)\n",
    "            return copied[node]\n",
    "        \n",
    "        return dfs(headPointer).next\n"
   ]
  },
  {
   "cell_type": "code",
   "execution_count": 2,
   "metadata": {
    "ExecuteTime": {
     "end_time": "2020-06-05T17:27:37.028229Z",
     "start_time": "2020-06-05T17:27:37.023286Z"
    }
   },
   "outputs": [],
   "source": [
    "d = {1:1,2:2}\n",
    "v = d.get(3)"
   ]
  },
  {
   "cell_type": "code",
   "execution_count": 3,
   "metadata": {
    "ExecuteTime": {
     "end_time": "2020-06-05T17:27:37.469734Z",
     "start_time": "2020-06-05T17:27:37.462145Z"
    }
   },
   "outputs": [
    {
     "name": "stdout",
     "output_type": "stream",
     "text": [
      "None\n"
     ]
    }
   ],
   "source": [
    "print(v)"
   ]
  },
  {
   "cell_type": "code",
   "execution_count": null,
   "metadata": {},
   "outputs": [],
   "source": []
  }
 ],
 "metadata": {
  "kernelspec": {
   "display_name": "Python 3",
   "language": "python",
   "name": "python3"
  },
  "language_info": {
   "codemirror_mode": {
    "name": "ipython",
    "version": 3
   },
   "file_extension": ".py",
   "mimetype": "text/x-python",
   "name": "python",
   "nbconvert_exporter": "python",
   "pygments_lexer": "ipython3",
   "version": "3.6.8"
  }
 },
 "nbformat": 4,
 "nbformat_minor": 2
}
