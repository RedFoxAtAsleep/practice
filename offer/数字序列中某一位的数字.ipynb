{
 "cells": [
  {
   "cell_type": "code",
   "execution_count": 47,
   "metadata": {
    "ExecuteTime": {
     "end_time": "2020-06-08T13:27:17.865750Z",
     "start_time": "2020-06-08T13:27:17.848561Z"
    }
   },
   "outputs": [
    {
     "ename": "SyntaxError",
     "evalue": "invalid syntax (<ipython-input-47-c984f5fcbf1e>, line 2)",
     "output_type": "error",
     "traceback": [
      "\u001b[0;36m  File \u001b[0;32m\"<ipython-input-47-c984f5fcbf1e>\"\u001b[0;36m, line \u001b[0;32m2\u001b[0m\n\u001b[0;31m    0-9 1 + 9*1\u001b[0m\n\u001b[0m        ^\u001b[0m\n\u001b[0;31mSyntaxError\u001b[0m\u001b[0;31m:\u001b[0m invalid syntax\n"
     ]
    }
   ],
   "source": [
    "f(i) \n",
    "0-9 1 + 9*1\n",
    "0-99 1 + 9*1 + 90*2\n",
    "0-999 1 + 9*1 + 90*2 + 900*3\n",
    "0-9999 1 + 9*1 + 90*2 + 900*3 + 9000*4\n",
    "f(i) - f(i-1)\n",
    "\n",
    "0-9 10*1\n",
    "10-99 90*2\n",
    "100-999 900*3\n",
    "1000-9999 9000*4\n",
    "\n",
    "start 0,10,100,100 end 9,99,999,9999\n",
    "\n",
    "-1 + 第几个一位数\n",
    "9 + 第几个二位数\n",
    "99 + 第几个三位数\n",
    "999\n",
    "9999\n",
    "99999and"
   ]
  },
  {
   "cell_type": "code",
   "execution_count": 48,
   "metadata": {},
   "outputs": [],
   "source": [
    "def iter_from():\n",
    "    r = 1\n",
    "    i = 9\n",
    "    j = 1\n",
    "    while True:\n",
    "        r = r + i*j\n",
    "        yield r\n",
    "        i *= 10\n",
    "        j += 1\n",
    "\n",
    "def iter_phrase():\n",
    "    yield 10\n",
    "    i = 90\n",
    "    j = 2\n",
    "    while True:\n",
    "        yield i*j\n",
    "        i *= 10\n",
    "        j += 1\n"
   ]
  },
  {
   "cell_type": "code",
   "execution_count": 43,
   "metadata": {
    "ExecuteTime": {
     "end_time": "2020-06-08T13:47:00.611648Z",
     "start_time": "2020-06-08T13:47:00.587664Z"
    }
   },
   "outputs": [],
   "source": [
    "import math\n",
    "# 数位\n",
    "class Solution:\n",
    "    def findNthDigit(self, n: int) -> int:\n",
    "        i = 1\n",
    "        j = 10\n",
    "        if n - i*j > 0:\n",
    "            n -= i*j\n",
    "            i = 2\n",
    "            j = 90\n",
    "            while n - i*j > 0:\n",
    "                n -= i*j\n",
    "                i += 1\n",
    "                j += 1\n",
    "        return i, (i-1)*10-1 + math.ceil(n/i)\n",
    "        \n",
    "\n",
    "    \n"
   ]
  },
  {
   "cell_type": "code",
   "execution_count": null,
   "metadata": {},
   "outputs": [],
   "source": []
  },
  {
   "cell_type": "code",
   "execution_count": null,
   "metadata": {},
   "outputs": [],
   "source": []
  },
  {
   "cell_type": "code",
   "execution_count": null,
   "metadata": {},
   "outputs": [],
   "source": []
  }
 ],
 "metadata": {
  "kernelspec": {
   "display_name": "Python 3",
   "language": "python",
   "name": "python3"
  },
  "language_info": {
   "codemirror_mode": {
    "name": "ipython",
    "version": 3
   },
   "file_extension": ".py",
   "mimetype": "text/x-python",
   "name": "python",
   "nbconvert_exporter": "python",
   "pygments_lexer": "ipython3",
   "version": "3.7.7"
  },
  "latex_envs": {
   "LaTeX_envs_menu_present": true,
   "autoclose": false,
   "autocomplete": true,
   "bibliofile": "biblio.bib",
   "cite_by": "apalike",
   "current_citInitial": 1,
   "eqLabelWithNumbers": true,
   "eqNumInitial": 1,
   "hotkeys": {
    "equation": "Ctrl-E",
    "itemize": "Ctrl-I"
   },
   "labels_anchors": false,
   "latex_user_defs": false,
   "report_style_numbering": false,
   "user_envs_cfg": false
  },
  "toc": {
   "base_numbering": 1,
   "nav_menu": {},
   "number_sections": true,
   "sideBar": true,
   "skip_h1_title": false,
   "title_cell": "Table of Contents",
   "title_sidebar": "Contents",
   "toc_cell": false,
   "toc_position": {},
   "toc_section_display": true,
   "toc_window_display": false
  },
  "varInspector": {
   "cols": {
    "lenName": 16,
    "lenType": 16,
    "lenVar": 40
   },
   "kernels_config": {
    "python": {
     "delete_cmd_postfix": "",
     "delete_cmd_prefix": "del ",
     "library": "var_list.py",
     "varRefreshCmd": "print(var_dic_list())"
    },
    "r": {
     "delete_cmd_postfix": ") ",
     "delete_cmd_prefix": "rm(",
     "library": "var_list.r",
     "varRefreshCmd": "cat(var_dic_list()) "
    }
   },
   "types_to_exclude": [
    "module",
    "function",
    "builtin_function_or_method",
    "instance",
    "_Feature"
   ],
   "window_display": false
  }
 },
 "nbformat": 4,
 "nbformat_minor": 2
}
