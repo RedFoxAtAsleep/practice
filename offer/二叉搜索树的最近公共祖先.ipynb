{
 "cells": [
  {
   "cell_type": "code",
   "execution_count": 6,
   "metadata": {
    "ExecuteTime": {
     "end_time": "2020-06-14T14:30:41.771881Z",
     "start_time": "2020-06-14T14:30:41.754072Z"
    }
   },
   "outputs": [
    {
     "data": {
      "text/plain": [
       "2"
      ]
     },
     "execution_count": 6,
     "metadata": {},
     "output_type": "execute_result"
    }
   ],
   "source": [
    "# 二叉树，dfs非递归，超出时间限制\n",
    "from piece import tree\n",
    "from collections import defaultdict\n",
    "\n",
    "class TreeNode:\n",
    "    def __init__(self, x):\n",
    "        self.val = x\n",
    "        self.left = None\n",
    "        self.right = None\n",
    "\n",
    "class Solution:\n",
    "    def lowestCommonAncestor(self, root: 'TreeNode', p: 'TreeNode', q: 'TreeNode') -> 'TreeNode':\n",
    "        if not root:\n",
    "            return None\n",
    "        container = [root]\n",
    "        visited = defaultdict(lambda:0)\n",
    "        p_path = None\n",
    "        q_path = None \n",
    "\n",
    "        while container:\n",
    "        \n",
    "            node = container[-1]\n",
    "\n",
    "            if  p.val == node.val:\n",
    "                p_path = container.copy()\n",
    "            if q.val == node.val:\n",
    "                q_path = container.copy()\n",
    "                \n",
    "            if node.left:\n",
    "                container.append(node.left)\n",
    "            if node.right:\n",
    "                container.append(node.right)\n",
    "            visited[node.val] = 1\n",
    "            while container and container[-1] == node and visited[node.val] :\n",
    "                container.pop()\n",
    "                if container:\n",
    "                    node = container[-1]\n",
    "                else:\n",
    "                    break\n",
    "                    \n",
    "        common = []           \n",
    "        while p_path and q_path:\n",
    "            vp = p_path.pop(0)\n",
    "            vq = q_path.pop(0)\n",
    "            if vp.val != vq.val:\n",
    "                break\n",
    "            common.append(vp)\n",
    "        return common[-1]\n",
    "                    \n",
    "\n",
    "root = tree.deserialize([6,2,8,0,4,7,9,None,None,3,5])\n",
    "p = root.left\n",
    "q = root.right\n",
    "s = Solution()\n",
    "s.lowestCommonAncestor(root, p, q)\n"
   ]
  },
  {
   "cell_type": "code",
   "execution_count": 73,
   "metadata": {
    "ExecuteTime": {
     "end_time": "2020-06-14T14:30:42.511891Z",
     "start_time": "2020-06-14T14:30:42.497712Z"
    }
   },
   "outputs": [
    {
     "name": "stdout",
     "output_type": "stream",
     "text": [
      "6\n",
      "2\n"
     ]
    }
   ],
   "source": [
    "# 二叉树，dfs递归\n",
    "from piece import tree\n",
    "\n",
    "class TreeNode:\n",
    "    def __init__(self, x):\n",
    "        self.val = x\n",
    "        self.left = None\n",
    "        self.right = None\n",
    "\n",
    "class Solution:\n",
    "    def lowestCommonAncestor(self, root: 'TreeNode', p: 'TreeNode', q: 'TreeNode') -> 'TreeNode':\n",
    "        self.fork_nodes = []\n",
    "        self.p_path = None\n",
    "        self.q_path = None\n",
    "        def dfs(node):\n",
    "            if not node:\n",
    "                return None\n",
    "            \n",
    "            # 递归，当前代码层词出入成对\n",
    "            self.fork_nodes.append(node)  # 到当前节点的path\n",
    "            if node.val == p.val:\n",
    "                self.p_path = self.fork_nodes.copy()\n",
    "            if node.val == q.val:\n",
    "                self.q_path = self.fork_nodes.copy()                    \n",
    "            dfs(node.left)\n",
    "            dfs(node.right)\n",
    "            # 递归，当前代码层词出入成对\n",
    "            self.fork_nodes.pop()\n",
    "        dfs(root)\n",
    "        self.common = []\n",
    "        while self.p_path and self.q_path:\n",
    "            vp = self.p_path.pop(0)\n",
    "            vq = self.q_path.pop(0)\n",
    "            if vp.val != vq.val:\n",
    "                break\n",
    "            self.common.append(vp)\n",
    "        return self.common[-1]\n",
    "\n",
    "            \n",
    "root = tree.deserialize([6,2,8,0,4,7,9,None,None,3,5])\n",
    "p = root.left\n",
    "q = root.right\n",
    "s = Solution()\n",
    "print(s.lowestCommonAncestor(root, p, q))\n",
    "\n",
    "\n",
    "root = tree.deserialize([6,2,8,0,4,7,9,None,None,3,5])\n",
    "p = root.left\n",
    "q = root.left.right\n",
    "s = Solution()\n",
    "print(s.lowestCommonAncestor(root, p, q))\n",
    "\n"
   ]
  },
  {
   "cell_type": "code",
   "execution_count": 76,
   "metadata": {
    "ExecuteTime": {
     "end_time": "2020-06-14T14:35:44.424257Z",
     "start_time": "2020-06-14T14:35:44.415600Z"
    }
   },
   "outputs": [],
   "source": [
    "# 二叉搜索数\n",
    "\n",
    "class Solution:\n",
    "    def lowestCommonAncestor(self, root: 'TreeNode', p: 'TreeNode', q: 'TreeNode') -> 'TreeNode':\n",
    "        # 根据二叉搜索树，如果一个大一个小就在左右子树，当前节点就是最近公共祖先。否则进入左或右继续搜索\n",
    "        # # 解一：递归\n",
    "        # if root.val > p.val and root.val > q.val:\n",
    "        #     return self.lowestCommonAncestor(root.left, p, q)  # 为什么这里要return呢，里面不是有一个return了吗，递归的每一层都需要return回溯的吗？\n",
    "        # if root.val < p.val and root.val < q.val:\n",
    "        #     return self.lowestCommonAncestor(root.right, p, q)\n",
    "        # return root\n",
    "\n",
    "        # 解二：迭代\n",
    "        while root:\n",
    "            if root.val > p.val and root.val > q.val:\n",
    "                root = root.left\n",
    "            elif root.val < p.val and root.val < q.val:\n",
    "                root = root.right\n",
    "            else:\n",
    "                break\n",
    "        return root\n",
    "    \n",
    "    "
   ]
  },
  {
   "cell_type": "code",
   "execution_count": 7,
   "metadata": {
    "ExecuteTime": {
     "end_time": "2020-06-14T14:33:56.290531Z",
     "start_time": "2020-06-14T14:33:56.281808Z"
    }
   },
   "outputs": [
    {
     "name": "stdout",
     "output_type": "stream",
     "text": [
      "6\n",
      "2\n",
      "2\n"
     ]
    }
   ],
   "source": [
    "# 二叉树，递归\n",
    "from functools import lru_cache\n",
    "class Solution:\n",
    "    def lowestCommonAncestor(self, root: TreeNode, p: TreeNode, q: TreeNode) -> TreeNode:\n",
    "        \n",
    "        @lru_cache()\n",
    "        def isAncestor(root, node):\n",
    "            if not root:\n",
    "                return False\n",
    "            if root == node:\n",
    "                return True\n",
    "            if isAncestor(root.left, node):\n",
    "                return True\n",
    "            if isAncestor(root.right, node):\n",
    "                return True\n",
    "            return None\n",
    "        \n",
    "        @lru_cache()\n",
    "        def isCommonAncestor(root, p, q):\n",
    "            return isAncestor(root, p) and isAncestor(root, q)\n",
    "        \n",
    "        while root:\n",
    "            print(root.val)\n",
    "            if isCommonAncestor(root, p, q):\n",
    "                if not isCommonAncestor(root.left, p, q) and not isCommonAncestor(root.right, p, q):\n",
    "                    return root\n",
    "                if isCommonAncestor(root.left, p, q):\n",
    "                    root = root.left\n",
    "                else:\n",
    "                    root = root.right\n",
    "\n",
    "root = tree.deserialize([6,2,8,0,4,7,9,None,None,3,5])\n",
    "p = root.left\n",
    "q = root.left.right\n",
    "s = Solution()\n",
    "print(s.lowestCommonAncestor(root, p, q))\n",
    "\n",
    "\n",
    "    "
   ]
  },
  {
   "cell_type": "code",
   "execution_count": null,
   "metadata": {},
   "outputs": [],
   "source": [
    "from functools import lru_cache\n",
    "class Solution:\n",
    "    def lowestCommonAncestor(self, root: TreeNode, p: TreeNode, q: TreeNode) -> TreeNode:\n",
    "        \n",
    "        # has_p_or_q包括has_p_and_q\n",
    "        # has_p_or_q 1,1 1,0 0,1\n",
    "        def has_p_or_q(root, p, q):\n",
    "            if not root:\n",
    "                return None\n",
    "            if root == p or root == q:\n",
    "                return root\n",
    "            left = has_p_or_q(root.left, p, q)\n",
    "            right = has_p_or_q(root.right, p, q)\n",
    "            if not left:\n",
    "                return right\n",
    "            if not right:\n",
    "                return left\n",
    "            return root\n",
    "        return has_p_or_q(root, p, q)"
   ]
  },
  {
   "cell_type": "code",
   "execution_count": null,
   "metadata": {},
   "outputs": [],
   "source": []
  }
 ],
 "metadata": {
  "kernelspec": {
   "display_name": "Python 3",
   "language": "python",
   "name": "python3"
  },
  "language_info": {
   "codemirror_mode": {
    "name": "ipython",
    "version": 3
   },
   "file_extension": ".py",
   "mimetype": "text/x-python",
   "name": "python",
   "nbconvert_exporter": "python",
   "pygments_lexer": "ipython3",
   "version": "3.7.7"
  },
  "latex_envs": {
   "LaTeX_envs_menu_present": true,
   "autoclose": false,
   "autocomplete": true,
   "bibliofile": "biblio.bib",
   "cite_by": "apalike",
   "current_citInitial": 1,
   "eqLabelWithNumbers": true,
   "eqNumInitial": 1,
   "hotkeys": {
    "equation": "Ctrl-E",
    "itemize": "Ctrl-I"
   },
   "labels_anchors": false,
   "latex_user_defs": false,
   "report_style_numbering": false,
   "user_envs_cfg": false
  },
  "toc": {
   "base_numbering": 1,
   "nav_menu": {},
   "number_sections": true,
   "sideBar": true,
   "skip_h1_title": false,
   "title_cell": "Table of Contents",
   "title_sidebar": "Contents",
   "toc_cell": false,
   "toc_position": {},
   "toc_section_display": true,
   "toc_window_display": false
  },
  "varInspector": {
   "cols": {
    "lenName": 16,
    "lenType": 16,
    "lenVar": 40
   },
   "kernels_config": {
    "python": {
     "delete_cmd_postfix": "",
     "delete_cmd_prefix": "del ",
     "library": "var_list.py",
     "varRefreshCmd": "print(var_dic_list())"
    },
    "r": {
     "delete_cmd_postfix": ") ",
     "delete_cmd_prefix": "rm(",
     "library": "var_list.r",
     "varRefreshCmd": "cat(var_dic_list()) "
    }
   },
   "types_to_exclude": [
    "module",
    "function",
    "builtin_function_or_method",
    "instance",
    "_Feature"
   ],
   "window_display": false
  }
 },
 "nbformat": 4,
 "nbformat_minor": 2
}
