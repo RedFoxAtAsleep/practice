{
 "cells": [
  {
   "cell_type": "code",
   "execution_count": 1,
   "metadata": {
    "ExecuteTime": {
     "end_time": "2020-05-21T03:37:08.745869Z",
     "start_time": "2020-05-21T03:37:08.724963Z"
    }
   },
   "outputs": [
    {
     "data": {
      "text/plain": [
       "[8, 7, 6, 5, 4]"
      ]
     },
     "execution_count": 1,
     "metadata": {},
     "output_type": "execute_result"
    }
   ],
   "source": [
    "class Solution:\n",
    "    def spiralOrder(self, matrix: List[List[int]]) -> List[int]:\n",
    "        path = []\n",
    "        row = len(matrix)\n",
    "        if row == 0: return []\n",
    "        col = len(matrix[0])\n",
    "        if col == 0: return []\n",
    "        visited = [ [ 0 for j in range(col)] for i in range(row)]\n",
    "        xs = 0\n",
    "        xe = row-1\n",
    "        ys = 0\n",
    "        ye = col-1\n",
    "        while True:\n",
    "            for j in range(ys, ye+1):\n",
    "                path.append(matrix[xs][j])\n",
    "                print(xs,j)\n",
    "            xs += 1\n",
    "            if xs > xe:\n",
    "                break\n",
    "            print(xs, xe, ys, ye)\n",
    "            for i in range(xs, xe+1):\n",
    "                path.append(matrix[i][ye])\n",
    "                print(i, ye)\n",
    "            ye += -1\n",
    "            if ys > ye:\n",
    "                break\n",
    "            print(xs, xe, ys, ye)\n",
    "            for j in range(ye, ys-1, -1):\n",
    "                path.append(matrix[xe][j])\n",
    "                print(xe,j)\n",
    "            xe += -1\n",
    "            if xs > xe:\n",
    "                break\n",
    "            print(xs, xe, ys, ye)\n",
    "            for i in range(xe, xs-1, -1):\n",
    "                path.append(matrix[i][ys])\n",
    "                print(i,ys)\n",
    "            ys += 1\n",
    "            if ys > ye:\n",
    "                break\n",
    "            print(xs, xe, ys, ye)\n",
    "        return path\n"
   ]
  },
  {
   "cell_type": "code",
   "execution_count": 2,
   "metadata": {},
   "outputs": [
    {
     "data": {
      "text/plain": [
       "[1, 2, 3, 6, 9, 8, 7, 4, 5]"
      ]
     },
     "execution_count": 2,
     "metadata": {},
     "output_type": "execute_result"
    }
   ],
   "source": [
    "from typing import List\n",
    "\n",
    "class Solution:\n",
    "    def spiralOrder(self, matrix: List[List[int]]) -> List[int]:\n",
    "        res = []\n",
    "        while matrix:\n",
    "            res += matrix.pop(0)\n",
    "            matrix = list(zip(*matrix))[::-1]\n",
    "        return res\n",
    "\n",
    "m = [[1,2,3],[4,5,6],[7,8,9]]\n",
    "s = Solution()\n",
    "s.spiralOrder(m)"
   ]
  },
  {
   "cell_type": "code",
   "execution_count": 10,
   "metadata": {},
   "outputs": [
    {
     "name": "stdout",
     "output_type": "stream",
     "text": [
      "[(3, 6, 9), (2, 5, 8), (1, 4, 7)]\n",
      "[(1, 2, 3), (4, 5, 6), (7, 8, 9)]\n"
     ]
    }
   ],
   "source": [
    "m = [[1,2,3],[4,5,6],[7,8,9]]\n",
    "m = list(zip(*m))\n",
    "print(m[::-1])\n",
    "m = list(zip(*m))\n",
    "print(m)\n"
   ]
  },
  {
   "cell_type": "code",
   "execution_count": null,
   "metadata": {},
   "outputs": [],
   "source": []
  }
 ],
 "metadata": {
  "kernelspec": {
   "display_name": "Python 3",
   "language": "python",
   "name": "python3"
  },
  "language_info": {
   "codemirror_mode": {
    "name": "ipython",
    "version": 3
   },
   "file_extension": ".py",
   "mimetype": "text/x-python",
   "name": "python",
   "nbconvert_exporter": "python",
   "pygments_lexer": "ipython3",
   "version": "3.7.1"
  },
  "latex_envs": {
   "LaTeX_envs_menu_present": true,
   "autoclose": false,
   "autocomplete": true,
   "bibliofile": "biblio.bib",
   "cite_by": "apalike",
   "current_citInitial": 1,
   "eqLabelWithNumbers": true,
   "eqNumInitial": 1,
   "hotkeys": {
    "equation": "Ctrl-E",
    "itemize": "Ctrl-I"
   },
   "labels_anchors": false,
   "latex_user_defs": false,
   "report_style_numbering": false,
   "user_envs_cfg": false
  },
  "toc": {
   "base_numbering": 1,
   "nav_menu": {},
   "number_sections": true,
   "sideBar": true,
   "skip_h1_title": false,
   "title_cell": "Table of Contents",
   "title_sidebar": "Contents",
   "toc_cell": false,
   "toc_position": {},
   "toc_section_display": true,
   "toc_window_display": false
  },
  "varInspector": {
   "cols": {
    "lenName": 16,
    "lenType": 16,
    "lenVar": 40
   },
   "kernels_config": {
    "python": {
     "delete_cmd_postfix": "",
     "delete_cmd_prefix": "del ",
     "library": "var_list.py",
     "varRefreshCmd": "print(var_dic_list())"
    },
    "r": {
     "delete_cmd_postfix": ") ",
     "delete_cmd_prefix": "rm(",
     "library": "var_list.r",
     "varRefreshCmd": "cat(var_dic_list()) "
    }
   },
   "types_to_exclude": [
    "module",
    "function",
    "builtin_function_or_method",
    "instance",
    "_Feature"
   ],
   "window_display": false
  }
 },
 "nbformat": 4,
 "nbformat_minor": 2
}
