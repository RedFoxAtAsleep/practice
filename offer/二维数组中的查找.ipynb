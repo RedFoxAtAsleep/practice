{
 "cells": [
  {
   "cell_type": "code",
   "execution_count": 2,
   "metadata": {},
   "outputs": [
    {
     "data": {
      "text/plain": [
       "True"
      ]
     },
     "execution_count": 2,
     "metadata": {},
     "output_type": "execute_result"
    }
   ],
   "source": [
    "from typing import List\n",
    "class Solution:\n",
    "    def findNumberIn2DArray(self, matrix: List[List[int]], target: int) -> bool:\n",
    "        row = len(matrix)\n",
    "        if row == 0:\n",
    "            return False\n",
    "        col = len(matrix[0])\n",
    "        if col == 0:\n",
    "            return False\n",
    "        \n",
    "        \n",
    "        def find(i, j):\n",
    "            if i < 0 or j > col-1:\n",
    "                return False\n",
    "            pivot = matrix[i][j]\n",
    "            if target == pivot:\n",
    "                return True\n",
    "            elif target < pivot:\n",
    "                return find(i-1, j)\n",
    "            else:\n",
    "                return find(i, j+1)\n",
    "        return find(row-1, 0) # left bottom or right top\n",
    "m = [[1,4,7,11,15],[2,5,8,12,19],[3,6,9,16,22],[10,13,14,17,24],[18,21,23,26,30]]\n",
    "target = 5\n",
    "s = Solution()\n",
    "s.findNumberIn2DArray(m, target)\n"
   ]
  },
  {
   "cell_type": "markdown",
   "metadata": {},
   "source": [
    "![](data:image/png;base64,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)\n"
   ]
  },
  {
   "cell_type": "code",
   "execution_count": 4,
   "metadata": {},
   "outputs": [
    {
     "data": {
      "text/plain": [
       "True"
      ]
     },
     "execution_count": 4,
     "metadata": {},
     "output_type": "execute_result"
    }
   ],
   "source": [
    "class Solution:\n",
    "    def findNumberIn2DArray(self, matrix: List[List[int]], target: int) -> bool:\n",
    "        i, j = len(matrix) - 1, 0\n",
    "        while i >= 0 and j < len(matrix[0]):\n",
    "            if matrix[i][j] > target: i -= 1\n",
    "            elif matrix[i][j] < target: j += 1\n",
    "            else: return True\n",
    "        return False\n",
    "m = [[1,4,7,11,15],[2,5,8,12,19],[3,6,9,16,22],[10,13,14,17,24],[18,21,23,26,30]]\n",
    "target = 5\n",
    "s = Solution()\n",
    "s.findNumberIn2DArray(m, target)"
   ]
  },
  {
   "cell_type": "code",
   "execution_count": null,
   "metadata": {},
   "outputs": [],
   "source": []
  }
 ],
 "metadata": {
  "kernelspec": {
   "display_name": "Python 3",
   "language": "python",
   "name": "python3"
  },
  "language_info": {
   "codemirror_mode": {
    "name": "ipython",
    "version": 3
   },
   "file_extension": ".py",
   "mimetype": "text/x-python",
   "name": "python",
   "nbconvert_exporter": "python",
   "pygments_lexer": "ipython3",
   "version": "3.7.1"
  },
  "latex_envs": {
   "LaTeX_envs_menu_present": true,
   "autoclose": false,
   "autocomplete": true,
   "bibliofile": "biblio.bib",
   "cite_by": "apalike",
   "current_citInitial": 1,
   "eqLabelWithNumbers": true,
   "eqNumInitial": 1,
   "hotkeys": {
    "equation": "Ctrl-E",
    "itemize": "Ctrl-I"
   },
   "labels_anchors": false,
   "latex_user_defs": false,
   "report_style_numbering": false,
   "user_envs_cfg": false
  },
  "toc": {
   "base_numbering": 1,
   "nav_menu": {},
   "number_sections": true,
   "sideBar": true,
   "skip_h1_title": false,
   "title_cell": "Table of Contents",
   "title_sidebar": "Contents",
   "toc_cell": false,
   "toc_position": {},
   "toc_section_display": true,
   "toc_window_display": false
  },
  "varInspector": {
   "cols": {
    "lenName": 16,
    "lenType": 16,
    "lenVar": 40
   },
   "kernels_config": {
    "python": {
     "delete_cmd_postfix": "",
     "delete_cmd_prefix": "del ",
     "library": "var_list.py",
     "varRefreshCmd": "print(var_dic_list())"
    },
    "r": {
     "delete_cmd_postfix": ") ",
     "delete_cmd_prefix": "rm(",
     "library": "var_list.r",
     "varRefreshCmd": "cat(var_dic_list()) "
    }
   },
   "types_to_exclude": [
    "module",
    "function",
    "builtin_function_or_method",
    "instance",
    "_Feature"
   ],
   "window_display": false
  }
 },
 "nbformat": 4,
 "nbformat_minor": 2
}
