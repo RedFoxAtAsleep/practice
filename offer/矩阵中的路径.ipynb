{
 "cells": [
  {
   "cell_type": "code",
   "execution_count": 4,
   "metadata": {},
   "outputs": [
    {
     "data": {
      "text/plain": [
       "False"
      ]
     },
     "execution_count": 4,
     "metadata": {},
     "output_type": "execute_result"
    }
   ],
   "source": [
    "from functools import lru_cache\n",
    "from typing import List\n",
    "\n",
    "class Solution:\n",
    "    def exist(self, board: List[List[str]], word: str) -> bool:\n",
    "        \n",
    "        # 打死都不能缓存\n",
    "        # i < 0 or i >= row\n",
    "        # j < 0 or j >= col\n",
    "        # board[i][j] != word[ichar]\n",
    "        # by[i][j] == 1，导致不能缓存\n",
    "        def dfs(i,j,ichar):\n",
    "            \n",
    "            # if out of range, if visited\n",
    "            if i < 0 or i >= row or j < 0 or j >= col or board[i][j] != word[ichar] or by[i][j] == 1:\n",
    "                return False\n",
    "            \n",
    "            # visited\n",
    "            by[i][j] = 1\n",
    "            \n",
    "            # if target\n",
    "            if ichar == len(word)-1 and board[i][j] == word[ichar]:\n",
    "                # print(by)\n",
    "                return True\n",
    "            \n",
    "            r1 = dfs(i+1,j,ichar+1)\n",
    "            r2 = dfs(i-1,j,ichar+1)\n",
    "            r3 = dfs(i,j+1,ichar+1)\n",
    "            r4 = dfs(i,j-1,ichar+1)\n",
    "            res = r1 or r2 or r3 or r4\n",
    "            \n",
    "            # if set unvisited\n",
    "            by[i][j] = 0\n",
    "            return res\n",
    "\n",
    "        row = len(board)\n",
    "        col = len(board[0])\n",
    "        for i in range(row):\n",
    "            for j in range(col):\n",
    "                by = [[ 0 for j in range(col)] for i in range(row)]\n",
    "                if dfs(i,j,0):\n",
    "                    print(by)\n",
    "                    return True\n",
    "        return False\n",
    "    \n",
    "s = Solution()\n",
    "a = [[\"A\",\"B\",\"C\",\"E\"],[\"S\",\"F\",\"C\",\"S\"],[\"A\",\"D\",\"E\",\"E\"]]\n",
    "t = \"ABCCED\"\n",
    "s.exist(a,t)\n"
   ]
  },
  {
   "cell_type": "code",
   "execution_count": 7,
   "metadata": {},
   "outputs": [
    {
     "name": "stdout",
     "output_type": "stream",
     "text": [
      "['A', 'B', 'C', 'C', 'E', 'D']\n"
     ]
    },
    {
     "data": {
      "text/plain": [
       "True"
      ]
     },
     "execution_count": 7,
     "metadata": {},
     "output_type": "execute_result"
    }
   ],
   "source": [
    "class Solution:\n",
    "    def exist(self, board: List[List[str]], word: str) -> bool:\n",
    "        stack = []\n",
    "        def dfs(i, j, k):\n",
    "            if not 0 <= i < len(board) or not 0 <= j < len(board[0]) or board[i][j] != word[k]: return False\n",
    "            \n",
    "            tmp, board[i][j] = board[i][j], '/'\n",
    "            stack.append(tmp)\n",
    "            if k == len(word) - 1: \n",
    "                print(stack)\n",
    "                return True\n",
    "            res = dfs(i + 1, j, k + 1) or dfs(i - 1, j, k + 1) or dfs(i, j + 1, k + 1) or dfs(i, j - 1, k + 1)\n",
    "            board[i][j] = tmp\n",
    "            stack.pop()\n",
    "            return res\n",
    "\n",
    "        for i in range(len(board)):\n",
    "            for j in range(len(board[0])):\n",
    "                if dfs(i, j, 0): return True\n",
    "        return False\n",
    "    \n",
    "s = Solution()\n",
    "a = [[\"A\",\"B\",\"C\",\"E\"],[\"S\",\"F\",\"C\",\"S\"],[\"A\",\"D\",\"E\",\"E\"]]\n",
    "t = \"ABCCED\"\n",
    "s.exist(a,t)"
   ]
  },
  {
   "cell_type": "code",
   "execution_count": null,
   "metadata": {},
   "outputs": [],
   "source": []
  }
 ],
 "metadata": {
  "kernelspec": {
   "display_name": "Python 3",
   "language": "python",
   "name": "python3"
  },
  "language_info": {
   "codemirror_mode": {
    "name": "ipython",
    "version": 3
   },
   "file_extension": ".py",
   "mimetype": "text/x-python",
   "name": "python",
   "nbconvert_exporter": "python",
   "pygments_lexer": "ipython3",
   "version": "3.7.1"
  },
  "latex_envs": {
   "LaTeX_envs_menu_present": true,
   "autoclose": false,
   "autocomplete": true,
   "bibliofile": "biblio.bib",
   "cite_by": "apalike",
   "current_citInitial": 1,
   "eqLabelWithNumbers": true,
   "eqNumInitial": 1,
   "hotkeys": {
    "equation": "Ctrl-E",
    "itemize": "Ctrl-I"
   },
   "labels_anchors": false,
   "latex_user_defs": false,
   "report_style_numbering": false,
   "user_envs_cfg": false
  },
  "toc": {
   "base_numbering": 1,
   "nav_menu": {},
   "number_sections": true,
   "sideBar": true,
   "skip_h1_title": false,
   "title_cell": "Table of Contents",
   "title_sidebar": "Contents",
   "toc_cell": false,
   "toc_position": {},
   "toc_section_display": true,
   "toc_window_display": false
  },
  "varInspector": {
   "cols": {
    "lenName": 16,
    "lenType": 16,
    "lenVar": 40
   },
   "kernels_config": {
    "python": {
     "delete_cmd_postfix": "",
     "delete_cmd_prefix": "del ",
     "library": "var_list.py",
     "varRefreshCmd": "print(var_dic_list())"
    },
    "r": {
     "delete_cmd_postfix": ") ",
     "delete_cmd_prefix": "rm(",
     "library": "var_list.r",
     "varRefreshCmd": "cat(var_dic_list()) "
    }
   },
   "types_to_exclude": [
    "module",
    "function",
    "builtin_function_or_method",
    "instance",
    "_Feature"
   ],
   "window_display": false
  }
 },
 "nbformat": 4,
 "nbformat_minor": 2
}
