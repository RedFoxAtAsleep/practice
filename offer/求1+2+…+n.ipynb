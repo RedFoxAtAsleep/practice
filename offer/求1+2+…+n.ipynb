{
 "cells": [
  {
   "cell_type": "code",
   "execution_count": null,
   "metadata": {},
   "outputs": [],
   "source": [
    "# 求 1+2+...+n ，要求不能使用乘除法、for、while、if、else、switch、case等关键字及条件判断语句（A?B:C）"
   ]
  },
  {
   "cell_type": "code",
   "execution_count": 7,
   "metadata": {
    "ExecuteTime": {
     "end_time": "2020-06-14T11:19:05.324837Z",
     "start_time": "2020-06-14T11:19:05.315042Z"
    }
   },
   "outputs": [
    {
     "data": {
      "text/plain": [
       "10"
      ]
     },
     "execution_count": 7,
     "metadata": {},
     "output_type": "execute_result"
    }
   ],
   "source": [
    "class Solution:\n",
    "    \n",
    "    def sumNums(self, n: int) -> int:\n",
    "        if n == 1:\n",
    "            return 1\n",
    "        return self.sumNums(n-1) + n\n",
    "\n",
    "s = Solution()\n",
    "s.sumNums(4)"
   ]
  },
  {
   "cell_type": "code",
   "execution_count": 10,
   "metadata": {
    "ExecuteTime": {
     "end_time": "2020-06-14T11:27:07.041756Z",
     "start_time": "2020-06-14T11:27:07.034317Z"
    }
   },
   "outputs": [
    {
     "data": {
      "text/plain": [
       "10"
      ]
     },
     "execution_count": 10,
     "metadata": {},
     "output_type": "execute_result"
    }
   ],
   "source": [
    "class Solution:\n",
    "    \n",
    "    def __init__(self):\n",
    "        self.res = 0\n",
    "    \n",
    "    def sumNums(self, n: int) -> int:\n",
    "        n > 1 and self.sumNums(n-1)\n",
    "        self.res += n\n",
    "        return self.res\n",
    "\n",
    "s = Solution()\n",
    "s.sumNums(4)\n"
   ]
  },
  {
   "cell_type": "code",
   "execution_count": 13,
   "metadata": {
    "ExecuteTime": {
     "end_time": "2020-06-14T11:29:30.024489Z",
     "start_time": "2020-06-14T11:29:30.014707Z"
    }
   },
   "outputs": [
    {
     "data": {
      "text/plain": [
       "6"
      ]
     },
     "execution_count": 13,
     "metadata": {},
     "output_type": "execute_result"
    }
   ],
   "source": [
    "class Solution:\n",
    "    \n",
    "    def __init__(self):\n",
    "        self.res = 1\n",
    "    \n",
    "    def sumNums(self, n: int) -> int:\n",
    "        n > 1 and self.sumNums(n-1)\n",
    "        self.res = self.res * n\n",
    "        return self.res\n",
    "\n",
    "s = Solution()\n",
    "s.sumNums(3)"
   ]
  },
  {
   "cell_type": "code",
   "execution_count": null,
   "metadata": {},
   "outputs": [],
   "source": []
  }
 ],
 "metadata": {
  "kernelspec": {
   "display_name": "Python 3",
   "language": "python",
   "name": "python3"
  },
  "language_info": {
   "codemirror_mode": {
    "name": "ipython",
    "version": 3
   },
   "file_extension": ".py",
   "mimetype": "text/x-python",
   "name": "python",
   "nbconvert_exporter": "python",
   "pygments_lexer": "ipython3",
   "version": "3.6.8"
  }
 },
 "nbformat": 4,
 "nbformat_minor": 4
}
