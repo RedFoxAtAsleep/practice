{
 "cells": [
  {
   "cell_type": "code",
   "execution_count": 5,
   "metadata": {},
   "outputs": [
    {
     "data": {
      "text/plain": [
       "[0.0,\n",
       " 3e-05,\n",
       " 0.0001,\n",
       " 0.0003,\n",
       " 0.00075,\n",
       " 0.00165,\n",
       " 0.00328,\n",
       " 0.00595,\n",
       " 0.01003,\n",
       " 0.01578,\n",
       " 0.02336,\n",
       " 0.03266,\n",
       " 0.04328,\n",
       " 0.05454,\n",
       " 0.06547,\n",
       " 0.07499,\n",
       " 0.08204,\n",
       " 0.08579,\n",
       " 0.08579,\n",
       " 0.08204,\n",
       " 0.07499,\n",
       " 0.06547,\n",
       " 0.05454,\n",
       " 0.04328,\n",
       " 0.03266,\n",
       " 0.02336,\n",
       " 0.01578,\n",
       " 0.01003,\n",
       " 0.00595,\n",
       " 0.00328,\n",
       " 0.00165,\n",
       " 0.00075,\n",
       " 0.0003,\n",
       " 0.0001,\n",
       " 3e-05,\n",
       " 0.0]"
      ]
     },
     "execution_count": 5,
     "metadata": {},
     "output_type": "execute_result"
    }
   ],
   "source": [
    "from typing import List\n",
    "from collections import defaultdict\n",
    "from bisect import bisect\n",
    "from functools import lru_cache\n",
    "\n",
    "class Solution:\n",
    "    def __init__(self):\n",
    "        self.states = None\n",
    "        self.state_count = []\n",
    "        self.strategies = [1,2,3,4,5,6]\n",
    "        \n",
    "    def twoSum(self, n: int) -> List[float]:\n",
    "        \n",
    "        @lru_cache()\n",
    "        def ns(n, s):\n",
    "            if n == 1:\n",
    "                if 1 <= s <= 6:\n",
    "                    return 1\n",
    "                return 0\n",
    "            if s == n:\n",
    "                return 1\n",
    "            if s == 6*n:\n",
    "                return 1\n",
    "            \n",
    "            return sum([ ns(n-1, s-num) for num in self.strategies ])\n",
    "        \n",
    "        smin = n\n",
    "        smax = 6*n\n",
    "        \n",
    "        counts = [ns(n, s) for s in range(smin, smax+1)]\n",
    "        # print(counts)\n",
    "        counts_sum = sum(counts)\n",
    "        return [round(count/counts_sum, 5) for count in counts]\n",
    "\n",
    "s =  Solution()\n",
    "n = 7\n",
    "s.twoSum(n)"
   ]
  },
  {
   "cell_type": "code",
   "execution_count": 32,
   "metadata": {},
   "outputs": [
    {
     "data": {
      "text/plain": [
       "[0.0,\n",
       " 3e-05,\n",
       " 0.0001,\n",
       " 0.0003,\n",
       " 0.00075,\n",
       " 0.00165,\n",
       " 0.00328,\n",
       " 0.00595,\n",
       " 0.01003,\n",
       " 0.01578,\n",
       " 0.02336,\n",
       " 0.03266,\n",
       " 0.04328,\n",
       " 0.05454,\n",
       " 0.06547,\n",
       " 0.07499,\n",
       " 0.08204,\n",
       " 0.08579,\n",
       " 0.08579,\n",
       " 0.08204,\n",
       " 0.07499,\n",
       " 0.06547,\n",
       " 0.05454,\n",
       " 0.04328,\n",
       " 0.03266,\n",
       " 0.02336,\n",
       " 0.01578,\n",
       " 0.01003,\n",
       " 0.00595,\n",
       " 0.00328,\n",
       " 0.00165,\n",
       " 0.00075,\n",
       " 0.0003,\n",
       " 0.0001,\n",
       " 3e-05,\n",
       " 0.0]"
      ]
     },
     "execution_count": 32,
     "metadata": {},
     "output_type": "execute_result"
    }
   ],
   "source": [
    "from typing import List\n",
    "from collections import defaultdict\n",
    "from bisect import bisect\n",
    "from functools import lru_cache\n",
    "\n",
    "class Solution:\n",
    "    def __init__(self):\n",
    "        self.states = None\n",
    "        self.state_count = []\n",
    "        self.nums = [1,2,3,4,5,6]\n",
    "        \n",
    "    def twoSum(self, n: int) -> List[float]:\n",
    "        ns = []\n",
    "        ns.append({1:1,2:1,3:1,4:1,5:1,6:1})\n",
    "        for i in range(1,n):\n",
    "            smin = i+1\n",
    "            smax = (i+1)*6 \n",
    "            tmp = {}\n",
    "            for s in range(smin, smax+1):\n",
    "                tmp[s] = 0\n",
    "                for num in self.nums:\n",
    "                    if s-num in ns[i-1]:\n",
    "                        tmp[s] += ns[i-1][s-num]\n",
    "            ns.append(tmp)\n",
    "        smin = 1*n\n",
    "        smax = 6*n\n",
    "        counts = [ ns[n-1][s] for s in range(smin, smax+1)]\n",
    "        counts_all = sum(counts)\n",
    "        return [round(count/counts_all,5) for count in counts]\n",
    "            \n",
    "\n",
    "s =  Solution()\n",
    "n = 7\n",
    "s.twoSum(n)"
   ]
  },
  {
   "cell_type": "code",
   "execution_count": null,
   "metadata": {},
   "outputs": [],
   "source": []
  },
  {
   "cell_type": "code",
   "execution_count": null,
   "metadata": {},
   "outputs": [],
   "source": []
  },
  {
   "cell_type": "code",
   "execution_count": null,
   "metadata": {},
   "outputs": [],
   "source": []
  },
  {
   "cell_type": "code",
   "execution_count": null,
   "metadata": {},
   "outputs": [],
   "source": []
  }
 ],
 "metadata": {
  "kernelspec": {
   "display_name": "Python 3",
   "language": "python",
   "name": "python3"
  },
  "language_info": {
   "codemirror_mode": {
    "name": "ipython",
    "version": 3
   },
   "file_extension": ".py",
   "mimetype": "text/x-python",
   "name": "python",
   "nbconvert_exporter": "python",
   "pygments_lexer": "ipython3",
   "version": "3.7.7"
  },
  "latex_envs": {
   "LaTeX_envs_menu_present": true,
   "autoclose": false,
   "autocomplete": true,
   "bibliofile": "biblio.bib",
   "cite_by": "apalike",
   "current_citInitial": 1,
   "eqLabelWithNumbers": true,
   "eqNumInitial": 1,
   "hotkeys": {
    "equation": "Ctrl-E",
    "itemize": "Ctrl-I"
   },
   "labels_anchors": false,
   "latex_user_defs": false,
   "report_style_numbering": false,
   "user_envs_cfg": false
  },
  "toc": {
   "base_numbering": 1,
   "nav_menu": {},
   "number_sections": true,
   "sideBar": true,
   "skip_h1_title": false,
   "title_cell": "Table of Contents",
   "title_sidebar": "Contents",
   "toc_cell": false,
   "toc_position": {},
   "toc_section_display": true,
   "toc_window_display": false
  },
  "varInspector": {
   "cols": {
    "lenName": 16,
    "lenType": 16,
    "lenVar": 40
   },
   "kernels_config": {
    "python": {
     "delete_cmd_postfix": "",
     "delete_cmd_prefix": "del ",
     "library": "var_list.py",
     "varRefreshCmd": "print(var_dic_list())"
    },
    "r": {
     "delete_cmd_postfix": ") ",
     "delete_cmd_prefix": "rm(",
     "library": "var_list.r",
     "varRefreshCmd": "cat(var_dic_list()) "
    }
   },
   "types_to_exclude": [
    "module",
    "function",
    "builtin_function_or_method",
    "instance",
    "_Feature"
   ],
   "window_display": false
  }
 },
 "nbformat": 4,
 "nbformat_minor": 4
}
