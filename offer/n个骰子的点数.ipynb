{
 "cells": [
  {
   "cell_type": "code",
   "execution_count": 41,
   "metadata": {
    "ExecuteTime": {
     "end_time": "2020-06-14T06:59:40.060762Z",
     "start_time": "2020-06-14T06:59:40.045010Z"
    }
   },
   "outputs": [
    {
     "data": {
      "text/plain": [
       "[0.0,\n",
       " 3e-05,\n",
       " 0.0001,\n",
       " 0.0003,\n",
       " 0.00075,\n",
       " 0.00165,\n",
       " 0.00328,\n",
       " 0.00595,\n",
       " 0.01003,\n",
       " 0.01578,\n",
       " 0.02336,\n",
       " 0.03266,\n",
       " 0.04328,\n",
       " 0.05454,\n",
       " 0.06547,\n",
       " 0.07499,\n",
       " 0.08204,\n",
       " 0.08579,\n",
       " 0.08579,\n",
       " 0.08204,\n",
       " 0.07499,\n",
       " 0.06547,\n",
       " 0.05454,\n",
       " 0.04328,\n",
       " 0.03266,\n",
       " 0.02336,\n",
       " 0.01578,\n",
       " 0.01003,\n",
       " 0.00595,\n",
       " 0.00328,\n",
       " 0.00165,\n",
       " 0.00075,\n",
       " 0.0003,\n",
       " 0.0001,\n",
       " 3e-05,\n",
       " 0.0]"
      ]
     },
     "execution_count": 41,
     "metadata": {},
     "output_type": "execute_result"
    }
   ],
   "source": [
    "from typing import List\n",
    "from collections import defaultdict\n",
    "from bisect import bisect\n",
    "# from functools import lru_cache\n",
    "\n",
    "class Solution:\n",
    "    def __init__(self):\n",
    "        self.states = None\n",
    "        self.state_count = []\n",
    "        self.strategies = [1,2,3,4,5,6]\n",
    "        \n",
    "    def twoSum(self, n: int) -> List[float]:\n",
    "        \n",
    "        def complete_state_table(n):\n",
    "            self.state_count.append(defaultdict(lambda:0))\n",
    "            if n == 1:\n",
    "                self.states =  [1,2,3,4,5,6]\n",
    "                for state in self.states:\n",
    "                    self.state_count[n-1][state] += 1\n",
    "                return\n",
    "            complete_state_table(n-1)\n",
    "            for pre_state in self.state_count[n-2].keys():\n",
    "                for strategy in self.strategies:\n",
    "                    state = pre_state+strategy\n",
    "                    if state not in self.states:\n",
    "                        i = bisect(self.states, state)\n",
    "                        self.states.insert(i, state)\n",
    "                    self.state_count[n-1][state] += self.state_count[n-2][pre_state]\n",
    "        complete_state_table(n)\n",
    "        vs = list(self.state_count[n-1].values())\n",
    "        v_sum = sum(vs)\n",
    "        return [round(v/v_sum, 5) for v in vs]\n",
    "            \n",
    "s =  Solution()\n",
    "n = 7\n",
    "s.twoSum(n)\n",
    "\n"
   ]
  },
  {
   "cell_type": "code",
   "execution_count": null,
   "metadata": {},
   "outputs": [],
   "source": []
  }
 ],
 "metadata": {
  "kernelspec": {
   "display_name": "Python 3",
   "language": "python",
   "name": "python3"
  },
  "language_info": {
   "codemirror_mode": {
    "name": "ipython",
    "version": 3
   },
   "file_extension": ".py",
   "mimetype": "text/x-python",
   "name": "python",
   "nbconvert_exporter": "python",
   "pygments_lexer": "ipython3",
   "version": "3.6.8"
  }
 },
 "nbformat": 4,
 "nbformat_minor": 4
}
