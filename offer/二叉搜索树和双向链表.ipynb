{
 "cells": [
  {
   "cell_type": "code",
   "execution_count": 9,
   "metadata": {
    "ExecuteTime": {
     "end_time": "2020-06-07T10:17:01.995782Z",
     "start_time": "2020-06-07T10:17:01.963956Z"
    }
   },
   "outputs": [],
   "source": [
    "# Definition for a Node.\n",
    "class Node:\n",
    "    def __init__(self, val, left=None, right=None):\n",
    "        self.val = val\n",
    "        self.left = left\n",
    "        self.right = right\n",
    "        \n",
    "class Solution:\n",
    "    def treeToDoublyList(self, root: 'Node') -> 'Node':\n",
    "        if not root:\n",
    "            return None\n",
    "        def middleOrderSearch(node):\n",
    "            if not node:\n",
    "                return []\n",
    "            return middleOrderSearch(node.left) + [node] + middleOrderSearch(node.right)\n",
    "        nodes = middleOrderSearch(root)\n",
    "        n = len(nodes)\n",
    "        for i in range(n):\n",
    "            nodes[i].right = nodes[(i+1)%n]\n",
    "            nodes[-(i+1)+n].left = nodes[(-(i+1)+n-1+n)%n]\n",
    "        head = nodes[0]\n",
    "        return head"
   ]
  },
  {
   "cell_type": "code",
   "execution_count": null,
   "metadata": {
    "ExecuteTime": {
     "end_time": "2020-05-25T10:10:46.443540Z",
     "start_time": "2020-05-25T10:10:46.189712Z"
    }
   },
   "outputs": [],
   "source": [
    "# DFS\n",
    "\n"
   ]
  },
  {
   "cell_type": "code",
   "execution_count": null,
   "metadata": {},
   "outputs": [],
   "source": []
  }
 ],
 "metadata": {
  "kernelspec": {
   "display_name": "Python 3",
   "language": "python",
   "name": "python3"
  },
  "language_info": {
   "codemirror_mode": {
    "name": "ipython",
    "version": 3
   },
   "file_extension": ".py",
   "mimetype": "text/x-python",
   "name": "python",
   "nbconvert_exporter": "python",
   "pygments_lexer": "ipython3",
   "version": "3.6.8"
  }
 },
 "nbformat": 4,
 "nbformat_minor": 2
}
