{
 "cells": [
  {
   "cell_type": "code",
   "execution_count": 18,
   "metadata": {
    "ExecuteTime": {
     "end_time": "2020-06-07T10:17:01.995782Z",
     "start_time": "2020-06-07T10:17:01.963956Z"
    }
   },
   "outputs": [],
   "source": [
    "from piece.utree import deserialize, print_tree\n",
    "\n",
    "# Definition for a Node.\n",
    "class Node:\n",
    "    def __init__(self, val, left=None, right=None):\n",
    "        self.val = val\n",
    "        self.left = left\n",
    "        self.right = right\n",
    "        \n",
    "class Solution:\n",
    "    def treeToDoublyList(self, root: 'Node') -> 'Node':\n",
    "        if not root:\n",
    "            return None\n",
    "        def middleOrderSearch(node):\n",
    "            if not node:\n",
    "                return []\n",
    "            return middleOrderSearch(node.left) + [node] + middleOrderSearch(node.right)\n",
    "        nodes = middleOrderSearch(root)\n",
    "        n = len(nodes)\n",
    "        for i in range(n):\n",
    "            nodes[i].right = nodes[(i+1)%n]\n",
    "            nodes[-(i+1)+n].left = nodes[(-(i+1)+n-1+n)%n]\n",
    "        head = nodes[0]\n",
    "        return head\n",
    "root = deserialize([4,2,5,1,3])\n",
    "print_tree(root)"
   ]
  },
  {
   "cell_type": "code",
   "execution_count": 14,
   "metadata": {},
   "outputs": [
    {
     "name": "stdout",
     "output_type": "stream",
     "text": [
      "Uninstalling piece3941-0.0.3:\n",
      "  Would remove:\n",
      "    /root/anaconda3/lib/python3.7/site-packages/piece/*\n",
      "    /root/anaconda3/lib/python3.7/site-packages/piece3941-0.0.3.dist-info/*\n",
      "Proceed (y/n)? ^C\n",
      "\u001b[31mOperation cancelled by user\u001b[0m\n"
     ]
    }
   ],
   "source": [
    "\n",
    "\n"
   ]
  },
  {
   "cell_type": "code",
   "execution_count": 12,
   "metadata": {
    "ExecuteTime": {
     "end_time": "2020-05-25T10:10:46.443540Z",
     "start_time": "2020-05-25T10:10:46.189712Z"
    }
   },
   "outputs": [],
   "source": [
    "from piece.utree import deserialize, print_tree\n",
    "\n",
    "# Definition for a Node.\n",
    "class Node:\n",
    "    def __init__(self, val, left=None, right=None):\n",
    "        self.val = val\n",
    "        self.left = left\n",
    "        self.right = right\n",
    "        \n",
    "class Solution:\n",
    "    def treeToDoublyList(self, root: 'Node') -> 'Node':\n",
    "        \n",
    "        def LMR(root):\n",
    "            if root is None:\n",
    "                return None, None\n",
    "            \n",
    "            lmin = lmax = rmin = rmax = root\n",
    "            \n",
    "            if root.left:\n",
    "                lmin, lmax = LMR(root.left)\n",
    "                root.left = lmax\n",
    "                lmax.right = root\n",
    "\n",
    "            if root.right:\n",
    "                rmin, rmax = LMR(root.right)\n",
    "                root.right = rmin\n",
    "                rmin.left = root\n",
    "            \n",
    "            lmin.left = rmax\n",
    "            rmax.right = lmin\n",
    "            return lmin, rmax\n",
    "        \n",
    "        head, tail = LMR(root)\n",
    "        \n",
    "        return head\n",
    "        \n",
    "        \n",
    "root = deserialize([4,2,5,1,3])\n",
    "print_tree(root)\n",
    "s = Solution()\n",
    "r = s.treeToDoublyList(root)"
   ]
  },
  {
   "cell_type": "code",
   "execution_count": 13,
   "metadata": {},
   "outputs": [
    {
     "name": "stdout",
     "output_type": "stream",
     "text": [
      "None\n"
     ]
    },
    {
     "ename": "AttributeError",
     "evalue": "'NoneType' object has no attribute 'right'",
     "output_type": "error",
     "traceback": [
      "\u001b[0;31m---------------------------------------------------------------------------\u001b[0m",
      "\u001b[0;31mAttributeError\u001b[0m                            Traceback (most recent call last)",
      "\u001b[0;32m<ipython-input-13-379f1705ecdb>\u001b[0m in \u001b[0;36m<module>\u001b[0;34m\u001b[0m\n\u001b[1;32m      6\u001b[0m     \u001b[0mprint\u001b[0m\u001b[0;34m(\u001b[0m\u001b[0mr\u001b[0m\u001b[0;34m)\u001b[0m\u001b[0;34m\u001b[0m\u001b[0;34m\u001b[0m\u001b[0m\n\u001b[1;32m      7\u001b[0m \u001b[0;31m#     r = r.right\u001b[0m\u001b[0;34m\u001b[0m\u001b[0;34m\u001b[0m\u001b[0;34m\u001b[0m\u001b[0m\n\u001b[0;32m----> 8\u001b[0;31m     \u001b[0mr\u001b[0m \u001b[0;34m=\u001b[0m \u001b[0mr\u001b[0m\u001b[0;34m.\u001b[0m\u001b[0mright\u001b[0m\u001b[0;34m\u001b[0m\u001b[0;34m\u001b[0m\u001b[0m\n\u001b[0m\u001b[1;32m      9\u001b[0m \u001b[0;34m\u001b[0m\u001b[0m\n",
      "\u001b[0;31mAttributeError\u001b[0m: 'NoneType' object has no attribute 'right'"
     ]
    }
   ],
   "source": [
    "root = deserialize([])\n",
    "\n",
    "s = Solution()\n",
    "r = s.treeToDoublyList(root)\n",
    "for i in range(10):\n",
    "    print(r)\n",
    "#     r = r.right\n",
    "    r = r.right\n",
    "    "
   ]
  },
  {
   "cell_type": "code",
   "execution_count": null,
   "metadata": {},
   "outputs": [],
   "source": []
  }
 ],
 "metadata": {
  "kernelspec": {
   "display_name": "Python 3",
   "language": "python",
   "name": "python3"
  },
  "language_info": {
   "codemirror_mode": {
    "name": "ipython",
    "version": 3
   },
   "file_extension": ".py",
   "mimetype": "text/x-python",
   "name": "python",
   "nbconvert_exporter": "python",
   "pygments_lexer": "ipython3",
   "version": "3.7.7"
  },
  "latex_envs": {
   "LaTeX_envs_menu_present": true,
   "autoclose": false,
   "autocomplete": true,
   "bibliofile": "biblio.bib",
   "cite_by": "apalike",
   "current_citInitial": 1,
   "eqLabelWithNumbers": true,
   "eqNumInitial": 1,
   "hotkeys": {
    "equation": "Ctrl-E",
    "itemize": "Ctrl-I"
   },
   "labels_anchors": false,
   "latex_user_defs": false,
   "report_style_numbering": false,
   "user_envs_cfg": false
  },
  "toc": {
   "base_numbering": 1,
   "nav_menu": {},
   "number_sections": true,
   "sideBar": true,
   "skip_h1_title": false,
   "title_cell": "Table of Contents",
   "title_sidebar": "Contents",
   "toc_cell": false,
   "toc_position": {},
   "toc_section_display": true,
   "toc_window_display": false
  },
  "varInspector": {
   "cols": {
    "lenName": 16,
    "lenType": 16,
    "lenVar": 40
   },
   "kernels_config": {
    "python": {
     "delete_cmd_postfix": "",
     "delete_cmd_prefix": "del ",
     "library": "var_list.py",
     "varRefreshCmd": "print(var_dic_list())"
    },
    "r": {
     "delete_cmd_postfix": ") ",
     "delete_cmd_prefix": "rm(",
     "library": "var_list.r",
     "varRefreshCmd": "cat(var_dic_list()) "
    }
   },
   "types_to_exclude": [
    "module",
    "function",
    "builtin_function_or_method",
    "instance",
    "_Feature"
   ],
   "window_display": false
  }
 },
 "nbformat": 4,
 "nbformat_minor": 2
}
