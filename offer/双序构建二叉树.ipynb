{
 "cells": [
  {
   "cell_type": "code",
   "execution_count": 58,
   "metadata": {
    "ExecuteTime": {
     "end_time": "2020-05-25T15:17:20.509870Z",
     "start_time": "2020-05-25T15:17:20.505493Z"
    }
   },
   "outputs": [],
   "source": [
    "from bisect import bisect\n",
    "import pygraphviz as pgv\n",
    "from collections import defaultdict"
   ]
  },
  {
   "cell_type": "code",
   "execution_count": 60,
   "metadata": {
    "ExecuteTime": {
     "end_time": "2020-05-25T15:17:23.284178Z",
     "start_time": "2020-05-25T15:17:23.277445Z"
    }
   },
   "outputs": [
    {
     "data": {
      "text/plain": [
       "5"
      ]
     },
     "execution_count": 60,
     "metadata": {},
     "output_type": "execute_result"
    }
   ],
   "source": [
    "x = [1,2,3,3,3,4]\n",
    "bisect(x, 3)"
   ]
  },
  {
   "cell_type": "code",
   "execution_count": 61,
   "metadata": {
    "ExecuteTime": {
     "end_time": "2020-05-25T15:17:23.622594Z",
     "start_time": "2020-05-25T15:17:23.610116Z"
    }
   },
   "outputs": [],
   "source": [
    "class Node:\n",
    "    def __init__(self, val, left=None, right=None):\n",
    "        self.val = val\n",
    "        self.left = left\n",
    "        self.right = right\n",
    "    def __repr__(self):\n",
    "        return '{}'.format(self.val)\n",
    "    \n",
    "\n",
    "class Tree:\n",
    "    \n",
    "    def __init__(self):\n",
    "        self.nodes = []\n",
    "    \n",
    "    def buildTreeFromMiddlePre(self, middle, pre, rebuild=True):\n",
    "        if not rebuild:\n",
    "            return self.nodes[-1]\n",
    "        if not middle:\n",
    "            return None\n",
    "        node = Node(pre.pop(0))\n",
    "        i = middle.index(node.val)\n",
    "        node.left = self.buildTreeFromMiddlePre(middle[:i], pre[:len(middle[:i])])\n",
    "        node.right = self.buildTreeFromMiddlePre(middle[i+1:], pre[len(middle[:i]):])\n",
    "        self.nodes.append(node)\n",
    "        return node\n",
    "    \n",
    "    def printTree(self, DOT='TreeExample.dot', PNG='TreeExample.png'):\n",
    "        if not self.nodes:\n",
    "            print(\"Tree needs to be built.\")\n",
    "        container = [self.nodes[-1]]\n",
    "        d = defaultdict(list)\n",
    "        while container:\n",
    "            node = container.pop(0)\n",
    "            if node.left:\n",
    "                container.append(node.left)\n",
    "                d[node.val].append(node.left.val)\n",
    "            if node.right:\n",
    "                container.append(node.right)\n",
    "                d[node.val].append(node.right.val)\n",
    "            G=pgv.AGraph(d)\n",
    "            # G=pgv.AGraph(strict=False,directed=True)\n",
    "            G.layout() \n",
    "            G.draw(PNG, prog='dot')\n",
    "            G.write(DOT)\n",
    "        return G"
   ]
  },
  {
   "cell_type": "code",
   "execution_count": 62,
   "metadata": {
    "ExecuteTime": {
     "end_time": "2020-05-25T15:17:27.051236Z",
     "start_time": "2020-05-25T15:17:25.961999Z"
    }
   },
   "outputs": [],
   "source": [
    "middle_ordered = [1,2,3]\n",
    "preordered = [2,1,3]\n",
    "middle_ordered = [3,4,5,6,7,8,9,10,12,13,15]\n",
    "preordered = [9,7,6,4,3,5,8,15,12,10,13]\n",
    "tree = Tree()\n",
    "root = tree.buildTreeFromMiddlePre(middle_ordered, preordered)\n",
    "G = tree.printTree()\n"
   ]
  },
  {
   "cell_type": "code",
   "execution_count": 52,
   "metadata": {
    "ExecuteTime": {
     "end_time": "2020-05-25T15:14:43.345474Z",
     "start_time": "2020-05-25T15:14:43.341648Z"
    }
   },
   "outputs": [],
   "source": [
    "\n"
   ]
  },
  {
   "cell_type": "code",
   "execution_count": null,
   "metadata": {
    "ExecuteTime": {
     "end_time": "2020-05-25T10:28:43.661486Z",
     "start_time": "2020-05-25T10:28:43.634312Z"
    }
   },
   "outputs": [],
   "source": []
  },
  {
   "cell_type": "code",
   "execution_count": null,
   "metadata": {
    "ExecuteTime": {
     "end_time": "2020-05-25T14:49:06.782055Z",
     "start_time": "2020-05-25T14:49:06.663988Z"
    }
   },
   "outputs": [],
   "source": []
  },
  {
   "cell_type": "code",
   "execution_count": null,
   "metadata": {},
   "outputs": [],
   "source": []
  }
 ],
 "metadata": {
  "kernelspec": {
   "display_name": "conda_env_ai",
   "language": "python",
   "name": "conda_env_ai"
  },
  "language_info": {
   "codemirror_mode": {
    "name": "ipython",
    "version": 3
   },
   "file_extension": ".py",
   "mimetype": "text/x-python",
   "name": "python",
   "nbconvert_exporter": "python",
   "pygments_lexer": "ipython3",
   "version": "3.6.8"
  }
 },
 "nbformat": 4,
 "nbformat_minor": 2
}
