{
 "cells": [
  {
   "cell_type": "code",
   "execution_count": 7,
   "metadata": {
    "ExecuteTime": {
     "end_time": "2020-06-08T16:52:55.324894Z",
     "start_time": "2020-06-08T16:52:55.288934Z"
    }
   },
   "outputs": [
    {
     "data": {
      "text/plain": [
       "'1234'"
      ]
     },
     "execution_count": 7,
     "metadata": {},
     "output_type": "execute_result"
    }
   ],
   "source": [
    "# 把整体看做一个数，小的在前组合才小，组合小说明小的在前\n",
    "import functools\n",
    "class Solution:\n",
    "    def minNumber(self, nums):\n",
    "        def cmp(x, y):\n",
    "            x, y = int(x+y), int(y+x)\n",
    "            if x > y:\n",
    "                return 1\n",
    "            elif x == y:\n",
    "                return 0\n",
    "            else:\n",
    "                return -1\n",
    "        nums = [str(num) for num in nums]\n",
    "        nums.sort(key = functools.cmp_to_key(cmp))\n",
    "        return \"\".join(nums)\n",
    "s = Solution()\n",
    "s.minNumber([1,2,4,3])"
   ]
  },
  {
   "cell_type": "code",
   "execution_count": 2,
   "metadata": {},
   "outputs": [
    {
     "data": {
      "text/plain": [
       "'1234'"
      ]
     },
     "execution_count": 2,
     "metadata": {},
     "output_type": "execute_result"
    }
   ],
   "source": [
    "# 把整体看做一个数，小的在前组合才小，组合小说明小的在前\n",
    "import functools\n",
    "class Solution:\n",
    "    def minNumber(self, nums):\n",
    "        def cmp(x, y):\n",
    "            x, y = 10*x+y, 10*y+x\n",
    "            if x > y:\n",
    "                return 1\n",
    "            elif x == y:\n",
    "                return 0\n",
    "            else:\n",
    "                return -1\n",
    "        nums.sort(key = functools.cmp_to_key(cmp))\n",
    "        return \"\".join([str(num) for num in nums])\n",
    "s = Solution()\n",
    "s.minNumber([1,2,4,3])"
   ]
  },
  {
   "cell_type": "code",
   "execution_count": 4,
   "metadata": {},
   "outputs": [],
   "source": [
    "from typing import List\n",
    "\n",
    "class cmp(str):\n",
    "    def __lt__(self,other):\n",
    "        return self+other<other+self\n",
    "\n",
    "class Solution:\n",
    "    def minNumber(self, nums: List[int]) -> str:\n",
    "        nums=sorted([str(i) for i in nums], key=cmp)\n",
    "        return \"\".join(nums)"
   ]
  },
  {
   "cell_type": "code",
   "execution_count": null,
   "metadata": {},
   "outputs": [],
   "source": []
  }
 ],
 "metadata": {
  "kernelspec": {
   "display_name": "Python 3",
   "language": "python",
   "name": "python3"
  },
  "language_info": {
   "codemirror_mode": {
    "name": "ipython",
    "version": 3
   },
   "file_extension": ".py",
   "mimetype": "text/x-python",
   "name": "python",
   "nbconvert_exporter": "python",
   "pygments_lexer": "ipython3",
   "version": "3.7.7"
  },
  "latex_envs": {
   "LaTeX_envs_menu_present": true,
   "autoclose": false,
   "autocomplete": true,
   "bibliofile": "biblio.bib",
   "cite_by": "apalike",
   "current_citInitial": 1,
   "eqLabelWithNumbers": true,
   "eqNumInitial": 1,
   "hotkeys": {
    "equation": "Ctrl-E",
    "itemize": "Ctrl-I"
   },
   "labels_anchors": false,
   "latex_user_defs": false,
   "report_style_numbering": false,
   "user_envs_cfg": false
  },
  "toc": {
   "base_numbering": 1,
   "nav_menu": {},
   "number_sections": true,
   "sideBar": true,
   "skip_h1_title": false,
   "title_cell": "Table of Contents",
   "title_sidebar": "Contents",
   "toc_cell": false,
   "toc_position": {},
   "toc_section_display": true,
   "toc_window_display": false
  },
  "varInspector": {
   "cols": {
    "lenName": 16,
    "lenType": 16,
    "lenVar": 40
   },
   "kernels_config": {
    "python": {
     "delete_cmd_postfix": "",
     "delete_cmd_prefix": "del ",
     "library": "var_list.py",
     "varRefreshCmd": "print(var_dic_list())"
    },
    "r": {
     "delete_cmd_postfix": ") ",
     "delete_cmd_prefix": "rm(",
     "library": "var_list.r",
     "varRefreshCmd": "cat(var_dic_list()) "
    }
   },
   "types_to_exclude": [
    "module",
    "function",
    "builtin_function_or_method",
    "instance",
    "_Feature"
   ],
   "window_display": false
  }
 },
 "nbformat": 4,
 "nbformat_minor": 2
}
