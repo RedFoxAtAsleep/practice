{
 "cells": [
  {
   "cell_type": "code",
   "execution_count": null,
   "metadata": {},
   "outputs": [],
   "source": [
    "# Definition for singly-linked list.\n",
    "# class ListNode:\n",
    "#     def __init__(self, x):\n",
    "#         self.val = x\n",
    "#         self.next = None\n",
    "\n",
    "# 头指针\n",
    "# 双指针\n",
    "# 子链、子树、sub\n",
    "class Solution:\n",
    "    def mergeTwoLists(self, l1: ListNode, l2: ListNode) -> ListNode:\n",
    "        pointer = ListNode(0)\n",
    "        headPointer = pointer\n",
    "        while l1 and l2:\n",
    "            if l1.val < l2.val:\n",
    "                pointer.next = l1\n",
    "                pointer = l1\n",
    "                l1 = l1.next\n",
    "            else:\n",
    "                pointer.next = l2\n",
    "                pointer = l2\n",
    "                l2 = l2.next\n",
    "        pointer.next = l2 if l1 is None else l1\n",
    "        return headPointer.next\n"
   ]
  }
 ],
 "metadata": {
  "kernelspec": {
   "display_name": "Python 3",
   "language": "python",
   "name": "python3"
  },
  "language_info": {
   "codemirror_mode": {
    "name": "ipython",
    "version": 3
   },
   "file_extension": ".py",
   "mimetype": "text/x-python",
   "name": "python",
   "nbconvert_exporter": "python",
   "pygments_lexer": "ipython3",
   "version": "3.6.8"
  }
 },
 "nbformat": 4,
 "nbformat_minor": 2
}
