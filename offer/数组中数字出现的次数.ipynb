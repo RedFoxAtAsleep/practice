{
 "cells": [
  {
   "cell_type": "code",
   "execution_count": 16,
   "metadata": {
    "ExecuteTime": {
     "end_time": "2020-06-13T06:39:36.150658Z",
     "start_time": "2020-06-13T06:39:36.134556Z"
    }
   },
   "outputs": [
    {
     "name": "stdout",
     "output_type": "stream",
     "text": [
      "5\n",
      "1\n",
      "3\n",
      "3\n",
      "[1, 4]\n"
     ]
    }
   ],
   "source": [
    "# 一个整型数组 nums 里除两个数字之外，其他数字都出现了两次。请写程序找出这两个只出现一次的数字。\n",
    "# 要求时间复杂度是O(n)，空间复杂度是O(1)。\n",
    "\n",
    "from typing import List\n",
    "from functools import reduce\n",
    "\n",
    "class Solution:\n",
    "    def singleNumbers(self, nums: List[int]) -> List[int]:\n",
    "        # 只有一个数是不一样的，异或结果最终是他本身\n",
    "        # 异或运算的初值可以设为0\n",
    "        r = reduce(lambda x,y: x^y, nums)\n",
    "        print(r)\n",
    "        # 异或运算是表示为二进制后进行的，各个数位是互不相关的\n",
    "        # 全部异或的结果和仅不一样的两个数的异或结果是一样的\n",
    "        \n",
    "        # 从低位向高位找1，低012...高，i可以表示异或结果有多少个零\n",
    "        def diffbit(n):\n",
    "            if n == 0:\n",
    "                print(\"invalid\")\n",
    "                return None\n",
    "            i = 0\n",
    "            while n % 2 == 0:\n",
    "                n = n // 2\n",
    "                i += 1\n",
    "            return i\n",
    "\n",
    "        def ati(n, i):\n",
    "            for j in range(i):\n",
    "                n = n // 2\n",
    "            if n % 2:\n",
    "                return True\n",
    "            return False\n",
    "        \n",
    "        bit = diffbit(r)\n",
    "        n2 = n1 = repeat = 0\n",
    "        for num in nums:\n",
    "            if ati(num, bit):\n",
    "                print(num)\n",
    "                n1 = n1 ^ num\n",
    "            else:\n",
    "                n2 = n2 ^ num\n",
    "        return [n1^repeat, n2^repeat]\n",
    "            \n",
    "s = Solution()\n",
    "print(\n",
    "    s.singleNumbers([2,2,1,3,3,4])\n",
    ")\n"
   ]
  },
  {
   "cell_type": "code",
   "execution_count": 34,
   "metadata": {
    "ExecuteTime": {
     "end_time": "2020-06-13T06:52:35.034211Z",
     "start_time": "2020-06-13T06:52:35.015702Z"
    }
   },
   "outputs": [
    {
     "name": "stdout",
     "output_type": "stream",
     "text": [
      "1,0,[1, 0, 0, 0, 0, 0, 0, 0, 0, 0, 0, 0, 0, 0, 0, 0, 0, 0, 0, 0, 0, 0, 0, 0, 0, 0, 0, 0, 0, 0, 0, 0]\n",
      "1,0,[2, 0, 0, 0, 0, 0, 0, 0, 0, 0, 0, 0, 0, 0, 0, 0, 0, 0, 0, 0, 0, 0, 0, 0, 0, 0, 0, 0, 0, 0, 0, 0]\n",
      "1,0,[0, 0, 0, 0, 0, 0, 0, 0, 0, 0, 0, 0, 0, 0, 0, 0, 0, 0, 0, 0, 0, 0, 0, 0, 0, 0, 0, 0, 0, 0, 0, 0]\n",
      "11,1,0,[1, 1, 0, 0, 0, 0, 0, 0, 0, 0, 0, 0, 0, 0, 0, 0, 0, 0, 0, 0, 0, 0, 0, 0, 0, 0, 0, 0, 0, 0, 0, 0]\n",
      "11,1,0,[2, 2, 0, 0, 0, 0, 0, 0, 0, 0, 0, 0, 0, 0, 0, 0, 0, 0, 0, 0, 0, 0, 0, 0, 0, 0, 0, 0, 0, 0, 0, 0]\n",
      "10,1,0,[2, 0, 0, 0, 0, 0, 0, 0, 0, 0, 0, 0, 0, 0, 0, 0, 0, 0, 0, 0, 0, 0, 0, 0, 0, 0, 0, 0, 0, 0, 0, 0]\n",
      "11,1,0,[0, 1, 0, 0, 0, 0, 0, 0, 0, 0, 0, 0, 0, 0, 0, 0, 0, 0, 0, 0, 0, 0, 0, 0, 0, 0, 0, 0, 0, 0, 0, 0]\n",
      "100,10,1,0,[0, 1, 1, 0, 0, 0, 0, 0, 0, 0, 0, 0, 0, 0, 0, 0, 0, 0, 0, 0, 0, 0, 0, 0, 0, 0, 0, 0, 0, 0, 0, 0]\n",
      "100,10,1,0,[0, 1, 2, 0, 0, 0, 0, 0, 0, 0, 0, 0, 0, 0, 0, 0, 0, 0, 0, 0, 0, 0, 0, 0, 0, 0, 0, 0, 0, 0, 0, 0]\n",
      "100,10,1,0,[0, 1, 0, 0, 0, 0, 0, 0, 0, 0, 0, 0, 0, 0, 0, 0, 0, 0, 0, 0, 0, 0, 0, 0, 0, 0, 0, 0, 0, 0, 0, 0]\n"
     ]
    },
    {
     "data": {
      "text/plain": [
       "2"
      ]
     },
     "execution_count": 34,
     "metadata": {},
     "output_type": "execute_result"
    }
   ],
   "source": [
    "# 在一个数组 nums 中除一个数字只出现一次之外，其他数字都出现了三次。请找出那个只出现一次的数字。\n",
    "# 数位\n",
    "\n",
    "class Solution:\n",
    "    def singleNumber(self, nums: List[int]) -> int:\n",
    "        ones, twos = 0, 0\n",
    "        for num in nums:\n",
    "            ones = ones ^ num & ~twos\n",
    "            twos = twos ^ num & ~ones\n",
    "        return ones\n",
    "    \n",
    "class Solution:\n",
    "    def singleNumber(self, nums):\n",
    "        nums = map(\n",
    "            lambda x:int(bin(x)[2:]),\n",
    "            nums\n",
    "        )\n",
    "        bits = 32\n",
    "        digits = [0]*bits\n",
    "        for num in nums:\n",
    "            for i in range(bits):\n",
    "                print(num,end=',')\n",
    "                if num == 0:\n",
    "                    break\n",
    "                digits[i] =  (digits[i] + num % 10) % 3\n",
    "                num = num // 10\n",
    "            print(digits)\n",
    "        return sum([ digit * 2**i for i,digit in enumerate(digits) ])\n",
    "    \n",
    "class Solution:\n",
    "    def singleNumber(self, nums: List[int]) -> int:\n",
    "        return (sum(set(nums)) *  3 - sum(nums) ) // 2\n",
    "\n",
    "s = Solution()\n",
    "s.singleNumber([1,1,1,3,3,2,3,4,4,4])\n"
   ]
  },
  {
   "cell_type": "code",
   "execution_count": 30,
   "metadata": {
    "ExecuteTime": {
     "end_time": "2020-06-13T06:49:43.979384Z",
     "start_time": "2020-06-13T06:49:43.973740Z"
    }
   },
   "outputs": [
    {
     "data": {
      "text/plain": [
       "2"
      ]
     },
     "execution_count": 30,
     "metadata": {},
     "output_type": "execute_result"
    }
   ],
   "source": [
    "int(\"10\",2)"
   ]
  },
  {
   "cell_type": "code",
   "execution_count": 31,
   "metadata": {
    "ExecuteTime": {
     "end_time": "2020-06-13T06:49:45.834969Z",
     "start_time": "2020-06-13T06:49:45.828874Z"
    }
   },
   "outputs": [
    {
     "data": {
      "text/plain": [
       "[1, 2, 3]"
      ]
     },
     "execution_count": 31,
     "metadata": {},
     "output_type": "execute_result"
    }
   ],
   "source": [
    "a = [1,2,3]\n",
    "map(lambda x:10*x, a)\n",
    "a\n"
   ]
  },
  {
   "cell_type": "code",
   "execution_count": null,
   "metadata": {},
   "outputs": [],
   "source": []
  }
 ],
 "metadata": {
  "kernelspec": {
   "display_name": "Python [conda env:ai] *",
   "language": "python",
   "name": "conda-env-ai-py"
  },
  "language_info": {
   "codemirror_mode": {
    "name": "ipython",
    "version": 3
   },
   "file_extension": ".py",
   "mimetype": "text/x-python",
   "name": "python",
   "nbconvert_exporter": "python",
   "pygments_lexer": "ipython3",
   "version": "3.6.8"
  }
 },
 "nbformat": 4,
 "nbformat_minor": 4
}
