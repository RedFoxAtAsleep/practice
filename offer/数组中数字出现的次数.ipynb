{
 "cells": [
  {
   "cell_type": "code",
   "execution_count": 6,
   "metadata": {
    "ExecuteTime": {
     "end_time": "2020-06-13T06:39:36.150658Z",
     "start_time": "2020-06-13T06:39:36.134556Z"
    }
   },
   "outputs": [
    {
     "name": "stdout",
     "output_type": "stream",
     "text": [
      "[1, 4]\n"
     ]
    }
   ],
   "source": [
    "# 一个整型数组 nums 里除两个数字之外，其他数字都出现了两次。请写程序找出这两个只出现一次的数字。\n",
    "# 要求时间复杂度是O(n)，空间复杂度是O(1)。\n",
    "\n",
    "from typing import List\n",
    "from functools import reduce\n",
    "\n",
    "class Solution:\n",
    "    def singleNumbers(self, nums: List[int]) -> List[int]:\n",
    "        \n",
    "        # 异或运算的初值可以设为0\n",
    "        # 全部异或的结果和仅不一样的两个数的异或结果是一样的\n",
    "        r = reduce(lambda x,y: x^y, nums)\n",
    "    \n",
    "        # 找到结果的二进制中为1的任意位置，取最低的为1的位置\n",
    "        def diffbit(n):\n",
    "            if n == 0:\n",
    "                return None\n",
    "            i = 0\n",
    "            while n % 2 == 0:\n",
    "                n = n // 2\n",
    "                i += 1\n",
    "            i = 0\n",
    "            while n % 2 == 0:\n",
    "                n = n >> 1\n",
    "                i += 1\n",
    "            return i\n",
    "        \n",
    "        bit = diffbit(r)\n",
    "        n2 = n1 = 0\n",
    "        for num in nums:\n",
    "            if num >> bit & 1:\n",
    "                n1 = n1 ^ num\n",
    "            else:\n",
    "                n2 = n2 ^ num\n",
    "        return [n1, n2]\n",
    "            \n",
    "s = Solution()\n",
    "print(\n",
    "    s.singleNumbers([2,2,1,3,3,4])\n",
    ")\n"
   ]
  },
  {
   "cell_type": "code",
   "execution_count": 34,
   "metadata": {
    "ExecuteTime": {
     "end_time": "2020-06-13T06:52:35.034211Z",
     "start_time": "2020-06-13T06:52:35.015702Z"
    }
   },
   "outputs": [
    {
     "name": "stdout",
     "output_type": "stream",
     "text": [
      "1,0,[1, 0, 0, 0, 0, 0, 0, 0, 0, 0, 0, 0, 0, 0, 0, 0, 0, 0, 0, 0, 0, 0, 0, 0, 0, 0, 0, 0, 0, 0, 0, 0]\n",
      "1,0,[2, 0, 0, 0, 0, 0, 0, 0, 0, 0, 0, 0, 0, 0, 0, 0, 0, 0, 0, 0, 0, 0, 0, 0, 0, 0, 0, 0, 0, 0, 0, 0]\n",
      "1,0,[0, 0, 0, 0, 0, 0, 0, 0, 0, 0, 0, 0, 0, 0, 0, 0, 0, 0, 0, 0, 0, 0, 0, 0, 0, 0, 0, 0, 0, 0, 0, 0]\n",
      "11,1,0,[1, 1, 0, 0, 0, 0, 0, 0, 0, 0, 0, 0, 0, 0, 0, 0, 0, 0, 0, 0, 0, 0, 0, 0, 0, 0, 0, 0, 0, 0, 0, 0]\n",
      "11,1,0,[2, 2, 0, 0, 0, 0, 0, 0, 0, 0, 0, 0, 0, 0, 0, 0, 0, 0, 0, 0, 0, 0, 0, 0, 0, 0, 0, 0, 0, 0, 0, 0]\n",
      "10,1,0,[2, 0, 0, 0, 0, 0, 0, 0, 0, 0, 0, 0, 0, 0, 0, 0, 0, 0, 0, 0, 0, 0, 0, 0, 0, 0, 0, 0, 0, 0, 0, 0]\n",
      "11,1,0,[0, 1, 0, 0, 0, 0, 0, 0, 0, 0, 0, 0, 0, 0, 0, 0, 0, 0, 0, 0, 0, 0, 0, 0, 0, 0, 0, 0, 0, 0, 0, 0]\n",
      "100,10,1,0,[0, 1, 1, 0, 0, 0, 0, 0, 0, 0, 0, 0, 0, 0, 0, 0, 0, 0, 0, 0, 0, 0, 0, 0, 0, 0, 0, 0, 0, 0, 0, 0]\n",
      "100,10,1,0,[0, 1, 2, 0, 0, 0, 0, 0, 0, 0, 0, 0, 0, 0, 0, 0, 0, 0, 0, 0, 0, 0, 0, 0, 0, 0, 0, 0, 0, 0, 0, 0]\n",
      "100,10,1,0,[0, 1, 0, 0, 0, 0, 0, 0, 0, 0, 0, 0, 0, 0, 0, 0, 0, 0, 0, 0, 0, 0, 0, 0, 0, 0, 0, 0, 0, 0, 0, 0]\n"
     ]
    },
    {
     "data": {
      "text/plain": [
       "2"
      ]
     },
     "execution_count": 34,
     "metadata": {},
     "output_type": "execute_result"
    }
   ],
   "source": [
    "# 在一个数组 nums 中除一个数字只出现一次之外，其他数字都出现了三次。请找出那个只出现一次的数字。\n",
    "# 数位\n",
    "\n",
    "class Solution:\n",
    "    def singleNumber(self, nums: List[int]) -> int:\n",
    "        ones, twos = 0, 0\n",
    "        for num in nums:\n",
    "            ones = ones ^ num & ~twos\n",
    "            twos = twos ^ num & ~ones\n",
    "        return ones\n",
    "\n",
    "class Solution:\n",
    "    def singleNumber(self, nums):\n",
    "        nums = map(\n",
    "            lambda x:int(bin(x)[2:]),\n",
    "            nums\n",
    "        )\n",
    "        bits = 32\n",
    "        digits = [0]*bits\n",
    "        for num in nums:\n",
    "            for i in range(bits):\n",
    "                print(num,end=',')\n",
    "                if num == 0:\n",
    "                    break\n",
    "                digits[i] =  (digits[i] + num % 10) % 3\n",
    "                num = num // 10\n",
    "            print(digits)\n",
    "        return sum([ digit * 2**i for i,digit in enumerate(digits) ])\n",
    "\n",
    "class Solution:\n",
    "    def singleNumber(self, nums: List[int]) -> int:\n",
    "        return (sum(set(nums)) *  3 - sum(nums) ) // 2\n",
    "\n",
    "s = Solution()\n",
    "s.singleNumber([1,1,1,3,3,2,3,4,4,4])\n"
   ]
  },
  {
   "cell_type": "code",
   "execution_count": null,
   "metadata": {
    "ExecuteTime": {
     "end_time": "2020-06-13T06:49:43.979384Z",
     "start_time": "2020-06-13T06:49:43.973740Z"
    }
   },
   "outputs": [],
   "source": []
  }
 ],
 "metadata": {
  "kernelspec": {
   "display_name": "Python 3",
   "language": "python",
   "name": "python3"
  },
  "language_info": {
   "codemirror_mode": {
    "name": "ipython",
    "version": 3
   },
   "file_extension": ".py",
   "mimetype": "text/x-python",
   "name": "python",
   "nbconvert_exporter": "python",
   "pygments_lexer": "ipython3",
   "version": "3.7.7"
  },
  "latex_envs": {
   "LaTeX_envs_menu_present": true,
   "autoclose": false,
   "autocomplete": true,
   "bibliofile": "biblio.bib",
   "cite_by": "apalike",
   "current_citInitial": 1,
   "eqLabelWithNumbers": true,
   "eqNumInitial": 1,
   "hotkeys": {
    "equation": "Ctrl-E",
    "itemize": "Ctrl-I"
   },
   "labels_anchors": false,
   "latex_user_defs": false,
   "report_style_numbering": false,
   "user_envs_cfg": false
  },
  "toc": {
   "base_numbering": 1,
   "nav_menu": {},
   "number_sections": true,
   "sideBar": true,
   "skip_h1_title": false,
   "title_cell": "Table of Contents",
   "title_sidebar": "Contents",
   "toc_cell": false,
   "toc_position": {},
   "toc_section_display": true,
   "toc_window_display": false
  },
  "varInspector": {
   "cols": {
    "lenName": 16,
    "lenType": 16,
    "lenVar": 40
   },
   "kernels_config": {
    "python": {
     "delete_cmd_postfix": "",
     "delete_cmd_prefix": "del ",
     "library": "var_list.py",
     "varRefreshCmd": "print(var_dic_list())"
    },
    "r": {
     "delete_cmd_postfix": ") ",
     "delete_cmd_prefix": "rm(",
     "library": "var_list.r",
     "varRefreshCmd": "cat(var_dic_list()) "
    }
   },
   "types_to_exclude": [
    "module",
    "function",
    "builtin_function_or_method",
    "instance",
    "_Feature"
   ],
   "window_display": false
  }
 },
 "nbformat": 4,
 "nbformat_minor": 4
}
