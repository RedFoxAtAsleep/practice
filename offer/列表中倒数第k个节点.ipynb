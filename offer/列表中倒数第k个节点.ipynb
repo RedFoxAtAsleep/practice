{
 "cells": [
  {
   "cell_type": "code",
   "execution_count": 1,
   "metadata": {
    "ExecuteTime": {
     "end_time": "2020-05-10T06:40:02.143676Z",
     "start_time": "2020-05-10T06:40:02.107911Z"
    }
   },
   "outputs": [],
   "source": [
    "# Definition for singly-linked list.\n",
    "class ListNode:\n",
    "    def __init__(self, x):\n",
    "        self.val = x\n",
    "        self.next = None\n",
    "\n",
    "class Solution:\n",
    "    def getKthFromEnd(self, head: ListNode, k: int) -> ListNode:\n",
    "        k = -k\n",
    "        n = 0\n",
    "        HeadPointer = ListNode(None)\n",
    "        HeadPointer.next = head\n",
    "        Pointer = HeadPointer\n",
    "        Left = None\n",
    "        Right = None\n",
    "        while Pointer.next:\n",
    "            Right = Pointer.next\n",
    "            n += 1\n",
    "            if n + k == 0:\n",
    "                Left = HeadPointer.next\n",
    "                break;\n",
    "            Pointer = Pointer.next\n",
    "        while Right.next:\n",
    "            Right = Right.next\n",
    "            Left = Left.next\n",
    "        return Left\n",
    "  "
   ]
  },
  {
   "cell_type": "code",
   "execution_count": null,
   "metadata": {},
   "outputs": [],
   "source": []
  }
 ],
 "metadata": {
  "kernelspec": {
   "display_name": "Python 3",
   "language": "python",
   "name": "python3"
  },
  "language_info": {
   "codemirror_mode": {
    "name": "ipython",
    "version": 3
   },
   "file_extension": ".py",
   "mimetype": "text/x-python",
   "name": "python",
   "nbconvert_exporter": "python",
   "pygments_lexer": "ipython3",
   "version": "3.6.8"
  }
 },
 "nbformat": 4,
 "nbformat_minor": 2
}
