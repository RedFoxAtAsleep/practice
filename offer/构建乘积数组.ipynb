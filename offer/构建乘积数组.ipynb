{
 "cells": [
  {
   "cell_type": "code",
   "execution_count": 3,
   "metadata": {
    "ExecuteTime": {
     "end_time": "2020-06-14T11:53:56.240503Z",
     "start_time": "2020-06-14T11:53:56.234655Z"
    }
   },
   "outputs": [],
   "source": [
    "from typing import List\n",
    "\n",
    "class Solution:\n",
    "    def constructArr(self, a: List[int]) -> List[int]:\n",
    "        b = []\n",
    "        for i in range(len(a)):\n",
    "            tmp = 1\n",
    "            for j in range(i): \n",
    "                tmp *= a[j]\n",
    "            for j in range(i+1,len(a)):\n",
    "                tmp *= a[j]\n",
    "            b.append(tmp)\n",
    "        return b\n"
   ]
  },
  {
   "cell_type": "code",
   "execution_count": 1,
   "metadata": {
    "ExecuteTime": {
     "end_time": "2020-06-14T12:36:02.449741Z",
     "start_time": "2020-06-14T12:36:02.419092Z"
    }
   },
   "outputs": [
    {
     "name": "stdout",
     "output_type": "stream",
     "text": [
      "0\n",
      "4\n",
      "4\n",
      "4\n",
      "4\n",
      "4\n",
      "0\n",
      "0\n",
      "0\n",
      "0\n"
     ]
    },
    {
     "data": {
      "text/plain": [
       "[120, 60, 40, 30, 24]"
      ]
     },
     "execution_count": 1,
     "metadata": {},
     "output_type": "execute_result"
    }
   ],
   "source": [
    "from typing import List\n",
    "from functools import lru_cache\n",
    "\n",
    "class Solution:\n",
    "    def constructArr(self, a: List[int]) -> List[int]:  \n",
    "        \n",
    "        \n",
    "        @lru_cache()\n",
    "        def  productHead(i):  # direct: 0/1\n",
    "            if i == 0:\n",
    "                return 1\n",
    "            return productHead(i-1)*a[i-1]\n",
    "        \n",
    "        @lru_cache()\n",
    "        def productTail(i):\n",
    "            if i == n-1:\n",
    "                return 1\n",
    "            return productTail(i+1)*a[i+1]\n",
    "        \n",
    "        @lru_cache()\n",
    "        def product(i, border):\n",
    "            print(border)\n",
    "            step =  -1 if i - border >= 0 else 1\n",
    "            if i == border:\n",
    "                return 1\n",
    "            return product(i+step, border)*a[i+step]\n",
    "\n",
    "        n = len(a)\n",
    "        b = []\n",
    "        for i in range(len(a)):\n",
    "            tmp = product(i, 0)*product(i, n-1)\n",
    "            b.append(tmp)\n",
    "        return b\n",
    "\n",
    "s = Solution()\n",
    "s.constructArr([1,2,3,4,5])"
   ]
  },
  {
   "cell_type": "code",
   "execution_count": null,
   "metadata": {},
   "outputs": [],
   "source": []
  }
 ],
 "metadata": {
  "kernelspec": {
   "display_name": "Python [conda env:ai] *",
   "language": "python",
   "name": "conda-env-ai-py"
  },
  "language_info": {
   "codemirror_mode": {
    "name": "ipython",
    "version": 3
   },
   "file_extension": ".py",
   "mimetype": "text/x-python",
   "name": "python",
   "nbconvert_exporter": "python",
   "pygments_lexer": "ipython3",
   "version": "3.6.8"
  }
 },
 "nbformat": 4,
 "nbformat_minor": 4
}
