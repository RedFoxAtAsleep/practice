{
 "cells": [
  {
   "cell_type": "markdown",
   "metadata": {},
   "source": []
  },
  {
   "cell_type": "code",
   "execution_count": 20,
   "metadata": {
    "ExecuteTime": {
     "end_time": "2020-06-08T13:27:17.865750Z",
     "start_time": "2020-06-08T13:27:17.848561Z"
    }
   },
   "outputs": [
    {
     "ename": "SyntaxError",
     "evalue": "invalid syntax (<ipython-input-20-2d863701192c>, line 2)",
     "output_type": "error",
     "traceback": [
      "\u001b[0;36m  File \u001b[0;32m\"<ipython-input-20-2d863701192c>\"\u001b[0;36m, line \u001b[0;32m2\u001b[0m\n\u001b[0;31m    0-9 1 + 9*1\u001b[0m\n\u001b[0m        ^\u001b[0m\n\u001b[0;31mSyntaxError\u001b[0m\u001b[0;31m:\u001b[0m invalid syntax\n"
     ]
    }
   ],
   "source": [
    "f(i) \n",
    "0-9 1 + 9*1\n",
    "0-99 1 + 9*1 + 90*2\n",
    "0-999 1 + 9*1 + 90*2 + 900*3\n",
    "0-9999 1 + 9*1 + 90*2 + 900*3 + 9000*4\n",
    "f(i) - f(i-1)\n",
    "0-9 10*1\n",
    "10-99 90*2\n",
    "100-999 900*3\n",
    "1000-9999 9000*4"
   ]
  },
  {
   "cell_type": "code",
   "execution_count": 37,
   "metadata": {
    "ExecuteTime": {
     "end_time": "2020-06-08T13:47:00.611648Z",
     "start_time": "2020-06-08T13:47:00.587664Z"
    }
   },
   "outputs": [
    {
     "name": "stdout",
     "output_type": "stream",
     "text": [
      "10\n",
      "180\n",
      "2700\n",
      "36000\n",
      "450000\n",
      "10\n",
      "190\n",
      "2890\n",
      "38890\n",
      "488890\n",
      "14\n",
      "14\n",
      "9\n",
      "99\n"
     ]
    }
   ],
   "source": [
    "# 数位\n",
    "class Solution:\n",
    "    def findNthDigit(self, n: int) -> int:\n",
    "        # 0123456789101112...\n",
    "        # n = n\n",
    "        # 123456789101112...\n",
    "        # n = n + 1\n",
    "        phrases = self.iter_phrase()\n",
    "        i = 1\n",
    "        while True:\n",
    "            w = next(phrases)\n",
    "            if n - w <= 0:\n",
    "                first = 0 if i == 1 else 10**(i-1)\n",
    "                x = n // i\n",
    "                y = n % i\n",
    "                off = x if y else x-1\n",
    "                num =  first + off\n",
    "                print(num)\n",
    "                return int(str(num)[y-1])\n",
    "            n = n - w\n",
    "            i += 1\n",
    "        \n",
    "    def iter_from(self):\n",
    "        r = 1\n",
    "        i = 9\n",
    "        j = 1\n",
    "        while True:\n",
    "            r = r + i*j\n",
    "            yield r\n",
    "            i *= 10\n",
    "            j += 1\n",
    "            \n",
    "    def iter_phrase(self):\n",
    "        yield 10\n",
    "        i = 90\n",
    "        j = 2\n",
    "        while True:\n",
    "            yield i*j\n",
    "            i *= 10\n",
    "            j += 1\n",
    "\n",
    "s = Solution()\n",
    "ranges = s.iter_phrase()\n",
    "for i in range(5):\n",
    "    print(next(ranges))\n",
    "\n",
    "ranges = s.iter_from()\n",
    "for i in range(5):\n",
    "    print(next(ranges))\n",
    "    \n",
    "assert s.findNthDigit(19) == 1\n",
    "assert s.findNthDigit(20) == 4\n",
    "assert s.findNthDigit(10) == 9\n",
    "assert s.findNthDigit(190) == 9\n"
   ]
  },
  {
   "cell_type": "code",
   "execution_count": null,
   "metadata": {
    "collapsed": true
   },
   "outputs": [],
   "source": []
  }
 ],
 "metadata": {
  "kernelspec": {
   "display_name": "conda_env_ai",
   "language": "python",
   "name": "conda_env_ai"
  },
  "language_info": {
   "codemirror_mode": {
    "name": "ipython",
    "version": 3
   },
   "file_extension": ".py",
   "mimetype": "text/x-python",
   "name": "python",
   "nbconvert_exporter": "python",
   "pygments_lexer": "ipython3",
   "version": "3.6.8"
  }
 },
 "nbformat": 4,
 "nbformat_minor": 2
}
