{
 "cells": [
  {
   "cell_type": "code",
   "execution_count": null,
   "metadata": {},
   "outputs": [],
   "source": [
    "class MinStack:\n",
    "\n",
    "    def __init__(self):\n",
    "        \"\"\"\n",
    "        initialize your data structure here.\n",
    "        \"\"\"\n",
    "        self.A = []\n",
    "        self.B = []\n",
    "\n",
    "\n",
    "    def push(self, x: int) -> None:\n",
    "        self.A.append(x)\n",
    "        if not self.B or self.B[-1] >= x:\n",
    "            self.B.append(x)\n",
    "\n",
    "\n",
    "    def pop(self) -> None:\n",
    "        x = self.A.pop(-1)\n",
    "        if x == self.B[-1]:\n",
    "            self.B.pop(-1)\n",
    "\n",
    "\n",
    "    def top(self) -> int:\n",
    "        return self.A[-1]\n",
    "\n",
    "\n",
    "    def min(self) -> int:\n",
    "        return self.B[-1]\n",
    "\n",
    "\n",
    "# Your MinStack object will be instantiated and called as such:\n",
    "# obj = MinStack()\n",
    "# obj.push(x)\n",
    "# obj.pop()\n",
    "# param_3 = obj.top()\n",
    "# param_4 = obj.min()\n",
    "# [\"MinStack\",\"push\",\"push\",\"push\",\"min\",\"pop\",\"top\",\"min\"]"
   ]
  }
 ],
 "metadata": {
  "kernelspec": {
   "display_name": "Python 3",
   "language": "python",
   "name": "python3"
  },
  "language_info": {
   "codemirror_mode": {
    "name": "ipython",
    "version": 3
   },
   "file_extension": ".py",
   "mimetype": "text/x-python",
   "name": "python",
   "nbconvert_exporter": "python",
   "pygments_lexer": "ipython3",
   "version": "3.6.8"
  }
 },
 "nbformat": 4,
 "nbformat_minor": 2
}
