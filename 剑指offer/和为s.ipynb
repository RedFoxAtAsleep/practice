{
 "cells": [
  {
   "cell_type": "code",
   "execution_count": 7,
   "metadata": {
    "ExecuteTime": {
     "end_time": "2020-06-13T07:28:00.215573Z",
     "start_time": "2020-06-13T07:28:00.197590Z"
    }
   },
   "outputs": [
    {
     "data": {
      "text/plain": [
       "[10, 30]"
      ]
     },
     "execution_count": 7,
     "metadata": {},
     "output_type": "execute_result"
    }
   ],
   "source": [
    "# 输入一个递增排序的数组和一个数字s，在数组中查找两个数，使得它们的和正好是s。如果有多对数字的和等于s，则输出任意一对即可。\n",
    "from typing import List\n",
    "class Solution:\n",
    "    def twoSum(self, nums: List[int], target: int) -> List[int]:\n",
    "        i = 0\n",
    "        j = len(nums)-1\n",
    "        while i < j:\n",
    "            if nums[i] + nums[j] == target:\n",
    "                return [nums[i], nums[j]]\n",
    "            if nums[i] + nums[j] > target:\n",
    "                j -= 1\n",
    "            if nums[i] + nums[j] < target:\n",
    "                i += 1\n",
    "        return None\n",
    "    \n",
    "s = Solution()\n",
    "s.twoSum([10,26,30,31,47,60], 40)"
   ]
  },
  {
   "cell_type": "code",
   "execution_count": 21,
   "metadata": {
    "ExecuteTime": {
     "end_time": "2020-06-13T08:16:32.788153Z",
     "start_time": "2020-06-13T08:16:32.775479Z"
    }
   },
   "outputs": [
    {
     "data": {
      "text/plain": [
       "[[2, 3, 4], [4, 5]]"
      ]
     },
     "execution_count": 21,
     "metadata": {},
     "output_type": "execute_result"
    }
   ],
   "source": [
    "# 和为s的连续正数序列\n",
    "class Solution:\n",
    "    def findContinuousSequence(self, target: int) -> List[List[int]]:\n",
    "        \n",
    "        r = []\n",
    "        n = 2\n",
    "        while target // n > 1:\n",
    "            for x in range(1, target // n + 1):\n",
    "                tmp = (x + x+n-1)*n / 2\n",
    "                if tmp > target:\n",
    "                    break\n",
    "                if tmp == target:\n",
    "                    r.insert(0, [ x+i for i in range(n)])             \n",
    "            n += 1\n",
    "        return r\n",
    "\n",
    "s = Solution()\n",
    "s.findContinuousSequence(9)\n",
    "                \n",
    "            \n",
    "            \n",
    "                \n",
    "                "
   ]
  },
  {
   "cell_type": "code",
   "execution_count": 26,
   "metadata": {
    "ExecuteTime": {
     "end_time": "2020-06-13T08:26:45.580598Z",
     "start_time": "2020-06-13T08:26:45.566504Z"
    }
   },
   "outputs": [
    {
     "name": "stdout",
     "output_type": "stream",
     "text": [
      "0 1\n",
      "0 2\n",
      "0 3\n",
      "1 3\n",
      "1 4\n",
      "2 4\n",
      "3 4\n",
      "3 5\n",
      "4 5\n"
     ]
    },
    {
     "data": {
      "text/plain": [
       "[[2, 3, 4], [4, 5]]"
      ]
     },
     "execution_count": 26,
     "metadata": {},
     "output_type": "execute_result"
    }
   ],
   "source": [
    "class Solution:\n",
    "    def findContinuousSequence(self, target: int) -> List[List[int]]:\n",
    "        nums = [n for n in range(1, target)]\n",
    "        i = 0\n",
    "        j = i+1\n",
    "        cmbs = []\n",
    "        while i < j and j < len(nums):\n",
    "            print(i,j)\n",
    "            tmp = (nums[i] + nums[j]) * (j - i + 1) / 2\n",
    "            if tmp < target:\n",
    "                j += 1\n",
    "            elif tmp > target:\n",
    "                i += 1\n",
    "            else:\n",
    "                cmbs.append(nums[i:j+1])\n",
    "                j += 1\n",
    "        return cmbs\n",
    "            \n",
    "s = Solution()\n",
    "s.findContinuousSequence(9)"
   ]
  },
  {
   "cell_type": "code",
   "execution_count": 7,
   "metadata": {
    "ExecuteTime": {
     "end_time": "2020-07-01T18:29:30.265619Z",
     "start_time": "2020-07-01T18:29:30.247824Z"
    }
   },
   "outputs": [
    {
     "ename": "KeyError",
     "evalue": "'user'",
     "output_type": "error",
     "traceback": [
      "\u001b[0;31m---------------------------------------------------------------------------\u001b[0m",
      "\u001b[0;31mKeyError\u001b[0m                                  Traceback (most recent call last)",
      "\u001b[0;32m<ipython-input-7-69443e163a36>\u001b[0m in \u001b[0;36m<module>\u001b[0;34m\u001b[0m\n\u001b[1;32m      3\u001b[0m     \u001b[0;34m\"password\"\u001b[0m\u001b[0;34m:\u001b[0m\u001b[0;34m\"mysql123456\"\u001b[0m\u001b[0;34m,\u001b[0m\u001b[0;34m\u001b[0m\u001b[0;34m\u001b[0m\u001b[0m\n\u001b[1;32m      4\u001b[0m     \u001b[0;34m\"host\"\u001b[0m\u001b[0;34m:\u001b[0m\u001b[0;34m\"localhost\"\u001b[0m\u001b[0;34m,\u001b[0m\u001b[0;34m\u001b[0m\u001b[0;34m\u001b[0m\u001b[0m\n\u001b[0;32m----> 5\u001b[0;31m     \u001b[0;34m\"dbname\"\u001b[0m\u001b[0;34m:\u001b[0m\u001b[0;34m\"Oracle_HR\"\u001b[0m\u001b[0;34m\u001b[0m\u001b[0;34m\u001b[0m\u001b[0m\n\u001b[0m\u001b[1;32m      6\u001b[0m })\n",
      "\u001b[0;31mKeyError\u001b[0m: 'user'"
     ]
    }
   ],
   "source": [
    "\"mysql+mysqldb://{user}:{password}@{host}:{port}/{dbname}\".format({\n",
    "    \"user\":\"root\",\n",
    "    \"password\":\"mysql123456\",\n",
    "    \"host\":\"localhost\",\n",
    "    \"port\":\"\"\n",
    "    \"dbname\":\"Oracle_HR\"\n",
    "})"
   ]
  },
  {
   "cell_type": "code",
   "execution_count": 4,
   "metadata": {
    "ExecuteTime": {
     "end_time": "2020-06-29T17:35:16.992195Z",
     "start_time": "2020-06-29T17:35:16.977564Z"
    }
   },
   "outputs": [
    {
     "data": {
      "text/plain": [
       "[False, False, True, True]"
      ]
     },
     "execution_count": 4,
     "metadata": {},
     "output_type": "execute_result"
    }
   ],
   "source": []
  },
  {
   "cell_type": "code",
   "execution_count": 5,
   "metadata": {
    "ExecuteTime": {
     "end_time": "2020-06-29T17:35:58.023297Z",
     "start_time": "2020-06-29T17:35:58.013151Z"
    }
   },
   "outputs": [
    {
     "data": {
      "text/plain": [
       "10"
      ]
     },
     "execution_count": 5,
     "metadata": {},
     "output_type": "execute_result"
    }
   ],
   "source": []
  },
  {
   "cell_type": "code",
   "execution_count": null,
   "metadata": {},
   "outputs": [],
   "source": []
  }
 ],
 "metadata": {
  "kernelspec": {
   "display_name": "tool",
   "language": "python",
   "name": "tool"
  },
  "language_info": {
   "codemirror_mode": {
    "name": "ipython",
    "version": 3
   },
   "file_extension": ".py",
   "mimetype": "text/x-python",
   "name": "python",
   "nbconvert_exporter": "python",
   "pygments_lexer": "ipython3",
   "version": "3.7.6"
  }
 },
 "nbformat": 4,
 "nbformat_minor": 4
}
