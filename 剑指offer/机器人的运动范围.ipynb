{
  "cells": [
    {
      "cell_type": "code",
      "source": [
        "# 可达解、不可达解、非解\n",
        "class Solution:\n",
        "    def movingCount(self, m: int, n: int, k: int) -> int:\n",
        "\n",
        "        def sumDigits(x):\n",
        "            s = 0\n",
        "            while x:\n",
        "                s += x % 10\n",
        "                x = x // 10\n",
        "            return s\n",
        "\n",
        "        def dfs(i,j):\n",
        "            if i >= m or j >= n or visited[i][j]:\n",
        "                return 0\n",
        "            visited[i][j] = 1\n",
        "            \n",
        "            if sumDigits(i) + sumDigits(j) <= k:\n",
        "                return 1 + dfs(i+1, j) + dfs(i, j+1)\n",
        "            else:\n",
        "                return 0\n",
        "        visited = [[0 for j in range(n)] for i in range(m)]\n",
        "        return dfs(0, 0)\n",
        "\n",
        "s = Solution()\n",
        "r = s.movingCount(16,8,4)\n",
        "print(r)"
      ],
      "outputs": [
        {
          "output_type": "stream",
          "name": "stdout",
          "text": [
            "15\n"
          ]
        }
      ],
      "execution_count": 41,
      "metadata": {
        "collapsed": false,
        "outputHidden": false,
        "inputHidden": false
      }
    },
    {
      "cell_type": "code",
      "source": [
        "# 可达解、不可达解、非解\n",
        "class Solution:\n",
        "    def movingCount(self, m: int, n: int, k: int) -> int:\n",
        "\n",
        "        def sumDigits(x):\n",
        "            s = 0\n",
        "            while x:\n",
        "                s += x % 10\n",
        "                x = x // 10\n",
        "            return s\n",
        "\n",
        "        def search(visited,container,var):\n",
        "            count = 0\n",
        "            while container:\n",
        "                i,j = container.pop()\n",
        "                if i >= m or j >= n or visited[i][j] == 1:\n",
        "                    continue\n",
        "                visited[i][j] = 1\n",
        "                if sumDigits(i) + sumDigits(j) <= k:\n",
        "                    count += 1\n",
        "                    if var == 'bfs':\n",
        "                        container = [(i+1, j), (i, j+1)] + container\n",
        "                    if var == 'dfs':\n",
        "                        container = container + [(i+1, j), (i, j+1)]\n",
        "            return count\n",
        "        \n",
        "        visited = [[0 for j in range(n)] for i in range(m)]\n",
        "        return search(visited, [(0,0)], 'bfs')\n",
        "\n",
        "s = Solution()\n",
        "r = s.movingCount(16,8,4)\n",
        "print(r)"
      ],
      "outputs": [
        {
          "output_type": "stream",
          "name": "stdout",
          "text": [
            "15\n"
          ]
        }
      ],
      "execution_count": 50,
      "metadata": {
        "collapsed": false,
        "outputHidden": false,
        "inputHidden": false
      }
    },
    {
      "cell_type": "code",
      "source": [],
      "outputs": [],
      "execution_count": null,
      "metadata": {
        "collapsed": false,
        "outputHidden": false,
        "inputHidden": false
      }
    }
  ],
  "metadata": {
    "kernel_info": {
      "name": "python3"
    },
    "language_info": {
      "name": "python",
      "version": "3.6.8",
      "mimetype": "text/x-python",
      "codemirror_mode": {
        "name": "ipython",
        "version": 3
      },
      "pygments_lexer": "ipython3",
      "nbconvert_exporter": "python",
      "file_extension": ".py"
    },
    "kernelspec": {
      "name": "python3",
      "language": "python",
      "display_name": "Python 3"
    },
    "nteract": {
      "version": "0.15.0"
    }
  },
  "nbformat": 4,
  "nbformat_minor": 0
}