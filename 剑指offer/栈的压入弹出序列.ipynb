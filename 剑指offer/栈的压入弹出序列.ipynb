{
 "cells": [
  {
   "cell_type": "code",
   "execution_count": 36,
   "metadata": {
    "ExecuteTime": {
     "end_time": "2020-05-23T12:02:31.125904Z",
     "start_time": "2020-05-23T12:02:31.115397Z"
    }
   },
   "outputs": [],
   "source": [
    "class Solution:\n",
    "    def validateStackSequences(self, pushed, popped):\n",
    "        stack = []\n",
    "        while pushed:\n",
    "            stack.append(pushed.pop(0))\n",
    "            while stack:\n",
    "                if stack[-1] == popped[0]:\n",
    "                    stack.pop(-1)\n",
    "                    popped.pop(0)\n",
    "                else:\n",
    "                    break\n",
    "        return not bool(stack)"
   ]
  },
  {
   "cell_type": "code",
   "execution_count": 37,
   "metadata": {
    "ExecuteTime": {
     "end_time": "2020-05-23T12:02:31.447598Z",
     "start_time": "2020-05-23T12:02:31.433239Z"
    }
   },
   "outputs": [
    {
     "data": {
      "text/plain": [
       "False"
      ]
     },
     "execution_count": 37,
     "metadata": {},
     "output_type": "execute_result"
    }
   ],
   "source": [
    "s = Solution()"
   ]
  },
  {
   "cell_type": "code",
   "execution_count": 42,
   "metadata": {
    "ExecuteTime": {
     "end_time": "2020-05-23T12:05:22.591752Z",
     "start_time": "2020-05-23T12:05:22.578693Z"
    }
   },
   "outputs": [
    {
     "data": {
      "text/plain": [
       "[False, True]"
      ]
     },
     "execution_count": 42,
     "metadata": {},
     "output_type": "execute_result"
    }
   ],
   "source": [
    "[\n",
    "    s.validateStackSequences([1,2,3,4,5],[4,3,5,1,2]), \n",
    "    s.validateStackSequences([1,2,3,5],[3,5,2,1])\n",
    "]"
   ]
  },
  {
   "cell_type": "code",
   "execution_count": null,
   "metadata": {},
   "outputs": [],
   "source": [
    "# 括号匹配出栈入栈"
   ]
  }
 ],
 "metadata": {
  "kernelspec": {
   "display_name": "Python 3",
   "language": "python",
   "name": "python3"
  },
  "language_info": {
   "codemirror_mode": {
    "name": "ipython",
    "version": 3
   },
   "file_extension": ".py",
   "mimetype": "text/x-python",
   "name": "python",
   "nbconvert_exporter": "python",
   "pygments_lexer": "ipython3",
   "version": "3.6.8"
  }
 },
 "nbformat": 4,
 "nbformat_minor": 2
}
