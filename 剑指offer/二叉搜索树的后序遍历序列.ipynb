{
 "cells": [
  {
   "cell_type": "code",
   "execution_count": 11,
   "metadata": {
    "ExecuteTime": {
     "end_time": "2020-05-23T12:52:36.785492Z",
     "start_time": "2020-05-23T12:52:36.767042Z"
    }
   },
   "outputs": [],
   "source": [
    "import bisect\n",
    "class Solution:\n",
    "    def verifyPostorder(self, postorder):\n",
    "        if not bool(postorder):\n",
    "            return True\n",
    "        root = postorder.pop(-1)\n",
    "        n = bisect.bisect(postorder, root)\n",
    "        left = postorder[:n]\n",
    "        right = postorder[n:]\n",
    "        for node in left:\n",
    "            if node > root:\n",
    "                return False\n",
    "        for node in right:\n",
    "            if node < root:\n",
    "                return False\n",
    "        return self.verifyPostorder(postorder) and self.verifyPostorder(postorder)\n",
    "    "
   ]
  },
  {
   "cell_type": "code",
   "execution_count": 3,
   "metadata": {
    "ExecuteTime": {
     "end_time": "2020-05-23T12:44:48.487440Z",
     "start_time": "2020-05-23T12:44:48.478083Z"
    }
   },
   "outputs": [
    {
     "data": {
      "text/plain": [
       "5"
      ]
     },
     "execution_count": 3,
     "metadata": {},
     "output_type": "execute_result"
    }
   ],
   "source": [
    "x = [1,5,5,5,8,10]\n",
    "bisect.bisect(x, 9)"
   ]
  },
  {
   "cell_type": "code",
   "execution_count": 6,
   "metadata": {
    "ExecuteTime": {
     "end_time": "2020-05-23T12:46:30.437995Z",
     "start_time": "2020-05-23T12:46:30.427116Z"
    }
   },
   "outputs": [
    {
     "data": {
      "text/plain": [
       "[]"
      ]
     },
     "execution_count": 6,
     "metadata": {},
     "output_type": "execute_result"
    }
   ],
   "source": []
  },
  {
   "cell_type": "code",
   "execution_count": null,
   "metadata": {},
   "outputs": [],
   "source": []
  }
 ],
 "metadata": {
  "kernelspec": {
   "display_name": "Python 3",
   "language": "python",
   "name": "python3"
  },
  "language_info": {
   "codemirror_mode": {
    "name": "ipython",
    "version": 3
   },
   "file_extension": ".py",
   "mimetype": "text/x-python",
   "name": "python",
   "nbconvert_exporter": "python",
   "pygments_lexer": "ipython3",
   "version": "3.6.8"
  }
 },
 "nbformat": 4,
 "nbformat_minor": 2
}
