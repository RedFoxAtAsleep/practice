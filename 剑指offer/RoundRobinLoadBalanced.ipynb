{
 "cells": [
  {
   "cell_type": "code",
   "execution_count": 14,
   "metadata": {
    "ExecuteTime": {
     "end_time": "2020-05-12T07:02:45.898494Z",
     "start_time": "2020-05-12T07:02:37.251513Z"
    },
    "scrolled": true
   },
   "outputs": [
    {
     "name": "stdout",
     "output_type": "stream",
     "text": [
      "{'pa': 3, 'pb': 1, 'pc': 4}\n",
      "pa\n",
      "{'pa': 2, 'pb': 1, 'pc': 4}\n",
      "----------\n",
      "{'pa': 2, 'pb': 1, 'pc': 4}\n",
      "pb\n",
      "{'pa': 2, 'pb': 0, 'pc': 4}\n",
      "----------\n",
      "{'pa': 2, 'pb': 0, 'pc': 4}\n",
      "pc\n",
      "{'pa': 2, 'pb': 0, 'pc': 3}\n",
      "----------\n",
      "{'pa': 2, 'pb': 0, 'pc': 3}\n",
      "pa\n",
      "{'pa': 1, 'pb': 0, 'pc': 3}\n",
      "----------\n",
      "{'pa': 1, 'pb': 0, 'pc': 3}\n",
      "pc\n",
      "{'pa': 1, 'pb': 0, 'pc': 2}\n",
      "----------\n",
      "{'pa': 1, 'pb': 0, 'pc': 2}\n",
      "pa\n",
      "{'pa': 0, 'pb': 0, 'pc': 2}\n",
      "----------\n",
      "{'pa': 0, 'pb': 0, 'pc': 2}\n",
      "pc\n",
      "{'pa': 0, 'pb': 0, 'pc': 1}\n",
      "----------\n",
      "{'pa': 0, 'pb': 0, 'pc': 1}\n",
      "pc\n",
      "{'pa': 0, 'pb': 0, 'pc': 0}\n",
      "----------\n",
      "{'pa': 3, 'pb': 1, 'pc': 4}\n",
      "pa\n",
      "{'pa': 2, 'pb': 1, 'pc': 4}\n",
      "----------\n",
      "{'pa': 2, 'pb': 1, 'pc': 4}\n",
      "pb\n",
      "{'pa': 2, 'pb': 0, 'pc': 4}\n",
      "----------\n",
      "{'pa': 2, 'pb': 0, 'pc': 4}\n",
      "pc\n",
      "{'pa': 2, 'pb': 0, 'pc': 3}\n",
      "----------\n",
      "{'pa': 2, 'pb': 0, 'pc': 3}\n",
      "pa\n",
      "{'pa': 1, 'pb': 0, 'pc': 3}\n",
      "----------\n",
      "{'pa': 1, 'pb': 0, 'pc': 3}\n",
      "pc\n",
      "{'pa': 1, 'pb': 0, 'pc': 2}\n",
      "----------\n",
      "{'pa': 1, 'pb': 0, 'pc': 2}\n",
      "pa\n",
      "{'pa': 0, 'pb': 0, 'pc': 2}\n",
      "----------\n",
      "{'pa': 0, 'pb': 0, 'pc': 2}\n",
      "pc\n",
      "{'pa': 0, 'pb': 0, 'pc': 1}\n",
      "----------\n",
      "{'pa': 0, 'pb': 0, 'pc': 1}\n",
      "pc\n",
      "{'pa': 0, 'pb': 0, 'pc': 0}\n",
      "----------\n",
      "{'pa': 3, 'pb': 1, 'pc': 4}\n",
      "pa\n",
      "{'pa': 2, 'pb': 1, 'pc': 4}\n",
      "----------\n",
      "{'pa': 2, 'pb': 1, 'pc': 4}\n",
      "pb\n",
      "{'pa': 2, 'pb': 0, 'pc': 4}\n",
      "----------\n"
     ]
    },
    {
     "ename": "KeyboardInterrupt",
     "evalue": "",
     "output_type": "error",
     "traceback": [
      "\u001b[0;31m---------------------------------------------------------------------------\u001b[0m",
      "\u001b[0;31mKeyboardInterrupt\u001b[0m                         Traceback (most recent call last)",
      "\u001b[0;32m<ipython-input-14-261eb9751a33>\u001b[0m in \u001b[0;36m<module>\u001b[0;34m()\u001b[0m\n\u001b[1;32m     18\u001b[0m                 \u001b[0mprint\u001b[0m\u001b[0;34m(\u001b[0m\u001b[0mproviders\u001b[0m\u001b[0;34m)\u001b[0m\u001b[0;34m\u001b[0m\u001b[0;34m\u001b[0m\u001b[0m\n\u001b[1;32m     19\u001b[0m                 \u001b[0mprint\u001b[0m\u001b[0;34m(\u001b[0m\u001b[0;34m'-'\u001b[0m\u001b[0;34m*\u001b[0m\u001b[0;36m10\u001b[0m\u001b[0;34m)\u001b[0m\u001b[0;34m\u001b[0m\u001b[0;34m\u001b[0m\u001b[0m\n\u001b[0;32m---> 20\u001b[0;31m                 \u001b[0mtime\u001b[0m\u001b[0;34m.\u001b[0m\u001b[0msleep\u001b[0m\u001b[0;34m(\u001b[0m\u001b[0;36m0.5\u001b[0m\u001b[0;34m)\u001b[0m\u001b[0;34m\u001b[0m\u001b[0;34m\u001b[0m\u001b[0m\n\u001b[0m\u001b[1;32m     21\u001b[0m     \u001b[0mproviders\u001b[0m \u001b[0;34m=\u001b[0m \u001b[0mcopy\u001b[0m\u001b[0;34m.\u001b[0m\u001b[0mcopy\u001b[0m\u001b[0;34m(\u001b[0m\u001b[0minit\u001b[0m\u001b[0;34m)\u001b[0m\u001b[0;34m\u001b[0m\u001b[0;34m\u001b[0m\u001b[0m\n",
      "\u001b[0;31mKeyboardInterrupt\u001b[0m: "
     ]
    }
   ],
   "source": [
    "import copy\n",
    "import time\n",
    "providers = {\n",
    "    'pa':3,\n",
    "    'pb':1,\n",
    "    'pc':4,\n",
    "}\n",
    "init = copy.copy(providers)\n",
    "\n",
    "\n",
    "while True:\n",
    "    while sum(providers.values()):\n",
    "        for provider,weight in providers.items():\n",
    "            if weight > 0:\n",
    "                print(providers)\n",
    "                print(provider)\n",
    "                providers[provider] = weight - 1\n",
    "                print(providers)\n",
    "                print('-'*10)\n",
    "                time.sleep(0.5)\n",
    "    providers = copy.copy(init)"
   ]
  },
  {
   "cell_type": "code",
   "execution_count": null,
   "metadata": {},
   "outputs": [],
   "source": [
    "# [a,b,c] [3,2,1]\n",
    "# a [2,2,1]\n",
    "# b [2,1,1]\n",
    "# c [2,1,0]\n",
    "# a [1,1,0]\n",
    "# b [1,0,0]\n",
    "# a [0,0,0]\n",
    "# [a,b,c] [3,2,1]\n",
    "# a [2,2,1]\n",
    "# b [2,1,1]\n",
    "# c [2,1,0]\n",
    "# a [1,1,0]\n",
    "# b [1,0,0]\n",
    "# a [0,0,0]"
   ]
  }
 ],
 "metadata": {
  "kernelspec": {
   "display_name": "Python 3",
   "language": "python",
   "name": "python3"
  },
  "language_info": {
   "codemirror_mode": {
    "name": "ipython",
    "version": 3
   },
   "file_extension": ".py",
   "mimetype": "text/x-python",
   "name": "python",
   "nbconvert_exporter": "python",
   "pygments_lexer": "ipython3",
   "version": "3.6.8"
  }
 },
 "nbformat": 4,
 "nbformat_minor": 2
}
