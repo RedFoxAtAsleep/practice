{
 "cells": [
  {
   "cell_type": "code",
   "execution_count": 1,
   "metadata": {
    "ExecuteTime": {
     "end_time": "2020-06-08T07:45:00.013033Z",
     "start_time": "2020-06-08T07:44:59.990350Z"
    }
   },
   "outputs": [],
   "source": [
    "# 堆\n",
    "\n",
    "import heapq\n",
    "class MedianFinder:\n",
    "\n",
    "    def __init__(self):\n",
    "        \"\"\"\n",
    "        initialize your data structure here.\n",
    "        \"\"\"\n",
    "        self.V = []  # 大的数保存在小根堆中\n",
    "        self.A = []  # 小的数保存在大根堆中\n",
    "\n",
    "\n",
    "    def addNum(self, num: int) -> None:\n",
    "        # m = n+1 or m = n\n",
    "        # 令小根堆大小为m，大根堆大小为n\n",
    "        if len(self.V) == len(self.A):\n",
    "            # 挑出新加入的数和大根堆中的数最大的数放入小跟堆中\n",
    "            heapq.heappush(self.V, -heapq.heappushpop(self.A, -num))\n",
    "        else:\n",
    "            # 挑出新加入的数和大根堆中的数最大的数放入小跟堆中\n",
    "            heapq.heappush(self.A, -heapq.heappushpop(self.V, num))\n",
    "\n",
    "            \n",
    "    def findMedian(self) -> float:\n",
    "        return (-self.A[0] + self.V[0])/2 if len(self.A) == len(self.V) else self.V[0]\n",
    "    \n",
    "\n"
   ]
  },
  {
   "cell_type": "code",
   "execution_count": null,
   "metadata": {},
   "outputs": [],
   "source": []
  }
 ],
 "metadata": {
  "kernelspec": {
   "display_name": "Python 3",
   "language": "python",
   "name": "python3"
  },
  "language_info": {
   "codemirror_mode": {
    "name": "ipython",
    "version": 3
   },
   "file_extension": ".py",
   "mimetype": "text/x-python",
   "name": "python",
   "nbconvert_exporter": "python",
   "pygments_lexer": "ipython3",
   "version": "3.6.8"
  }
 },
 "nbformat": 4,
 "nbformat_minor": 2
}
