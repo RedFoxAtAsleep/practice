{
 "cells": [
  {
   "cell_type": "code",
   "execution_count": 7,
   "metadata": {
    "ExecuteTime": {
     "end_time": "2020-06-08T16:52:55.324894Z",
     "start_time": "2020-06-08T16:52:55.288934Z"
    }
   },
   "outputs": [
    {
     "data": {
      "text/plain": [
       "'1234'"
      ]
     },
     "execution_count": 7,
     "metadata": {},
     "output_type": "execute_result"
    }
   ],
   "source": [
    "# 把整体看做一个数，小的在前组合才小，组合小说明小的在前\n",
    "import functools\n",
    "class Solution:\n",
    "    def minNumber(self, nums):\n",
    "        def cmp(x, y):\n",
    "            x, y = int(x+y), int(y+x)\n",
    "            if x > y:\n",
    "                return 1\n",
    "            elif x == y:\n",
    "                return 0\n",
    "            else:\n",
    "                return -1\n",
    "        nums = [str(num) for num in nums]\n",
    "        nums.sort(key = functools.cmp_to_key(cmp))\n",
    "        return \"\".join(nums)\n",
    "s = Solution()\n",
    "s.minNumber([1,2,4,3])"
   ]
  },
  {
   "cell_type": "code",
   "execution_count": null,
   "metadata": {},
   "outputs": [],
   "source": []
  }
 ],
 "metadata": {
  "kernelspec": {
   "display_name": "Python 3",
   "language": "python",
   "name": "python3"
  },
  "language_info": {
   "codemirror_mode": {
    "name": "ipython",
    "version": 3
   },
   "file_extension": ".py",
   "mimetype": "text/x-python",
   "name": "python",
   "nbconvert_exporter": "python",
   "pygments_lexer": "ipython3",
   "version": "3.6.8"
  }
 },
 "nbformat": 4,
 "nbformat_minor": 2
}
