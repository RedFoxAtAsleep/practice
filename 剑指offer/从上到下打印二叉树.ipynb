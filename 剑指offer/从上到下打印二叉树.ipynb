{
 "cells": [
  {
   "cell_type": "code",
   "execution_count": null,
   "metadata": {},
   "outputs": [],
   "source": [
    "# Definition for a binary tree node.\n",
    "class TreeNode:\n",
    "    def __init__(self, x):\n",
    "        self.val = x\n",
    "        self.left = None\n",
    "        self.right = None"
   ]
  },
  {
   "cell_type": "code",
   "execution_count": null,
   "metadata": {},
   "outputs": [],
   "source": [
    "class Solution:\n",
    "    def levelOrder(self, root):\n",
    "        container = container = [root] if root else []\n",
    "        vals = []\n",
    "        while container:\n",
    "            node = container.pop(0)\n",
    "            vals.append(node.val)\n",
    "            if node.left: container.append(node.left)\n",
    "            if node.right: container.append(node.right)\n",
    "        return vals"
   ]
  },
  {
   "cell_type": "code",
   "execution_count": 1,
   "metadata": {
    "ExecuteTime": {
     "end_time": "2020-05-23T12:20:32.709690Z",
     "start_time": "2020-05-23T12:20:32.689964Z"
    }
   },
   "outputs": [],
   "source": [
    "class Solution:\n",
    "    def levelOrder(self, root):\n",
    "        container = container = [root] if root else []\n",
    "        valss = []\n",
    "        while container:\n",
    "            n = len(container)\n",
    "            vals = []\n",
    "            for i in range(n):\n",
    "                node = container.pop(0)\n",
    "                vals.append(node.val)\n",
    "                if node.left: container.append(node.left)\n",
    "                if node.right: container.append(node.right)\n",
    "            valss.append(vals)\n",
    "        return valss"
   ]
  },
  {
   "cell_type": "code",
   "execution_count": 14,
   "metadata": {
    "ExecuteTime": {
     "end_time": "2020-05-23T12:31:53.501960Z",
     "start_time": "2020-05-23T12:31:53.485108Z"
    }
   },
   "outputs": [],
   "source": [
    "class Solution:\n",
    "        container = container = [root] if root else []\n",
    "        valss = []\n",
    "        while container: \n",
    "            vals = []\n",
    "            n = len(container)\n",
    "            pos = 0 if len(valss)%2 else n\n",
    "            for i in range(n):\n",
    "                node = container.pop(0)\n",
    "                vals.insert(pos, node.val)\n",
    "                if node.left: container.append(node.left)\n",
    "                if node.right: container.append(node.right)\n",
    "            valss.append(vals)\n",
    "        return valss"
   ]
  },
  {
   "cell_type": "code",
   "execution_count": 15,
   "metadata": {
    "ExecuteTime": {
     "end_time": "2020-05-23T12:36:35.755509Z",
     "start_time": "2020-05-23T12:36:35.747757Z"
    }
   },
   "outputs": [
    {
     "data": {
      "text/plain": [
       "[1, 2, 3, 4]"
      ]
     },
     "execution_count": 15,
     "metadata": {},
     "output_type": "execute_result"
    }
   ],
   "source": [
    "a = [1,2,3]\n",
    "a.insert(100, 4)\n",
    "a"
   ]
  }
 ],
 "metadata": {
  "kernelspec": {
   "display_name": "Python 3",
   "language": "python",
   "name": "python3"
  },
  "language_info": {
   "codemirror_mode": {
    "name": "ipython",
    "version": 3
   },
   "file_extension": ".py",
   "mimetype": "text/x-python",
   "name": "python",
   "nbconvert_exporter": "python",
   "pygments_lexer": "ipython3",
   "version": "3.6.8"
  }
 },
 "nbformat": 4,
 "nbformat_minor": 2
}
