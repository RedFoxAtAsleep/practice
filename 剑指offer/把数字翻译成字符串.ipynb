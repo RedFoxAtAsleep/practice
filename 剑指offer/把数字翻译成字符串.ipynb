{
 "cells": [
  {
   "cell_type": "code",
   "execution_count": 30,
   "metadata": {
    "ExecuteTime": {
     "end_time": "2020-06-08T17:56:05.936883Z",
     "start_time": "2020-06-08T17:56:05.923500Z"
    }
   },
   "outputs": [
    {
     "name": "stdout",
     "output_type": "stream",
     "text": [
      "220\n",
      "20\n",
      "0\n"
     ]
    },
    {
     "data": {
      "text/plain": [
       "3"
      ]
     },
     "execution_count": 30,
     "metadata": {},
     "output_type": "execute_result"
    }
   ],
   "source": [
    "class Solution:\n",
    "    def translateNum(self, num: int) -> int:\n",
    "        num = str(num)\n",
    "        if len(num) == 1:\n",
    "            return 1\n",
    "        if len(num) == 2:\n",
    "            if num.startswith(\"0\") or int(num) > 25:\n",
    "                return 1\n",
    "            return 2\n",
    "        r1 = self.translateNum(int(num[1:]))\n",
    "        r2 = 0 if int(num[:2]) > 25 else self.translateNum(int(num[2:]))\n",
    "        return r1+r2\n",
    "\n",
    "\n",
    "s = Solution()\n",
    "s.translateNum(220)\n"
   ]
  },
  {
   "cell_type": "code",
   "execution_count": 7,
   "metadata": {
    "ExecuteTime": {
     "end_time": "2020-06-08T17:12:44.721253Z",
     "start_time": "2020-06-08T17:12:44.714409Z"
    }
   },
   "outputs": [
    {
     "data": {
      "text/plain": [
       "'ga'"
      ]
     },
     "execution_count": 7,
     "metadata": {},
     "output_type": "execute_result"
    }
   ],
   "source": []
  },
  {
   "cell_type": "code",
   "execution_count": null,
   "metadata": {},
   "outputs": [],
   "source": []
  }
 ],
 "metadata": {
  "kernelspec": {
   "display_name": "conda_env_ai",
   "language": "python",
   "name": "conda_env_ai"
  },
  "language_info": {
   "codemirror_mode": {
    "name": "ipython",
    "version": 3
   },
   "file_extension": ".py",
   "mimetype": "text/x-python",
   "name": "python",
   "nbconvert_exporter": "python",
   "pygments_lexer": "ipython3",
   "version": "3.6.8"
  }
 },
 "nbformat": 4,
 "nbformat_minor": 2
}
