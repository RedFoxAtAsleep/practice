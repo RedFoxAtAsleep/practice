{
 "cells": [
  {
   "cell_type": "code",
   "execution_count": 4,
   "metadata": {
    "ExecuteTime": {
     "end_time": "2020-06-14T07:54:32.962699Z",
     "start_time": "2020-06-14T07:54:32.946367Z"
    }
   },
   "outputs": [
    {
     "name": "stdout",
     "output_type": "stream",
     "text": [
      "[0, 1, 2, 3, 4]\n",
      "[3, 4, 0, 1]\n",
      "[1, 3, 4]\n",
      "[1, 3]\n",
      "[3]\n"
     ]
    },
    {
     "data": {
      "text/plain": [
       "3"
      ]
     },
     "execution_count": 4,
     "metadata": {},
     "output_type": "execute_result"
    }
   ],
   "source": [
    "class Solution:\n",
    "    def lastRemaining(self, n: int, m: int) -> int:\n",
    "        nums = [i for i in range(n)]\n",
    "        def recursion(nums):\n",
    "            print(nums)\n",
    "            if(len(nums)==1):\n",
    "                return nums[0]\n",
    "            i = (m%len(nums)-1 + len(nums)) % len(nums)\n",
    "            return recursion(nums[i+1:]+nums[:i])\n",
    "        return recursion(nums)\n",
    "\n",
    "s = Solution()\n",
    "s.lastRemaining(5,3)"
   ]
  },
  {
   "cell_type": "code",
   "execution_count": 8,
   "metadata": {
    "ExecuteTime": {
     "end_time": "2020-06-14T10:40:02.274631Z",
     "start_time": "2020-06-14T10:40:02.231421Z"
    }
   },
   "outputs": [],
   "source": []
  },
  {
   "cell_type": "code",
   "execution_count": null,
   "metadata": {},
   "outputs": [],
   "source": []
  }
 ],
 "metadata": {
  "kernelspec": {
   "display_name": "Python 3",
   "language": "python",
   "name": "python3"
  },
  "language_info": {
   "codemirror_mode": {
    "name": "ipython",
    "version": 3
   },
   "file_extension": ".py",
   "mimetype": "text/x-python",
   "name": "python",
   "nbconvert_exporter": "python",
   "pygments_lexer": "ipython3",
   "version": "3.6.8"
  }
 },
 "nbformat": 4,
 "nbformat_minor": 4
}
