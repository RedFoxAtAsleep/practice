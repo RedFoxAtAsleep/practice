{
 "cells": [
  {
   "cell_type": "code",
   "execution_count": 72,
   "metadata": {
    "ExecuteTime": {
     "end_time": "2020-06-14T14:30:41.771881Z",
     "start_time": "2020-06-14T14:30:41.754072Z"
    }
   },
   "outputs": [
    {
     "data": {
      "text/plain": [
       "2"
      ]
     },
     "execution_count": 72,
     "metadata": {},
     "output_type": "execute_result"
    }
   ],
   "source": [
    "# 二叉树，dfs非递归\n",
    "from piece import tree\n",
    "from collections import defaultdict\n",
    "\n",
    "class TreeNode:\n",
    "    def __init__(self, x):\n",
    "        self.val = x\n",
    "        self.left = None\n",
    "        self.right = None\n",
    "\n",
    "class Solution:\n",
    "    def lowestCommonAncestor(self, root: 'TreeNode', p: 'TreeNode', q: 'TreeNode') -> 'TreeNode':\n",
    "        if not root:\n",
    "            return None\n",
    "        container = [root]\n",
    "        visited = defaultdict(lambda:0)\n",
    "        p_path = None\n",
    "        q_path = None \n",
    "\n",
    "        while container:\n",
    "        \n",
    "            node = container[-1]\n",
    "\n",
    "            if  p.val == node.val:\n",
    "                p_path = container.copy()\n",
    "            if q.val == node.val:\n",
    "                q_path = container.copy()\n",
    "                \n",
    "            if node.left:\n",
    "                container.append(node.left)\n",
    "            if node.right:\n",
    "                container.append(node.right)\n",
    "            visited[node.val] = 1\n",
    "            while container and container[-1] == node and visited[node.val] :\n",
    "                container.pop()\n",
    "                if container:\n",
    "                    node = container[-1]\n",
    "                else:\n",
    "                    break\n",
    "                    \n",
    "        common = []           \n",
    "        while p_path and q_path:\n",
    "            vp = p_path.pop(0)\n",
    "            vq = q_path.pop(0)\n",
    "            if vp.val != vq.val:\n",
    "                break\n",
    "            common.append(vp)\n",
    "        return common[-1]\n",
    "                    \n",
    "\n",
    "root = tree.deserialize([6,2,8,0,4,7,9,None,None,3,5])\n",
    "p = root.left\n",
    "q = root.right\n",
    "s = Solution()\n",
    "s.lowestCommonAncestor(root, p, q)\n"
   ]
  },
  {
   "cell_type": "code",
   "execution_count": 73,
   "metadata": {
    "ExecuteTime": {
     "end_time": "2020-06-14T14:30:42.511891Z",
     "start_time": "2020-06-14T14:30:42.497712Z"
    }
   },
   "outputs": [
    {
     "name": "stdout",
     "output_type": "stream",
     "text": [
      "6\n",
      "2\n"
     ]
    }
   ],
   "source": [
    "# 二叉树，dfs递归\n",
    "from piece import tree\n",
    "\n",
    "class TreeNode:\n",
    "    def __init__(self, x):\n",
    "        self.val = x\n",
    "        self.left = None\n",
    "        self.right = None\n",
    "\n",
    "class Solution:\n",
    "    def lowestCommonAncestor(self, root: 'TreeNode', p: 'TreeNode', q: 'TreeNode') -> 'TreeNode':\n",
    "        self.fork_nodes = []\n",
    "        self.p_path = None\n",
    "        self.q_path = None\n",
    "        def dfs(node):\n",
    "            if not node:\n",
    "                return None\n",
    "            \n",
    "            # 递归，当前代码层词出入成对\n",
    "            self.fork_nodes.append(node)  # 到当前节点的path\n",
    "            if node.val == p.val:\n",
    "                self.p_path = self.fork_nodes.copy()\n",
    "            if node.val == q.val:\n",
    "                self.q_path = self.fork_nodes.copy()                    \n",
    "            dfs(node.left)\n",
    "            dfs(node.right)\n",
    "            # 递归，当前代码层词出入成对\n",
    "            self.fork_nodes.pop()\n",
    "        dfs(root)\n",
    "        self.common = []\n",
    "        while self.p_path and self.q_path:\n",
    "            vp = self.p_path.pop(0)\n",
    "            vq = self.q_path.pop(0)\n",
    "            if vp.val != vq.val:\n",
    "                break\n",
    "            self.common.append(vp)\n",
    "        return self.common[-1]\n",
    "\n",
    "            \n",
    "root = tree.deserialize([6,2,8,0,4,7,9,None,None,3,5])\n",
    "p = root.left\n",
    "q = root.right\n",
    "s = Solution()\n",
    "print(s.lowestCommonAncestor(root, p, q))\n",
    "\n",
    "\n",
    "root = tree.deserialize([6,2,8,0,4,7,9,None,None,3,5])\n",
    "p = root.left\n",
    "q = root.left.right\n",
    "s = Solution()\n",
    "print(s.lowestCommonAncestor(root, p, q))\n",
    "\n"
   ]
  },
  {
   "cell_type": "code",
   "execution_count": 76,
   "metadata": {
    "ExecuteTime": {
     "end_time": "2020-06-14T14:35:44.424257Z",
     "start_time": "2020-06-14T14:35:44.415600Z"
    }
   },
   "outputs": [],
   "source": [
    "# 二叉搜索数\n",
    "\n",
    "class Solution:\n",
    "    def lowestCommonAncestor(self, root: 'TreeNode', p: 'TreeNode', q: 'TreeNode') -> 'TreeNode':\n",
    "        # 根据二叉搜索树，如果一个大一个小就在左右子树，当前节点就是最近公共祖先。否则进入左或右继续搜索\n",
    "        # # 解一：递归\n",
    "        # if root.val > p.val and root.val > q.val:\n",
    "        #     return self.lowestCommonAncestor(root.left, p, q)  # 为什么这里要return呢，里面不是有一个return了吗，递归的每一层都需要return回溯的吗？\n",
    "        # if root.val < p.val and root.val < q.val:\n",
    "        #     return self.lowestCommonAncestor(root.right, p, q)\n",
    "        # return root\n",
    "\n",
    "        # 解二：迭代\n",
    "        while root:\n",
    "            if root.val > p.val and root.val > q.val:\n",
    "                root = root.left\n",
    "            elif root.val < p.val and root.val < q.val:\n",
    "                root = root.right\n",
    "            else:\n",
    "                break\n",
    "        return root\n",
    "    \n",
    "    "
   ]
  },
  {
   "cell_type": "code",
   "execution_count": 75,
   "metadata": {
    "ExecuteTime": {
     "end_time": "2020-06-14T14:33:56.290531Z",
     "start_time": "2020-06-14T14:33:56.281808Z"
    }
   },
   "outputs": [
    {
     "name": "stdout",
     "output_type": "stream",
     "text": [
      "2\n"
     ]
    }
   ],
   "source": [
    "# 二叉树，递归\n",
    "class Solution:\n",
    "    def lowestCommonAncestor(self, root: TreeNode, p: TreeNode, q: TreeNode) -> TreeNode:\n",
    "        if not root or root == p or root == q:\n",
    "            return root\n",
    "        left = self.lowestCommonAncestor(root.left, p, q)\n",
    "        right = self.lowestCommonAncestor(root.right, p, q)\n",
    "        if not p and not q: return\n",
    "        if not right: return left\n",
    "        if not left: return right\n",
    "        return root\n",
    "\n",
    "root = tree.deserialize([6,2,8,0,4,7,9,None,None,3,5])\n",
    "p = root.left\n",
    "q = root.left.right\n",
    "s = Solution()\n",
    "print(s.lowestCommonAncestor(root, p, q))\n",
    "\n",
    "\n",
    "    "
   ]
  },
  {
   "cell_type": "code",
   "execution_count": null,
   "metadata": {},
   "outputs": [],
   "source": [
    "# 二叉树，非递归\n",
    "class Solution:\n",
    "    def lowestCommonAncestor(self, root: TreeNode, p: TreeNode, q: TreeNode) -> TreeNode:\n",
    "        if not root or root == p or root == q:\n",
    "            return root\n",
    "        left = self.lowestCommonAncestor(root.left, p, q)\n",
    "        right = self.lowestCommonAncestor(root.right, p, q)\n",
    "        if not p and not q: return\n",
    "        if not right: return left\n",
    "        if not left: return right\n",
    "        return root\n",
    "\n",
    "root = tree.deserialize([6,2,8,0,4,7,9,None,None,3,5])\n",
    "p = root.left\n",
    "q = root.left.right\n",
    "s = Solution()\n",
    "print(s.lowestCommonAncestor(root, p, q))\n"
   ]
  },
  {
   "cell_type": "code",
   "execution_count": null,
   "metadata": {},
   "outputs": [],
   "source": []
  }
 ],
 "metadata": {
  "kernelspec": {
   "display_name": "Python 3",
   "language": "python",
   "name": "python3"
  },
  "language_info": {
   "codemirror_mode": {
    "name": "ipython",
    "version": 3
   },
   "file_extension": ".py",
   "mimetype": "text/x-python",
   "name": "python",
   "nbconvert_exporter": "python",
   "pygments_lexer": "ipython3",
   "version": "3.6.8"
  }
 },
 "nbformat": 4,
 "nbformat_minor": 2
}
