{
 "cells": [
  {
   "cell_type": "code",
   "execution_count": 20,
   "metadata": {
    "ExecuteTime": {
     "end_time": "2020-06-09T06:23:05.895082Z",
     "start_time": "2020-06-09T06:23:05.883470Z"
    }
   },
   "outputs": [
    {
     "name": "stdout",
     "output_type": "stream",
     "text": [
      "12\n"
     ]
    }
   ],
   "source": [
    "# 2**i * 3**j * 5**k\n",
    "class Solution:\n",
    "    def nthUglyNumber(self, n: int) -> int:\n",
    "        uglies = [1]\n",
    "        # 策略：乘数\n",
    "        components = [2,3,5]\n",
    "        index_of_component = [i for i in range(len(components))]\n",
    "        # 状态：指向丑数的索引，最后一个因数是2/3/5的状态\n",
    "        product_state = [0,0,0]  \n",
    "        # 最优化：下一个最小的状态\n",
    "        for nth in range(n-1):\n",
    "            candidate_products = [\n",
    "                components[ioc]*uglies[ps]\n",
    "                for ioc,ps\n",
    "                in zip(index_of_component, product_state) \n",
    "            ] \n",
    "            next_min_product = min(candidate_products)\n",
    "            uglies.append(next_min_product)\n",
    "            for i, cp in enumerate(candidate_products):\n",
    "                if cp == next_min_product:\n",
    "                    product_state[i] += 1\n",
    "        return uglies[n-1]\n",
    "\n",
    "s = Solution()\n",
    "\n",
    "print(s.nthUglyNumber(10))"
   ]
  },
  {
   "cell_type": "code",
   "execution_count": null,
   "metadata": {
    "ExecuteTime": {
     "end_time": "2020-06-09T06:25:32.920123Z",
     "start_time": "2020-06-09T06:25:31.786182Z"
    }
   },
   "outputs": [],
   "source": [
    "class Solution:\n",
    "    def nthUglyNumber(self, n: int) -> int:\n",
    "        uglies = [1]\n",
    "        # 策略：乘数\n",
    "        components = [2,3,5]\n",
    "        index_of_component = [i for i in range(len(components))]\n",
    "        # 状态：指向丑数的索引，最后一个因数是2/3/5的状态\n",
    "        product_state = [0,0,0]  \n",
    "        # 最优化：下一个最小的状态\n",
    "        for nth in range(n-1):\n",
    "            candidate_products = [\n",
    "                components[ioc]*uglies[ps]\n",
    "                for ioc,ps\n",
    "                in zip(index_of_component, product_state) \n",
    "            ] \n",
    "            next_min_product = min(candidate_products)\n",
    "            uglies.append(next_min_product)\n",
    "            for i, cp in enumerate(candidate_products):\n",
    "                if cp == next_min_product:\n",
    "                    product_state[i] += 1\n",
    "        return uglies[n-1]\n",
    "\n",
    "s = Solution()\n",
    "\n",
    "print(s.nthUglyNumber(10))"
   ]
  },
  {
   "cell_type": "code",
   "execution_count": null,
   "metadata": {},
   "outputs": [],
   "source": []
  }
 ],
 "metadata": {
  "kernelspec": {
   "display_name": "conda_env_ai",
   "language": "python",
   "name": "conda_env_ai"
  },
  "language_info": {
   "codemirror_mode": {
    "name": "ipython",
    "version": 3
   },
   "file_extension": ".py",
   "mimetype": "text/x-python",
   "name": "python",
   "nbconvert_exporter": "python",
   "pygments_lexer": "ipython3",
   "version": "3.6.8"
  }
 },
 "nbformat": 4,
 "nbformat_minor": 2
}
