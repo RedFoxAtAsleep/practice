{
 "cells": [
  {
   "cell_type": "code",
   "execution_count": 16,
   "metadata": {
    "ExecuteTime": {
     "end_time": "2020-06-10T02:34:45.590362Z",
     "start_time": "2020-06-10T02:34:45.575118Z"
    }
   },
   "outputs": [
    {
     "data": {
      "text/plain": [
       "12"
      ]
     },
     "execution_count": 16,
     "metadata": {},
     "output_type": "execute_result"
    }
   ],
   "source": [
    "class Solution:\n",
    "    def __init__(self):\n",
    "        self.count = 0\n",
    "            \n",
    "    def reversePairs(self, nums):\n",
    "        \n",
    "        def merge_sort(nums):\n",
    "            if len(nums) < 2:\n",
    "                return nums\n",
    "            border = len(nums) // 2  # arr = [1,2], length//2:arr[:1]arr[1:], length//2+1:arr[:2]arr[2:]\n",
    "            return merge(merge_sort(nums[:border]), merge_sort(nums[border:]))\n",
    "        \n",
    "        def merge(left, right):\n",
    "            result = []\n",
    "            while len(left) and len(right):\n",
    "                if left[0] > right[0]:\n",
    "                    self.count += len(left)\n",
    "                    result.append(right.pop(0))\n",
    "                else:\n",
    "                    result.append(left.pop(0))\n",
    "            if len(left):\n",
    "                result += left\n",
    "            if len(right):\n",
    "                result += right\n",
    "            return result\n",
    "\n",
    "        merge_sort(nums)\n",
    "        return self.count\n",
    "        \n",
    "\n",
    "s = Solution()\n",
    "s.reversePairs([1,9,2,8,3,7,4,5])\n",
    "\n"
   ]
  },
  {
   "cell_type": "code",
   "execution_count": null,
   "metadata": {},
   "outputs": [],
   "source": []
  }
 ],
 "metadata": {
  "kernelspec": {
   "display_name": "conda_env_ai",
   "language": "python",
   "name": "conda_env_ai"
  },
  "language_info": {
   "codemirror_mode": {
    "name": "ipython",
    "version": 3
   },
   "file_extension": ".py",
   "mimetype": "text/x-python",
   "name": "python",
   "nbconvert_exporter": "python",
   "pygments_lexer": "ipython3",
   "version": "3.6.8"
  }
 },
 "nbformat": 4,
 "nbformat_minor": 2
}
