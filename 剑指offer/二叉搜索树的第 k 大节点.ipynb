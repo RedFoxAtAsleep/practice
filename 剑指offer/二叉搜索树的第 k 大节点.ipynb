{
 "cells": [
  {
   "cell_type": "code",
   "execution_count": 31,
   "metadata": {
    "ExecuteTime": {
     "end_time": "2020-06-10T18:15:40.191040Z",
     "start_time": "2020-06-10T18:15:40.156888Z"
    },
    "code_folding": []
   },
   "outputs": [
    {
     "name": "stdout",
     "output_type": "stream",
     "text": [
      "4\n",
      "3\n",
      "2\n"
     ]
    },
    {
     "data": {
      "text/plain": [
       "2"
      ]
     },
     "execution_count": 31,
     "metadata": {},
     "output_type": "execute_result"
    }
   ],
   "source": [
    "# Definition for a binary tree node.\n",
    "class TreeNode:\n",
    "    def __init__(self, x):\n",
    "        self.val = x\n",
    "        self.left = None\n",
    "        self.right = None\n",
    "    def __repr__(self):\n",
    "        return str(self.val)\n",
    "\n",
    "    \n",
    "class Solution:\n",
    "\n",
    "    def thisTreeOrderedNodesMLR(self, root):\n",
    "        if node is None:\n",
    "            return []\n",
    "        return [root] + self.thisTreeOrderedNode(root.left) + self.thisTreeOrderedNode(root.right)\n",
    "        \n",
    "    def thisTreePrintRootRML(self, root):\n",
    "        # 形参取名root而不是node，代表的是子树，以根节点代表子树\n",
    "        # 打印某一子树的根节点\n",
    "        # RML: Right Middle Left\n",
    "        if node is None:\n",
    "            return\n",
    "        self.thisTreePrintRootRML(node.right)\n",
    "        print(node.val)\n",
    "        self.thisTreePrintRootRML(node.left)\n",
    "    \n",
    "    def kthLargest(self, root: TreeNode, k: int) -> int:\n",
    "        self.k = k\n",
    "        self.res = None\n",
    "        def thisTreeKth(root):\n",
    "            if root is None:\n",
    "                return\n",
    "            thisTreeKth(root.right)\n",
    "            if self.k == 0: return\n",
    "            \n",
    "            print(root)\n",
    "            self.k -= 1\n",
    "            if self.k == 0:\n",
    "                self.res = root.val\n",
    "                return \n",
    "            thisTreeKth(root.left)\n",
    "        thisTreeKth(root)\n",
    "        return self.res\n",
    "\n",
    "    \n",
    "    def serialize(self, root):\n",
    "        \"\"\"Encodes a tree to a single string.\n",
    "        \n",
    "        :type root: TreeNode\n",
    "        :rtype: str\n",
    "        \"\"\"\n",
    "        if not root:\n",
    "            return []\n",
    "        container = [root]\n",
    "        r = []\n",
    "        while container:\n",
    "            node = container.pop()\n",
    "            if node:\n",
    "                container = [ node.right , node.left] + container\n",
    "            r.append(node if node is None else node.val)\n",
    "        return r\n",
    "            \n",
    "    def deserialize(self, data):\n",
    "        \"\"\"Decodes your encoded data to tree.\n",
    "        \n",
    "        :type data: str\n",
    "        :rtype: TreeNode\n",
    "        \"\"\"\n",
    "        if not data:\n",
    "            return None\n",
    "        nodes = [ None if val is None else TreeNode(val) for val in data]\n",
    "        s = 0\n",
    "        e = 1\n",
    "        while True:\n",
    "            layer = [ node for node in nodes[s:e] if node is not None ]\n",
    "            if not layer:\n",
    "                break\n",
    "            for i in range(len(layer)):\n",
    "                node = layer[i]\n",
    "                if e+2*i < len(nodes):\n",
    "                    node.left = nodes[e+2*i]\n",
    "                if e+2*i+1 < len(nodes):\n",
    "                    node.right = nodes[e+2*i+1]\n",
    "            s = e\n",
    "            e = e + 2*len(layer)\n",
    "        return nodes[0]\n",
    "\n",
    "s = Solution()\n",
    "root = s.deserialize([3,1,4, None,2])\n",
    "s.kthLargest(root, 3)\n"
   ]
  },
  {
   "cell_type": "code",
   "execution_count": 18,
   "metadata": {
    "ExecuteTime": {
     "end_time": "2020-06-10T18:08:27.155042Z",
     "start_time": "2020-06-10T18:08:27.150561Z"
    }
   },
   "outputs": [
    {
     "name": "stdout",
     "output_type": "stream",
     "text": [
      "dfsf\n"
     ]
    }
   ],
   "source": [
    "a = print(\"dfsf\")"
   ]
  },
  {
   "cell_type": "code",
   "execution_count": 19,
   "metadata": {
    "ExecuteTime": {
     "end_time": "2020-06-10T18:08:27.941199Z",
     "start_time": "2020-06-10T18:08:27.931212Z"
    }
   },
   "outputs": [
    {
     "data": {
      "text/plain": [
       "True"
      ]
     },
     "execution_count": 19,
     "metadata": {},
     "output_type": "execute_result"
    }
   ],
   "source": [
    "a is None\n"
   ]
  },
  {
   "cell_type": "code",
   "execution_count": null,
   "metadata": {},
   "outputs": [],
   "source": []
  }
 ],
 "metadata": {
  "kernelspec": {
   "display_name": "conda_env_ai",
   "language": "python",
   "name": "conda_env_ai"
  },
  "language_info": {
   "codemirror_mode": {
    "name": "ipython",
    "version": 3
   },
   "file_extension": ".py",
   "mimetype": "text/x-python",
   "name": "python",
   "nbconvert_exporter": "python",
   "pygments_lexer": "ipython3",
   "version": "3.6.8"
  }
 },
 "nbformat": 4,
 "nbformat_minor": 2
}
