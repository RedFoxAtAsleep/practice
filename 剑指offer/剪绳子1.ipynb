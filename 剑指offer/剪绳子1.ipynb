{
  "cells": [
    {
      "cell_type": "code",
      "source": [
        "from functools import lru_cache\n",
        "class Solution:\n",
        "    \n",
        "    @lru_cache()\n",
        "    def cuttingRope(self, n):\n",
        "        if n == 2:\n",
        "            return 1\n",
        "        \n",
        "        return max(\n",
        "            [i*self.cuttingRope(n-i) for i in range(1, n//2+1)] + \n",
        "            [i*(n-i) for i in range(1, n//2+1)]\n",
        "        )\n",
        "s = Solution()\n",
        "s.cuttingRope(2)\n",
        "    "
      ],
      "outputs": [
        {
          "output_type": "execute_result",
          "execution_count": 11,
          "data": {
            "text/plain": [
              "1"
            ]
          },
          "metadata": {}
        }
      ],
      "execution_count": 11,
      "metadata": {
        "collapsed": false,
        "outputHidden": false,
        "inputHidden": false
      }
    },
    {
      "cell_type": "code",
      "source": [
        "# 大数越界\n",
        "# 贪心\n",
        "\n",
        "from functools import lru_cache\n",
        "class Solution:\n",
        "    \n",
        "    @lru_cache()\n",
        "    def cuttingRope(self, n):\n",
        "        if n < 4:\n",
        "            return n-1\n",
        "        result = 1\n",
        "        while n > 4:\n",
        "            n = n-3\n",
        "            result = (result*3) % 1000000007\n",
        "        return (result*n)% 1000000007\n",
        "\n",
        "s = Solution()\n",
        "s.cuttingRope(10)"
      ],
      "outputs": [
        {
          "output_type": "execute_result",
          "execution_count": 12,
          "data": {
            "text/plain": [
              "36"
            ]
          },
          "metadata": {}
        }
      ],
      "execution_count": 12,
      "metadata": {
        "collapsed": false,
        "outputHidden": false,
        "inputHidden": false
      }
    },
    {
      "cell_type": "code",
      "source": [],
      "outputs": [],
      "execution_count": null,
      "metadata": {
        "collapsed": false,
        "outputHidden": false,
        "inputHidden": false
      }
    }
  ],
  "metadata": {
    "kernel_info": {
      "name": "python3"
    },
    "language_info": {
      "name": "python",
      "version": "3.6.8",
      "mimetype": "text/x-python",
      "codemirror_mode": {
        "name": "ipython",
        "version": 3
      },
      "pygments_lexer": "ipython3",
      "nbconvert_exporter": "python",
      "file_extension": ".py"
    },
    "kernelspec": {
      "name": "python3",
      "language": "python",
      "display_name": "Python 3"
    },
    "nteract": {
      "version": "0.15.0"
    }
  },
  "nbformat": 4,
  "nbformat_minor": 0
}