{
 "cells": [
  {
   "cell_type": "code",
   "execution_count": 21,
   "metadata": {
    "ExecuteTime": {
     "end_time": "2020-06-07T17:09:54.458111Z",
     "start_time": "2020-06-07T17:09:54.432650Z"
    }
   },
   "outputs": [
    {
     "name": "stdout",
     "output_type": "stream",
     "text": [
      "1\n",
      "2\n",
      "1\n",
      "0\n",
      "1\n",
      "None\n"
     ]
    }
   ],
   "source": [
    "# 摩尔投票\n",
    "class Solution:\n",
    "    def majorityElement(self, nums):\n",
    "        vote = 0\n",
    "        while nums:\n",
    "            if vote == 0:\n",
    "                candidate = nums.pop()\n",
    "                vote += 1\n",
    "                print(vote)\n",
    "            if not nums:\n",
    "                break\n",
    "            if candidate == nums.pop():\n",
    "                vote += 1\n",
    "                print(vote)\n",
    "            else:\n",
    "                vote += -1\n",
    "                print(vote)\n",
    "        return candidate if vote >= 2 else None\n",
    "\n",
    "# 总数为2n，恰过半n+1，剩下n-1，(n+1)-(n-1) = 2\n",
    "s = Solution()\n",
    "r = s.majorityElement([1,3,3,2,2])\n",
    "print(r)              \n",
    "            \n",
    "            "
   ]
  },
  {
   "cell_type": "code",
   "execution_count": null,
   "metadata": {},
   "outputs": [],
   "source": []
  }
 ],
 "metadata": {
  "kernelspec": {
   "display_name": "Python 3",
   "language": "python",
   "name": "python3"
  },
  "language_info": {
   "codemirror_mode": {
    "name": "ipython",
    "version": 3
   },
   "file_extension": ".py",
   "mimetype": "text/x-python",
   "name": "python",
   "nbconvert_exporter": "python",
   "pygments_lexer": "ipython3",
   "version": "3.6.8"
  }
 },
 "nbformat": 4,
 "nbformat_minor": 2
}
