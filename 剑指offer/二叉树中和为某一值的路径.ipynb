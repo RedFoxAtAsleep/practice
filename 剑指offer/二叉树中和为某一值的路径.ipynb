{
 "cells": [
  {
   "cell_type": "code",
   "execution_count": 3,
   "metadata": {
    "ExecuteTime": {
     "end_time": "2020-05-23T13:40:57.803845Z",
     "start_time": "2020-05-23T13:40:57.783210Z"
    }
   },
   "outputs": [],
   "source": [
    "# Definition for a binary tree node.\n",
    "class TreeNode:\n",
    "    def __init__(self, x):\n",
    "        self.val = x\n",
    "        self.left = None\n",
    "        self.right = None"
   ]
  },
  {
   "cell_type": "code",
   "execution_count": null,
   "metadata": {},
   "outputs": [],
   "source": [
    "class Solution:\n",
    "    def pathSum(self, root: TreeNode, sum):\n",
    "        result = []\n",
    "        def dfs(node, path):\n",
    "            if node: \n",
    "                path.append(node)\n",
    "                if sum([ x.val for x in path]) == sum:\n",
    "                    result.append(path)\n",
    "                n = len(path)\n",
    "                dfs(node.left, path[:n])\n",
    "                dfs(node.right, path[:n])\n",
    "        dfs(root, [])\n",
    "        return result"
   ]
  },
  {
   "cell_type": "code",
   "execution_count": null,
   "metadata": {},
   "outputs": [],
   "source": [
    "# 回溯的本质是标记visited，没有forward分支和所有forward分支都已经访问过后标记为visited\n",
    "\n",
    "# 递归进入下一层后，append一个，在返回当前层后pop一个，就能做到回溯"
   ]
  },
  {
   "cell_type": "code",
   "execution_count": null,
   "metadata": {},
   "outputs": [],
   "source": [
    "class Solution:\n",
    "    def pathSum(self, root: TreeNode, target):\n",
    "        paths, path = [], []\n",
    "        def dfs(node, tar):\n",
    "            if not root: return\n",
    "            # 当前层forward\n",
    "            path.append(root.val)  \n",
    "            tar -= root.val\n",
    "            if tar == 0 and not root.left and not root.right:  # 尽头/边界\n",
    "                res.append(path.copy())\n",
    "            dfs(root.left, tar)\n",
    "            dfs(root.right, tar)\n",
    "            # 已经visited后，当前层backward，回溯\n",
    "            path.pop()\n",
    "        dfs(root, target)\n",
    "        return res"
   ]
  }
 ],
 "metadata": {
  "kernelspec": {
   "display_name": "Python 3",
   "language": "python",
   "name": "python3"
  },
  "language_info": {
   "codemirror_mode": {
    "name": "ipython",
    "version": 3
   },
   "file_extension": ".py",
   "mimetype": "text/x-python",
   "name": "python",
   "nbconvert_exporter": "python",
   "pygments_lexer": "ipython3",
   "version": "3.6.8"
  }
 },
 "nbformat": 4,
 "nbformat_minor": 2
}
