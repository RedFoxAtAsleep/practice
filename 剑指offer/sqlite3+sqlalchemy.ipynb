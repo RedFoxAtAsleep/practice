{
  "cells": [
    {
      "cell_type": "code",
      "source": [
        "import sqlalchemy\n",
        "from sqlalchemy import create_engine\n",
        "from sqlalchemy.ext.declarative import declarative_base\n",
        "from sqlalchemy import Column, Integer, String, REAL\n",
        "from sqlalchemy.orm import sessionmaker\n",
        "sqlalchemy.__version__ "
      ],
      "outputs": [
        {
          "output_type": "execute_result",
          "execution_count": 12,
          "data": {
            "text/plain": [
              "'1.3.5'"
            ]
          },
          "metadata": {}
        }
      ],
      "execution_count": 12,
      "metadata": {
        "collapsed": false,
        "outputHidden": false,
        "inputHidden": false
      }
    },
    {
      "cell_type": "code",
      "source": [
        "engine = create_engine('sqlite:////Users/zhaojinhui/medicine_artificial_data.db?check_same_thread=False', echo=True)"
      ],
      "outputs": [],
      "execution_count": 9,
      "metadata": {
        "collapsed": false,
        "outputHidden": false,
        "inputHidden": false
      }
    },
    {
      "cell_type": "code",
      "source": [
        "Base = declarative_base()"
      ],
      "outputs": [],
      "execution_count": 10,
      "metadata": {
        "collapsed": false,
        "outputHidden": false,
        "inputHidden": false
      }
    },
    {
      "cell_type": "code",
      "source": [
        "class Medicine(Base):\n",
        "    __tablename__ = 'medicine'\n",
        "    # 如果有多个类指向同一张表，那么在后边的类需要把extend_existing设为True，表示在已有列基础上进行扩展\n",
        "    # 或者换句话说，sqlalchemy允许类是表的子集\n",
        "    __table_args__ = {'extend_existing': True}\n",
        "    # 如果表在同一个数据库服务（datebase）的不同数据库中（schema），可使用schema参数进一步指定数据库\n",
        "    # __table_args__ = {'schema': 'test_database'}\n",
        "    \n",
        "    # 各变量名一定要与表的各字段名一样，因为相同的名字是他们之间的唯一关联关系\n",
        "    # 从语法上说，各变量类型和表的类型可以不完全一致，如表字段是String(64)，但我就定义成String(32)\n",
        "    # 但为了避免造成不必要的错误，变量的类型和其对应的表的字段的类型还是要相一致\n",
        "    # sqlalchemy强制要求必须要有主键字段不然会报错，如果要映射一张已存在且没有主键的表，那么可行的做法是将所有字段都设为primary_key=True\n",
        "    # 不要看随便将一个非主键字段设为primary_key，然后似乎就没报错就能使用了，sqlalchemy在接收到查询结果后还会自己根据主键进行一次去重\n",
        "    # 指定id映射到id字段; id字段为整型，为主键，自动增长（其实整型主键默认就自动增长）\n",
        "    id = Column(Integer, primary_key=True, autoincrement=True)\n",
        "    # 指定name映射到name字段; name字段为字符串类形，\n",
        "    approvalNumber = Column(String(32))\n",
        "    genericName = Column(String(32))\n",
        "    specs = Column(String(32))\n",
        "    manufacturer = Column(String(32))\n",
        "    platform = Column(String(32))\n",
        "    store = Column(String(32))\n",
        "    price = Column(REAL)\n",
        "    \n",
        "\n",
        "    # __repr__方法用于输出该类的对象被print()时输出的字符串，如果不想写可以不写\n",
        "    def __repr__(self):\n",
        "        return \"<Medicine(approvalNumber={},genericName={},specs={},manufacturer{},platform={},store={})>\".format(self.approvalNumber,self.genericName,self.specs,self.manufacturer,self.platform,self.store)"
      ],
      "outputs": [],
      "execution_count": 16,
      "metadata": {
        "collapsed": false,
        "outputHidden": false,
        "inputHidden": false
      }
    },
    {
      "cell_type": "code",
      "source": [
        "Medicine.__table__"
      ],
      "outputs": [
        {
          "output_type": "execute_result",
          "execution_count": 17,
          "data": {
            "text/plain": [
              "Table('medicine', MetaData(bind=None), Column('id', Integer(), table=<medicine>, primary_key=True, nullable=False), Column('approvalNumber', String(length=32), table=<medicine>), Column('genericName', String(length=32), table=<medicine>), Column('specs', String(length=32), table=<medicine>), Column('manufacturer', String(length=32), table=<medicine>), Column('platform', String(length=32), table=<medicine>), Column('store', String(length=32), table=<medicine>), Column('price', REAL(), table=<medicine>), schema=None)"
            ]
          },
          "metadata": {}
        }
      ],
      "execution_count": 17,
      "metadata": {
        "collapsed": false,
        "outputHidden": false,
        "inputHidden": false
      }
    },
    {
      "cell_type": "code",
      "source": [
        "Base.metadata.create_all(engine, checkfirst=True)"
      ],
      "outputs": [
        {
          "output_type": "stream",
          "name": "stdout",
          "text": [
            "2020-05-09 15:57:28,364 INFO sqlalchemy.engine.base.Engine SELECT CAST('test plain returns' AS VARCHAR(60)) AS anon_1\n",
            "2020-05-09 15:57:28,371 INFO sqlalchemy.engine.base.Engine ()\n",
            "2020-05-09 15:57:28,388 INFO sqlalchemy.engine.base.Engine SELECT CAST('test unicode returns' AS VARCHAR(60)) AS anon_1\n",
            "2020-05-09 15:57:28,389 INFO sqlalchemy.engine.base.Engine ()\n",
            "2020-05-09 15:57:28,395 INFO sqlalchemy.engine.base.Engine PRAGMA table_info(\"medicine\")\n",
            "2020-05-09 15:57:28,397 INFO sqlalchemy.engine.base.Engine ()\n",
            "2020-05-09 15:57:28,408 INFO sqlalchemy.engine.base.Engine \n",
            "CREATE TABLE medicine (\n",
            "\tid INTEGER NOT NULL, \n",
            "\t\"approvalNumber\" VARCHAR(32), \n",
            "\t\"genericName\" VARCHAR(32), \n",
            "\tspecs VARCHAR(32), \n",
            "\tmanufacturer VARCHAR(32), \n",
            "\tplatform VARCHAR(32), \n",
            "\tstore VARCHAR(32), \n",
            "\tprice REAL, \n",
            "\tPRIMARY KEY (id)\n",
            ")\n",
            "\n",
            "\n",
            "2020-05-09 15:57:28,409 INFO sqlalchemy.engine.base.Engine ()\n",
            "2020-05-09 15:57:28,416 INFO sqlalchemy.engine.base.Engine COMMIT\n"
          ]
        }
      ],
      "execution_count": 18,
      "metadata": {
        "collapsed": false,
        "outputHidden": false,
        "inputHidden": false
      }
    },
    {
      "cell_type": "code",
      "source": [
        "Session = sessionmaker(bind=engine)\n",
        "session = Session()\n",
        "session.add(instance_of_Medicine)\n",
        "session.add_all(\n",
        "    [instance_of_Medicine]\n",
        ")\n",
        "session.commit()\n",
        "\n",
        "# 当前更改只是在session中，需要使用commit确认更改才会写入数据库\n",
        "session.commit()"
      ],
      "outputs": [],
      "execution_count": null,
      "metadata": {
        "collapsed": false,
        "outputHidden": false,
        "inputHidden": false
      }
    }
  ],
  "metadata": {
    "kernel_info": {
      "name": "conda_env_ai"
    },
    "language_info": {
      "name": "python",
      "version": "3.6.8",
      "mimetype": "text/x-python",
      "codemirror_mode": {
        "name": "ipython",
        "version": 3
      },
      "pygments_lexer": "ipython3",
      "nbconvert_exporter": "python",
      "file_extension": ".py"
    },
    "kernelspec": {
      "name": "conda_env_ai",
      "language": "python",
      "display_name": "conda_env_ai"
    },
    "nteract": {
      "version": "0.15.0"
    }
  },
  "nbformat": 4,
  "nbformat_minor": 0
}