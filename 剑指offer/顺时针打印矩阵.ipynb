{
 "cells": [
  {
   "cell_type": "code",
   "execution_count": 1,
   "metadata": {
    "ExecuteTime": {
     "end_time": "2020-05-21T03:37:08.745869Z",
     "start_time": "2020-05-21T03:37:08.724963Z"
    }
   },
   "outputs": [
    {
     "data": {
      "text/plain": [
       "[8, 7, 6, 5, 4]"
      ]
     },
     "execution_count": 1,
     "metadata": {},
     "output_type": "execute_result"
    }
   ],
   "source": [
    "class Solution:\n",
    "    def spiralOrder(self, matrix: List[List[int]]) -> List[int]:\n",
    "        path = []\n",
    "        row = len(matrix)\n",
    "        if row == 0: return []\n",
    "        col = len(matrix[0])\n",
    "        if col == 0: return []\n",
    "        visited = [ [ 0 for j in range(col)] for i in range(row)]\n",
    "        xs = 0\n",
    "        xe = row-1\n",
    "        ys = 0\n",
    "        ye = col-1\n",
    "        while True:\n",
    "            for j in range(ys, ye+1):\n",
    "                path.append(matrix[xs][j])\n",
    "                print(xs,j)\n",
    "            xs += 1\n",
    "            if xs > xe:\n",
    "                break\n",
    "            print(xs, xe, ys, ye)\n",
    "            for i in range(xs, xe+1):\n",
    "                path.append(matrix[i][ye])\n",
    "                print(i, ye)\n",
    "            ye += -1\n",
    "            if ys > ye:\n",
    "                break\n",
    "            print(xs, xe, ys, ye)\n",
    "            for j in range(ye, ys-1, -1):\n",
    "                path.append(matrix[xe][j])\n",
    "                print(xe,j)\n",
    "            xe += -1\n",
    "            if xs > xe:\n",
    "                break\n",
    "            print(xs, xe, ys, ye)\n",
    "            for i in range(xe, xs-1, -1):\n",
    "                path.append(matrix[i][ys])\n",
    "                print(i,ys)\n",
    "            ys += 1\n",
    "            if ys > ye:\n",
    "                break\n",
    "            print(xs, xe, ys, ye)\n",
    "        return path\n",
    "            \n",
    "\n",
    "\n",
    "            \n"
   ]
  },
  {
   "cell_type": "code",
   "execution_count": null,
   "metadata": {},
   "outputs": [],
   "source": []
  }
 ],
 "metadata": {
  "kernelspec": {
   "display_name": "Python 3",
   "language": "python",
   "name": "python3"
  },
  "language_info": {
   "codemirror_mode": {
    "name": "ipython",
    "version": 3
   },
   "file_extension": ".py",
   "mimetype": "text/x-python",
   "name": "python",
   "nbconvert_exporter": "python",
   "pygments_lexer": "ipython3",
   "version": "3.6.8"
  }
 },
 "nbformat": 4,
 "nbformat_minor": 2
}
