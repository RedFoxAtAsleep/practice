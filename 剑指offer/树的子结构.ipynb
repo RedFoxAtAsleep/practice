{
 "cells": [
  {
   "cell_type": "code",
   "execution_count": null,
   "metadata": {},
   "outputs": [],
   "source": [
    "# Definition for a binary tree node.\n",
    "# class TreeNode:\n",
    "#     def __init__(self, x):\n",
    "#         self.val = x\n",
    "#         self.left = None\n",
    "#         self.right = None\n",
    "\n",
    "class Solution:\n",
    "    def partOverlap(self, A, B):\n",
    "            # B is None\n",
    "            if not B:\n",
    "                return True\n",
    "            # B is not None\n",
    "            if not A or A.val != B.val:\n",
    "                return False\n",
    "            return self.partOverlap(A.left, B.left) and self.partOverlap(A.right, B.right)\n",
    "    def isSubStructure(self, A: TreeNode, B: TreeNode) -> bool:\n",
    "        return bool(A and B) and (self.partOverlap(A, B) or self.isSubStructure(A.left, B) or self.isSubStructure(A.right, B))"
   ]
  }
 ],
 "metadata": {
  "kernelspec": {
   "display_name": "Python 3",
   "language": "python",
   "name": "python3"
  },
  "language_info": {
   "codemirror_mode": {
    "name": "ipython",
    "version": 3
   },
   "file_extension": ".py",
   "mimetype": "text/x-python",
   "name": "python",
   "nbconvert_exporter": "python",
   "pygments_lexer": "ipython3",
   "version": "3.6.8"
  }
 },
 "nbformat": 4,
 "nbformat_minor": 2
}
