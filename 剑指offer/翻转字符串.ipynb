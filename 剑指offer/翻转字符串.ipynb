{
 "cells": [
  {
   "cell_type": "code",
   "execution_count": 21,
   "metadata": {
    "ExecuteTime": {
     "end_time": "2020-06-13T08:51:18.199266Z",
     "start_time": "2020-06-13T08:51:18.190199Z"
    }
   },
   "outputs": [
    {
     "data": {
      "text/plain": [
       "'fsd sd fsf dfs dfsfds'"
      ]
     },
     "execution_count": 21,
     "metadata": {},
     "output_type": "execute_result"
    }
   ],
   "source": [
    "import re\n",
    "class Solution:\n",
    "    def reverseWords(self, s: str) -> str:\n",
    "        s = s.strip()\n",
    "        s =  re.split(r'\\s+', s)\n",
    "        s.reverse() \n",
    "        return \" \".join(s)\n",
    "    \n",
    "si = \"  dfsfds  dfs fsf  sd    fsd  \"\n",
    "s = Solution()\n",
    "s.reverseWords(si)"
   ]
  },
  {
   "cell_type": "code",
   "execution_count": 45,
   "metadata": {
    "ExecuteTime": {
     "end_time": "2020-06-13T14:35:36.637133Z",
     "start_time": "2020-06-13T14:35:36.600714Z"
    },
    "scrolled": true
   },
   "outputs": [
    {
     "name": "stdout",
     "output_type": "stream",
     "text": [
      "1 d 0\n",
      "0 f 0\n",
      "0 s 0\n",
      "0 f 0\n",
      "0 d 0\n",
      "0 s 0\n",
      "0   1\n",
      "1   1\n",
      "1 d 0\n",
      "0 f 0\n",
      "0 s 0\n",
      "0   1\n",
      "1 f 0\n",
      "0 s 0\n",
      "0 f 0\n",
      "0   1\n",
      "1   1\n",
      "1 s 0\n",
      "0 d 0\n",
      "0   1\n",
      "1   1\n",
      "1   1\n",
      "1   1\n",
      "1 f 0\n",
      "0 s 0\n",
      "0 d 0\n"
     ]
    },
    {
     "data": {
      "text/plain": [
       "'fsd sd fsf dfs dfsfds'"
      ]
     },
     "execution_count": 45,
     "metadata": {},
     "output_type": "execute_result"
    }
   ],
   "source": [
    "# 状态转移\n",
    "import re\n",
    "\n",
    "class Solution:\n",
    "    def reverseWords(self, s: str) -> str:\n",
    "        \n",
    "        s = s.strip()\n",
    "        states = ['单词', '空格']\n",
    "        strategies = [re.compile(r'[a-zA-Z]'), re.compile(r'\\s+')]\n",
    "        t = [ \n",
    "            [0 for j in range(len(strategies))] \n",
    "            for i in range(len(states))\n",
    "        ]\n",
    "        t[0][0] = 0\n",
    "        t[0][1] =  1\n",
    "        t[1][0] = 0\n",
    "        t[1][1] = 1\n",
    "        \n",
    "        state = 1\n",
    "        tmp = \"\"\n",
    "        tmps = []\n",
    "        for i in range(len(s)):\n",
    "            for j, strategy in enumerate(strategies):\n",
    "                if strategy.match(s[i]):\n",
    "                    next_state = t[state][j]\n",
    "                    # print(state,s[i], next_state)\n",
    "                    if j == 0:\n",
    "                        tmp = tmp + s[i]\n",
    "                    if state == 0 and next_state == 1:\n",
    "                            tmps = [tmp] + tmps\n",
    "                            tmp = \"\"                        \n",
    "                    state = next_state\n",
    "        tmps = [tmp] + tmps\n",
    "        return \" \".join(tmps)\n",
    "        \n",
    "si = \"  dfsfds  dfs fsf  sd    fsd  \"\n",
    "s = Solution()\n",
    "s.reverseWords(si)\n"
   ]
  },
  {
   "cell_type": "code",
   "execution_count": 70,
   "metadata": {
    "ExecuteTime": {
     "end_time": "2020-06-13T15:04:17.683136Z",
     "start_time": "2020-06-13T15:04:17.672885Z"
    },
    "scrolled": true
   },
   "outputs": [
    {
     "name": "stdout",
     "output_type": "stream",
     "text": [
      "blue is sky the\n",
      "blue is sky the\n",
      "blue is sky the\n",
      "blue is sky the\n"
     ]
    }
   ],
   "source": [
    "# 双指针\n",
    "class Solution:\n",
    "    def reverseWords(self, s: str) -> str:\n",
    "        \n",
    "        s = s + \" \"\n",
    "        tmp = \"\"\n",
    "        tmps = []\n",
    "        left = 0\n",
    "        right = 0\n",
    "        for i in range(len(s)):\n",
    "            if s[i] != \" \" and s[i-1] == \" \":\n",
    "                left = i\n",
    "            if s[i] == \" \" and s[i-1] != \" \":\n",
    "                right = i\n",
    "                tmps = [s[left:right]] + tmps\n",
    "        return \" \".join(tmps)\n",
    "         \n",
    "si = \"the sky is blue\"\n",
    "s = Solution()\n",
    "print(s.reverseWords(si))\n",
    "\n",
    "si = \" the sky is blue\"\n",
    "s = Solution()\n",
    "print(s.reverseWords(si))\n",
    "\n",
    "si = \"the sky is blue \"\n",
    "s = Solution()\n",
    "print(s.reverseWords(si))\n",
    "                \n",
    "si = \" the sky is blue \"\n",
    "s = Solution()\n",
    "print(s.reverseWords(si))"
   ]
  },
  {
   "cell_type": "code",
   "execution_count": 26,
   "metadata": {
    "ExecuteTime": {
     "end_time": "2020-06-13T08:57:38.520013Z",
     "start_time": "2020-06-13T08:57:38.516112Z"
    }
   },
   "outputs": [],
   "source": [
    "a = re.compile(r'[a-zA-Z]')\n",
    "b = re.compile(r'\\s+')\n"
   ]
  },
  {
   "cell_type": "code",
   "execution_count": 28,
   "metadata": {
    "ExecuteTime": {
     "end_time": "2020-06-13T08:57:44.169763Z",
     "start_time": "2020-06-13T08:57:44.162769Z"
    }
   },
   "outputs": [
    {
     "data": {
      "text/plain": [
       "<_sre.SRE_Match object; span=(0, 1), match='a'>"
      ]
     },
     "execution_count": 28,
     "metadata": {},
     "output_type": "execute_result"
    }
   ],
   "source": [
    "a.match('a')"
   ]
  },
  {
   "cell_type": "code",
   "execution_count": 46,
   "metadata": {
    "ExecuteTime": {
     "end_time": "2020-06-13T14:42:25.166672Z",
     "start_time": "2020-06-13T14:42:25.159452Z"
    }
   },
   "outputs": [
    {
     "data": {
      "text/plain": [
       "['dfs', 'fd', 's', 'dfs', 'fsf', 'sd', 'fsd']"
      ]
     },
     "execution_count": 46,
     "metadata": {},
     "output_type": "execute_result"
    }
   ],
   "source": [
    "\"  dfs fd s  dfs fsf  sd    fsd  \".split()"
   ]
  },
  {
   "cell_type": "code",
   "execution_count": null,
   "metadata": {},
   "outputs": [],
   "source": []
  }
 ],
 "metadata": {
  "kernelspec": {
   "display_name": "Python [conda env:ai] *",
   "language": "python",
   "name": "conda-env-ai-py"
  },
  "language_info": {
   "codemirror_mode": {
    "name": "ipython",
    "version": 3
   },
   "file_extension": ".py",
   "mimetype": "text/x-python",
   "name": "python",
   "nbconvert_exporter": "python",
   "pygments_lexer": "ipython3",
   "version": "3.6.8"
  }
 },
 "nbformat": 4,
 "nbformat_minor": 4
}
