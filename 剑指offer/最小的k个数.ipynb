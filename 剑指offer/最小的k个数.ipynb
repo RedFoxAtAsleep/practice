{
 "cells": [
  {
   "cell_type": "code",
   "execution_count": 21,
   "metadata": {
    "ExecuteTime": {
     "end_time": "2020-06-08T07:07:38.915546Z",
     "start_time": "2020-06-08T07:07:38.860715Z"
    }
   },
   "outputs": [
    {
     "name": "stdout",
     "output_type": "stream",
     "text": [
      "[1, 3, 5, 5, 7, 9]\n",
      "[1, 3, 5]\n"
     ]
    }
   ],
   "source": [
    "import heapq \n",
    "class Solution:\n",
    "    def partition(self, arr):\n",
    "        if len(arr) <= 1:\n",
    "            print(\"Cannot be parted!\")\n",
    "            return arr\n",
    "        border = pivot = left = 0\n",
    "        right = len(arr) - 1\n",
    "        pointer = border + 1\n",
    "        while pointer <= right:\n",
    "            if arr[pointer] < arr[pivot]:\n",
    "                arr[border], arr[pointer] = arr[pointer], arr[border]\n",
    "                border += 1\n",
    "            pointer += 1\n",
    "        return arr, border\n",
    "    \n",
    "    def quick_sort(self, arr):\n",
    "        # 如果传入left和right是为了实现inplace，避免原列表切片产生新的数组，直接传入数组则比较方便\n",
    "        # 以端点为pivot简洁明了\n",
    "        if len(arr) <= 1:\n",
    "            return arr\n",
    "        arr, border = self.partition(arr)\n",
    "        return self.quick_sort(arr[0:border]) + self.quick_sort(arr[border:])\n",
    "        \n",
    "    def bottomK(self, arr, k):\n",
    "        tmp = arr.copy()\n",
    "        bottom = []\n",
    "        while len(bottom) < k:\n",
    "            tmp, border = self.partition(tmp)\n",
    "            bottom += tmp[:border]\n",
    "            tmp = tmp[border:]\n",
    "        return bottom[:k]\n",
    "    \n",
    "    def bottomK(self, arr, k):\n",
    "        return heapq.nsmallest(k, arr)\n",
    "\n",
    "arr = [5,3,7,5,9,1]\n",
    "s = Solution()\n",
    "print(\n",
    "    s.quick_sort(arr.copy()),\n",
    "    s.bottomK(arr.copy(), 3),\n",
    "    sep='\\n'\n",
    ")\n"
   ]
  },
  {
   "cell_type": "markdown",
   "metadata": {},
   "source": [
    "The latter two functions perform best for smaller values of n. \n",
    "* heapq.nlargest(n, iterable[, key])\n",
    "* heapq.nsmallest(n, iterable[, key])\n",
    "\n",
    "For larger values, it is more efficient to use the sorted() function. \n",
    "Also, when n==1, it is more efficient to use the built-in min() and max() functions. \n",
    "If repeated usage of these functions is required, consider turning the iterable into an actual heap."
   ]
  },
  {
   "cell_type": "code",
   "execution_count": null,
   "metadata": {},
   "outputs": [],
   "source": []
  }
 ],
 "metadata": {
  "kernelspec": {
   "display_name": "Python 3",
   "language": "python",
   "name": "python3"
  },
  "language_info": {
   "codemirror_mode": {
    "name": "ipython",
    "version": 3
   },
   "file_extension": ".py",
   "mimetype": "text/x-python",
   "name": "python",
   "nbconvert_exporter": "python",
   "pygments_lexer": "ipython3",
   "version": "3.6.8"
  }
 },
 "nbformat": 4,
 "nbformat_minor": 2
}
