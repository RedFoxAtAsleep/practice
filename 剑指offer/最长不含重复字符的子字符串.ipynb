{
 "cells": [
  {
   "cell_type": "code",
   "execution_count": 2,
   "metadata": {
    "ExecuteTime": {
     "end_time": "2020-06-09T03:18:24.868888Z",
     "start_time": "2020-06-09T03:18:24.855566Z"
    }
   },
   "outputs": [
    {
     "data": {
      "text/plain": [
       "3"
      ]
     },
     "execution_count": 2,
     "metadata": {},
     "output_type": "execute_result"
    }
   ],
   "source": [
    "# 以某索引结尾的字符串长度\n",
    "# 某字符在不同的索引出现\n",
    "\n",
    "from collections import defaultdict\n",
    "class Solution:\n",
    "    def lengthOfLongestSubstring(self, s: str) -> int:\n",
    "        pointer = defaultdict(lambda:-1)\n",
    "        length = defaultdict(lambda:0)\n",
    "        r = 0\n",
    "        for i in range(len(s)):\n",
    "            \n",
    "            length[i] = min(\n",
    "                length[i-1] + 1, \n",
    "                i - pointer[s[i]]\n",
    "            )  \n",
    "            pointer[s[i]] = i\n",
    "            r = length[i] if length[i] > r else r\n",
    "        return r\n",
    "s = Solution()\n",
    "s.lengthOfLongestSubstring(\"abcabcbb\")"
   ]
  },
  {
   "cell_type": "code",
   "execution_count": null,
   "metadata": {},
   "outputs": [],
   "source": []
  }
 ],
 "metadata": {
  "kernelspec": {
   "display_name": "conda_env_ai",
   "language": "python",
   "name": "conda_env_ai"
  },
  "language_info": {
   "codemirror_mode": {
    "name": "ipython",
    "version": 3
   },
   "file_extension": ".py",
   "mimetype": "text/x-python",
   "name": "python",
   "nbconvert_exporter": "python",
   "pygments_lexer": "ipython3",
   "version": "3.6.8"
  }
 },
 "nbformat": 4,
 "nbformat_minor": 2
}
