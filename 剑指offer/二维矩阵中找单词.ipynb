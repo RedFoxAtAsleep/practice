{
  "cells": [
    {
      "cell_type": "code",
      "source": [
        "from functools import lru_cache\n",
        "\n",
        "class Solution:\n",
        "    def exist(self, board, word):\n",
        "        @lru_cache()\n",
        "        def dfs(i,j,ichar):\n",
        "            if i < 0 or i >= row or j < 0 or j >= col or board[i][j] != word[ichar] or by[i][j] == 1:\n",
        "                return False\n",
        "            if ichar == len(word)-1 and board[i][j] == word[ichar]:\n",
        "                return True\n",
        "            by[i][j] = 1\n",
        "            r1 = dfs(i+1,j,ichar+1)\n",
        "            r2 = dfs(i-1,j,ichar+1)\n",
        "            r3 = dfs(i,j+1,ichar+1)\n",
        "            r4 = dfs(i,j-1,ichar+1)\n",
        "            res = r1 or r2 or r3 or r4\n",
        "            if not res:\n",
        "                by[i][j] = 0\n",
        "            return res\n",
        "\n",
        "        row = len(board)\n",
        "        col = len(board[0])\n",
        "        for i in range(row):\n",
        "            for j in range(col):\n",
        "                by = [[ 0 for j in range(col)] for i in range(row)]\n",
        "                if dfs(i,j,0):\n",
        "                    return True\n",
        "        return False\n",
        "    \n",
        "s = Solution()\n",
        "s.exist([[\"A\",\"B\",\"C\",\"E\"],[\"S\",\"F\",\"E\",\"S\"],[\"A\",\"D\",\"E\",\"E\"]],\n",
        "\"ABCESEEEFS\")"
      ],
      "outputs": [
        {
          "output_type": "stream",
          "name": "stdout",
          "text": [
            "0 0 A\n",
            "0 1 B\n",
            "0 2 C\n",
            "1 2 E\n",
            "1 3 S\n",
            "2 3 E\n",
            "2 2 E\n",
            "1 2 E\n",
            "1 1 F\n",
            "1 0 S\n",
            "2 3 E\n",
            "0 3 E\n"
          ]
        },
        {
          "output_type": "execute_result",
          "execution_count": 7,
          "data": {
            "text/plain": [
              "True"
            ]
          },
          "metadata": {}
        }
      ],
      "execution_count": 7,
      "metadata": {
        "collapsed": false,
        "outputHidden": false,
        "inputHidden": false
      }
    },
    {
      "cell_type": "code",
      "source": [],
      "outputs": [],
      "execution_count": 3,
      "metadata": {
        "collapsed": false,
        "outputHidden": false,
        "inputHidden": false
      }
    },
    {
      "cell_type": "code",
      "source": [],
      "outputs": [],
      "execution_count": null,
      "metadata": {
        "collapsed": false,
        "outputHidden": false,
        "inputHidden": false
      }
    },
    {
      "cell_type": "code",
      "source": [],
      "outputs": [],
      "execution_count": null,
      "metadata": {
        "collapsed": false,
        "outputHidden": false,
        "inputHidden": false
      }
    },
    {
      "cell_type": "code",
      "source": [],
      "outputs": [],
      "execution_count": null,
      "metadata": {
        "collapsed": false,
        "outputHidden": false,
        "inputHidden": false
      }
    }
  ],
  "metadata": {
    "kernel_info": {
      "name": "python3"
    },
    "language_info": {
      "name": "python",
      "version": "3.6.8",
      "mimetype": "text/x-python",
      "codemirror_mode": {
        "name": "ipython",
        "version": 3
      },
      "pygments_lexer": "ipython3",
      "nbconvert_exporter": "python",
      "file_extension": ".py"
    },
    "kernelspec": {
      "name": "python3",
      "language": "python",
      "display_name": "Python 3"
    },
    "nteract": {
      "version": "0.15.0"
    }
  },
  "nbformat": 4,
  "nbformat_minor": 0
}