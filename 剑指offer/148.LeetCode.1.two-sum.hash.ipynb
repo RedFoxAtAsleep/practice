{
 "cells": [
  {
   "cell_type": "code",
   "execution_count": 13,
   "metadata": {
    "ExecuteTime": {
     "end_time": "2020-06-29T02:32:05.434994Z",
     "start_time": "2020-06-29T02:32:05.416166Z"
    }
   },
   "outputs": [
    {
     "data": {
      "text/plain": [
       "(1, 2)"
      ]
     },
     "execution_count": 13,
     "metadata": {},
     "output_type": "execute_result"
    }
   ],
   "source": [
    "from collections import defaultdict\n",
    "class Solution:\n",
    "    def twoSum(self , numbers , target ):\n",
    "        v2i = defaultdict(lambda:-1)\n",
    "        for i, num in enumerate(numbers):\n",
    "            v2i[num] = i\n",
    "            j = v2i[target-num]\n",
    "            if j > -1 and j < i:\n",
    "                return v2i[target-num], i\n",
    "               \n",
    "s = Solution()\n",
    "s.twoSum([3,2,4,3], 6)\n"
   ]
  },
  {
   "cell_type": "code",
   "execution_count": null,
   "metadata": {},
   "outputs": [],
   "source": []
  }
 ],
 "metadata": {
  "kernelspec": {
   "display_name": "tool",
   "language": "python",
   "name": "tool"
  },
  "language_info": {
   "codemirror_mode": {
    "name": "ipython",
    "version": 3
   },
   "file_extension": ".py",
   "mimetype": "text/x-python",
   "name": "python",
   "nbconvert_exporter": "python",
   "pygments_lexer": "ipython3",
   "version": "3.7.6"
  }
 },
 "nbformat": 4,
 "nbformat_minor": 4
}
