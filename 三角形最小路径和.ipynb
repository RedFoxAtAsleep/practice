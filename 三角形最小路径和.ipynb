{
 "cells": [
  {
   "cell_type": "code",
   "execution_count": 7,
   "metadata": {},
   "outputs": [
    {
     "name": "stdout",
     "output_type": "stream",
     "text": [
      "11\n"
     ]
    }
   ],
   "source": [
    "from typing import List\n",
    "from functools import lru_cache\n",
    "class Solution:\n",
    "    def minimumTotal(self, triangle: List[List[int]]) -> int:\n",
    "        nrow = len(triangle)\n",
    "        \n",
    "        @lru_cache()\n",
    "        def recursion(i,j):\n",
    "            if i >= nrow:\n",
    "                return 0\n",
    "            return triangle[i][j] + min(recursion(i+1, j), recursion(i+1, j+1))\n",
    "        return recursion(0,0)\n",
    "s = Solution()\n",
    "tri = [[2],[3,4],[6,5,7],[4,1,8,3]]  # 2 + 3 + 5 + 1 = 11\n",
    "s = s.minimumTotal(tri)\n",
    "print(s)"
   ]
  },
  {
   "cell_type": "code",
   "execution_count": 12,
   "metadata": {},
   "outputs": [
    {
     "name": "stdout",
     "output_type": "stream",
     "text": [
      "11\n"
     ]
    }
   ],
   "source": [
    "from typing import List\n",
    "from functools import lru_cache\n",
    "class Solution:\n",
    "    def minimumTotal(self, triangle: List[List[int]]) -> int:\n",
    "        nrow = len(triangle)\n",
    "        if nrow == 0:\n",
    "            return 0\n",
    "        if nrow == 1:\n",
    "            return triangle[0][0]\n",
    "        i = nrow - 2  # -n + length\n",
    "#         while i >= 0:\n",
    "#             # 0 <= j <= i\n",
    "#             for j in range(i+1):\n",
    "#                 triangle[i][j] += min(triangle[i+1][j], triangle[i+1][j+1])\n",
    "#             i -= 1\n",
    "        for i in range(i, -1, -1):\n",
    "            for j in range(i+1):\n",
    "                triangle[i][j] += min(triangle[i+1][j], triangle[i+1][j+1])\n",
    "        return triangle[0][0]\n",
    "\n",
    "s = Solution()\n",
    "tri = [[2],[3,4],[6,5,7],[4,1,8,3]]  # 2 + 3 + 5 + 1 = 11\n",
    "s = s.minimumTotal(tri)\n",
    "print(s)"
   ]
  },
  {
   "cell_type": "code",
   "execution_count": null,
   "metadata": {},
   "outputs": [],
   "source": [
    "class Solution:\n",
    "    def minimumTotal(self, triangle: List[List[int]]) -> int:\n",
    "        for r in range(len(triangle)-2,-1,-1):\n",
    "            for c in range(len(triangle[r])):\n",
    "                triangle[r][c]+=min(triangle[r+1][c:c+2])\n",
    "        return triangle[0][0]\n"
   ]
  }
 ],
 "metadata": {
  "kernelspec": {
   "display_name": "Python 3",
   "language": "python",
   "name": "python3"
  },
  "language_info": {
   "codemirror_mode": {
    "name": "ipython",
    "version": 3
   },
   "file_extension": ".py",
   "mimetype": "text/x-python",
   "name": "python",
   "nbconvert_exporter": "python",
   "pygments_lexer": "ipython3",
   "version": "3.7.7"
  },
  "latex_envs": {
   "LaTeX_envs_menu_present": true,
   "autoclose": false,
   "autocomplete": true,
   "bibliofile": "biblio.bib",
   "cite_by": "apalike",
   "current_citInitial": 1,
   "eqLabelWithNumbers": true,
   "eqNumInitial": 1,
   "hotkeys": {
    "equation": "Ctrl-E",
    "itemize": "Ctrl-I"
   },
   "labels_anchors": false,
   "latex_user_defs": false,
   "report_style_numbering": false,
   "user_envs_cfg": false
  },
  "toc": {
   "base_numbering": 1,
   "nav_menu": {},
   "number_sections": true,
   "sideBar": true,
   "skip_h1_title": false,
   "title_cell": "Table of Contents",
   "title_sidebar": "Contents",
   "toc_cell": false,
   "toc_position": {},
   "toc_section_display": true,
   "toc_window_display": false
  },
  "varInspector": {
   "cols": {
    "lenName": 16,
    "lenType": 16,
    "lenVar": 40
   },
   "kernels_config": {
    "python": {
     "delete_cmd_postfix": "",
     "delete_cmd_prefix": "del ",
     "library": "var_list.py",
     "varRefreshCmd": "print(var_dic_list())"
    },
    "r": {
     "delete_cmd_postfix": ") ",
     "delete_cmd_prefix": "rm(",
     "library": "var_list.r",
     "varRefreshCmd": "cat(var_dic_list()) "
    }
   },
   "types_to_exclude": [
    "module",
    "function",
    "builtin_function_or_method",
    "instance",
    "_Feature"
   ],
   "window_display": false
  }
 },
 "nbformat": 4,
 "nbformat_minor": 2
}
