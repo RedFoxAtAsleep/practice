{
 "cells": [
  {
   "cell_type": "code",
   "execution_count": 17,
   "metadata": {},
   "outputs": [],
   "source": [
    "# Definition for singly-linked list.\n",
    "class ListNode:\n",
    "    def __init__(self, x):\n",
    "        self.val = x\n",
    "        self.next = None\n",
    "    def __repr__(self):\n",
    "        return str(self.val)\n",
    "\n",
    "\n",
    "class Solution:\n",
    "    def addTwoNumbers(self, l1: ListNode, l2: ListNode) -> ListNode:\n",
    "        tail = None\n",
    "        head = None\n",
    "        pre = None\n",
    "        overflow = 0\n",
    "        a = []\n",
    "        while l1 and l2:\n",
    "            tail = ListNode((overflow + l1.val + l2.val) % 10)\n",
    "            overflow = (overflow + l1.val + l2.val) // 10\n",
    "            if pre:\n",
    "                pre.next = tail\n",
    "            if head is None:\n",
    "                head = tail\n",
    "            pre = tail\n",
    "            l1 = l1.next\n",
    "            l2 = l2.next\n",
    "\n",
    "        while l1:\n",
    "            tail = ListNode((overflow + l1.val) % 10)\n",
    "            overflow = (overflow + l1.val) // 10\n",
    "            if pre:\n",
    "                pre.next = tail\n",
    "            if head is None:\n",
    "                head = tail\n",
    "            pre = tail\n",
    "            l1 = l1.next\n",
    "            \n",
    "        while l2:\n",
    "            tail = ListNode((overflow + l2.val) % 10)\n",
    "            overflow = (overflow + l2.val) // 10\n",
    "            if pre:\n",
    "                pre.next = tail\n",
    "            if head is None:\n",
    "                head = tail\n",
    "            pre = tail\n",
    "            l2 = l2.next\n",
    "        \n",
    "        if overflow > 0:\n",
    "            tail = ListNode(overflow % 10)\n",
    "            pre.next = tail\n",
    "        \n",
    "        return head\n",
    "\n",
    "# l1 = [5]\n",
    "# l2 = [5]\n",
    "\n",
    "# l1 = [1]\n",
    "# l2 = [9,9]\n",
    "\n",
    "def nums2link(nums):\n",
    "    if len(nums) == 0:\n",
    "        return None\n",
    "    head = cur = ListNode(nums[0])\n",
    "    for val in nums[1:]:\n",
    "        cur.next = ListNode(val)\n",
    "        cur = cur.next\n",
    "    return head\n",
    "l1 = nums2link([1])\n",
    "l2 = nums2link([9, 9])\n",
    "s = Solution()\n",
    "l = s.addTwoNumbers(l1, l2)\n",
    "\n",
    "\n",
    "    "
   ]
  },
  {
   "cell_type": "code",
   "execution_count": 18,
   "metadata": {},
   "outputs": [],
   "source": [
    "# Definition for singly-linked list.\n",
    "class ListNode:\n",
    "    def __init__(self, x):\n",
    "        self.val = x\n",
    "        self.next = None\n",
    "\n",
    "class Solution:\n",
    "    def addTwoNumbers(self, l1: ListNode, l2: ListNode) -> ListNode:\n",
    "        res = ListNode(10086)\n",
    "        move = res\n",
    "        carry = 0\n",
    "        while l1 != None or l2 != None:\n",
    "            if l1 == None:\n",
    "                l1, l2 = l2, l1\n",
    "            if l2 != None:\n",
    "                carry, l1.val = divmod((l1.val + l2.val + carry), 10)\n",
    "                move.next = l1\n",
    "                l1, l2, move = l1.next, l2.next, move.next\n",
    "            else:\n",
    "                carry, l1.val = divmod((l1.val + carry), 10)\n",
    "                move.next = l1\n",
    "                l1, move = l1. next, move.next\n",
    "        if carry == 1:\n",
    "            move.next = ListNode(carry)\n",
    "        return res.next\n",
    "    "
   ]
  },
  {
   "cell_type": "code",
   "execution_count": null,
   "metadata": {},
   "outputs": [],
   "source": []
  }
 ],
 "metadata": {
  "kernelspec": {
   "display_name": "Python 3",
   "language": "python",
   "name": "python3"
  },
  "language_info": {
   "codemirror_mode": {
    "name": "ipython",
    "version": 3
   },
   "file_extension": ".py",
   "mimetype": "text/x-python",
   "name": "python",
   "nbconvert_exporter": "python",
   "pygments_lexer": "ipython3",
   "version": "3.7.7"
  },
  "latex_envs": {
   "LaTeX_envs_menu_present": true,
   "autoclose": false,
   "autocomplete": true,
   "bibliofile": "biblio.bib",
   "cite_by": "apalike",
   "current_citInitial": 1,
   "eqLabelWithNumbers": true,
   "eqNumInitial": 1,
   "hotkeys": {
    "equation": "Ctrl-E",
    "itemize": "Ctrl-I"
   },
   "labels_anchors": false,
   "latex_user_defs": false,
   "report_style_numbering": false,
   "user_envs_cfg": false
  },
  "toc": {
   "base_numbering": 1,
   "nav_menu": {},
   "number_sections": true,
   "sideBar": true,
   "skip_h1_title": false,
   "title_cell": "Table of Contents",
   "title_sidebar": "Contents",
   "toc_cell": false,
   "toc_position": {},
   "toc_section_display": true,
   "toc_window_display": false
  },
  "varInspector": {
   "cols": {
    "lenName": 16,
    "lenType": 16,
    "lenVar": 40
   },
   "kernels_config": {
    "python": {
     "delete_cmd_postfix": "",
     "delete_cmd_prefix": "del ",
     "library": "var_list.py",
     "varRefreshCmd": "print(var_dic_list())"
    },
    "r": {
     "delete_cmd_postfix": ") ",
     "delete_cmd_prefix": "rm(",
     "library": "var_list.r",
     "varRefreshCmd": "cat(var_dic_list()) "
    }
   },
   "types_to_exclude": [
    "module",
    "function",
    "builtin_function_or_method",
    "instance",
    "_Feature"
   ],
   "window_display": false
  }
 },
 "nbformat": 4,
 "nbformat_minor": 2
}
