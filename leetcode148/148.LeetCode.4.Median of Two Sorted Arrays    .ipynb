{
 "cells": [
  {
   "cell_type": "code",
   "execution_count": null,
   "metadata": {},
   "outputs": [],
   "source": [
    "# 线性和二分"
   ]
  },
  {
   "cell_type": "code",
   "execution_count": 4,
   "metadata": {
    "scrolled": true
   },
   "outputs": [
    {
     "name": "stdout",
     "output_type": "stream",
     "text": [
      "1.0\n",
      "1.0\n"
     ]
    }
   ],
   "source": [
    "from typing import List\n",
    "\n",
    "class Solution:\n",
    "    def findMedianSortedArrays(self, nums1: List[int], nums2: List[int]) -> float:\n",
    "        \n",
    "        \n",
    "        def middle(n):\n",
    "            # right, left表示偏移量\n",
    "            right = n // 2\n",
    "            left = n // 2 - (n+1) % 2  \n",
    "            return left,right\n",
    "        \n",
    "        m = len(nums1)\n",
    "        n = len(nums2)\n",
    "        if m+n == 0:\n",
    "            return None\n",
    "        if m+n <= 2:\n",
    "            return sum(nums1+nums2)/(m+n)\n",
    "        \n",
    "        # 明确长短\n",
    "        if m > n:\n",
    "            nums1,m,nums2,n = nums2,n,nums1,m\n",
    "        left, right = middle(m+n)\n",
    "        \n",
    "        # i,j,left,right, m_left都表示偏移量\n",
    "        k = left\n",
    "        i = 0\n",
    "        j = 0\n",
    "        # 明确长短，i < m\n",
    "        \n",
    "        # 当短数组很短，短数组可能尽在中位数以左\n",
    "        while k > 1 and i < m:     \n",
    "            tmp = k // 2\n",
    "            m_left = m - i if i + tmp > m else tmp\n",
    "            n_left = k - m_left\n",
    "            # k = k // 2 + k % 2，k == 1或0时会陷入死循环\n",
    "            \n",
    "            if nums1[i + m_left - 1] >= nums2[j + n_left - 1]:\n",
    "                j = j + n_left\n",
    "                k = k - n_left\n",
    "            else:\n",
    "                i = i + m_left\n",
    "                k = k - m_left\n",
    "        \n",
    "        # 当短数组和长数组长度相近，短数组和长数组此时谁更容易指针越界不一定\n",
    "        mins = []\n",
    "        if k <= 1:\n",
    "            # 获取至多三个最小的数，第一个是中位数左边的数\n",
    "            while i < m and j < n and len(mins) < 3:\n",
    "                if nums1[i] < nums2[j]:\n",
    "                    if i < m:\n",
    "                        mins.append(nums1[i])\n",
    "                        i += 1\n",
    "                else: \n",
    "                    if j < n:\n",
    "                        mins.append(nums2[j])\n",
    "                        j += 1\n",
    "            while i < m and len(mins) < 3:\n",
    "                mins.append(nums1[i])\n",
    "                i += 1\n",
    "            while j < n and len(mins) < 3:\n",
    "                mins.append(nums2[j])\n",
    "                j += 1\n",
    "            return (mins[1] + mins[1+right-left]) / 2\n",
    "        \n",
    "\n",
    "        # i == m，k值不确定\n",
    "        if i == m:\n",
    "            return (nums2[j + k] + nums2[j + k + right - left]) / 2\n",
    "    \n",
    "s = Solution()\n",
    "# r = s.findMedianSortedArrays([0,0],[0,0])\n",
    "# print(r)\n",
    "# r = s.findMedianSortedArrays([1,2],[3,4])\n",
    "# print(r)\n",
    "# r = s.findMedianSortedArrays([1,3],[2])\n",
    "# print(r)\n",
    "r = s.findMedianSortedArrays([],[1])\n",
    "print(r)\n",
    "r = s.findMedianSortedArrays([1],[1])\n",
    "print(r)"
   ]
  },
  {
   "cell_type": "code",
   "execution_count": 10,
   "metadata": {},
   "outputs": [
    {
     "data": {
      "text/plain": [
       "((0, 0), (0, 1), (1, 1))"
      ]
     },
     "execution_count": 10,
     "metadata": {},
     "output_type": "execute_result"
    }
   ],
   "source": [
    "def middle(n):\n",
    "    # right, left表示偏移量\n",
    "    right = n // 2\n",
    "    left = n // 2 - (n+1) % 2  \n",
    "    return left,right\n",
    "\n",
    "middle(1), middle(2),middle(3)\n"
   ]
  },
  {
   "cell_type": "code",
   "execution_count": 3,
   "metadata": {},
   "outputs": [],
   "source": [
    "from typing import List\n",
    "\n",
    "class Solution:\n",
    "    def findMedianSortedArrays(self, nums1: List[int], nums2: List[int]) -> float:\n",
    "        n1=len(nums2)\n",
    "        n2=len(nums1)\n",
    "        k1=(n1+n2+1)//2\n",
    "        k2=(n1+n2+2)//2\n",
    "        def findmink(nums1,nums2,k):\n",
    "            if len(nums1)<len(nums2):\n",
    "                nums1,nums2=nums2,nums1\n",
    "            if len(nums2)==0:\n",
    "                return nums1[k-1]\n",
    "            if(k==1):\n",
    "                return min(nums1[0],nums2[0])  #找最小数，比较数组首位\n",
    "            t = min(k//2,len(nums2))\n",
    "            if nums1[t-1]<=nums2[t-1]:\n",
    "                return findmink(nums1[t:],nums2,k-t)\n",
    "            elif nums2[t-1]<nums1[t-1]:\n",
    "                return findmink(nums1,nums2[t:],k-t)\n",
    "\n",
    "        return (findmink(nums1,nums2,k1)+findmink(nums1,nums2,k2))/2\n",
    "    "
   ]
  },
  {
   "cell_type": "code",
   "execution_count": 2,
   "metadata": {},
   "outputs": [
    {
     "name": "stdout",
     "output_type": "stream",
     "text": [
      "0.0\n",
      "2.5\n",
      "2.0\n",
      "1.0\n",
      "1.0\n"
     ]
    }
   ],
   "source": [
    "from typing import List\n",
    "\n",
    "class Solution:\n",
    "    def findMedianSortedArrays(self, nums1: List[int], nums2: List[int]) -> float:\n",
    "        \n",
    "        def middle(n):\n",
    "            # right, left表示偏移量\n",
    "            right = n // 2\n",
    "            left = n // 2 - (n+1) % 2  \n",
    "            return left,right\n",
    "\n",
    "        \n",
    "        def find_right_gte(nums1, nums2, k):\n",
    "            n1 = len(nums1)\n",
    "            n2 = len(nums2)\n",
    "            if n1 > n2:\n",
    "                n1, n2, nums1, nums2 = n2, n1, nums2, nums1\n",
    "            \n",
    "            if n1 == 0:\n",
    "                return nums2[k]\n",
    "            \n",
    "#             if k == 0:\n",
    "#                 return nums1[0] if nums1[0] < nums2[0] else nums2[0]\n",
    "            \n",
    "#             if k == 1:\n",
    "#                 if nums1[0] < nums2[0]:\n",
    "#                     find_right_gte(nums1[1:],nums2, 0)\n",
    "#                 else:\n",
    "#                     find_right_gte(nums1, nums2[1:], 0)\n",
    "\n",
    "            if k == 1:\n",
    "                if nums1[0] < nums2[0]:\n",
    "                    return find_right_gte(nums1[1:], nums2, 0)\n",
    "                else:\n",
    "                    return find_right_gte(nums1, nums2[1:], 0)\n",
    "\n",
    "            if k == 0:\n",
    "                if nums1[0] < nums2[0]:\n",
    "                    return nums1[0]\n",
    "                else:\n",
    "                    return nums2[0]\n",
    "\n",
    "            tmp = k // 2\n",
    "            n1_left = n1 if tmp > n1 else tmp\n",
    "            n2_left = k - n1_left\n",
    "            \n",
    "            if nums1[n1_left-1] >= nums2[n2_left-1]:\n",
    "                return find_right_gte(nums1, nums2[n2_left:], n1_left)\n",
    "            else:\n",
    "                return find_right_gte(nums1[n1_left:], nums2, n2_left)\n",
    "        \n",
    "        n1 = len(nums1)\n",
    "        n2 = len(nums2)\n",
    "        left, right = middle(n1+n2)\n",
    "        return (find_right_gte(nums1,nums2,left) + find_right_gte(nums1,nums2, right))/2\n",
    "\n",
    "s = Solution()\n",
    "r = s.findMedianSortedArrays([0,0],[0,0])\n",
    "print(r)\n",
    "r = s.findMedianSortedArrays([1,2],[3,4])\n",
    "print(r)\n",
    "r = s.findMedianSortedArrays([1,3],[2])\n",
    "print(r)\n",
    "r = s.findMedianSortedArrays([],[1])\n",
    "print(r)\n",
    "r = s.findMedianSortedArrays([1],[1])\n",
    "print(r)"
   ]
  },
  {
   "cell_type": "code",
   "execution_count": null,
   "metadata": {},
   "outputs": [],
   "source": [
    "\n",
    "\n"
   ]
  },
  {
   "cell_type": "code",
   "execution_count": null,
   "metadata": {},
   "outputs": [],
   "source": []
  }
 ],
 "metadata": {
  "kernelspec": {
   "display_name": "Python 3",
   "language": "python",
   "name": "python3"
  },
  "language_info": {
   "codemirror_mode": {
    "name": "ipython",
    "version": 3
   },
   "file_extension": ".py",
   "mimetype": "text/x-python",
   "name": "python",
   "nbconvert_exporter": "python",
   "pygments_lexer": "ipython3",
   "version": "3.7.7"
  },
  "latex_envs": {
   "LaTeX_envs_menu_present": true,
   "autoclose": false,
   "autocomplete": true,
   "bibliofile": "biblio.bib",
   "cite_by": "apalike",
   "current_citInitial": 1,
   "eqLabelWithNumbers": true,
   "eqNumInitial": 1,
   "hotkeys": {
    "equation": "Ctrl-E",
    "itemize": "Ctrl-I"
   },
   "labels_anchors": false,
   "latex_user_defs": false,
   "report_style_numbering": false,
   "user_envs_cfg": false
  },
  "toc": {
   "base_numbering": 1,
   "nav_menu": {},
   "number_sections": true,
   "sideBar": true,
   "skip_h1_title": false,
   "title_cell": "Table of Contents",
   "title_sidebar": "Contents",
   "toc_cell": false,
   "toc_position": {},
   "toc_section_display": true,
   "toc_window_display": false
  },
  "varInspector": {
   "cols": {
    "lenName": 16,
    "lenType": 16,
    "lenVar": 40
   },
   "kernels_config": {
    "python": {
     "delete_cmd_postfix": "",
     "delete_cmd_prefix": "del ",
     "library": "var_list.py",
     "varRefreshCmd": "print(var_dic_list())"
    },
    "r": {
     "delete_cmd_postfix": ") ",
     "delete_cmd_prefix": "rm(",
     "library": "var_list.r",
     "varRefreshCmd": "cat(var_dic_list()) "
    }
   },
   "types_to_exclude": [
    "module",
    "function",
    "builtin_function_or_method",
    "instance",
    "_Feature"
   ],
   "window_display": false
  }
 },
 "nbformat": 4,
 "nbformat_minor": 2
}
