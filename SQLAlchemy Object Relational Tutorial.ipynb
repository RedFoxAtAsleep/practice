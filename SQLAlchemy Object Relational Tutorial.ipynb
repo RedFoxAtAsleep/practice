{
 "cells": [
  {
   "cell_type": "markdown",
   "metadata": {},
   "source": [
    "\n",
    "### SQLAlchemy Object Relational Tutorial\n",
    "\n",
    "The `ORM` is constructed upon `SQLAlchemy Expression Language`.\n",
    "The `ORM` is in contrast to the `SQLAlchemy Expression Language`.\n",
    "\n",
    "* associating user-defined Python `classes` with database `tables`\n",
    "* associating `instances` of those classes (objects) with `rows` in their corresponding tables\n",
    "\n",
    "orm: metadata/engine/session\n",
    "\n",
    "\n"
   ]
  },
  {
   "cell_type": "markdown",
   "metadata": {},
   "source": [
    "engine = create_engine('sqlite:///:memory:')\n",
    "\n",
    "meta = MetaData()\n",
    "\n",
    "employees = Table('employees', meta,\n",
    "    Column('employee_id', Integer, primary_key=True),\n",
    "    Column('employee_name', String(60), nullable=False, key='name'),\n",
    "    Column('employee_dept', Integer, ForeignKey(\"departments.department_id\"))\n",
    ")\n",
    "SQLemployees.create(engine)\n",
    "\n",
    "\n",
    "employees.create(engine, checkfirst=True)\n",
    "employees.drop(engine, checkfirst=False)\n",
    "\n",
    "从table到class，通过mapper实现\n",
    "从class到table，通过`class.__table__`得到\n",
    "\n",
    "metadata.create_all(engine)\n",
    "metadata.drop_all(engine)\n",
    "\n",
    "DDL\n",
    "DML\n",
    "DCL\n"
   ]
  },
  {
   "cell_type": "markdown",
   "metadata": {},
   "source": [
    "Version Check"
   ]
  },
  {
   "cell_type": "code",
   "execution_count": 47,
   "metadata": {},
   "outputs": [
    {
     "name": "stderr",
     "output_type": "stream",
     "text": [
      "07/04/2020 17:39:18 PM - INFO - 1.2.15\n",
      "07/04/2020 17:39:18 PM - INFO - 数据库引擎engine和逻辑元数据metadata独立，可以在任意阶段绑定\n",
      "07/04/2020 17:39:18 PM - INFO - Create independent engine.\n",
      "07/04/2020 17:39:18 PM - INFO - Declare independent metadata.\n",
      "07/04/2020 17:39:18 PM - INFO - Model District.\n",
      "07/04/2020 17:39:18 PM - INFO - Model DistrictInfo.\n",
      "07/04/2020 17:39:18 PM - INFO - Handle session, bind session and engine.\n"
     ]
    }
   ],
   "source": [
    "# -*- coding: utf-8 -*-\n",
    "import logging\n",
    "import akshare as ak\n",
    "import sqlalchemy as db  # Version Check\n",
    "from sqlalchemy import create_engine  # Connecting\n",
    "from sqlalchemy import MetaData, Table, Sequence, Column, Integer, String, MetaData, ForeignKey  # Define and Create Tables\n",
    "from sqlalchemy.ext.declarative import declarative_base\n",
    "from sqlalchemy.orm import sessionmaker\n",
    "import pandas as pd\n",
    "\n",
    "# logging.basicConfig()函数是一个一次性的简单配置工具使\n",
    "logging.basicConfig(**{\n",
    "    'level': logging.INFO,\n",
    "    'format': \"%(asctime)s - %(levelname)s - %(message)s\",\n",
    "    'datefmt': \"%m/%d/%Y %H:%M:%S %p\"\n",
    "})\n",
    "\n",
    "logging.info(db.__version__)\n",
    "\n",
    "\n",
    "logging.info('数据库引擎engine和逻辑元数据metadata独立，可以在任意阶段绑定')\n",
    "\n",
    "# engine\n",
    "logging.info('Create independent engine.')\n",
    "connection_uri = \"mysql+pymysql://{user}:{password}@{host}:{port}/{dbname}\".format(**{\n",
    "    \"user\": \"root\",\n",
    "    \"password\": \"mysql123456\",\n",
    "    \"host\": \"localhost\",\n",
    "    \"port\": \"3306\",\n",
    "    \"dbname\": \"xinguan\"\n",
    "})\n",
    "engine = db.create_engine(connection_uri)\n",
    "\n",
    "# metadata\n",
    "logging.info('Declare independent metadata.')\n",
    "Base = declarative_base()  # for object\n",
    "metadata = MetaData()  # for sqlexpression\n",
    "\n",
    "logging.info('Model District.')\n",
    "class District(Base):\n",
    "    __tablename__ = 'district'\n",
    "    __table_args__ = {'extend_existing': True}\n",
    "    id = Column(Integer, Sequence('district_id_seq'), primary_key=True)\n",
    "    province = Column(String(32))\n",
    "    city = Column(String(32))\n",
    "    district = Column(String(32))\n",
    "\n",
    "    def __repr__(self):\n",
    "        return '<District(province={province};city={city};district={district})>'.format(**{\n",
    "            'province': self.province,\n",
    "            'city': self.city,\n",
    "            'district': self.district\n",
    "        })\n",
    "    \n",
    "class DistrictTest(Base):\n",
    "    __tablename__ = 'district_test'\n",
    "    __table_args__ = {'extend_existing': True}\n",
    "    id = Column(Integer, Sequence('district_test_id_seq'), primary_key=True)\n",
    "    province = Column(String(32))\n",
    "    city = Column(String(32))\n",
    "    district = Column(String(32))\n",
    "\n",
    "    def __repr__(self):\n",
    "        return '<District(province={province};city={city};district={district})>'.format(**{\n",
    "            'province': self.province,\n",
    "            'city': self.city,\n",
    "            'district': self.district\n",
    "        })\n",
    "\n",
    "logging.info('Model DistrictInfo.')\n",
    "class DistrictInfo(Base):\n",
    "    __tablename__ = 'district_info'\n",
    "    __table_args__ = {'extend_existing': True}\n",
    "    id = Column(Integer, Sequence('district_info_id_seq'), primary_key=True)\n",
    "    province = Column(String(32))\n",
    "    city = Column(String(32))\n",
    "    district = Column(String(32))\n",
    "    show_address = Column(String(64))\n",
    "    full_address = Column(String(64))\n",
    "    cnt_sum_certain = Column(Integer)  # -1: 表示有确诊但是确诊人数不详\n",
    "    \n",
    "class DistrictInfoTest(Base):\n",
    "    __tablename__ = 'district_info_test'\n",
    "    __table_args__ = {'extend_existing': True}\n",
    "    id = Column(Integer, Sequence('district_info_test_id_seq',0,1), primary_key=True, autoincrement=True)\n",
    "    province = Column(String(32))\n",
    "    city = Column(String(32))\n",
    "    district = Column(String(32))\n",
    "    show_address = Column(String(64))\n",
    "    full_address = Column(String(64))\n",
    "    cnt_sum_certain = Column(Integer)  # -1: 表示有确诊但是确诊人数不详\n",
    "    \n",
    "\n",
    "\n",
    "\n",
    "# District.__table__.drop(engine, checkfirst=True)  \n",
    "# DistrictInfo.__table__.drop(engine, checkfirst=True)\n",
    "\n",
    "class Test(Base):\n",
    "    __tablename__ = 'test'\n",
    "    __table_args__ = {'extend_existing': True}\n",
    "    id = Column(Integer, Sequence('test_id_seq'), primary_key=True, autoincrement=True)\n",
    "    province = Column(String(32))\n",
    "    city = Column(String(32))\n",
    "    district = Column(String(32))\n",
    "\n",
    "    def __repr__(self):\n",
    "        return '<District(province={province};city={city};district={district})>'.format(**{\n",
    "            'province': self.province,\n",
    "            'city': self.city,\n",
    "            'district': self.district\n",
    "        })\n",
    "\n",
    "Base.metadata.drop_all(engine)\n",
    "Base.metadata.create_all(engine)\n",
    "\n",
    "\n",
    "# session\n",
    "logging.info('Handle session, bind session and engine.')\n",
    "# he ORM’s “handle” to the database is the Session.\n",
    "# we define a Session class which will serve as a factory for new Session objects\n",
    "Session = sessionmaker(bind=engine)  # Factory\n",
    "# Session = sessionmaker()\n",
    "# Session.configure(bind=engine)\n",
    "session = Session()\n",
    "# session和engin绑定后，在session中调用metadata则无需再绑定engin"
   ]
  },
  {
   "cell_type": "code",
   "execution_count": 53,
   "metadata": {},
   "outputs": [
    {
     "name": "stdout",
     "output_type": "stream",
     "text": [
      "  province city district show_address          full_address cnt_sum_certain\n",
      "0      浙江省  宁波市      鄞州区       都市森林二期  浙江省宁波市鄞州区钟公庙街道都市森林二期               1\n",
      "1      浙江省  宁波市      鄞州区         演武小区     浙江省宁波市鄞州区白鹤街道演武小区               2\n",
      "2      浙江省  宁波市      鄞州区         曙光大地     浙江省宁波市鄞州区东胜街道曙光大地               1\n",
      "3      浙江省  宁波市      鄞州区         风格南岸     浙江省宁波市鄞州区首南街道风格南岸               1\n",
      "4      浙江省  宁波市      鄞州区          幸福苑      浙江省宁波市鄞州区东柳街道幸福苑               1\n",
      "5      浙江省  宁波市      鄞州区         盛世天城     浙江省宁波市鄞州区中河街道盛世天城               1\n",
      "6      浙江省  宁波市      鄞州区       金桥水岸花园   浙江省宁波市鄞州区潘火街道金桥水岸花园               1\n",
      "7      浙江省  宁波市      鄞州区       中海国际四期   浙江省宁波市鄞州区下应街道中海国际四期               2\n",
      "8      浙江省  宁波市      鄞州区         河头佳苑      浙江省宁波市鄞州区横溪镇河头佳苑               2\n",
      "9      浙江省  宁波市      鄞州区         张东周村      浙江省宁波市鄞州区瞻岐镇张东周村               1\n",
      "   province city district show_address      full_address cnt_sum_certain\n",
      "0       四川省  成都市      高新区       时代锦城酒店   四川省成都市高新区时代锦城酒店              -1\n",
      "1       四川省  成都市      高新区      天府长城柏南郡  四川省成都市高新区天府长城柏南郡              -1\n",
      "2       四川省  成都市      高新区       中德英伦联邦   四川省成都市高新区中德英伦联邦              -1\n",
      "3       四川省  成都市      高新区         成达佳园     四川省成都市高新区成达佳园              -1\n",
      "4       四川省  成都市      高新区         招商玺悦     四川省成都市高新区招商玺悦              -1\n",
      "..      ...  ...      ...          ...               ...             ...\n",
      "9       四川省  成都市      高新区      神仙树大院4期  四川省成都市高新区神仙树大院4期              -1\n",
      "10      四川省  成都市      高新区          乐颂居      四川省成都市高新区乐颂居              -1\n",
      "11      四川省  成都市      高新区         景熙酒店     四川省成都市高新区景熙酒店              -1\n",
      "12      四川省  成都市      高新区      维也纳国际酒店  四川省成都市高新区维也纳国际酒店              -1\n",
      "13      四川省  成都市      高新区       龙湖时代天街   四川省成都市高新区龙湖时代天街              -1\n",
      "\n",
      "[14 rows x 6 columns]\n"
     ]
    }
   ],
   "source": [
    "dfs = []\n",
    "covid_19_area_search_df = ak.covid_19_area_search(province=\"浙江省\", city=\"宁波市\", district=\"鄞州区\")\n",
    "dfs.append(covid_19_area_search_df)\n",
    "print(covid_19_area_search_df)\n",
    "covid_19_area_search_df = ak.covid_19_area_search(province=\"四川省\", city=\"成都市\", district=\"高新区\")\n",
    "dfs.append(covid_19_area_search_df)\n",
    "print(covid_19_area_search_df)\n",
    "\n",
    "DistrictInfoTest.__table__.drop(engine)\n",
    "DistrictInfoTest.__table__.create(engine)\n",
    "\n",
    "df = pd.concat(dfs)\n",
    "df.to_sql(\n",
    "    DistrictInfoTest.__tablename__, \n",
    "    con=engine, \n",
    "    if_exists='replace', \n",
    "    index=False\n",
    ")"
   ]
  },
  {
   "cell_type": "code",
   "execution_count": 50,
   "metadata": {},
   "outputs": [],
   "source": [
    "df['id'] = None"
   ]
  },
  {
   "cell_type": "code",
   "execution_count": 52,
   "metadata": {},
   "outputs": [],
   "source": [
    "df.to_sql(\n",
    "    DistrictInfoTest.__tablename__, \n",
    "    con=engine, \n",
    "    if_exists='replace', \n",
    "    index=True\n",
    ")"
   ]
  },
  {
   "cell_type": "code",
   "execution_count": 27,
   "metadata": {},
   "outputs": [
    {
     "name": "stdout",
     "output_type": "stream",
     "text": [
      "         FIPS      Admin2  Province_State      Country_Region   Last_Update  \\\n",
      "0     45001.0   Abbeville  South Carolina                  US  4/6/20 23:22   \n",
      "1     22001.0      Acadia       Louisiana                  US  4/6/20 23:22   \n",
      "2     51001.0    Accomack        Virginia                  US  4/6/20 23:22   \n",
      "3     16001.0         Ada           Idaho                  US  4/6/20 23:22   \n",
      "4     19001.0       Adair            Iowa                  US  4/6/20 23:22   \n",
      "...       ...         ...             ...                 ...           ...   \n",
      "2803      NaN         NaN             NaN  West Bank and Gaza  4/6/20 23:21   \n",
      "2804      NaN         NaN             NaN      Western Sahara  4/6/20 23:21   \n",
      "2805      NaN         NaN             NaN              Zambia  4/6/20 23:21   \n",
      "2806      NaN         NaN             NaN            Zimbabwe  4/6/20 23:21   \n",
      "2807      NaN  unassigned         Wyoming                  US  4/6/20 23:22   \n",
      "\n",
      "            Lat       Long_  Confirmed  Deaths  Recovered  Active  \\\n",
      "0     34.223334  -82.461707          6       0          0       0   \n",
      "1     30.295065  -92.414197         79       2          0       0   \n",
      "2     37.767072  -75.632346         11       0          0       0   \n",
      "3     43.452658 -116.241552        402       3          0       0   \n",
      "4     41.330756  -94.471059          1       0          0       0   \n",
      "...         ...         ...        ...     ...        ...     ...   \n",
      "2803  31.952200   35.233200        254       1         24     229   \n",
      "2804  24.215500  -12.885800          4       0          0       4   \n",
      "2805 -13.133897   27.849332         39       1          5      33   \n",
      "2806 -19.015438   29.154857         10       1          0       9   \n",
      "2807        NaN         NaN          0       0          0       0   \n",
      "\n",
      "                       Combined_Key  \n",
      "0     Abbeville, South Carolina, US  \n",
      "1             Acadia, Louisiana, US  \n",
      "2            Accomack, Virginia, US  \n",
      "3                    Ada, Idaho, US  \n",
      "4                   Adair, Iowa, US  \n",
      "...                             ...  \n",
      "2803             West Bank and Gaza  \n",
      "2804               ,,Western Sahara  \n",
      "2805                         Zambia  \n",
      "2806                       Zimbabwe  \n",
      "2807        unassigned, Wyoming, US  \n",
      "\n",
      "[2808 rows x 12 columns]\n"
     ]
    }
   ],
   "source": [
    "import akshare as ak\n",
    "covid_19_csse_daily_df = ak.covid_19_csse_daily(date=\"2020-04-06\")\n",
    "print(covid_19_csse_daily_df)\n",
    "\n",
    "\n"
   ]
  },
  {
   "cell_type": "code",
   "execution_count": 28,
   "metadata": {},
   "outputs": [
    {
     "name": "stdout",
     "output_type": "stream",
     "text": [
      "         FIPS      Admin2  Province_State      Country_Region   Last_Update  \\\n",
      "0     45001.0   Abbeville  South Carolina                  US  4/6/20 23:22   \n",
      "1     22001.0      Acadia       Louisiana                  US  4/6/20 23:22   \n",
      "2     51001.0    Accomack        Virginia                  US  4/6/20 23:22   \n",
      "3     16001.0         Ada           Idaho                  US  4/6/20 23:22   \n",
      "4     19001.0       Adair            Iowa                  US  4/6/20 23:22   \n",
      "...       ...         ...             ...                 ...           ...   \n",
      "2803      NaN         NaN             NaN  West Bank and Gaza  4/6/20 23:21   \n",
      "2804      NaN         NaN             NaN      Western Sahara  4/6/20 23:21   \n",
      "2805      NaN         NaN             NaN              Zambia  4/6/20 23:21   \n",
      "2806      NaN         NaN             NaN            Zimbabwe  4/6/20 23:21   \n",
      "2807      NaN  unassigned         Wyoming                  US  4/6/20 23:22   \n",
      "\n",
      "            Lat       Long_  Confirmed  Deaths  Recovered  Active  \\\n",
      "0     34.223334  -82.461707          6       0          0       0   \n",
      "1     30.295065  -92.414197         79       2          0       0   \n",
      "2     37.767072  -75.632346         11       0          0       0   \n",
      "3     43.452658 -116.241552        402       3          0       0   \n",
      "4     41.330756  -94.471059          1       0          0       0   \n",
      "...         ...         ...        ...     ...        ...     ...   \n",
      "2803  31.952200   35.233200        254       1         24     229   \n",
      "2804  24.215500  -12.885800          4       0          0       4   \n",
      "2805 -13.133897   27.849332         39       1          5      33   \n",
      "2806 -19.015438   29.154857         10       1          0       9   \n",
      "2807        NaN         NaN          0       0          0       0   \n",
      "\n",
      "                       Combined_Key  \n",
      "0     Abbeville, South Carolina, US  \n",
      "1             Acadia, Louisiana, US  \n",
      "2            Accomack, Virginia, US  \n",
      "3                    Ada, Idaho, US  \n",
      "4                   Adair, Iowa, US  \n",
      "...                             ...  \n",
      "2803             West Bank and Gaza  \n",
      "2804               ,,Western Sahara  \n",
      "2805                         Zambia  \n",
      "2806                       Zimbabwe  \n",
      "2807        unassigned, Wyoming, US  \n",
      "\n",
      "[2808 rows x 12 columns]\n"
     ]
    }
   ],
   "source": [
    "print(covid_19_csse_daily_df)\n",
    "\n",
    "class DailyReport(Base):\n",
    "    __tablename__ = 'daily_report'\n",
    "    __table_args__ = {'extend_existing': True}\n",
    "    id = Column(Integer, Sequence('daily_report_id_seq'), primary_key=True)\n",
    "    province = Column(String(32))\n",
    "    city = Column(String(32))\n",
    "    district = Column(String(32))\n",
    "    show_address = Column(String(64))\n",
    "    full_address = Column(String(64))\n",
    "    cnt_sum_certain = Column(Integer)  # -1: 表示有确诊但是确诊人数不详"
   ]
  },
  {
   "cell_type": "code",
   "execution_count": 35,
   "metadata": {},
   "outputs": [],
   "source": [
    "\n",
    "    \n",
    "Test.__table__.drop(engine)\n",
    "Test.__table__.create(engine)\n",
    "covid_19_area_all_df = ak.covid_19_area_all()\n",
    "covid_19_area_all_df.to_sql(\n",
    "    Test.__tablename__,\n",
    "    con=engine,\n",
    "    if_exists='replace',\n",
    "    index=True\n",
    ")"
   ]
  },
  {
   "cell_type": "code",
   "execution_count": 54,
   "metadata": {},
   "outputs": [],
   "source": [
    "conn = engine.connect()\n"
   ]
  },
  {
   "cell_type": "code",
   "execution_count": 56,
   "metadata": {},
   "outputs": [
    {
     "data": {
      "text/plain": [
       "[('information_schema',),\n",
       " ('material',),\n",
       " ('mysql',),\n",
       " ('performance_schema',),\n",
       " ('rmis',),\n",
       " ('sakila',),\n",
       " ('test',),\n",
       " ('xinguan',)]"
      ]
     },
     "execution_count": 56,
     "metadata": {},
     "output_type": "execute_result"
    }
   ],
   "source": [
    "list(conn.execute(\"show databases;\"))"
   ]
  },
  {
   "cell_type": "code",
   "execution_count": 59,
   "metadata": {},
   "outputs": [
    {
     "data": {
      "text/plain": [
       "[('auth_group',),\n",
       " ('auth_group_permissions',),\n",
       " ('auth_permission',),\n",
       " ('django_admin_log',),\n",
       " ('django_content_type',),\n",
       " ('django_migrations',),\n",
       " ('django_session',),\n",
       " ('good_good',),\n",
       " ('good_goodmultimedia',),\n",
       " ('guardian_groupobjectpermission',),\n",
       " ('guardian_userobjectpermission',),\n",
       " ('invoice_expense',),\n",
       " ('invoice_goodcomment',),\n",
       " ('invoice_goodinpurchase',),\n",
       " ('invoice_goodinsale',),\n",
       " ('invoice_purchase',),\n",
       " ('invoice_refund',),\n",
       " ('invoice_sale',),\n",
       " ('invoice_salecomment',),\n",
       " ('label_barcode',),\n",
       " ('label_label',),\n",
       " ('label_labelseries',),\n",
       " ('label_labelstickgood',),\n",
       " ('label_labeltarget',),\n",
       " ('organization_store',),\n",
       " ('page_clerkperformance',),\n",
       " ('page_expensealongtime',),\n",
       " ('page_inventory',),\n",
       " ('page_pagecustom',),\n",
       " ('page_salealongtime',),\n",
       " ('page_salelabel',),\n",
       " ('page_saleperiod',),\n",
       " ('page_salepriceio',),\n",
       " ('test_user_clerk',),\n",
       " ('user_clerk',),\n",
       " ('user_customer',),\n",
       " ('user_userprofile',),\n",
       " ('user_userprofile_groups',),\n",
       " ('user_userprofile_user_permissions',),\n",
       " ('xadmin_bookmark',),\n",
       " ('xadmin_log',),\n",
       " ('xadmin_usersettings',),\n",
       " ('xadmin_userwidget',)]"
      ]
     },
     "execution_count": 59,
     "metadata": {},
     "output_type": "execute_result"
    }
   ],
   "source": [
    "conn.execute(\"use rmis;\")\n",
    "list(conn.execute(\"show tables;\"))"
   ]
  },
  {
   "cell_type": "code",
   "execution_count": 62,
   "metadata": {},
   "outputs": [
    {
     "name": "stdout",
     "output_type": "stream",
     "text": [
      "district_info\n"
     ]
    }
   ],
   "source": [
    "metadata = MetaData()\n",
    "district_info = Table(\n",
    "    'district_info',\n",
    "    metadata,\n",
    "    Column('id', Integer, Sequence('district_info_id_seq'), primary_key=True),\n",
    "    Column('province', String(32)),\n",
    "    Column('city', String(32)),\n",
    "    Column('district', String(32)),\n",
    "    Column('show_address', String(64)),\n",
    "    Column('full_address', String(64)),\n",
    "    Column('cnt_sum_certain', Integer)  # -1: 表示有确诊但是确诊人数不详\n",
    ")\n",
    "print(district_info.name)"
   ]
  },
  {
   "cell_type": "code",
   "execution_count": 63,
   "metadata": {},
   "outputs": [
    {
     "ename": "KeyboardInterrupt",
     "evalue": "",
     "output_type": "error",
     "traceback": [
      "\u001b[0;31m---------------------------------------------------------------------------\u001b[0m",
      "\u001b[0;31mKeyboardInterrupt\u001b[0m                         Traceback (most recent call last)",
      "\u001b[0;32m<ipython-input-63-c49e0ace1c17>\u001b[0m in \u001b[0;36m<module>\u001b[0;34m\u001b[0m\n\u001b[1;32m      1\u001b[0m \u001b[0;32mimport\u001b[0m \u001b[0makshare\u001b[0m \u001b[0;32mas\u001b[0m \u001b[0mak\u001b[0m\u001b[0;34m\u001b[0m\u001b[0;34m\u001b[0m\u001b[0m\n\u001b[0;32m----> 2\u001b[0;31m \u001b[0mcovid_19_csse_daily_df\u001b[0m \u001b[0;34m=\u001b[0m \u001b[0mak\u001b[0m\u001b[0;34m.\u001b[0m\u001b[0mcovid_19_csse_daily\u001b[0m\u001b[0;34m(\u001b[0m\u001b[0mdate\u001b[0m\u001b[0;34m=\u001b[0m\u001b[0;34m\"2020-04-06\"\u001b[0m\u001b[0;34m)\u001b[0m\u001b[0;34m\u001b[0m\u001b[0;34m\u001b[0m\u001b[0m\n\u001b[0m\u001b[1;32m      3\u001b[0m \u001b[0mprint\u001b[0m\u001b[0;34m(\u001b[0m\u001b[0mcovid_19_csse_daily_df\u001b[0m\u001b[0;34m)\u001b[0m\u001b[0;34m\u001b[0m\u001b[0;34m\u001b[0m\u001b[0m\n",
      "\u001b[0;32m~/anaconda3/lib/python3.7/site-packages/akshare/event/covid.py\u001b[0m in \u001b[0;36mcovid_19_csse_daily\u001b[0;34m(date)\u001b[0m\n\u001b[1;32m    755\u001b[0m     \"\"\"\n\u001b[1;32m    756\u001b[0m     \u001b[0murl\u001b[0m \u001b[0;34m=\u001b[0m \u001b[0;34mf\"https://raw.githubusercontent.com/CSSEGISandData/COVID-19/master/csse_covid_19_data/csse_covid_19_daily_reports/{date.split('-')[1]}-{date.split('-')[2]}-{date.split('-')[0]}.csv\"\u001b[0m\u001b[0;34m\u001b[0m\u001b[0;34m\u001b[0m\u001b[0m\n\u001b[0;32m--> 757\u001b[0;31m     \u001b[0mtemp_df\u001b[0m \u001b[0;34m=\u001b[0m \u001b[0mpd\u001b[0m\u001b[0;34m.\u001b[0m\u001b[0mread_table\u001b[0m\u001b[0;34m(\u001b[0m\u001b[0murl\u001b[0m\u001b[0;34m,\u001b[0m \u001b[0msep\u001b[0m\u001b[0;34m=\u001b[0m\u001b[0;34m\",\"\u001b[0m\u001b[0;34m)\u001b[0m\u001b[0;34m\u001b[0m\u001b[0;34m\u001b[0m\u001b[0m\n\u001b[0m\u001b[1;32m    758\u001b[0m     \u001b[0;32mreturn\u001b[0m \u001b[0mtemp_df\u001b[0m\u001b[0;34m\u001b[0m\u001b[0;34m\u001b[0m\u001b[0m\n\u001b[1;32m    759\u001b[0m \u001b[0;34m\u001b[0m\u001b[0m\n",
      "\u001b[0;32m~/anaconda3/lib/python3.7/site-packages/pandas/io/parsers.py\u001b[0m in \u001b[0;36mparser_f\u001b[0;34m(filepath_or_buffer, sep, delimiter, header, names, index_col, usecols, squeeze, prefix, mangle_dupe_cols, dtype, engine, converters, true_values, false_values, skipinitialspace, skiprows, skipfooter, nrows, na_values, keep_default_na, na_filter, verbose, skip_blank_lines, parse_dates, infer_datetime_format, keep_date_col, date_parser, dayfirst, cache_dates, iterator, chunksize, compression, thousands, decimal, lineterminator, quotechar, quoting, doublequote, escapechar, comment, encoding, dialect, error_bad_lines, warn_bad_lines, delim_whitespace, low_memory, memory_map, float_precision)\u001b[0m\n\u001b[1;32m    674\u001b[0m         )\n\u001b[1;32m    675\u001b[0m \u001b[0;34m\u001b[0m\u001b[0m\n\u001b[0;32m--> 676\u001b[0;31m         \u001b[0;32mreturn\u001b[0m \u001b[0m_read\u001b[0m\u001b[0;34m(\u001b[0m\u001b[0mfilepath_or_buffer\u001b[0m\u001b[0;34m,\u001b[0m \u001b[0mkwds\u001b[0m\u001b[0;34m)\u001b[0m\u001b[0;34m\u001b[0m\u001b[0;34m\u001b[0m\u001b[0m\n\u001b[0m\u001b[1;32m    677\u001b[0m \u001b[0;34m\u001b[0m\u001b[0m\n\u001b[1;32m    678\u001b[0m     \u001b[0mparser_f\u001b[0m\u001b[0;34m.\u001b[0m\u001b[0m__name__\u001b[0m \u001b[0;34m=\u001b[0m \u001b[0mname\u001b[0m\u001b[0;34m\u001b[0m\u001b[0;34m\u001b[0m\u001b[0m\n",
      "\u001b[0;32m~/anaconda3/lib/python3.7/site-packages/pandas/io/parsers.py\u001b[0m in \u001b[0;36m_read\u001b[0;34m(filepath_or_buffer, kwds)\u001b[0m\n\u001b[1;32m    429\u001b[0m     \u001b[0;31m# See https://github.com/python/mypy/issues/1297\u001b[0m\u001b[0;34m\u001b[0m\u001b[0;34m\u001b[0m\u001b[0;34m\u001b[0m\u001b[0m\n\u001b[1;32m    430\u001b[0m     fp_or_buf, _, compression, should_close = get_filepath_or_buffer(\n\u001b[0;32m--> 431\u001b[0;31m         \u001b[0mfilepath_or_buffer\u001b[0m\u001b[0;34m,\u001b[0m \u001b[0mencoding\u001b[0m\u001b[0;34m,\u001b[0m \u001b[0mcompression\u001b[0m\u001b[0;34m\u001b[0m\u001b[0;34m\u001b[0m\u001b[0m\n\u001b[0m\u001b[1;32m    432\u001b[0m     )\n\u001b[1;32m    433\u001b[0m     \u001b[0mkwds\u001b[0m\u001b[0;34m[\u001b[0m\u001b[0;34m\"compression\"\u001b[0m\u001b[0;34m]\u001b[0m \u001b[0;34m=\u001b[0m \u001b[0mcompression\u001b[0m\u001b[0;34m\u001b[0m\u001b[0;34m\u001b[0m\u001b[0m\n",
      "\u001b[0;32m~/anaconda3/lib/python3.7/site-packages/pandas/io/common.py\u001b[0m in \u001b[0;36mget_filepath_or_buffer\u001b[0;34m(filepath_or_buffer, encoding, compression, mode)\u001b[0m\n\u001b[1;32m    175\u001b[0m             \u001b[0;31m# Override compression based on Content-Encoding header\u001b[0m\u001b[0;34m\u001b[0m\u001b[0;34m\u001b[0m\u001b[0;34m\u001b[0m\u001b[0m\n\u001b[1;32m    176\u001b[0m             \u001b[0mcompression\u001b[0m \u001b[0;34m=\u001b[0m \u001b[0;34m\"gzip\"\u001b[0m\u001b[0;34m\u001b[0m\u001b[0;34m\u001b[0m\u001b[0m\n\u001b[0;32m--> 177\u001b[0;31m         \u001b[0mreader\u001b[0m \u001b[0;34m=\u001b[0m \u001b[0mBytesIO\u001b[0m\u001b[0;34m(\u001b[0m\u001b[0mreq\u001b[0m\u001b[0;34m.\u001b[0m\u001b[0mread\u001b[0m\u001b[0;34m(\u001b[0m\u001b[0;34m)\u001b[0m\u001b[0;34m)\u001b[0m\u001b[0;34m\u001b[0m\u001b[0;34m\u001b[0m\u001b[0m\n\u001b[0m\u001b[1;32m    178\u001b[0m         \u001b[0mreq\u001b[0m\u001b[0;34m.\u001b[0m\u001b[0mclose\u001b[0m\u001b[0;34m(\u001b[0m\u001b[0;34m)\u001b[0m\u001b[0;34m\u001b[0m\u001b[0;34m\u001b[0m\u001b[0m\n\u001b[1;32m    179\u001b[0m         \u001b[0;32mreturn\u001b[0m \u001b[0mreader\u001b[0m\u001b[0;34m,\u001b[0m \u001b[0mencoding\u001b[0m\u001b[0;34m,\u001b[0m \u001b[0mcompression\u001b[0m\u001b[0;34m,\u001b[0m \u001b[0;32mTrue\u001b[0m\u001b[0;34m\u001b[0m\u001b[0;34m\u001b[0m\u001b[0m\n",
      "\u001b[0;32m~/anaconda3/lib/python3.7/http/client.py\u001b[0m in \u001b[0;36mread\u001b[0;34m(self, amt)\u001b[0m\n\u001b[1;32m    458\u001b[0m             \u001b[0;32melse\u001b[0m\u001b[0;34m:\u001b[0m\u001b[0;34m\u001b[0m\u001b[0;34m\u001b[0m\u001b[0m\n\u001b[1;32m    459\u001b[0m                 \u001b[0;32mtry\u001b[0m\u001b[0;34m:\u001b[0m\u001b[0;34m\u001b[0m\u001b[0;34m\u001b[0m\u001b[0m\n\u001b[0;32m--> 460\u001b[0;31m                     \u001b[0ms\u001b[0m \u001b[0;34m=\u001b[0m \u001b[0mself\u001b[0m\u001b[0;34m.\u001b[0m\u001b[0m_safe_read\u001b[0m\u001b[0;34m(\u001b[0m\u001b[0mself\u001b[0m\u001b[0;34m.\u001b[0m\u001b[0mlength\u001b[0m\u001b[0;34m)\u001b[0m\u001b[0;34m\u001b[0m\u001b[0;34m\u001b[0m\u001b[0m\n\u001b[0m\u001b[1;32m    461\u001b[0m                 \u001b[0;32mexcept\u001b[0m \u001b[0mIncompleteRead\u001b[0m\u001b[0;34m:\u001b[0m\u001b[0;34m\u001b[0m\u001b[0;34m\u001b[0m\u001b[0m\n\u001b[1;32m    462\u001b[0m                     \u001b[0mself\u001b[0m\u001b[0;34m.\u001b[0m\u001b[0m_close_conn\u001b[0m\u001b[0;34m(\u001b[0m\u001b[0;34m)\u001b[0m\u001b[0;34m\u001b[0m\u001b[0;34m\u001b[0m\u001b[0m\n",
      "\u001b[0;32m~/anaconda3/lib/python3.7/http/client.py\u001b[0m in \u001b[0;36m_safe_read\u001b[0;34m(self, amt)\u001b[0m\n\u001b[1;32m    608\u001b[0m         \u001b[0ms\u001b[0m \u001b[0;34m=\u001b[0m \u001b[0;34m[\u001b[0m\u001b[0;34m]\u001b[0m\u001b[0;34m\u001b[0m\u001b[0;34m\u001b[0m\u001b[0m\n\u001b[1;32m    609\u001b[0m         \u001b[0;32mwhile\u001b[0m \u001b[0mamt\u001b[0m \u001b[0;34m>\u001b[0m \u001b[0;36m0\u001b[0m\u001b[0;34m:\u001b[0m\u001b[0;34m\u001b[0m\u001b[0;34m\u001b[0m\u001b[0m\n\u001b[0;32m--> 610\u001b[0;31m             \u001b[0mchunk\u001b[0m \u001b[0;34m=\u001b[0m \u001b[0mself\u001b[0m\u001b[0;34m.\u001b[0m\u001b[0mfp\u001b[0m\u001b[0;34m.\u001b[0m\u001b[0mread\u001b[0m\u001b[0;34m(\u001b[0m\u001b[0mmin\u001b[0m\u001b[0;34m(\u001b[0m\u001b[0mamt\u001b[0m\u001b[0;34m,\u001b[0m \u001b[0mMAXAMOUNT\u001b[0m\u001b[0;34m)\u001b[0m\u001b[0;34m)\u001b[0m\u001b[0;34m\u001b[0m\u001b[0;34m\u001b[0m\u001b[0m\n\u001b[0m\u001b[1;32m    611\u001b[0m             \u001b[0;32mif\u001b[0m \u001b[0;32mnot\u001b[0m \u001b[0mchunk\u001b[0m\u001b[0;34m:\u001b[0m\u001b[0;34m\u001b[0m\u001b[0;34m\u001b[0m\u001b[0m\n\u001b[1;32m    612\u001b[0m                 \u001b[0;32mraise\u001b[0m \u001b[0mIncompleteRead\u001b[0m\u001b[0;34m(\u001b[0m\u001b[0;34mb''\u001b[0m\u001b[0;34m.\u001b[0m\u001b[0mjoin\u001b[0m\u001b[0;34m(\u001b[0m\u001b[0ms\u001b[0m\u001b[0;34m)\u001b[0m\u001b[0;34m,\u001b[0m \u001b[0mamt\u001b[0m\u001b[0;34m)\u001b[0m\u001b[0;34m\u001b[0m\u001b[0;34m\u001b[0m\u001b[0m\n",
      "\u001b[0;32m~/anaconda3/lib/python3.7/socket.py\u001b[0m in \u001b[0;36mreadinto\u001b[0;34m(self, b)\u001b[0m\n\u001b[1;32m    587\u001b[0m         \u001b[0;32mwhile\u001b[0m \u001b[0;32mTrue\u001b[0m\u001b[0;34m:\u001b[0m\u001b[0;34m\u001b[0m\u001b[0;34m\u001b[0m\u001b[0m\n\u001b[1;32m    588\u001b[0m             \u001b[0;32mtry\u001b[0m\u001b[0;34m:\u001b[0m\u001b[0;34m\u001b[0m\u001b[0;34m\u001b[0m\u001b[0m\n\u001b[0;32m--> 589\u001b[0;31m                 \u001b[0;32mreturn\u001b[0m \u001b[0mself\u001b[0m\u001b[0;34m.\u001b[0m\u001b[0m_sock\u001b[0m\u001b[0;34m.\u001b[0m\u001b[0mrecv_into\u001b[0m\u001b[0;34m(\u001b[0m\u001b[0mb\u001b[0m\u001b[0;34m)\u001b[0m\u001b[0;34m\u001b[0m\u001b[0;34m\u001b[0m\u001b[0m\n\u001b[0m\u001b[1;32m    590\u001b[0m             \u001b[0;32mexcept\u001b[0m \u001b[0mtimeout\u001b[0m\u001b[0;34m:\u001b[0m\u001b[0;34m\u001b[0m\u001b[0;34m\u001b[0m\u001b[0m\n\u001b[1;32m    591\u001b[0m                 \u001b[0mself\u001b[0m\u001b[0;34m.\u001b[0m\u001b[0m_timeout_occurred\u001b[0m \u001b[0;34m=\u001b[0m \u001b[0;32mTrue\u001b[0m\u001b[0;34m\u001b[0m\u001b[0;34m\u001b[0m\u001b[0m\n",
      "\u001b[0;32m~/anaconda3/lib/python3.7/ssl.py\u001b[0m in \u001b[0;36mrecv_into\u001b[0;34m(self, buffer, nbytes, flags)\u001b[0m\n\u001b[1;32m   1050\u001b[0m                   \u001b[0;34m\"non-zero flags not allowed in calls to recv_into() on %s\"\u001b[0m \u001b[0;34m%\u001b[0m\u001b[0;34m\u001b[0m\u001b[0;34m\u001b[0m\u001b[0m\n\u001b[1;32m   1051\u001b[0m                   self.__class__)\n\u001b[0;32m-> 1052\u001b[0;31m             \u001b[0;32mreturn\u001b[0m \u001b[0mself\u001b[0m\u001b[0;34m.\u001b[0m\u001b[0mread\u001b[0m\u001b[0;34m(\u001b[0m\u001b[0mnbytes\u001b[0m\u001b[0;34m,\u001b[0m \u001b[0mbuffer\u001b[0m\u001b[0;34m)\u001b[0m\u001b[0;34m\u001b[0m\u001b[0;34m\u001b[0m\u001b[0m\n\u001b[0m\u001b[1;32m   1053\u001b[0m         \u001b[0;32melse\u001b[0m\u001b[0;34m:\u001b[0m\u001b[0;34m\u001b[0m\u001b[0;34m\u001b[0m\u001b[0m\n\u001b[1;32m   1054\u001b[0m             \u001b[0;32mreturn\u001b[0m \u001b[0msuper\u001b[0m\u001b[0;34m(\u001b[0m\u001b[0;34m)\u001b[0m\u001b[0;34m.\u001b[0m\u001b[0mrecv_into\u001b[0m\u001b[0;34m(\u001b[0m\u001b[0mbuffer\u001b[0m\u001b[0;34m,\u001b[0m \u001b[0mnbytes\u001b[0m\u001b[0;34m,\u001b[0m \u001b[0mflags\u001b[0m\u001b[0;34m)\u001b[0m\u001b[0;34m\u001b[0m\u001b[0;34m\u001b[0m\u001b[0m\n",
      "\u001b[0;32m~/anaconda3/lib/python3.7/ssl.py\u001b[0m in \u001b[0;36mread\u001b[0;34m(self, len, buffer)\u001b[0m\n\u001b[1;32m    909\u001b[0m         \u001b[0;32mtry\u001b[0m\u001b[0;34m:\u001b[0m\u001b[0;34m\u001b[0m\u001b[0;34m\u001b[0m\u001b[0m\n\u001b[1;32m    910\u001b[0m             \u001b[0;32mif\u001b[0m \u001b[0mbuffer\u001b[0m \u001b[0;32mis\u001b[0m \u001b[0;32mnot\u001b[0m \u001b[0;32mNone\u001b[0m\u001b[0;34m:\u001b[0m\u001b[0;34m\u001b[0m\u001b[0;34m\u001b[0m\u001b[0m\n\u001b[0;32m--> 911\u001b[0;31m                 \u001b[0;32mreturn\u001b[0m \u001b[0mself\u001b[0m\u001b[0;34m.\u001b[0m\u001b[0m_sslobj\u001b[0m\u001b[0;34m.\u001b[0m\u001b[0mread\u001b[0m\u001b[0;34m(\u001b[0m\u001b[0mlen\u001b[0m\u001b[0;34m,\u001b[0m \u001b[0mbuffer\u001b[0m\u001b[0;34m)\u001b[0m\u001b[0;34m\u001b[0m\u001b[0;34m\u001b[0m\u001b[0m\n\u001b[0m\u001b[1;32m    912\u001b[0m             \u001b[0;32melse\u001b[0m\u001b[0;34m:\u001b[0m\u001b[0;34m\u001b[0m\u001b[0;34m\u001b[0m\u001b[0m\n\u001b[1;32m    913\u001b[0m                 \u001b[0;32mreturn\u001b[0m \u001b[0mself\u001b[0m\u001b[0;34m.\u001b[0m\u001b[0m_sslobj\u001b[0m\u001b[0;34m.\u001b[0m\u001b[0mread\u001b[0m\u001b[0;34m(\u001b[0m\u001b[0mlen\u001b[0m\u001b[0;34m)\u001b[0m\u001b[0;34m\u001b[0m\u001b[0;34m\u001b[0m\u001b[0m\n",
      "\u001b[0;31mKeyboardInterrupt\u001b[0m: "
     ]
    }
   ],
   "source": [
    "import akshare as ak\n",
    "covid_19_csse_daily_df = ak.covid_19_csse_daily(date=\"2020-04-06\")\n",
    "print(covid_19_csse_daily_df)"
   ]
  },
  {
   "cell_type": "code",
   "execution_count": 2,
   "metadata": {},
   "outputs": [
    {
     "ename": "NameError",
     "evalue": "name '__file__' is not defined",
     "output_type": "error",
     "traceback": [
      "\u001b[0;31m---------------------------------------------------------------------------\u001b[0m",
      "\u001b[0;31mNameError\u001b[0m                                 Traceback (most recent call last)",
      "\u001b[0;32m<ipython-input-2-5c76f17d42f4>\u001b[0m in \u001b[0;36m<module>\u001b[0;34m\u001b[0m\n\u001b[1;32m      1\u001b[0m \u001b[0;32mimport\u001b[0m \u001b[0mos\u001b[0m\u001b[0;34m\u001b[0m\u001b[0;34m\u001b[0m\u001b[0m\n\u001b[0;32m----> 2\u001b[0;31m \u001b[0mos\u001b[0m\u001b[0;34m.\u001b[0m\u001b[0mpath\u001b[0m\u001b[0;34m.\u001b[0m\u001b[0mdirname\u001b[0m\u001b[0;34m(\u001b[0m\u001b[0m__file__\u001b[0m\u001b[0;34m)\u001b[0m\u001b[0;34m\u001b[0m\u001b[0;34m\u001b[0m\u001b[0m\n\u001b[0m",
      "\u001b[0;31mNameError\u001b[0m: name '__file__' is not defined"
     ]
    }
   ],
   "source": []
  },
  {
   "cell_type": "code",
   "execution_count": null,
   "metadata": {},
   "outputs": [],
   "source": []
  }
 ],
 "metadata": {
  "kernelspec": {
   "display_name": "Python 3",
   "language": "python",
   "name": "python3"
  },
  "language_info": {
   "codemirror_mode": {
    "name": "ipython",
    "version": 3
   },
   "file_extension": ".py",
   "mimetype": "text/x-python",
   "name": "python",
   "nbconvert_exporter": "python",
   "pygments_lexer": "ipython3",
   "version": "3.7.1"
  },
  "latex_envs": {
   "LaTeX_envs_menu_present": true,
   "autoclose": false,
   "autocomplete": true,
   "bibliofile": "biblio.bib",
   "cite_by": "apalike",
   "current_citInitial": 1,
   "eqLabelWithNumbers": true,
   "eqNumInitial": 1,
   "hotkeys": {
    "equation": "Ctrl-E",
    "itemize": "Ctrl-I"
   },
   "labels_anchors": false,
   "latex_user_defs": false,
   "report_style_numbering": false,
   "user_envs_cfg": false
  },
  "toc": {
   "base_numbering": 1,
   "nav_menu": {},
   "number_sections": true,
   "sideBar": true,
   "skip_h1_title": false,
   "title_cell": "Table of Contents",
   "title_sidebar": "Contents",
   "toc_cell": false,
   "toc_position": {},
   "toc_section_display": true,
   "toc_window_display": false
  },
  "varInspector": {
   "cols": {
    "lenName": 16,
    "lenType": 16,
    "lenVar": 40
   },
   "kernels_config": {
    "python": {
     "delete_cmd_postfix": "",
     "delete_cmd_prefix": "del ",
     "library": "var_list.py",
     "varRefreshCmd": "print(var_dic_list())"
    },
    "r": {
     "delete_cmd_postfix": ") ",
     "delete_cmd_prefix": "rm(",
     "library": "var_list.r",
     "varRefreshCmd": "cat(var_dic_list()) "
    }
   },
   "position": {
    "height": "144px",
    "left": "1071px",
    "right": "20px",
    "top": "120px",
    "width": "350px"
   },
   "types_to_exclude": [
    "module",
    "function",
    "builtin_function_or_method",
    "instance",
    "_Feature"
   ],
   "window_display": false
  }
 },
 "nbformat": 4,
 "nbformat_minor": 2
}
