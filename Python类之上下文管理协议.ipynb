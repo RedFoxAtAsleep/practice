{
 "cells": [
  {
   "cell_type": "code",
   "execution_count": 37,
   "metadata": {},
   "outputs": [
    {
     "name": "stdout",
     "output_type": "stream",
     "text": [
      "None None None\n",
      "消耗时间：0:00:03.003207\n",
      "None\n",
      "<class 'Exception'>  <traceback object at 0x7fd02813f780>\n",
      "消耗时间：0:00:00.000075\n"
     ]
    }
   ],
   "source": [
    "import time\n",
    "from datetime import datetime\n",
    "start = datetime.now()\n",
    "time.sleep(5)\n",
    "end = datetime.now()\n",
    "\n",
    "class BlockTimer:\n",
    "    def __init__(self):\n",
    "        self.start = None\n",
    "        self.end = None\n",
    "        \n",
    "    def __enter__(self):\n",
    "        self.start = datetime.now()\n",
    "        # print('开始时间：'+ str(self.start))\n",
    "    \n",
    "    def __exit__(self, exception_type, exception_value, traceback):\n",
    "        # 异常类型、异常值和追溯信息\n",
    "        print(exception_type, exception_value, traceback)\n",
    "        self.end = datetime.now()\n",
    "        # print('结束时间：' + str(self.end))\n",
    "        print('消耗时间：' + str(self.end - self.start))\n",
    "        return True\n",
    "\n",
    "timer = BlockTimer()\n",
    "\n",
    "with timer:\n",
    "    # timer.__enter__() \n",
    "    time.sleep(3)\n",
    "    # timer.__exit__()\n",
    "    \n",
    "\n",
    "# 只有一个context manager实例，反复调用其方法\n",
    "with timer as tmp:\n",
    "    # timer.__enter__()\n",
    "    print(tmp)\n",
    "    raise Exception\n",
    "    print('错误之后')\n",
    "    \n",
    "    time.sleep(2)\n",
    "    with timer:\n",
    "        # timer.__enter__()\n",
    "        time.sleep(3)\n",
    "        # timer.__enter__()\n",
    "    # timer.__enter__()\n",
    "        \n",
    "    "
   ]
  },
  {
   "cell_type": "code",
   "execution_count": 28,
   "metadata": {},
   "outputs": [
    {
     "name": "stdout",
     "output_type": "stream",
     "text": [
      "-开始时间：2020-07-29 16:15:48.236672\n",
      "--开始时间：2020-07-29 16:15:49.237895\n",
      "---开始时间：2020-07-29 16:15:50.239124\n",
      "----开始时间：2020-07-29 16:15:51.240332\n",
      "<__main__.BlockTimer object at 0x7fd01c767950>\n",
      "with ... as __enter__ 的返回对象\n",
      "----结束时间：2020-07-29 16:15:52.241221\n",
      "----消耗时间：0:00:01.000889\n",
      "---结束时间：2020-07-29 16:15:52.241398\n",
      "---消耗时间：0:00:02.002274\n",
      "--结束时间：2020-07-29 16:15:52.241440\n",
      "--消耗时间：0:00:03.003545\n",
      "--开始时间：2020-07-29 16:15:52.241482\n",
      "--结束时间：2020-07-29 16:15:53.242577\n",
      "--消耗时间：0:00:01.001095\n",
      "-结束时间：2020-07-29 16:15:53.242770\n",
      "-消耗时间：0:00:05.006098\n"
     ]
    }
   ],
   "source": [
    "import time\n",
    "from datetime import datetime\n",
    "start = datetime.now()\n",
    "time.sleep(5)\n",
    "end = datetime.now()\n",
    "\n",
    "class BlockTimer:\n",
    "    def __init__(self):\n",
    "        self.depth = 0\n",
    "        self.start = []\n",
    "        self.end = None\n",
    "        \n",
    "    def __enter__(self):\n",
    "        self.depth += 1\n",
    "        self.start.append(datetime.now())\n",
    "        print('-'*self.depth + '开始时间：'+ str(self.start[-1]))\n",
    "        return self, 'with ... as __enter__ 的返回对象'\n",
    "    \n",
    "    def __exit__(self, exception_type, exception_value, traceback):\n",
    "        # 异常类型、异常值和追溯信息\n",
    "        \n",
    "        self.end = datetime.now()\n",
    "        print('-'*self.depth + '结束时间：' + str(self.end))\n",
    "        print('-'*self.depth + '消耗时间：' + str(self.end - self.start.pop()))\n",
    "        self.depth -= 1\n",
    "\n",
    "timer = BlockTimer()\n",
    "  \n",
    "\n",
    "with timer:\n",
    "    time.sleep(1)\n",
    "    with timer:\n",
    "        time.sleep(1)\n",
    "        with timer:\n",
    "            time.sleep(1)\n",
    "            with timer as (t, return_of_enter):\n",
    "                print(t)\n",
    "                print(return_of_enter)\n",
    "                time.sleep(1)\n",
    "    with timer:\n",
    "        time.sleep(1)\n"
   ]
  },
  {
   "cell_type": "code",
   "execution_count": null,
   "metadata": {},
   "outputs": [],
   "source": [
    "\n",
    "    "
   ]
  },
  {
   "cell_type": "code",
   "execution_count": null,
   "metadata": {},
   "outputs": [],
   "source": []
  }
 ],
 "metadata": {
  "kernelspec": {
   "display_name": "Python 3",
   "language": "python",
   "name": "python3"
  },
  "latex_envs": {
   "LaTeX_envs_menu_present": true,
   "autoclose": false,
   "autocomplete": true,
   "bibliofile": "biblio.bib",
   "cite_by": "apalike",
   "current_citInitial": 1,
   "eqLabelWithNumbers": true,
   "eqNumInitial": 1,
   "hotkeys": {
    "equation": "Ctrl-E",
    "itemize": "Ctrl-I"
   },
   "labels_anchors": false,
   "latex_user_defs": false,
   "report_style_numbering": false,
   "user_envs_cfg": false
  },
  "toc": {
   "base_numbering": 1,
   "nav_menu": {},
   "number_sections": true,
   "sideBar": true,
   "skip_h1_title": false,
   "title_cell": "Table of Contents",
   "title_sidebar": "Contents",
   "toc_cell": false,
   "toc_position": {},
   "toc_section_display": true,
   "toc_window_display": false
  },
  "varInspector": {
   "cols": {
    "lenName": 16,
    "lenType": 16,
    "lenVar": 40
   },
   "kernels_config": {
    "python": {
     "delete_cmd_postfix": "",
     "delete_cmd_prefix": "del ",
     "library": "var_list.py",
     "varRefreshCmd": "print(var_dic_list())"
    },
    "r": {
     "delete_cmd_postfix": ") ",
     "delete_cmd_prefix": "rm(",
     "library": "var_list.r",
     "varRefreshCmd": "cat(var_dic_list()) "
    }
   },
   "types_to_exclude": [
    "module",
    "function",
    "builtin_function_or_method",
    "instance",
    "_Feature"
   ],
   "window_display": false
  }
 },
 "nbformat": 4,
 "nbformat_minor": 2
}
